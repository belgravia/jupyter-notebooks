{
 "cells": [
  {
   "cell_type": "code",
   "execution_count": 3,
   "metadata": {
    "collapsed": false
   },
   "outputs": [
    {
     "name": "stderr",
     "output_type": "stream",
     "text": [
      "Warning message in cor(kquant$est_counts, kquant$sirv_e0):\n",
      "\"the standard deviation is zero\""
     ]
    },
    {
     "data": {
      "text/html": [
       "&lt;NA&gt;"
      ],
      "text/latex": [
       "<NA>"
      ],
      "text/markdown": [
       "&lt;NA&gt;"
      ],
      "text/plain": [
       "[1] NA"
      ]
     },
     "metadata": {},
     "output_type": "display_data"
    },
    {
     "data": {
      "text/html": [
       "-0.180004506564195"
      ],
      "text/latex": [
       "-0.180004506564195"
      ],
      "text/markdown": [
       "-0.180004506564195"
      ],
      "text/plain": [
       "[1] -0.1800045"
      ]
     },
     "metadata": {},
     "output_type": "display_data"
    },
    {
     "data": {
      "text/html": [
       "0.300915990949143"
      ],
      "text/latex": [
       "0.300915990949143"
      ],
      "text/markdown": [
       "0.300915990949143"
      ],
      "text/plain": [
       "[1] 0.300916"
      ]
     },
     "metadata": {},
     "output_type": "display_data"
    },
    {
     "data": {
      "text/html": [
       "0.267794000412269"
      ],
      "text/latex": [
       "0.267794000412269"
      ],
      "text/markdown": [
       "0.267794000412269"
      ],
      "text/plain": [
       "[1] 0.267794"
      ]
     },
     "metadata": {},
     "output_type": "display_data"
    },
    {
     "data": {
      "text/html": [
       "<table>\n",
       "<thead><tr><th scope=col>target_id</th><th scope=col>length</th><th scope=col>eff_length</th><th scope=col>est_counts</th><th scope=col>tpm</th><th scope=col>sirv_e0</th><th scope=col>sirv_e1</th><th scope=col>sirv_e2</th></tr></thead>\n",
       "<tbody>\n",
       "\t<tr><td>SIRV101   </td><td>1555      </td><td>966.489   </td><td>1462.00000</td><td>171310.000</td><td>1         </td><td>1.00      </td><td>1.00      </td></tr>\n",
       "\t<tr><td>SIRV102   </td><td>1296      </td><td>707.489   </td><td> 217.11400</td><td> 34753.600</td><td>1         </td><td>0.50      </td><td>0.25      </td></tr>\n",
       "\t<tr><td>SIRV103   </td><td>1357      </td><td>768.489   </td><td> 344.66500</td><td> 50791.500</td><td>1         </td><td>1.00      </td><td>1.00      </td></tr>\n",
       "\t<tr><td>SIRV105   </td><td> 665      </td><td>280.282   </td><td>   1.02438</td><td>   413.903</td><td>1         </td><td>0.25      </td><td>4.00      </td></tr>\n",
       "\t<tr><td>SIRV106   </td><td> 970      </td><td>398.740   </td><td>   0.00000</td><td>     0.000</td><td>1         </td><td>1.00      </td><td>1.00      </td></tr>\n",
       "\t<tr><td>SIRV107   </td><td> 741      </td><td>309.267   </td><td>  25.19360</td><td>  9225.460</td><td>1         </td><td>0.25      </td><td>4.00      </td></tr>\n",
       "</tbody>\n",
       "</table>\n"
      ],
      "text/latex": [
       "\\begin{tabular}{r|llllllll}\n",
       " target\\_id & length & eff\\_length & est\\_counts & tpm & sirv\\_e0 & sirv\\_e1 & sirv\\_e2\\\\\n",
       "\\hline\n",
       "\t SIRV101    & 1555       & 966.489    & 1462.00000 & 171310.000 & 1          & 1.00       & 1.00      \\\\\n",
       "\t SIRV102    & 1296       & 707.489    &  217.11400 &  34753.600 & 1          & 0.50       & 0.25      \\\\\n",
       "\t SIRV103    & 1357       & 768.489    &  344.66500 &  50791.500 & 1          & 1.00       & 1.00      \\\\\n",
       "\t SIRV105    &  665       & 280.282    &    1.02438 &    413.903 & 1          & 0.25       & 4.00      \\\\\n",
       "\t SIRV106    &  970       & 398.740    &    0.00000 &      0.000 & 1          & 1.00       & 1.00      \\\\\n",
       "\t SIRV107    &  741       & 309.267    &   25.19360 &   9225.460 & 1          & 0.25       & 4.00      \\\\\n",
       "\\end{tabular}\n"
      ],
      "text/markdown": [
       "\n",
       "target_id | length | eff_length | est_counts | tpm | sirv_e0 | sirv_e1 | sirv_e2 | \n",
       "|---|---|---|---|---|---|\n",
       "| SIRV101    | 1555       | 966.489    | 1462.00000 | 171310.000 | 1          | 1.00       | 1.00       | \n",
       "| SIRV102    | 1296       | 707.489    |  217.11400 |  34753.600 | 1          | 0.50       | 0.25       | \n",
       "| SIRV103    | 1357       | 768.489    |  344.66500 |  50791.500 | 1          | 1.00       | 1.00       | \n",
       "| SIRV105    |  665       | 280.282    |    1.02438 |    413.903 | 1          | 0.25       | 4.00       | \n",
       "| SIRV106    |  970       | 398.740    |    0.00000 |      0.000 | 1          | 1.00       | 1.00       | \n",
       "| SIRV107    |  741       | 309.267    |   25.19360 |   9225.460 | 1          | 0.25       | 4.00       | \n",
       "\n",
       "\n"
      ],
      "text/plain": [
       "  target_id length eff_length est_counts tpm        sirv_e0 sirv_e1 sirv_e2\n",
       "1 SIRV101   1555   966.489    1462.00000 171310.000 1       1.00    1.00   \n",
       "2 SIRV102   1296   707.489     217.11400  34753.600 1       0.50    0.25   \n",
       "3 SIRV103   1357   768.489     344.66500  50791.500 1       1.00    1.00   \n",
       "4 SIRV105    665   280.282       1.02438    413.903 1       0.25    4.00   \n",
       "5 SIRV106    970   398.740       0.00000      0.000 1       1.00    1.00   \n",
       "6 SIRV107    741   309.267      25.19360   9225.460 1       0.25    4.00   "
      ]
     },
     "metadata": {},
     "output_type": "display_data"
    }
   ],
   "source": [
    "setwd('~/bme/jupyter_data')\n",
    "sirv_info = read.csv('SIRV-sequence-design-overview-v1.2.csv', skip=6, fill=T, stringsAsFactors=FALSE)\n",
    "sirv_info = sirv_info[substr(sirv_info[,6], 1, 4) == 'SIRV',]\n",
    "kquant = read.table('abundance.tsv', header=T)\n",
    "kquant$target_id = as.character(kquant$target_id)\n",
    "sirv_info[,6] = as.character(sirv_info[,6])\n",
    "kquant$sirv_e0 = sirv_info$E0[match(kquant$target_id, sirv_info[,6])]\n",
    "kquant$sirv_e1 = sirv_info$E1[match(kquant$target_id, sirv_info[,6])]\n",
    "kquant$sirv_e2 = sirv_info$E2[match(kquant$target_id, sirv_info[,6])]\n",
    "\n",
    "kquant$sirv_e0 = rep(1, nrow(kquant))  # this data comes from an excel file that is poorly made for reading into R\n",
    "kquant$sirv_e1[as.character(kquant$sirv_e1) == ' 1/4'] = 0.25\n",
    "kquant$sirv_e1[as.character(kquant$sirv_e1) == ' 1/2'] = 0.5\n",
    "kquant$sirv_e1[as.character(kquant$sirv_e1) == '2'] = 2\n",
    "kquant$sirv_e1[as.character(kquant$sirv_e1) == '1'] = 1\n",
    "\n",
    "kquant$sirv_e2[as.character(kquant$sirv_e2) == '  1/32'] = 1/32\n",
    "kquant$sirv_e2[as.character(kquant$sirv_e2) == '  1/4 '] = 0.25\n",
    "kquant$sirv_e2[as.character(kquant$sirv_e2) == '  1/2 '] = 0.5\n",
    "kquant$sirv_e2[as.character(kquant$sirv_e2) == '1'] = 1\n",
    "kquant$sirv_e2[as.character(kquant$sirv_e2) == '2'] = 2\n",
    "kquant$sirv_e2[as.character(kquant$sirv_e2) == '4'] = 4\n",
    "kquant[kquant$target_id == 'SIRV502',6:8] = c(1,2,1/32)\n",
    "\n",
    "kquant$sirv_e0 = as.numeric(kquant$sirv_e0)\n",
    "kquant$sirv_e1 = as.numeric(kquant$sirv_e1)\n",
    "kquant$sirv_e2 = as.numeric(kquant$sirv_e2)\n",
    "\n",
    "cor(kquant$est_counts, kquant$sirv_e0)\n",
    "cor(kquant$est_counts, kquant$sirv_e1)\n",
    "cor(kquant$est_counts, kquant$sirv_e2)\n",
    "cor(kquant$tpm, kquant$sirv_e2)\n",
    "head(kquant)\n",
    "write.table(kquant, 'sirv_kallisto_quantified.txt', quote=F, row.names=F, sep='\\t')\n"
   ]
  },
  {
   "cell_type": "code",
   "execution_count": 27,
   "metadata": {
    "collapsed": false
   },
   "outputs": [
    {
     "data": {
      "image/png": "[encoded data removed]",
      "text/plain": [
       "plot without title"
      ]
     },
     "metadata": {},
     "output_type": "display_data"
    }
   ],
   "source": [
    "plot(kquant$tpm, kquant$sirv_e2, xlab='Kallisto TPM', ylab='SIRV Concentration')\n",
    "# head(sirv_info)\n",
    "# mean(as.numeric(sirv_info[,7]))\n",
    "# mean(kquant$length)\n",
    "# sd(kquant$length)"
   ]
  },
  {
   "cell_type": "markdown",
   "metadata": {},
   "source": [
    "RSEM-quantified pass long read SIRVs. Was a little painful trying to get RSEM-calculate-expression to accept a bam that was aligned with BWA (gap open penalty had to be set to 9999 to prevent indels, had to remove soft and hard clippings, every alignment for a read had to be the same length) but even with the constraints of RSEM-acceptable bams, it still looks better than with kallisto."
   ]
  },
  {
   "cell_type": "code",
   "execution_count": 2,
   "metadata": {
    "collapsed": false
   },
   "outputs": [
    {
     "data": {
      "text/html": [
       "<table>\n",
       "<thead><tr><th scope=col>transcript_id</th><th scope=col>gene_id</th><th scope=col>length</th><th scope=col>effective_length</th><th scope=col>expected_count</th><th scope=col>TPM</th><th scope=col>FPKM</th><th scope=col>IsoPct</th><th scope=col>sirv_e0</th><th scope=col>sirv_e1</th><th scope=col>sirv_e2</th></tr></thead>\n",
       "<tbody>\n",
       "\t<tr><td>SIRV101 </td><td>SIRV101 </td><td>1555    </td><td>1519.74 </td><td>1291    </td><td>20798.45</td><td>20381.73</td><td>100     </td><td>1       </td><td>1       </td><td>1       </td></tr>\n",
       "\t<tr><td>SIRV102 </td><td>SIRV102 </td><td>1296    </td><td>1260.74 </td><td>1174    </td><td>22799.06</td><td>22342.25</td><td>100     </td><td>1       </td><td>0.5     </td><td>  1/4   </td></tr>\n",
       "\t<tr><td>SIRV103 </td><td>SIRV103 </td><td>1357    </td><td>1321.74 </td><td>1053    </td><td>19505.48</td><td>19114.66</td><td>100     </td><td>1       </td><td>1       </td><td>1       </td></tr>\n",
       "\t<tr><td>SIRV105 </td><td>SIRV105 </td><td> 665    </td><td> 629.74 </td><td> 239    </td><td> 9292.07</td><td> 9105.89</td><td>100     </td><td>1       </td><td>0.25    </td><td>4       </td></tr>\n",
       "\t<tr><td>SIRV106 </td><td>SIRV106 </td><td> 970    </td><td> 934.74 </td><td> 283    </td><td> 7412.60</td><td> 7264.08</td><td>100     </td><td>1       </td><td>1       </td><td>1       </td></tr>\n",
       "\t<tr><td>SIRV107 </td><td>SIRV107 </td><td> 741    </td><td> 705.74 </td><td>1228    </td><td>42601.93</td><td>41748.34</td><td>100     </td><td>1       </td><td>0.25    </td><td>4       </td></tr>\n",
       "</tbody>\n",
       "</table>\n"
      ],
      "text/latex": [
       "\\begin{tabular}{r|lllllllllll}\n",
       " transcript\\_id & gene\\_id & length & effective\\_length & expected\\_count & TPM & FPKM & IsoPct & sirv\\_e0 & sirv\\_e1 & sirv\\_e2\\\\\n",
       "\\hline\n",
       "\t SIRV101  & SIRV101  & 1555     & 1519.74  & 1291     & 20798.45 & 20381.73 & 100      & 1        & 1        & 1       \\\\\n",
       "\t SIRV102  & SIRV102  & 1296     & 1260.74  & 1174     & 22799.06 & 22342.25 & 100      & 1        & 0.5      &   1/4   \\\\\n",
       "\t SIRV103  & SIRV103  & 1357     & 1321.74  & 1053     & 19505.48 & 19114.66 & 100      & 1        & 1        & 1       \\\\\n",
       "\t SIRV105  & SIRV105  &  665     &  629.74  &  239     &  9292.07 &  9105.89 & 100      & 1        & 0.25     & 4       \\\\\n",
       "\t SIRV106  & SIRV106  &  970     &  934.74  &  283     &  7412.60 &  7264.08 & 100      & 1        & 1        & 1       \\\\\n",
       "\t SIRV107  & SIRV107  &  741     &  705.74  & 1228     & 42601.93 & 41748.34 & 100      & 1        & 0.25     & 4       \\\\\n",
       "\\end{tabular}\n"
      ],
      "text/markdown": [
       "\n",
       "transcript_id | gene_id | length | effective_length | expected_count | TPM | FPKM | IsoPct | sirv_e0 | sirv_e1 | sirv_e2 | \n",
       "|---|---|---|---|---|---|\n",
       "| SIRV101  | SIRV101  | 1555     | 1519.74  | 1291     | 20798.45 | 20381.73 | 100      | 1        | 1        | 1        | \n",
       "| SIRV102  | SIRV102  | 1296     | 1260.74  | 1174     | 22799.06 | 22342.25 | 100      | 1        | 0.5      |   1/4    | \n",
       "| SIRV103  | SIRV103  | 1357     | 1321.74  | 1053     | 19505.48 | 19114.66 | 100      | 1        | 1        | 1        | \n",
       "| SIRV105  | SIRV105  |  665     |  629.74  |  239     |  9292.07 |  9105.89 | 100      | 1        | 0.25     | 4        | \n",
       "| SIRV106  | SIRV106  |  970     |  934.74  |  283     |  7412.60 |  7264.08 | 100      | 1        | 1        | 1        | \n",
       "| SIRV107  | SIRV107  |  741     |  705.74  | 1228     | 42601.93 | 41748.34 | 100      | 1        | 0.25     | 4        | \n",
       "\n",
       "\n"
      ],
      "text/plain": [
       "  transcript_id gene_id length effective_length expected_count TPM     \n",
       "1 SIRV101       SIRV101 1555   1519.74          1291           20798.45\n",
       "2 SIRV102       SIRV102 1296   1260.74          1174           22799.06\n",
       "3 SIRV103       SIRV103 1357   1321.74          1053           19505.48\n",
       "4 SIRV105       SIRV105  665    629.74           239            9292.07\n",
       "5 SIRV106       SIRV106  970    934.74           283            7412.60\n",
       "6 SIRV107       SIRV107  741    705.74          1228           42601.93\n",
       "  FPKM     IsoPct sirv_e0 sirv_e1 sirv_e2\n",
       "1 20381.73 100    1       1       1      \n",
       "2 22342.25 100    1       0.5       1/4  \n",
       "3 19114.66 100    1       1       1      \n",
       "4  9105.89 100    1       0.25    4      \n",
       "5  7264.08 100    1       1       1      \n",
       "6 41748.34 100    1       0.25    4      "
      ]
     },
     "metadata": {},
     "output_type": "display_data"
    },
    {
     "name": "stderr",
     "output_type": "stream",
     "text": [
      "Warning message in cor(rquant$expected_count, rquant$sirv_e0):\n",
      "\"the standard deviation is zero\""
     ]
    },
    {
     "data": {
      "text/html": [
       "&lt;NA&gt;"
      ],
      "text/latex": [
       "<NA>"
      ],
      "text/markdown": [
       "&lt;NA&gt;"
      ],
      "text/plain": [
       "[1] NA"
      ]
     },
     "metadata": {},
     "output_type": "display_data"
    },
    {
     "data": {
      "text/html": [
       "-0.334790904250818"
      ],
      "text/latex": [
       "-0.334790904250818"
      ],
      "text/markdown": [
       "-0.334790904250818"
      ],
      "text/plain": [
       "[1] -0.3347909"
      ]
     },
     "metadata": {},
     "output_type": "display_data"
    },
    {
     "data": {
      "text/html": [
       "0.536172018014689"
      ],
      "text/latex": [
       "0.536172018014689"
      ],
      "text/markdown": [
       "0.536172018014689"
      ],
      "text/plain": [
       "[1] 0.536172"
      ]
     },
     "metadata": {},
     "output_type": "display_data"
    },
    {
     "data": {
      "text/html": [
       "0.609826215662803"
      ],
      "text/latex": [
       "0.609826215662803"
      ],
      "text/markdown": [
       "0.609826215662803"
      ],
      "text/plain": [
       "[1] 0.6098262"
      ]
     },
     "metadata": {},
     "output_type": "display_data"
    },
    {
     "data": {
      "text/html": [
       "<table>\n",
       "<thead><tr><th scope=col>transcript_id</th><th scope=col>gene_id</th><th scope=col>length</th><th scope=col>effective_length</th><th scope=col>expected_count</th><th scope=col>TPM</th><th scope=col>FPKM</th><th scope=col>IsoPct</th><th scope=col>sirv_e0</th><th scope=col>sirv_e1</th><th scope=col>sirv_e2</th></tr></thead>\n",
       "<tbody>\n",
       "\t<tr><td>SIRV101 </td><td>SIRV101 </td><td>1555    </td><td>1519.74 </td><td>1291    </td><td>20798.45</td><td>20381.73</td><td>100     </td><td>1       </td><td>1.00    </td><td>1.00    </td></tr>\n",
       "\t<tr><td>SIRV102 </td><td>SIRV102 </td><td>1296    </td><td>1260.74 </td><td>1174    </td><td>22799.06</td><td>22342.25</td><td>100     </td><td>1       </td><td>0.50    </td><td>0.25    </td></tr>\n",
       "\t<tr><td>SIRV103 </td><td>SIRV103 </td><td>1357    </td><td>1321.74 </td><td>1053    </td><td>19505.48</td><td>19114.66</td><td>100     </td><td>1       </td><td>1.00    </td><td>1.00    </td></tr>\n",
       "\t<tr><td>SIRV105 </td><td>SIRV105 </td><td> 665    </td><td> 629.74 </td><td> 239    </td><td> 9292.07</td><td> 9105.89</td><td>100     </td><td>1       </td><td>0.25    </td><td>4.00    </td></tr>\n",
       "\t<tr><td>SIRV106 </td><td>SIRV106 </td><td> 970    </td><td> 934.74 </td><td> 283    </td><td> 7412.60</td><td> 7264.08</td><td>100     </td><td>1       </td><td>1.00    </td><td>1.00    </td></tr>\n",
       "\t<tr><td>SIRV107 </td><td>SIRV107 </td><td> 741    </td><td> 705.74 </td><td>1228    </td><td>42601.93</td><td>41748.34</td><td>100     </td><td>1       </td><td>0.25    </td><td>4.00    </td></tr>\n",
       "</tbody>\n",
       "</table>\n"
      ],
      "text/latex": [
       "\\begin{tabular}{r|lllllllllll}\n",
       " transcript\\_id & gene\\_id & length & effective\\_length & expected\\_count & TPM & FPKM & IsoPct & sirv\\_e0 & sirv\\_e1 & sirv\\_e2\\\\\n",
       "\\hline\n",
       "\t SIRV101  & SIRV101  & 1555     & 1519.74  & 1291     & 20798.45 & 20381.73 & 100      & 1        & 1.00     & 1.00    \\\\\n",
       "\t SIRV102  & SIRV102  & 1296     & 1260.74  & 1174     & 22799.06 & 22342.25 & 100      & 1        & 0.50     & 0.25    \\\\\n",
       "\t SIRV103  & SIRV103  & 1357     & 1321.74  & 1053     & 19505.48 & 19114.66 & 100      & 1        & 1.00     & 1.00    \\\\\n",
       "\t SIRV105  & SIRV105  &  665     &  629.74  &  239     &  9292.07 &  9105.89 & 100      & 1        & 0.25     & 4.00    \\\\\n",
       "\t SIRV106  & SIRV106  &  970     &  934.74  &  283     &  7412.60 &  7264.08 & 100      & 1        & 1.00     & 1.00    \\\\\n",
       "\t SIRV107  & SIRV107  &  741     &  705.74  & 1228     & 42601.93 & 41748.34 & 100      & 1        & 0.25     & 4.00    \\\\\n",
       "\\end{tabular}\n"
      ],
      "text/markdown": [
       "\n",
       "transcript_id | gene_id | length | effective_length | expected_count | TPM | FPKM | IsoPct | sirv_e0 | sirv_e1 | sirv_e2 | \n",
       "|---|---|---|---|---|---|\n",
       "| SIRV101  | SIRV101  | 1555     | 1519.74  | 1291     | 20798.45 | 20381.73 | 100      | 1        | 1.00     | 1.00     | \n",
       "| SIRV102  | SIRV102  | 1296     | 1260.74  | 1174     | 22799.06 | 22342.25 | 100      | 1        | 0.50     | 0.25     | \n",
       "| SIRV103  | SIRV103  | 1357     | 1321.74  | 1053     | 19505.48 | 19114.66 | 100      | 1        | 1.00     | 1.00     | \n",
       "| SIRV105  | SIRV105  |  665     |  629.74  |  239     |  9292.07 |  9105.89 | 100      | 1        | 0.25     | 4.00     | \n",
       "| SIRV106  | SIRV106  |  970     |  934.74  |  283     |  7412.60 |  7264.08 | 100      | 1        | 1.00     | 1.00     | \n",
       "| SIRV107  | SIRV107  |  741     |  705.74  | 1228     | 42601.93 | 41748.34 | 100      | 1        | 0.25     | 4.00     | \n",
       "\n",
       "\n"
      ],
      "text/plain": [
       "  transcript_id gene_id length effective_length expected_count TPM     \n",
       "1 SIRV101       SIRV101 1555   1519.74          1291           20798.45\n",
       "2 SIRV102       SIRV102 1296   1260.74          1174           22799.06\n",
       "3 SIRV103       SIRV103 1357   1321.74          1053           19505.48\n",
       "4 SIRV105       SIRV105  665    629.74           239            9292.07\n",
       "5 SIRV106       SIRV106  970    934.74           283            7412.60\n",
       "6 SIRV107       SIRV107  741    705.74          1228           42601.93\n",
       "  FPKM     IsoPct sirv_e0 sirv_e1 sirv_e2\n",
       "1 20381.73 100    1       1.00    1.00   \n",
       "2 22342.25 100    1       0.50    0.25   \n",
       "3 19114.66 100    1       1.00    1.00   \n",
       "4  9105.89 100    1       0.25    4.00   \n",
       "5  7264.08 100    1       1.00    1.00   \n",
       "6 41748.34 100    1       0.25    4.00   "
      ]
     },
     "metadata": {},
     "output_type": "display_data"
    }
   ],
   "source": [
    "setwd('~/bme/jupyter_data')\n",
    "sirv_info = read.csv('SIRV-sequence-design-overview-v1.2.csv', skip=6, fill=T, stringsAsFactors=FALSE)\n",
    "sirv_info = sirv_info[substr(sirv_info[,6], 1, 4) == 'SIRV',]\n",
    "rquant = read.table('rsem_out_bwa.isoforms.results', header=T)\n",
    "rquant$transcript_id = as.character(rquant$transcript_id)\n",
    "sirv_info[,6] = as.character(sirv_info[,6])\n",
    "rquant$sirv_e0 = sirv_info$E0[match(rquant$transcript_id, sirv_info[,6])]\n",
    "rquant$sirv_e1 = sirv_info$E1[match(rquant$transcript_id, sirv_info[,6])]\n",
    "rquant$sirv_e2 = sirv_info$E2[match(rquant$transcript_id, sirv_info[,6])]\n",
    "\n",
    "\n",
    "rquant$sirv_e0 = rep(1, nrow(rquant))  # this data comes from an excel file that is poorly made for reading into R\n",
    "rquant$sirv_e1[as.character(rquant$sirv_e1) == ' 1/4'] = 0.25\n",
    "rquant$sirv_e1[as.character(rquant$sirv_e1) == ' 1/2'] = 0.5\n",
    "rquant$sirv_e1[as.character(rquant$sirv_e1) == '2'] = 2\n",
    "rquant$sirv_e1[as.character(rquant$sirv_e1) == '1'] = 1\n",
    "\n",
    "head(rquant)\n",
    "\n",
    "rquant$sirv_e2[as.character(rquant$sirv_e2) == '  1/32'] = 1/32\n",
    "rquant$sirv_e2[as.character(rquant$sirv_e2) == '  1/4 '] = 0.25\n",
    "rquant$sirv_e2[as.character(rquant$sirv_e2) == '  1/2 '] = 0.5\n",
    "rquant$sirv_e2[as.character(rquant$sirv_e2) == '1'] = 1\n",
    "rquant$sirv_e2[as.character(rquant$sirv_e2) == '2'] = 2\n",
    "rquant$sirv_e2[as.character(rquant$sirv_e2) == '4'] = 4\n",
    "rquant[rquant$transcript_id == 'SIRV502',9:11] = c(1,2,1/32)\n",
    "\n",
    "rquant$sirv_e0 = as.numeric(rquant$sirv_e0)\n",
    "rquant$sirv_e1 = as.numeric(rquant$sirv_e1)\n",
    "rquant$sirv_e2 = as.numeric(rquant$sirv_e2)\n",
    "\n",
    "cor(rquant$expected_count, rquant$sirv_e0)\n",
    "cor(rquant$expected_count, rquant$sirv_e1)\n",
    "cor(rquant$expected_count, rquant$sirv_e2)\n",
    "cor(rquant$TPM, rquant$sirv_e2)\n",
    "head(rquant)\n",
    "write.table(rquant, 'sirv_rsem_quantified.txt', quote=F, row.names=F, sep='\\t')\n"
   ]
  },
  {
   "cell_type": "code",
   "execution_count": 23,
   "metadata": {
    "collapsed": false
   },
   "outputs": [
    {
     "data": {
      "image/png": "[encoded data removed]",
      "text/plain": [
       "plot without title"
      ]
     },
     "metadata": {},
     "output_type": "display_data"
    }
   ],
   "source": [
    "plot(rquant$TPM, rquant$sirv_e2, xlab='RSEM TPM', ylab='SIRV Concentration')"
   ]
  },
  {
   "cell_type": "markdown",
   "metadata": {},
   "source": [
    "Using fail reads to supplement pass reads improves correlation marginally (one hundred thousandths)."
   ]
  },
  {
   "cell_type": "code",
   "execution_count": null,
   "metadata": {
    "collapsed": true
   },
   "outputs": [],
   "source": []
  },
  {
   "cell_type": "code",
   "execution_count": 5,
   "metadata": {
    "collapsed": false
   },
   "outputs": [
    {
     "data": {
      "text/html": [
       "<table>\n",
       "<thead><tr><th scope=col>transcript_id</th><th scope=col>gene_id</th><th scope=col>length</th><th scope=col>effective_length</th><th scope=col>expected_count</th><th scope=col>TPM</th><th scope=col>FPKM</th><th scope=col>IsoPct</th><th scope=col>sirv_e0</th><th scope=col>sirv_e1</th><th scope=col>sirv_e2</th></tr></thead>\n",
       "<tbody>\n",
       "\t<tr><td>SIRV101 </td><td>SIRV101 </td><td>1555    </td><td>1519.51 </td><td>1316    </td><td>20598.68</td><td>20267.38</td><td>100     </td><td>1       </td><td>1       </td><td>1       </td></tr>\n",
       "\t<tr><td>SIRV102 </td><td>SIRV102 </td><td>1296    </td><td>1260.51 </td><td>1193    </td><td>22510.28</td><td>22148.24</td><td>100     </td><td>1       </td><td>0.5     </td><td>  1/4   </td></tr>\n",
       "\t<tr><td>SIRV103 </td><td>SIRV103 </td><td>1357    </td><td>1321.51 </td><td>1080    </td><td>19437.49</td><td>19124.87</td><td>100     </td><td>1       </td><td>1       </td><td>1       </td></tr>\n",
       "\t<tr><td>SIRV105 </td><td>SIRV105 </td><td> 665    </td><td> 629.51 </td><td> 248    </td><td> 9369.88</td><td> 9219.18</td><td>100     </td><td>1       </td><td>0.25    </td><td>4       </td></tr>\n",
       "\t<tr><td>SIRV106 </td><td>SIRV106 </td><td> 970    </td><td> 934.51 </td><td> 291    </td><td> 7406.20</td><td> 7287.08</td><td>100     </td><td>1       </td><td>1       </td><td>1       </td></tr>\n",
       "\t<tr><td>SIRV107 </td><td>SIRV107 </td><td> 741    </td><td> 705.51 </td><td>1251    </td><td>42173.49</td><td>41495.20</td><td>100     </td><td>1       </td><td>0.25    </td><td>4       </td></tr>\n",
       "</tbody>\n",
       "</table>\n"
      ],
      "text/latex": [
       "\\begin{tabular}{r|lllllllllll}\n",
       " transcript\\_id & gene\\_id & length & effective\\_length & expected\\_count & TPM & FPKM & IsoPct & sirv\\_e0 & sirv\\_e1 & sirv\\_e2\\\\\n",
       "\\hline\n",
       "\t SIRV101  & SIRV101  & 1555     & 1519.51  & 1316     & 20598.68 & 20267.38 & 100      & 1        & 1        & 1       \\\\\n",
       "\t SIRV102  & SIRV102  & 1296     & 1260.51  & 1193     & 22510.28 & 22148.24 & 100      & 1        & 0.5      &   1/4   \\\\\n",
       "\t SIRV103  & SIRV103  & 1357     & 1321.51  & 1080     & 19437.49 & 19124.87 & 100      & 1        & 1        & 1       \\\\\n",
       "\t SIRV105  & SIRV105  &  665     &  629.51  &  248     &  9369.88 &  9219.18 & 100      & 1        & 0.25     & 4       \\\\\n",
       "\t SIRV106  & SIRV106  &  970     &  934.51  &  291     &  7406.20 &  7287.08 & 100      & 1        & 1        & 1       \\\\\n",
       "\t SIRV107  & SIRV107  &  741     &  705.51  & 1251     & 42173.49 & 41495.20 & 100      & 1        & 0.25     & 4       \\\\\n",
       "\\end{tabular}\n"
      ],
      "text/markdown": [
       "\n",
       "transcript_id | gene_id | length | effective_length | expected_count | TPM | FPKM | IsoPct | sirv_e0 | sirv_e1 | sirv_e2 | \n",
       "|---|---|---|---|---|---|\n",
       "| SIRV101  | SIRV101  | 1555     | 1519.51  | 1316     | 20598.68 | 20267.38 | 100      | 1        | 1        | 1        | \n",
       "| SIRV102  | SIRV102  | 1296     | 1260.51  | 1193     | 22510.28 | 22148.24 | 100      | 1        | 0.5      |   1/4    | \n",
       "| SIRV103  | SIRV103  | 1357     | 1321.51  | 1080     | 19437.49 | 19124.87 | 100      | 1        | 1        | 1        | \n",
       "| SIRV105  | SIRV105  |  665     |  629.51  |  248     |  9369.88 |  9219.18 | 100      | 1        | 0.25     | 4        | \n",
       "| SIRV106  | SIRV106  |  970     |  934.51  |  291     |  7406.20 |  7287.08 | 100      | 1        | 1        | 1        | \n",
       "| SIRV107  | SIRV107  |  741     |  705.51  | 1251     | 42173.49 | 41495.20 | 100      | 1        | 0.25     | 4        | \n",
       "\n",
       "\n"
      ],
      "text/plain": [
       "  transcript_id gene_id length effective_length expected_count TPM     \n",
       "1 SIRV101       SIRV101 1555   1519.51          1316           20598.68\n",
       "2 SIRV102       SIRV102 1296   1260.51          1193           22510.28\n",
       "3 SIRV103       SIRV103 1357   1321.51          1080           19437.49\n",
       "4 SIRV105       SIRV105  665    629.51           248            9369.88\n",
       "5 SIRV106       SIRV106  970    934.51           291            7406.20\n",
       "6 SIRV107       SIRV107  741    705.51          1251           42173.49\n",
       "  FPKM     IsoPct sirv_e0 sirv_e1 sirv_e2\n",
       "1 20267.38 100    1       1       1      \n",
       "2 22148.24 100    1       0.5       1/4  \n",
       "3 19124.87 100    1       1       1      \n",
       "4  9219.18 100    1       0.25    4      \n",
       "5  7287.08 100    1       1       1      \n",
       "6 41495.20 100    1       0.25    4      "
      ]
     },
     "metadata": {},
     "output_type": "display_data"
    },
    {
     "name": "stderr",
     "output_type": "stream",
     "text": [
      "Warning message in cor(rquant$expected_count, rquant$sirv_e0):\n",
      "\"the standard deviation is zero\""
     ]
    },
    {
     "data": {
      "text/html": [
       "&lt;NA&gt;"
      ],
      "text/latex": [
       "<NA>"
      ],
      "text/markdown": [
       "&lt;NA&gt;"
      ],
      "text/plain": [
       "[1] NA"
      ]
     },
     "metadata": {},
     "output_type": "display_data"
    },
    {
     "data": {
      "text/html": [
       "-0.33596757045375"
      ],
      "text/latex": [
       "-0.33596757045375"
      ],
      "text/markdown": [
       "-0.33596757045375"
      ],
      "text/plain": [
       "[1] -0.3359676"
      ]
     },
     "metadata": {},
     "output_type": "display_data"
    },
    {
     "data": {
      "text/html": [
       "0.538012745416816"
      ],
      "text/latex": [
       "0.538012745416816"
      ],
      "text/markdown": [
       "0.538012745416816"
      ],
      "text/plain": [
       "[1] 0.5380127"
      ]
     },
     "metadata": {},
     "output_type": "display_data"
    },
    {
     "data": {
      "text/html": [
       "0.609853835901669"
      ],
      "text/latex": [
       "0.609853835901669"
      ],
      "text/markdown": [
       "0.609853835901669"
      ],
      "text/plain": [
       "[1] 0.6098538"
      ]
     },
     "metadata": {},
     "output_type": "display_data"
    },
    {
     "data": {
      "text/html": [
       "0.485499526290475"
      ],
      "text/latex": [
       "0.485499526290475"
      ],
      "text/markdown": [
       "0.485499526290475"
      ],
      "text/plain": [
       "[1] 0.4854995"
      ]
     },
     "metadata": {},
     "output_type": "display_data"
    },
    {
     "data": {
      "text/html": [
       "0.609853835901669"
      ],
      "text/latex": [
       "0.609853835901669"
      ],
      "text/markdown": [
       "0.609853835901669"
      ],
      "text/plain": [
       "[1] 0.6098538"
      ]
     },
     "metadata": {},
     "output_type": "display_data"
    },
    {
     "data": {
      "text/html": [
       "<table>\n",
       "<thead><tr><th scope=col>transcript_id</th><th scope=col>gene_id</th><th scope=col>length</th><th scope=col>effective_length</th><th scope=col>expected_count</th><th scope=col>TPM</th><th scope=col>FPKM</th><th scope=col>IsoPct</th><th scope=col>sirv_e0</th><th scope=col>sirv_e1</th><th scope=col>sirv_e2</th></tr></thead>\n",
       "<tbody>\n",
       "\t<tr><td>SIRV101 </td><td>SIRV101 </td><td>1555    </td><td>1519.51 </td><td>1316    </td><td>20598.68</td><td>20267.38</td><td>100     </td><td>1       </td><td>1.00    </td><td>1.00    </td></tr>\n",
       "\t<tr><td>SIRV102 </td><td>SIRV102 </td><td>1296    </td><td>1260.51 </td><td>1193    </td><td>22510.28</td><td>22148.24</td><td>100     </td><td>1       </td><td>0.50    </td><td>0.25    </td></tr>\n",
       "\t<tr><td>SIRV103 </td><td>SIRV103 </td><td>1357    </td><td>1321.51 </td><td>1080    </td><td>19437.49</td><td>19124.87</td><td>100     </td><td>1       </td><td>1.00    </td><td>1.00    </td></tr>\n",
       "\t<tr><td>SIRV105 </td><td>SIRV105 </td><td> 665    </td><td> 629.51 </td><td> 248    </td><td> 9369.88</td><td> 9219.18</td><td>100     </td><td>1       </td><td>0.25    </td><td>4.00    </td></tr>\n",
       "\t<tr><td>SIRV106 </td><td>SIRV106 </td><td> 970    </td><td> 934.51 </td><td> 291    </td><td> 7406.20</td><td> 7287.08</td><td>100     </td><td>1       </td><td>1.00    </td><td>1.00    </td></tr>\n",
       "\t<tr><td>SIRV107 </td><td>SIRV107 </td><td> 741    </td><td> 705.51 </td><td>1251    </td><td>42173.49</td><td>41495.20</td><td>100     </td><td>1       </td><td>0.25    </td><td>4.00    </td></tr>\n",
       "</tbody>\n",
       "</table>\n"
      ],
      "text/latex": [
       "\\begin{tabular}{r|lllllllllll}\n",
       " transcript\\_id & gene\\_id & length & effective\\_length & expected\\_count & TPM & FPKM & IsoPct & sirv\\_e0 & sirv\\_e1 & sirv\\_e2\\\\\n",
       "\\hline\n",
       "\t SIRV101  & SIRV101  & 1555     & 1519.51  & 1316     & 20598.68 & 20267.38 & 100      & 1        & 1.00     & 1.00    \\\\\n",
       "\t SIRV102  & SIRV102  & 1296     & 1260.51  & 1193     & 22510.28 & 22148.24 & 100      & 1        & 0.50     & 0.25    \\\\\n",
       "\t SIRV103  & SIRV103  & 1357     & 1321.51  & 1080     & 19437.49 & 19124.87 & 100      & 1        & 1.00     & 1.00    \\\\\n",
       "\t SIRV105  & SIRV105  &  665     &  629.51  &  248     &  9369.88 &  9219.18 & 100      & 1        & 0.25     & 4.00    \\\\\n",
       "\t SIRV106  & SIRV106  &  970     &  934.51  &  291     &  7406.20 &  7287.08 & 100      & 1        & 1.00     & 1.00    \\\\\n",
       "\t SIRV107  & SIRV107  &  741     &  705.51  & 1251     & 42173.49 & 41495.20 & 100      & 1        & 0.25     & 4.00    \\\\\n",
       "\\end{tabular}\n"
      ],
      "text/markdown": [
       "\n",
       "transcript_id | gene_id | length | effective_length | expected_count | TPM | FPKM | IsoPct | sirv_e0 | sirv_e1 | sirv_e2 | \n",
       "|---|---|---|---|---|---|\n",
       "| SIRV101  | SIRV101  | 1555     | 1519.51  | 1316     | 20598.68 | 20267.38 | 100      | 1        | 1.00     | 1.00     | \n",
       "| SIRV102  | SIRV102  | 1296     | 1260.51  | 1193     | 22510.28 | 22148.24 | 100      | 1        | 0.50     | 0.25     | \n",
       "| SIRV103  | SIRV103  | 1357     | 1321.51  | 1080     | 19437.49 | 19124.87 | 100      | 1        | 1.00     | 1.00     | \n",
       "| SIRV105  | SIRV105  |  665     |  629.51  |  248     |  9369.88 |  9219.18 | 100      | 1        | 0.25     | 4.00     | \n",
       "| SIRV106  | SIRV106  |  970     |  934.51  |  291     |  7406.20 |  7287.08 | 100      | 1        | 1.00     | 1.00     | \n",
       "| SIRV107  | SIRV107  |  741     |  705.51  | 1251     | 42173.49 | 41495.20 | 100      | 1        | 0.25     | 4.00     | \n",
       "\n",
       "\n"
      ],
      "text/plain": [
       "  transcript_id gene_id length effective_length expected_count TPM     \n",
       "1 SIRV101       SIRV101 1555   1519.51          1316           20598.68\n",
       "2 SIRV102       SIRV102 1296   1260.51          1193           22510.28\n",
       "3 SIRV103       SIRV103 1357   1321.51          1080           19437.49\n",
       "4 SIRV105       SIRV105  665    629.51           248            9369.88\n",
       "5 SIRV106       SIRV106  970    934.51           291            7406.20\n",
       "6 SIRV107       SIRV107  741    705.51          1251           42173.49\n",
       "  FPKM     IsoPct sirv_e0 sirv_e1 sirv_e2\n",
       "1 20267.38 100    1       1.00    1.00   \n",
       "2 22148.24 100    1       0.50    0.25   \n",
       "3 19124.87 100    1       1.00    1.00   \n",
       "4  9219.18 100    1       0.25    4.00   \n",
       "5  7287.08 100    1       1.00    1.00   \n",
       "6 41495.20 100    1       0.25    4.00   "
      ]
     },
     "metadata": {},
     "output_type": "display_data"
    },
    {
     "data": {
      "text/html": [
       "0"
      ],
      "text/latex": [
       "0"
      ],
      "text/markdown": [
       "0"
      ],
      "text/plain": [
       "[1] 0"
      ]
     },
     "metadata": {},
     "output_type": "display_data"
    },
    {
     "data": {
      "image/png": "[encoded data removed]",
      "text/plain": [
       "plot without title"
      ]
     },
     "metadata": {},
     "output_type": "display_data"
    }
   ],
   "source": [
    "setwd('~/bme/jupyter_data')\n",
    "sirv_info = read.csv('SIRV-sequence-design-overview-v1.2.csv', skip=6, fill=T, stringsAsFactors=FALSE)\n",
    "sirv_info = sirv_info[substr(sirv_info[,6], 1, 4) == 'SIRV',]\n",
    "rquant = read.table('rsem_out_fail_bwa.isoforms.results', header=T)\n",
    "rquant$transcript_id = as.character(rquant$transcript_id)\n",
    "sirv_info[,6] = as.character(sirv_info[,6])\n",
    "rquant$sirv_e0 = sirv_info$E0[match(rquant$transcript_id, sirv_info[,6])]\n",
    "rquant$sirv_e1 = sirv_info$E1[match(rquant$transcript_id, sirv_info[,6])]\n",
    "rquant$sirv_e2 = sirv_info$E2[match(rquant$transcript_id, sirv_info[,6])]\n",
    "\n",
    "\n",
    "rquant$sirv_e0 = rep(1, nrow(rquant))  # this data comes from an excel file that is poorly made for reading into R\n",
    "rquant$sirv_e1[as.character(rquant$sirv_e1) == ' 1/4'] = 0.25\n",
    "rquant$sirv_e1[as.character(rquant$sirv_e1) == ' 1/2'] = 0.5\n",
    "rquant$sirv_e1[as.character(rquant$sirv_e1) == '2'] = 2\n",
    "rquant$sirv_e1[as.character(rquant$sirv_e1) == '1'] = 1\n",
    "\n",
    "head(rquant)\n",
    "\n",
    "rquant$sirv_e2[as.character(rquant$sirv_e2) == '  1/32'] = 1/32\n",
    "rquant$sirv_e2[as.character(rquant$sirv_e2) == '  1/4 '] = 0.25\n",
    "rquant$sirv_e2[as.character(rquant$sirv_e2) == '  1/2 '] = 0.5\n",
    "rquant$sirv_e2[as.character(rquant$sirv_e2) == '1'] = 1\n",
    "rquant$sirv_e2[as.character(rquant$sirv_e2) == '2'] = 2\n",
    "rquant$sirv_e2[as.character(rquant$sirv_e2) == '4'] = 4\n",
    "rquant[rquant$transcript_id == 'SIRV502',9:11] = c(1,2,1/32)\n",
    "\n",
    "rquant$sirv_e0 = as.numeric(rquant$sirv_e0)\n",
    "rquant$sirv_e1 = as.numeric(rquant$sirv_e1)\n",
    "rquant$sirv_e2 = as.numeric(rquant$sirv_e2)\n",
    "\n",
    "cor(rquant$expected_count, rquant$sirv_e0)\n",
    "cor(rquant$expected_count, rquant$sirv_e1)\n",
    "cor(rquant$expected_count, rquant$sirv_e2)\n",
    "cor(rquant$TPM, rquant$sirv_e2)\n",
    "cor(rquant$TPM, rquant$sirv_e2, method = 'spearman')\n",
    "\n",
    "cor(rquant$TPM, rquant$sirv_e2)\n",
    "head(rquant)\n",
    "plot(rquant$TPM, rquant$sirv_e2, xlab='RSEM TPM', ylab='SIRV Concentration')\n",
    "# write.table(rquant, 'sirv_rsem_quantified_failtoo.txt', quote=F, row.names=F, sep='\\t')\n",
    "min(rquant$TPM)"
   ]
  },
  {
   "cell_type": "markdown",
   "metadata": {},
   "source": [
    "Short read SIRV data, transcripts quantified with RSEM. Aligned using bowtie2 (RSEM's favorite) instead of BWA."
   ]
  },
  {
   "cell_type": "code",
   "execution_count": 35,
   "metadata": {
    "collapsed": false
   },
   "outputs": [
    {
     "data": {
      "text/html": [
       "<table>\n",
       "<thead><tr><th scope=col>transcript_id</th><th scope=col>gene_id</th><th scope=col>length</th><th scope=col>effective_length</th><th scope=col>expected_count</th><th scope=col>TPM</th><th scope=col>FPKM</th><th scope=col>IsoPct</th><th scope=col>sirv_e0</th><th scope=col>sirv_e1</th><th scope=col>sirv_e2</th></tr></thead>\n",
       "<tbody>\n",
       "\t<tr><td>SIRV101  </td><td>SIRV101  </td><td>1555     </td><td>1436.37  </td><td> 54779.23</td><td>17114.77 </td><td>21636.93 </td><td>100      </td><td>1        </td><td>1        </td><td>1        </td></tr>\n",
       "\t<tr><td>SIRV102  </td><td>SIRV102  </td><td>1296     </td><td>1177.37  </td><td>103363.41</td><td>39398.11 </td><td>49808.12 </td><td>100      </td><td>1        </td><td>0.5      </td><td>  1/4    </td></tr>\n",
       "\t<tr><td>SIRV103  </td><td>SIRV103  </td><td>1357     </td><td>1238.37  </td><td>    65.00</td><td>   23.56 </td><td>   29.78 </td><td>100      </td><td>1        </td><td>1        </td><td>1        </td></tr>\n",
       "\t<tr><td>SIRV105  </td><td>SIRV105  </td><td> 665     </td><td> 546.37  </td><td>  8875.57</td><td> 7290.07 </td><td> 9216.30 </td><td>100      </td><td>1        </td><td>0.25     </td><td>4        </td></tr>\n",
       "\t<tr><td>SIRV106  </td><td>SIRV106  </td><td> 970     </td><td> 851.37  </td><td> 58990.76</td><td>31094.78 </td><td>39310.83 </td><td>100      </td><td>1        </td><td>1        </td><td>1        </td></tr>\n",
       "\t<tr><td>SIRV107  </td><td>SIRV107  </td><td> 741     </td><td> 622.37  </td><td> 24567.04</td><td>17714.40 </td><td>22395.01 </td><td>100      </td><td>1        </td><td>0.25     </td><td>4        </td></tr>\n",
       "</tbody>\n",
       "</table>\n"
      ],
      "text/latex": [
       "\\begin{tabular}{r|lllllllllll}\n",
       " transcript\\_id & gene\\_id & length & effective\\_length & expected\\_count & TPM & FPKM & IsoPct & sirv\\_e0 & sirv\\_e1 & sirv\\_e2\\\\\n",
       "\\hline\n",
       "\t SIRV101   & SIRV101   & 1555      & 1436.37   &  54779.23 & 17114.77  & 21636.93  & 100       & 1         & 1         & 1        \\\\\n",
       "\t SIRV102   & SIRV102   & 1296      & 1177.37   & 103363.41 & 39398.11  & 49808.12  & 100       & 1         & 0.5       &   1/4    \\\\\n",
       "\t SIRV103   & SIRV103   & 1357      & 1238.37   &     65.00 &    23.56  &    29.78  & 100       & 1         & 1         & 1        \\\\\n",
       "\t SIRV105   & SIRV105   &  665      &  546.37   &   8875.57 &  7290.07  &  9216.30  & 100       & 1         & 0.25      & 4        \\\\\n",
       "\t SIRV106   & SIRV106   &  970      &  851.37   &  58990.76 & 31094.78  & 39310.83  & 100       & 1         & 1         & 1        \\\\\n",
       "\t SIRV107   & SIRV107   &  741      &  622.37   &  24567.04 & 17714.40  & 22395.01  & 100       & 1         & 0.25      & 4        \\\\\n",
       "\\end{tabular}\n"
      ],
      "text/markdown": [
       "\n",
       "transcript_id | gene_id | length | effective_length | expected_count | TPM | FPKM | IsoPct | sirv_e0 | sirv_e1 | sirv_e2 | \n",
       "|---|---|---|---|---|---|\n",
       "| SIRV101   | SIRV101   | 1555      | 1436.37   |  54779.23 | 17114.77  | 21636.93  | 100       | 1         | 1         | 1         | \n",
       "| SIRV102   | SIRV102   | 1296      | 1177.37   | 103363.41 | 39398.11  | 49808.12  | 100       | 1         | 0.5       |   1/4     | \n",
       "| SIRV103   | SIRV103   | 1357      | 1238.37   |     65.00 |    23.56  |    29.78  | 100       | 1         | 1         | 1         | \n",
       "| SIRV105   | SIRV105   |  665      |  546.37   |   8875.57 |  7290.07  |  9216.30  | 100       | 1         | 0.25      | 4         | \n",
       "| SIRV106   | SIRV106   |  970      |  851.37   |  58990.76 | 31094.78  | 39310.83  | 100       | 1         | 1         | 1         | \n",
       "| SIRV107   | SIRV107   |  741      |  622.37   |  24567.04 | 17714.40  | 22395.01  | 100       | 1         | 0.25      | 4         | \n",
       "\n",
       "\n"
      ],
      "text/plain": [
       "  transcript_id gene_id length effective_length expected_count TPM     \n",
       "1 SIRV101       SIRV101 1555   1436.37           54779.23      17114.77\n",
       "2 SIRV102       SIRV102 1296   1177.37          103363.41      39398.11\n",
       "3 SIRV103       SIRV103 1357   1238.37              65.00         23.56\n",
       "4 SIRV105       SIRV105  665    546.37            8875.57       7290.07\n",
       "5 SIRV106       SIRV106  970    851.37           58990.76      31094.78\n",
       "6 SIRV107       SIRV107  741    622.37           24567.04      17714.40\n",
       "  FPKM     IsoPct sirv_e0 sirv_e1 sirv_e2\n",
       "1 21636.93 100    1       1       1      \n",
       "2 49808.12 100    1       0.5       1/4  \n",
       "3    29.78 100    1       1       1      \n",
       "4  9216.30 100    1       0.25    4      \n",
       "5 39310.83 100    1       1       1      \n",
       "6 22395.01 100    1       0.25    4      "
      ]
     },
     "metadata": {},
     "output_type": "display_data"
    },
    {
     "name": "stderr",
     "output_type": "stream",
     "text": [
      "Warning message in cor(rquant$expected_count, rquant$sirv_e0):\n",
      "\"the standard deviation is zero\""
     ]
    },
    {
     "data": {
      "text/html": [
       "&lt;NA&gt;"
      ],
      "text/latex": [
       "<NA>"
      ],
      "text/markdown": [
       "&lt;NA&gt;"
      ],
      "text/plain": [
       "[1] NA"
      ]
     },
     "metadata": {},
     "output_type": "display_data"
    },
    {
     "data": {
      "text/html": [
       "-0.0587294352195716"
      ],
      "text/latex": [
       "-0.0587294352195716"
      ],
      "text/markdown": [
       "-0.0587294352195716"
      ],
      "text/plain": [
       "[1] -0.05872944"
      ]
     },
     "metadata": {},
     "output_type": "display_data"
    },
    {
     "data": {
      "text/html": [
       "-0.102852206870908"
      ],
      "text/latex": [
       "-0.102852206870908"
      ],
      "text/markdown": [
       "-0.102852206870908"
      ],
      "text/plain": [
       "[1] -0.1028522"
      ]
     },
     "metadata": {},
     "output_type": "display_data"
    },
    {
     "data": {
      "text/html": [
       "0.0481347601575458"
      ],
      "text/latex": [
       "0.0481347601575458"
      ],
      "text/markdown": [
       "0.0481347601575458"
      ],
      "text/plain": [
       "[1] 0.04813476"
      ]
     },
     "metadata": {},
     "output_type": "display_data"
    },
    {
     "data": {
      "text/html": [
       "<table>\n",
       "<thead><tr><th scope=col>transcript_id</th><th scope=col>gene_id</th><th scope=col>length</th><th scope=col>effective_length</th><th scope=col>expected_count</th><th scope=col>TPM</th><th scope=col>FPKM</th><th scope=col>IsoPct</th><th scope=col>sirv_e0</th><th scope=col>sirv_e1</th><th scope=col>sirv_e2</th></tr></thead>\n",
       "<tbody>\n",
       "\t<tr><td>SIRV101  </td><td>SIRV101  </td><td>1555     </td><td>1436.37  </td><td> 54779.23</td><td>17114.77 </td><td>21636.93 </td><td>100      </td><td>1        </td><td>1.00     </td><td>1.00     </td></tr>\n",
       "\t<tr><td>SIRV102  </td><td>SIRV102  </td><td>1296     </td><td>1177.37  </td><td>103363.41</td><td>39398.11 </td><td>49808.12 </td><td>100      </td><td>1        </td><td>0.50     </td><td>0.25     </td></tr>\n",
       "\t<tr><td>SIRV103  </td><td>SIRV103  </td><td>1357     </td><td>1238.37  </td><td>    65.00</td><td>   23.56 </td><td>   29.78 </td><td>100      </td><td>1        </td><td>1.00     </td><td>1.00     </td></tr>\n",
       "\t<tr><td>SIRV105  </td><td>SIRV105  </td><td> 665     </td><td> 546.37  </td><td>  8875.57</td><td> 7290.07 </td><td> 9216.30 </td><td>100      </td><td>1        </td><td>0.25     </td><td>4.00     </td></tr>\n",
       "\t<tr><td>SIRV106  </td><td>SIRV106  </td><td> 970     </td><td> 851.37  </td><td> 58990.76</td><td>31094.78 </td><td>39310.83 </td><td>100      </td><td>1        </td><td>1.00     </td><td>1.00     </td></tr>\n",
       "\t<tr><td>SIRV107  </td><td>SIRV107  </td><td> 741     </td><td> 622.37  </td><td> 24567.04</td><td>17714.40 </td><td>22395.01 </td><td>100      </td><td>1        </td><td>0.25     </td><td>4.00     </td></tr>\n",
       "</tbody>\n",
       "</table>\n"
      ],
      "text/latex": [
       "\\begin{tabular}{r|lllllllllll}\n",
       " transcript\\_id & gene\\_id & length & effective\\_length & expected\\_count & TPM & FPKM & IsoPct & sirv\\_e0 & sirv\\_e1 & sirv\\_e2\\\\\n",
       "\\hline\n",
       "\t SIRV101   & SIRV101   & 1555      & 1436.37   &  54779.23 & 17114.77  & 21636.93  & 100       & 1         & 1.00      & 1.00     \\\\\n",
       "\t SIRV102   & SIRV102   & 1296      & 1177.37   & 103363.41 & 39398.11  & 49808.12  & 100       & 1         & 0.50      & 0.25     \\\\\n",
       "\t SIRV103   & SIRV103   & 1357      & 1238.37   &     65.00 &    23.56  &    29.78  & 100       & 1         & 1.00      & 1.00     \\\\\n",
       "\t SIRV105   & SIRV105   &  665      &  546.37   &   8875.57 &  7290.07  &  9216.30  & 100       & 1         & 0.25      & 4.00     \\\\\n",
       "\t SIRV106   & SIRV106   &  970      &  851.37   &  58990.76 & 31094.78  & 39310.83  & 100       & 1         & 1.00      & 1.00     \\\\\n",
       "\t SIRV107   & SIRV107   &  741      &  622.37   &  24567.04 & 17714.40  & 22395.01  & 100       & 1         & 0.25      & 4.00     \\\\\n",
       "\\end{tabular}\n"
      ],
      "text/markdown": [
       "\n",
       "transcript_id | gene_id | length | effective_length | expected_count | TPM | FPKM | IsoPct | sirv_e0 | sirv_e1 | sirv_e2 | \n",
       "|---|---|---|---|---|---|\n",
       "| SIRV101   | SIRV101   | 1555      | 1436.37   |  54779.23 | 17114.77  | 21636.93  | 100       | 1         | 1.00      | 1.00      | \n",
       "| SIRV102   | SIRV102   | 1296      | 1177.37   | 103363.41 | 39398.11  | 49808.12  | 100       | 1         | 0.50      | 0.25      | \n",
       "| SIRV103   | SIRV103   | 1357      | 1238.37   |     65.00 |    23.56  |    29.78  | 100       | 1         | 1.00      | 1.00      | \n",
       "| SIRV105   | SIRV105   |  665      |  546.37   |   8875.57 |  7290.07  |  9216.30  | 100       | 1         | 0.25      | 4.00      | \n",
       "| SIRV106   | SIRV106   |  970      |  851.37   |  58990.76 | 31094.78  | 39310.83  | 100       | 1         | 1.00      | 1.00      | \n",
       "| SIRV107   | SIRV107   |  741      |  622.37   |  24567.04 | 17714.40  | 22395.01  | 100       | 1         | 0.25      | 4.00      | \n",
       "\n",
       "\n"
      ],
      "text/plain": [
       "  transcript_id gene_id length effective_length expected_count TPM     \n",
       "1 SIRV101       SIRV101 1555   1436.37           54779.23      17114.77\n",
       "2 SIRV102       SIRV102 1296   1177.37          103363.41      39398.11\n",
       "3 SIRV103       SIRV103 1357   1238.37              65.00         23.56\n",
       "4 SIRV105       SIRV105  665    546.37            8875.57       7290.07\n",
       "5 SIRV106       SIRV106  970    851.37           58990.76      31094.78\n",
       "6 SIRV107       SIRV107  741    622.37           24567.04      17714.40\n",
       "  FPKM     IsoPct sirv_e0 sirv_e1 sirv_e2\n",
       "1 21636.93 100    1       1.00    1.00   \n",
       "2 49808.12 100    1       0.50    0.25   \n",
       "3    29.78 100    1       1.00    1.00   \n",
       "4  9216.30 100    1       0.25    4.00   \n",
       "5 39310.83 100    1       1.00    1.00   \n",
       "6 22395.01 100    1       0.25    4.00   "
      ]
     },
     "metadata": {},
     "output_type": "display_data"
    },
    {
     "data": {
      "image/png": "[encoded data removed]",
      "text/plain": [
       "plot without title"
      ]
     },
     "metadata": {},
     "output_type": "display_data"
    }
   ],
   "source": [
    "setwd('~/bme/jupyter_data')\n",
    "sirv_info = read.csv('SIRV-sequence-design-overview-v1.2.csv', skip=6, fill=T, stringsAsFactors=FALSE)\n",
    "sirv_info = sirv_info[substr(sirv_info[,6], 1, 4) == 'SIRV',]\n",
    "rquant = read.table('rsem_out_short.isoforms.results', header=T)\n",
    "rquant$transcript_id = as.character(rquant$transcript_id)\n",
    "sirv_info[,6] = as.character(sirv_info[,6])\n",
    "rquant$sirv_e0 = sirv_info$E0[match(rquant$transcript_id, sirv_info[,6])]\n",
    "rquant$sirv_e1 = sirv_info$E1[match(rquant$transcript_id, sirv_info[,6])]\n",
    "rquant$sirv_e2 = sirv_info$E2[match(rquant$transcript_id, sirv_info[,6])]\n",
    "\n",
    "\n",
    "rquant$sirv_e0 = rep(1, nrow(rquant))  # this data comes from an excel file that is poorly made for reading into R\n",
    "rquant$sirv_e1[as.character(rquant$sirv_e1) == ' 1/4'] = 0.25\n",
    "rquant$sirv_e1[as.character(rquant$sirv_e1) == ' 1/2'] = 0.5\n",
    "rquant$sirv_e1[as.character(rquant$sirv_e1) == '2'] = 2\n",
    "rquant$sirv_e1[as.character(rquant$sirv_e1) == '1'] = 1\n",
    "\n",
    "head(rquant)\n",
    "\n",
    "rquant$sirv_e2[as.character(rquant$sirv_e2) == '  1/32'] = 1/32\n",
    "rquant$sirv_e2[as.character(rquant$sirv_e2) == '  1/4 '] = 0.25\n",
    "rquant$sirv_e2[as.character(rquant$sirv_e2) == '  1/2 '] = 0.5\n",
    "rquant$sirv_e2[as.character(rquant$sirv_e2) == '1'] = 1\n",
    "rquant$sirv_e2[as.character(rquant$sirv_e2) == '2'] = 2\n",
    "rquant$sirv_e2[as.character(rquant$sirv_e2) == '4'] = 4\n",
    "rquant[rquant$transcript_id == 'SIRV502',9:11] = c(1,2,1/32)\n",
    "\n",
    "rquant$sirv_e0 = as.numeric(rquant$sirv_e0)\n",
    "rquant$sirv_e1 = as.numeric(rquant$sirv_e1)\n",
    "rquant$sirv_e2 = as.numeric(rquant$sirv_e2)\n",
    "\n",
    "cor(rquant$expected_count, rquant$sirv_e0)\n",
    "cor(rquant$expected_count, rquant$sirv_e1)\n",
    "cor(rquant$expected_count, rquant$sirv_e2)\n",
    "cor(rquant$TPM, rquant$sirv_e2)\n",
    "head(rquant)\n",
    "plot(log2(rquant$TPM), rquant$sirv_e2, xlab='log2(RSEM TPM)', ylab='SIRV Concentration')"
   ]
  },
  {
   "cell_type": "markdown",
   "metadata": {},
   "source": [
    "Just counts from the BWA SAM file, no RSEM."
   ]
  },
  {
   "cell_type": "code",
   "execution_count": 15,
   "metadata": {
    "collapsed": false
   },
   "outputs": [
    {
     "data": {
      "text/html": [
       "<table>\n",
       "<thead><tr><th scope=col>gene</th><th scope=col>transcript_type</th><th scope=col>sirv</th><th scope=col>transcript_id</th><th scope=col>expected_count</th><th scope=col>sirv_e0</th><th scope=col>sirv_e1</th><th scope=col>sirv_e2</th></tr></thead>\n",
       "<tbody>\n",
       "\t<tr><td>SIRV410</td><td>3020   </td><td>NA     </td><td>SIRV410</td><td>3020   </td><td>1      </td><td>0.25   </td><td>4      </td></tr>\n",
       "\t<tr><td>SIRV618</td><td>   3   </td><td>NA     </td><td>SIRV618</td><td>   3   </td><td>1      </td><td>2      </td><td>  1/32 </td></tr>\n",
       "\t<tr><td>SIRV408</td><td>  10   </td><td>NA     </td><td>SIRV408</td><td>  10   </td><td>1      </td><td>2      </td><td>  1/32 </td></tr>\n",
       "\t<tr><td>SIRV511</td><td>  75   </td><td>NA     </td><td>SIRV511</td><td>  75   </td><td>1      </td><td>2      </td><td>  1/32 </td></tr>\n",
       "\t<tr><td>SIRV510</td><td>  82   </td><td>NA     </td><td>SIRV510</td><td>  82   </td><td>1      </td><td>2      </td><td>  1/32 </td></tr>\n",
       "\t<tr><td>SIRV512</td><td>   7   </td><td>NA     </td><td>SIRV512</td><td>   7   </td><td>1      </td><td>0.5    </td><td>  1/4  </td></tr>\n",
       "</tbody>\n",
       "</table>\n"
      ],
      "text/latex": [
       "\\begin{tabular}{r|llllllll}\n",
       " gene & transcript\\_type & sirv & transcript\\_id & expected\\_count & sirv\\_e0 & sirv\\_e1 & sirv\\_e2\\\\\n",
       "\\hline\n",
       "\t SIRV410 & 3020    & NA      & SIRV410 & 3020    & 1       & 0.25    & 4      \\\\\n",
       "\t SIRV618 &    3    & NA      & SIRV618 &    3    & 1       & 2       &   1/32 \\\\\n",
       "\t SIRV408 &   10    & NA      & SIRV408 &   10    & 1       & 2       &   1/32 \\\\\n",
       "\t SIRV511 &   75    & NA      & SIRV511 &   75    & 1       & 2       &   1/32 \\\\\n",
       "\t SIRV510 &   82    & NA      & SIRV510 &   82    & 1       & 2       &   1/32 \\\\\n",
       "\t SIRV512 &    7    & NA      & SIRV512 &    7    & 1       & 0.5     &   1/4  \\\\\n",
       "\\end{tabular}\n"
      ],
      "text/markdown": [
       "\n",
       "gene | transcript_type | sirv | transcript_id | expected_count | sirv_e0 | sirv_e1 | sirv_e2 | \n",
       "|---|---|---|---|---|---|\n",
       "| SIRV410 | 3020    | NA      | SIRV410 | 3020    | 1       | 0.25    | 4       | \n",
       "| SIRV618 |    3    | NA      | SIRV618 |    3    | 1       | 2       |   1/32  | \n",
       "| SIRV408 |   10    | NA      | SIRV408 |   10    | 1       | 2       |   1/32  | \n",
       "| SIRV511 |   75    | NA      | SIRV511 |   75    | 1       | 2       |   1/32  | \n",
       "| SIRV510 |   82    | NA      | SIRV510 |   82    | 1       | 2       |   1/32  | \n",
       "| SIRV512 |    7    | NA      | SIRV512 |    7    | 1       | 0.5     |   1/4   | \n",
       "\n",
       "\n"
      ],
      "text/plain": [
       "  gene    transcript_type sirv transcript_id expected_count sirv_e0 sirv_e1\n",
       "1 SIRV410 3020            NA   SIRV410       3020           1       0.25   \n",
       "2 SIRV618    3            NA   SIRV618          3           1       2      \n",
       "3 SIRV408   10            NA   SIRV408         10           1       2      \n",
       "4 SIRV511   75            NA   SIRV511         75           1       2      \n",
       "5 SIRV510   82            NA   SIRV510         82           1       2      \n",
       "6 SIRV512    7            NA   SIRV512          7           1       0.5    \n",
       "  sirv_e2\n",
       "1 4      \n",
       "2   1/32 \n",
       "3   1/32 \n",
       "4   1/32 \n",
       "5   1/32 \n",
       "6   1/4  "
      ]
     },
     "metadata": {},
     "output_type": "display_data"
    },
    {
     "name": "stderr",
     "output_type": "stream",
     "text": [
      "Warning message in cor(rquant$expected_count, rquant$sirv_e0):\n",
      "\"the standard deviation is zero\""
     ]
    },
    {
     "data": {
      "text/html": [
       "&lt;NA&gt;"
      ],
      "text/latex": [
       "<NA>"
      ],
      "text/markdown": [
       "&lt;NA&gt;"
      ],
      "text/plain": [
       "[1] NA"
      ]
     },
     "metadata": {},
     "output_type": "display_data"
    },
    {
     "data": {
      "text/html": [
       "-0.392110031943622"
      ],
      "text/latex": [
       "-0.392110031943622"
      ],
      "text/markdown": [
       "-0.392110031943622"
      ],
      "text/plain": [
       "[1] -0.39211"
      ]
     },
     "metadata": {},
     "output_type": "display_data"
    },
    {
     "data": {
      "text/html": [
       "0.724897247040383"
      ],
      "text/latex": [
       "0.724897247040383"
      ],
      "text/markdown": [
       "0.724897247040383"
      ],
      "text/plain": [
       "[1] 0.7248972"
      ]
     },
     "metadata": {},
     "output_type": "display_data"
    },
    {
     "data": {
      "text/html": [
       "<table>\n",
       "<thead><tr><th scope=col>gene</th><th scope=col>transcript_type</th><th scope=col>sirv</th><th scope=col>transcript_id</th><th scope=col>expected_count</th><th scope=col>sirv_e0</th><th scope=col>sirv_e1</th><th scope=col>sirv_e2</th></tr></thead>\n",
       "<tbody>\n",
       "\t<tr><td>SIRV410</td><td>3020   </td><td>NA     </td><td>SIRV410</td><td>3020   </td><td>1      </td><td>0.25   </td><td>4.00000</td></tr>\n",
       "\t<tr><td>SIRV618</td><td>   3   </td><td>NA     </td><td>SIRV618</td><td>   3   </td><td>1      </td><td>2.00   </td><td>0.03125</td></tr>\n",
       "\t<tr><td>SIRV408</td><td>  10   </td><td>NA     </td><td>SIRV408</td><td>  10   </td><td>1      </td><td>2.00   </td><td>0.03125</td></tr>\n",
       "\t<tr><td>SIRV511</td><td>  75   </td><td>NA     </td><td>SIRV511</td><td>  75   </td><td>1      </td><td>2.00   </td><td>0.03125</td></tr>\n",
       "\t<tr><td>SIRV510</td><td>  82   </td><td>NA     </td><td>SIRV510</td><td>  82   </td><td>1      </td><td>2.00   </td><td>0.03125</td></tr>\n",
       "\t<tr><td>SIRV512</td><td>   7   </td><td>NA     </td><td>SIRV512</td><td>   7   </td><td>1      </td><td>0.50   </td><td>0.25000</td></tr>\n",
       "</tbody>\n",
       "</table>\n"
      ],
      "text/latex": [
       "\\begin{tabular}{r|llllllll}\n",
       " gene & transcript\\_type & sirv & transcript\\_id & expected\\_count & sirv\\_e0 & sirv\\_e1 & sirv\\_e2\\\\\n",
       "\\hline\n",
       "\t SIRV410 & 3020    & NA      & SIRV410 & 3020    & 1       & 0.25    & 4.00000\\\\\n",
       "\t SIRV618 &    3    & NA      & SIRV618 &    3    & 1       & 2.00    & 0.03125\\\\\n",
       "\t SIRV408 &   10    & NA      & SIRV408 &   10    & 1       & 2.00    & 0.03125\\\\\n",
       "\t SIRV511 &   75    & NA      & SIRV511 &   75    & 1       & 2.00    & 0.03125\\\\\n",
       "\t SIRV510 &   82    & NA      & SIRV510 &   82    & 1       & 2.00    & 0.03125\\\\\n",
       "\t SIRV512 &    7    & NA      & SIRV512 &    7    & 1       & 0.50    & 0.25000\\\\\n",
       "\\end{tabular}\n"
      ],
      "text/markdown": [
       "\n",
       "gene | transcript_type | sirv | transcript_id | expected_count | sirv_e0 | sirv_e1 | sirv_e2 | \n",
       "|---|---|---|---|---|---|\n",
       "| SIRV410 | 3020    | NA      | SIRV410 | 3020    | 1       | 0.25    | 4.00000 | \n",
       "| SIRV618 |    3    | NA      | SIRV618 |    3    | 1       | 2.00    | 0.03125 | \n",
       "| SIRV408 |   10    | NA      | SIRV408 |   10    | 1       | 2.00    | 0.03125 | \n",
       "| SIRV511 |   75    | NA      | SIRV511 |   75    | 1       | 2.00    | 0.03125 | \n",
       "| SIRV510 |   82    | NA      | SIRV510 |   82    | 1       | 2.00    | 0.03125 | \n",
       "| SIRV512 |    7    | NA      | SIRV512 |    7    | 1       | 0.50    | 0.25000 | \n",
       "\n",
       "\n"
      ],
      "text/plain": [
       "  gene    transcript_type sirv transcript_id expected_count sirv_e0 sirv_e1\n",
       "1 SIRV410 3020            NA   SIRV410       3020           1       0.25   \n",
       "2 SIRV618    3            NA   SIRV618          3           1       2.00   \n",
       "3 SIRV408   10            NA   SIRV408         10           1       2.00   \n",
       "4 SIRV511   75            NA   SIRV511         75           1       2.00   \n",
       "5 SIRV510   82            NA   SIRV510         82           1       2.00   \n",
       "6 SIRV512    7            NA   SIRV512          7           1       0.50   \n",
       "  sirv_e2\n",
       "1 4.00000\n",
       "2 0.03125\n",
       "3 0.03125\n",
       "4 0.03125\n",
       "5 0.03125\n",
       "6 0.25000"
      ]
     },
     "metadata": {},
     "output_type": "display_data"
    },
    {
     "data": {
      "image/png": "[encoded data removed]",
      "text/plain": [
       "plot without title"
      ]
     },
     "metadata": {},
     "output_type": "display_data"
    }
   ],
   "source": [
    "setwd('~/bme/jupyter_data')\n",
    "sirv_info = read.csv('SIRV-sequence-design-overview-v1.2.csv', skip=6, fill=T, stringsAsFactors=FALSE)\n",
    "sirv_info = sirv_info[substr(sirv_info[,6], 1, 4) == 'SIRV',]\n",
    "rquant = read.table('bwa_sirv_pass.counts', header=T, fill=T)\n",
    "rquant$transcript_id = as.character(rquant[,1])\n",
    "rquant$expected_count = as.numeric(rquant[,2])\n",
    "sirv_info[,6] = as.character(sirv_info[,6])\n",
    "rquant$sirv_e0 = sirv_info$E0[match(rquant$transcript_id, sirv_info[,6])]\n",
    "rquant$sirv_e1 = sirv_info$E1[match(rquant$transcript_id, sirv_info[,6])]\n",
    "rquant$sirv_e2 = sirv_info$E2[match(rquant$transcript_id, sirv_info[,6])]\n",
    "\n",
    "\n",
    "rquant$sirv_e0 = rep(1, nrow(rquant))  # this data comes from an excel file that is poorly made for reading into R\n",
    "rquant$sirv_e1[as.character(rquant$sirv_e1) == ' 1/4'] = 0.25\n",
    "rquant$sirv_e1[as.character(rquant$sirv_e1) == ' 1/2'] = 0.5\n",
    "rquant$sirv_e1[as.character(rquant$sirv_e1) == '2'] = 2\n",
    "rquant$sirv_e1[as.character(rquant$sirv_e1) == '1'] = 1\n",
    "\n",
    "head(rquant)\n",
    "\n",
    "rquant$sirv_e2[as.character(rquant$sirv_e2) == '  1/32'] = 1/32\n",
    "rquant$sirv_e2[as.character(rquant$sirv_e2) == '  1/4 '] = 0.25\n",
    "rquant$sirv_e2[as.character(rquant$sirv_e2) == '  1/2 '] = 0.5\n",
    "rquant$sirv_e2[as.character(rquant$sirv_e2) == '1'] = 1\n",
    "rquant$sirv_e2[as.character(rquant$sirv_e2) == '2'] = 2\n",
    "rquant$sirv_e2[as.character(rquant$sirv_e2) == '4'] = 4\n",
    "rquant[rquant$transcript_id == 'SIRV502',6:8] = c(1,2,1/32)\n",
    "\n",
    "rquant$sirv_e0 = as.numeric(rquant$sirv_e0)\n",
    "rquant$sirv_e1 = as.numeric(rquant$sirv_e1)\n",
    "rquant$sirv_e2 = as.numeric(rquant$sirv_e2)\n",
    "\n",
    "cor(rquant$expected_count, rquant$sirv_e0)\n",
    "cor(rquant$expected_count, rquant$sirv_e1)\n",
    "cor(rquant$expected_count, rquant$sirv_e2)\n",
    "# cor(rquant$TPM, rquant$sirv_e2)\n",
    "head(rquant)\n",
    "plot(log2(rquant$expected_count), rquant$sirv_e2, xlab='log2(RSEM TPM)', ylab='SIRV Concentration')\n",
    "write.table(rquant[,c(4, 5,8)], 'sirv_bwa_quantified.txt', quote=F, row.names=F, sep='\\t')\n"
   ]
  }
 ],
 "metadata": {
  "kernelspec": {
   "display_name": "R",
   "language": "R",
   "name": "ir"
  },
  "language_info": {
   "codemirror_mode": "r",
   "file_extension": ".r",
   "mimetype": "text/x-r-source",
   "name": "R",
   "pygments_lexer": "r",
   "version": "3.2.3"
  }
 },
 "nbformat": 4,
 "nbformat_minor": 2
}
