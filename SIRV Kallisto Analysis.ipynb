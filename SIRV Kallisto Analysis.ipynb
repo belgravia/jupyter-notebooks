{
 "cells": [
  {
   "cell_type": "code",
   "execution_count": 87,
   "metadata": {
    "collapsed": false
   },
   "outputs": [
    {
     "name": "stderr",
     "output_type": "stream",
     "text": [
      "Warning message in cor(kquant$est_counts, kquant$sirv_e0):\n",
      "\"the standard deviation is zero\""
     ]
    },
    {
     "data": {
      "text/html": [
       "&lt;NA&gt;"
      ],
      "text/latex": [
       "<NA>"
      ],
      "text/markdown": [
       "&lt;NA&gt;"
      ],
      "text/plain": [
       "[1] NA"
      ]
     },
     "metadata": {},
     "output_type": "display_data"
    },
    {
     "data": {
      "text/html": [
       "-0.180004506564195"
      ],
      "text/latex": [
       "-0.180004506564195"
      ],
      "text/markdown": [
       "-0.180004506564195"
      ],
      "text/plain": [
       "[1] -0.1800045"
      ]
     },
     "metadata": {},
     "output_type": "display_data"
    },
    {
     "data": {
      "text/html": [
       "0.300915990949143"
      ],
      "text/latex": [
       "0.300915990949143"
      ],
      "text/markdown": [
       "0.300915990949143"
      ],
      "text/plain": [
       "[1] 0.300916"
      ]
     },
     "metadata": {},
     "output_type": "display_data"
    },
    {
     "data": {
      "text/html": [
       "<table>\n",
       "<thead><tr><th scope=col>target_id</th><th scope=col>length</th><th scope=col>eff_length</th><th scope=col>est_counts</th><th scope=col>tpm</th><th scope=col>sirv_e0</th><th scope=col>sirv_e1</th><th scope=col>sirv_e2</th></tr></thead>\n",
       "<tbody>\n",
       "\t<tr><td>SIRV101   </td><td>1555      </td><td>966.489   </td><td>1462.00000</td><td>171310.000</td><td>1         </td><td>1.00      </td><td>1.00      </td></tr>\n",
       "\t<tr><td>SIRV102   </td><td>1296      </td><td>707.489   </td><td> 217.11400</td><td> 34753.600</td><td>1         </td><td>0.50      </td><td>0.25      </td></tr>\n",
       "\t<tr><td>SIRV103   </td><td>1357      </td><td>768.489   </td><td> 344.66500</td><td> 50791.500</td><td>1         </td><td>1.00      </td><td>1.00      </td></tr>\n",
       "\t<tr><td>SIRV105   </td><td> 665      </td><td>280.282   </td><td>   1.02438</td><td>   413.903</td><td>1         </td><td>0.25      </td><td>4.00      </td></tr>\n",
       "\t<tr><td>SIRV106   </td><td> 970      </td><td>398.740   </td><td>   0.00000</td><td>     0.000</td><td>1         </td><td>1.00      </td><td>1.00      </td></tr>\n",
       "\t<tr><td>SIRV107   </td><td> 741      </td><td>309.267   </td><td>  25.19360</td><td>  9225.460</td><td>1         </td><td>0.25      </td><td>4.00      </td></tr>\n",
       "</tbody>\n",
       "</table>\n"
      ],
      "text/latex": [
       "\\begin{tabular}{r|llllllll}\n",
       " target\\_id & length & eff\\_length & est\\_counts & tpm & sirv\\_e0 & sirv\\_e1 & sirv\\_e2\\\\\n",
       "\\hline\n",
       "\t SIRV101    & 1555       & 966.489    & 1462.00000 & 171310.000 & 1          & 1.00       & 1.00      \\\\\n",
       "\t SIRV102    & 1296       & 707.489    &  217.11400 &  34753.600 & 1          & 0.50       & 0.25      \\\\\n",
       "\t SIRV103    & 1357       & 768.489    &  344.66500 &  50791.500 & 1          & 1.00       & 1.00      \\\\\n",
       "\t SIRV105    &  665       & 280.282    &    1.02438 &    413.903 & 1          & 0.25       & 4.00      \\\\\n",
       "\t SIRV106    &  970       & 398.740    &    0.00000 &      0.000 & 1          & 1.00       & 1.00      \\\\\n",
       "\t SIRV107    &  741       & 309.267    &   25.19360 &   9225.460 & 1          & 0.25       & 4.00      \\\\\n",
       "\\end{tabular}\n"
      ],
      "text/markdown": [
       "\n",
       "target_id | length | eff_length | est_counts | tpm | sirv_e0 | sirv_e1 | sirv_e2 | \n",
       "|---|---|---|---|---|---|\n",
       "| SIRV101    | 1555       | 966.489    | 1462.00000 | 171310.000 | 1          | 1.00       | 1.00       | \n",
       "| SIRV102    | 1296       | 707.489    |  217.11400 |  34753.600 | 1          | 0.50       | 0.25       | \n",
       "| SIRV103    | 1357       | 768.489    |  344.66500 |  50791.500 | 1          | 1.00       | 1.00       | \n",
       "| SIRV105    |  665       | 280.282    |    1.02438 |    413.903 | 1          | 0.25       | 4.00       | \n",
       "| SIRV106    |  970       | 398.740    |    0.00000 |      0.000 | 1          | 1.00       | 1.00       | \n",
       "| SIRV107    |  741       | 309.267    |   25.19360 |   9225.460 | 1          | 0.25       | 4.00       | \n",
       "\n",
       "\n"
      ],
      "text/plain": [
       "  target_id length eff_length est_counts tpm        sirv_e0 sirv_e1 sirv_e2\n",
       "1 SIRV101   1555   966.489    1462.00000 171310.000 1       1.00    1.00   \n",
       "2 SIRV102   1296   707.489     217.11400  34753.600 1       0.50    0.25   \n",
       "3 SIRV103   1357   768.489     344.66500  50791.500 1       1.00    1.00   \n",
       "4 SIRV105    665   280.282       1.02438    413.903 1       0.25    4.00   \n",
       "5 SIRV106    970   398.740       0.00000      0.000 1       1.00    1.00   \n",
       "6 SIRV107    741   309.267      25.19360   9225.460 1       0.25    4.00   "
      ]
     },
     "metadata": {},
     "output_type": "display_data"
    }
   ],
   "source": [
    "setwd('~/bme')\n",
    "sirv_info = read.csv('SIRV-sequence-design-overview-v1.2.csv', skip=6, fill=T, stringsAsFactors=FALSE)\n",
    "sirv_info = sirv_info[substr(sirv_info[,6], 1, 4) == 'SIRV',]\n",
    "kquant = read.table('abundance.tsv', header=T)\n",
    "kquant$target_id = as.character(kquant$target_id)\n",
    "sirv_info[,6] = as.character(sirv_info[,6])\n",
    "kquant$sirv_e0 = sirv_info$E0[match(kquant$target_id, sirv_info[,6])]\n",
    "kquant$sirv_e1 = sirv_info$E1[match(kquant$target_id, sirv_info[,6])]\n",
    "kquant$sirv_e2 = sirv_info$E2[match(kquant$target_id, sirv_info[,6])]\n",
    "\n",
    "kquant$sirv_e0 = rep(1, nrow(kquant))  # this data comes from an excel file that is poorly made for reading into R\n",
    "kquant$sirv_e1[as.character(kquant$sirv_e1) == ' 1/4'] = 0.25\n",
    "kquant$sirv_e1[as.character(kquant$sirv_e1) == ' 1/2'] = 0.5\n",
    "kquant$sirv_e1[as.character(kquant$sirv_e1) == '2'] = 2\n",
    "kquant$sirv_e1[as.character(kquant$sirv_e1) == '1'] = 1\n",
    "\n",
    "kquant$sirv_e2[as.character(kquant$sirv_e2) == '  1/32'] = 1/32\n",
    "kquant$sirv_e2[as.character(kquant$sirv_e2) == '  1/4 '] = 0.25\n",
    "kquant$sirv_e2[as.character(kquant$sirv_e2) == '  1/2 '] = 0.5\n",
    "kquant$sirv_e2[as.character(kquant$sirv_e2) == '1'] = 1\n",
    "kquant$sirv_e2[as.character(kquant$sirv_e2) == '2'] = 2\n",
    "kquant$sirv_e2[as.character(kquant$sirv_e2) == '4'] = 4\n",
    "kquant[kquant$target_id == 'SIRV502',6:8] = c(1,2,1/32)\n",
    "\n",
    "kquant$sirv_e0 = as.numeric(kquant$sirv_e0)\n",
    "kquant$sirv_e1 = as.numeric(kquant$sirv_e1)\n",
    "kquant$sirv_e2 = as.numeric(kquant$sirv_e2)\n",
    "\n",
    "cor(kquant$est_counts, kquant$sirv_e0)\n",
    "cor(kquant$est_counts, kquant$sirv_e1)\n",
    "cor(kquant$est_counts, kquant$sirv_e2)\n",
    "head(kquant)"
   ]
  },
  {
   "cell_type": "code",
   "execution_count": 88,
   "metadata": {
    "collapsed": false
   },
   "outputs": [
    {
     "data": {
      "text/html": [
       "1383.26935071682"
      ],
      "text/latex": [
       "1383.26935071682"
      ],
      "text/markdown": [
       "1383.26935071682"
      ],
      "text/plain": [
       "[1] 1383.269"
      ]
     },
     "metadata": {},
     "output_type": "display_data"
    },
    {
     "data": {
      "text/html": [
       "1098.75362318841"
      ],
      "text/latex": [
       "1098.75362318841"
      ],
      "text/markdown": [
       "1098.75362318841"
      ],
      "text/plain": [
       "[1] 1098.754"
      ]
     },
     "metadata": {},
     "output_type": "display_data"
    },
    {
     "data": {
      "text/html": [
       "712.987963057316"
      ],
      "text/latex": [
       "712.987963057316"
      ],
      "text/markdown": [
       "712.987963057316"
      ],
      "text/plain": [
       "[1] 712.988"
      ]
     },
     "metadata": {},
     "output_type": "display_data"
    }
   ],
   "source": [
    "# plot(kquant$tpm, kquant$sirv_e2)\n",
    "# head(sirv_info)\n",
    "mean(as.numeric(sirv_info[,7]))\n",
    "mean(kquant$length)\n",
    "sd(kquant$length)"
   ]
  }
 ],
 "metadata": {
  "kernelspec": {
   "display_name": "R",
   "language": "R",
   "name": "ir"
  },
  "language_info": {
   "codemirror_mode": "r",
   "file_extension": ".r",
   "mimetype": "text/x-r-source",
   "name": "R",
   "pygments_lexer": "r",
   "version": "3.2.3"
  }
 },
 "nbformat": 4,
 "nbformat_minor": 2
}
