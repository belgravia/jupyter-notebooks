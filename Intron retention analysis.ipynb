{
 "cells": [
  {
   "cell_type": "code",
   "execution_count": 9,
   "metadata": {
    "collapsed": false
   },
   "outputs": [
    {
     "name": "stderr",
     "output_type": "stream",
     "text": [
      "Bioconductor version 3.2 (BiocInstaller 1.20.3), ?biocLite for help\n",
      "A new version of Bioconductor is available after installing the most recent\n",
      "  version of R; see http://bioconductor.org/install\n",
      "BioC_mirror: https://bioconductor.org\n",
      "Using Bioconductor 3.2 (BiocInstaller 1.20.3), R 3.2.3 (2015-12-10).\n",
      "Installing package(s) 'goseq'\n"
     ]
    },
    {
     "name": "stdout",
     "output_type": "stream",
     "text": [
      "package 'goseq' successfully unpacked and MD5 sums checked\n",
      "\n",
      "The downloaded binary packages are in\n",
      "\tC:\\Users\\Ali\\AppData\\Local\\Temp\\RtmpoF3iLN\\downloaded_packages\n"
     ]
    },
    {
     "name": "stderr",
     "output_type": "stream",
     "text": [
      "Old packages: 'acepack', 'apcluster', 'ape', 'colorspace', 'crayon', 'curl',\n",
      "  'DBI', 'devtools', 'doParallel', 'evaluate', 'Formula', 'futile.logger',\n",
      "  'ggplot2', 'git2r', 'gridExtra', 'Hmisc', 'htmltools', 'htmlwidgets', 'httr',\n",
      "  'igraph', 'irlba', 'jsonlite', 'lambda.r', 'memoise', 'NLP', 'openssl',\n",
      "  'pbdZMQ', 'plyr', 'R6', 'Rcpp', 'RcppArmadillo', 'reshape2', 'rJava',\n",
      "  'RSQLite', 'rstudioapi', 'scales', 'snow', 'statmod', 'statnet.common',\n",
      "  'stringi', 'stringr', 'visNetwork', 'withr', 'wordnet', 'XML', 'boot',\n",
      "  'cluster', 'codetools', 'foreign', 'lattice', 'MASS', 'Matrix', 'mgcv',\n",
      "  'nlme', 'nnet', 'rpart', 'survival'\n",
      "BioC_mirror: https://bioconductor.org\n",
      "Using Bioconductor 3.2 (BiocInstaller 1.20.3), R 3.2.3 (2015-12-10).\n",
      "Installing package(s) 'edgeR'\n",
      "also installing the dependency 'limma'\n",
      "\n"
     ]
    },
    {
     "name": "stdout",
     "output_type": "stream",
     "text": [
      "package 'limma' successfully unpacked and MD5 sums checked\n",
      "package 'edgeR' successfully unpacked and MD5 sums checked\n",
      "\n",
      "The downloaded binary packages are in\n",
      "\tC:\\Users\\Ali\\AppData\\Local\\Temp\\RtmpoF3iLN\\downloaded_packages\n"
     ]
    },
    {
     "name": "stderr",
     "output_type": "stream",
     "text": [
      "Old packages: 'acepack', 'apcluster', 'ape', 'colorspace', 'crayon', 'curl',\n",
      "  'DBI', 'devtools', 'doParallel', 'evaluate', 'Formula', 'futile.logger',\n",
      "  'ggplot2', 'git2r', 'gridExtra', 'Hmisc', 'htmltools', 'htmlwidgets', 'httr',\n",
      "  'igraph', 'irlba', 'jsonlite', 'lambda.r', 'memoise', 'NLP', 'openssl',\n",
      "  'pbdZMQ', 'plyr', 'R6', 'Rcpp', 'RcppArmadillo', 'reshape2', 'rJava',\n",
      "  'RSQLite', 'rstudioapi', 'scales', 'snow', 'statmod', 'statnet.common',\n",
      "  'stringi', 'stringr', 'visNetwork', 'withr', 'wordnet', 'XML', 'boot',\n",
      "  'cluster', 'codetools', 'foreign', 'lattice', 'MASS', 'Matrix', 'mgcv',\n",
      "  'nlme', 'nnet', 'rpart', 'survival'\n"
     ]
    }
   ],
   "source": [
    "source(\"http://bioconductor.org/biocLite.R\")\n",
    "biocLite(\"goseq\")\n",
    "biocLite(\"edgeR\")\n",
    "biocLite(\"org.Hs.eg.db\")"
   ]
  },
  {
   "cell_type": "code",
   "execution_count": null,
   "metadata": {
    "collapsed": true
   },
   "outputs": [],
   "source": [
    "setwd('~/bme/jupyter_data/')\n",
    "library(goseq)"
   ]
  },
  {
   "cell_type": "markdown",
   "metadata": {},
   "source": [
    "First I look for any enriched GO terms in genes that have intron retention events. Genes are determined to have IR events according to mark_intron_retention.py, which compares all consensus isoforms for a gene and checks if any isoform has an exon that nearly completely spans another isoforms' intron. Next I look for enriched GO terms in genes that have intron retention events and are more highly expressed in the wildtype."
   ]
  },
  {
   "cell_type": "code",
   "execution_count": 16,
   "metadata": {
    "collapsed": false
   },
   "outputs": [
    {
     "data": {
      "text/html": [
       "<dl class=dl-horizontal>\n",
       "\t<dt>ENSG00000102054</dt>\n",
       "\t\t<dd>0</dd>\n",
       "\t<dt>ENSG00000124208</dt>\n",
       "\t\t<dd>0</dd>\n",
       "\t<dt>ENSG00000269899</dt>\n",
       "\t\t<dd>0</dd>\n",
       "\t<dt>ENSG00000167699</dt>\n",
       "\t\t<dd>0</dd>\n",
       "\t<dt>ENSG00000274888</dt>\n",
       "\t\t<dd>0</dd>\n",
       "\t<dt>ENSG00000106554</dt>\n",
       "\t\t<dd>0</dd>\n",
       "</dl>\n"
      ],
      "text/latex": [
       "\\begin{description*}\n",
       "\\item[ENSG00000102054] 0\n",
       "\\item[ENSG00000124208] 0\n",
       "\\item[ENSG00000269899] 0\n",
       "\\item[ENSG00000167699] 0\n",
       "\\item[ENSG00000274888] 0\n",
       "\\item[ENSG00000106554] 0\n",
       "\\end{description*}\n"
      ],
      "text/markdown": [
       "ENSG00000102054\n",
       ":   0ENSG00000124208\n",
       ":   0ENSG00000269899\n",
       ":   0ENSG00000167699\n",
       ":   0ENSG00000274888\n",
       ":   0ENSG00000106554\n",
       ":   0\n",
       "\n"
      ],
      "text/plain": [
       "ENSG00000102054 ENSG00000124208 ENSG00000269899 ENSG00000167699 ENSG00000274888 \n",
       "              0               0               0               0               0 \n",
       "ENSG00000106554 \n",
       "              0 "
      ]
     },
     "metadata": {},
     "output_type": "display_data"
    },
    {
     "name": "stderr",
     "output_type": "stream",
     "text": [
      "Loading hg19 length data...\n",
      "Fetching GO annotations...\n",
      "Loading required package: AnnotationDbi\n",
      "Loading required package: stats4\n",
      "Loading required package: BiocGenerics\n",
      "Loading required package: parallel\n",
      "\n",
      "Attaching package: 'BiocGenerics'\n",
      "\n",
      "The following objects are masked from 'package:parallel':\n",
      "\n",
      "    clusterApply, clusterApplyLB, clusterCall, clusterEvalQ,\n",
      "    clusterExport, clusterMap, parApply, parCapply, parLapply,\n",
      "    parLapplyLB, parRapply, parSapply, parSapplyLB\n",
      "\n",
      "The following objects are masked from 'package:stats':\n",
      "\n",
      "    IQR, mad, xtabs\n",
      "\n",
      "The following objects are masked from 'package:base':\n",
      "\n",
      "    anyDuplicated, append, as.data.frame, as.vector, cbind, colnames,\n",
      "    do.call, duplicated, eval, evalq, Filter, Find, get, grep, grepl,\n",
      "    intersect, is.unsorted, lapply, lengths, Map, mapply, match, mget,\n",
      "    order, paste, pmax, pmax.int, pmin, pmin.int, Position, rank,\n",
      "    rbind, Reduce, rownames, sapply, setdiff, sort, table, tapply,\n",
      "    union, unique, unlist, unsplit\n",
      "\n",
      "Loading required package: Biobase\n",
      "Welcome to Bioconductor\n",
      "\n",
      "    Vignettes contain introductory material; view with\n",
      "    'browseVignettes()'. To cite Bioconductor, see\n",
      "    'citation(\"Biobase\")', and for packages 'citation(\"pkgname\")'.\n",
      "\n",
      "Loading required package: IRanges\n",
      "Loading required package: S4Vectors\n",
      "\n",
      "For 1304 genes, we could not find any categories. These genes will be excluded.\n",
      "To force their use, please run with use_genes_without_cat=TRUE (see documentation).\n",
      "This was the default behavior for version 1.15.1 and earlier.\n",
      "Calculating the p-values...\n",
      "'select()' returned 1:1 mapping between keys and columns\n"
     ]
    },
    {
     "data": {
      "image/png": "[encoded data removed]",
      "text/plain": [
       "plot without title"
      ]
     },
     "metadata": {},
     "output_type": "display_data"
    }
   ],
   "source": [
    "info = read.table('ir_goseq_bool.txt')  # intron retetion calls present/absent per gene\n",
    "genes = info$V2\n",
    "names(genes) = info$V1\n",
    "head(genes)\n",
    "\n",
    "pwf = nullp(genes, 'hg19', 'ensGene')  # it has to fetch gene lengths to fit the probability weighting function\n",
    "res = goseq(pwf, 'hg19', 'ensGene', method='Hypergeometric')   # no length bias of long reads for genes"
   ]
  },
  {
   "cell_type": "code",
   "execution_count": 17,
   "metadata": {
    "collapsed": false
   },
   "outputs": [
    {
     "data": {
      "text/html": [
       "<table>\n",
       "<thead><tr><th></th><th scope=col>category</th><th scope=col>over_represented_pvalue</th><th scope=col>under_represented_pvalue</th><th scope=col>numDEInCat</th><th scope=col>numInCat</th><th scope=col>term</th><th scope=col>ontology</th></tr></thead>\n",
       "<tbody>\n",
       "\t<tr><th scope=row>1693</th><td>GO:0006405                                                   </td><td>9.426504e-05                                                 </td><td>0.9999832                                                    </td><td>13                                                           </td><td>26                                                           </td><td>RNA export from nucleus                                      </td><td>BP                                                           </td></tr>\n",
       "\t<tr><th scope=row>7982</th><td>GO:0051592                                                   </td><td>1.983706e-04                                                 </td><td>0.9999770                                                    </td><td> 9                                                           </td><td>15                                                           </td><td>response to calcium ion                                      </td><td>BP                                                           </td></tr>\n",
       "\t<tr><th scope=row>8922</th><td>GO:0071166                                                   </td><td>4.573343e-04                                                 </td><td>0.9999057                                                    </td><td>12                                                           </td><td>26                                                           </td><td>ribonucleoprotein complex localization                       </td><td>BP                                                           </td></tr>\n",
       "\t<tr><th scope=row>9016</th><td>GO:0071426                                                   </td><td>4.573343e-04                                                 </td><td>0.9999057                                                    </td><td>12                                                           </td><td>26                                                           </td><td>ribonucleoprotein complex export from nucleus                </td><td>BP                                                           </td></tr>\n",
       "\t<tr><th scope=row>1694</th><td>GO:0006406                                                   </td><td>5.446785e-04                                                 </td><td>0.9998956                                                    </td><td>11                                                           </td><td>23                                                           </td><td>mRNA export from nucleus                                     </td><td>BP                                                           </td></tr>\n",
       "\t<tr><th scope=row>9017</th><td>GO:0071427                                                   </td><td>5.446785e-04                                                 </td><td>0.9998956                                                    </td><td>11                                                           </td><td>23                                                           </td><td>mRNA-containing ribonucleoprotein complex export from nucleus</td><td>BP                                                           </td></tr>\n",
       "</tbody>\n",
       "</table>\n"
      ],
      "text/latex": [
       "\\begin{tabular}{r|lllllll}\n",
       "  & category & over\\_represented\\_pvalue & under\\_represented\\_pvalue & numDEInCat & numInCat & term & ontology\\\\\n",
       "\\hline\n",
       "\t1693 & GO:0006405                                                    & 9.426504e-05                                                  & 0.9999832                                                     & 13                                                            & 26                                                            & RNA export from nucleus                                       & BP                                                           \\\\\n",
       "\t7982 & GO:0051592                                                    & 1.983706e-04                                                  & 0.9999770                                                     &  9                                                            & 15                                                            & response to calcium ion                                       & BP                                                           \\\\\n",
       "\t8922 & GO:0071166                                                    & 4.573343e-04                                                  & 0.9999057                                                     & 12                                                            & 26                                                            & ribonucleoprotein complex localization                        & BP                                                           \\\\\n",
       "\t9016 & GO:0071426                                                    & 4.573343e-04                                                  & 0.9999057                                                     & 12                                                            & 26                                                            & ribonucleoprotein complex export from nucleus                 & BP                                                           \\\\\n",
       "\t1694 & GO:0006406                                                    & 5.446785e-04                                                  & 0.9998956                                                     & 11                                                            & 23                                                            & mRNA export from nucleus                                      & BP                                                           \\\\\n",
       "\t9017 & GO:0071427                                                    & 5.446785e-04                                                  & 0.9998956                                                     & 11                                                            & 23                                                            & mRNA-containing ribonucleoprotein complex export from nucleus & BP                                                           \\\\\n",
       "\\end{tabular}\n"
      ],
      "text/markdown": [
       "\n",
       "| <!--/--> | category | over_represented_pvalue | under_represented_pvalue | numDEInCat | numInCat | term | ontology | \n",
       "|---|---|---|---|---|---|\n",
       "| 1693 | GO:0006405                                                    | 9.426504e-05                                                  | 0.9999832                                                     | 13                                                            | 26                                                            | RNA export from nucleus                                       | BP                                                            | \n",
       "| 7982 | GO:0051592                                                    | 1.983706e-04                                                  | 0.9999770                                                     |  9                                                            | 15                                                            | response to calcium ion                                       | BP                                                            | \n",
       "| 8922 | GO:0071166                                                    | 4.573343e-04                                                  | 0.9999057                                                     | 12                                                            | 26                                                            | ribonucleoprotein complex localization                        | BP                                                            | \n",
       "| 9016 | GO:0071426                                                    | 4.573343e-04                                                  | 0.9999057                                                     | 12                                                            | 26                                                            | ribonucleoprotein complex export from nucleus                 | BP                                                            | \n",
       "| 1694 | GO:0006406                                                    | 5.446785e-04                                                  | 0.9998956                                                     | 11                                                            | 23                                                            | mRNA export from nucleus                                      | BP                                                            | \n",
       "| 9017 | GO:0071427                                                    | 5.446785e-04                                                  | 0.9998956                                                     | 11                                                            | 23                                                            | mRNA-containing ribonucleoprotein complex export from nucleus | BP                                                            | \n",
       "\n",
       "\n"
      ],
      "text/plain": [
       "     category   over_represented_pvalue under_represented_pvalue numDEInCat\n",
       "1693 GO:0006405 9.426504e-05            0.9999832                13        \n",
       "7982 GO:0051592 1.983706e-04            0.9999770                 9        \n",
       "8922 GO:0071166 4.573343e-04            0.9999057                12        \n",
       "9016 GO:0071426 4.573343e-04            0.9999057                12        \n",
       "1694 GO:0006406 5.446785e-04            0.9998956                11        \n",
       "9017 GO:0071427 5.446785e-04            0.9998956                11        \n",
       "     numInCat term                                                         \n",
       "1693 26       RNA export from nucleus                                      \n",
       "7982 15       response to calcium ion                                      \n",
       "8922 26       ribonucleoprotein complex localization                       \n",
       "9016 26       ribonucleoprotein complex export from nucleus                \n",
       "1694 23       mRNA export from nucleus                                     \n",
       "9017 23       mRNA-containing ribonucleoprotein complex export from nucleus\n",
       "     ontology\n",
       "1693 BP      \n",
       "7982 BP      \n",
       "8922 BP      \n",
       "9016 BP      \n",
       "1694 BP      \n",
       "9017 BP      "
      ]
     },
     "metadata": {},
     "output_type": "display_data"
    }
   ],
   "source": [
    "head(res)"
   ]
  },
  {
   "cell_type": "code",
   "execution_count": 18,
   "metadata": {
    "collapsed": false
   },
   "outputs": [
    {
     "data": {
      "text/html": [
       "<dl class=dl-horizontal>\n",
       "\t<dt>ENSG00000172349</dt>\n",
       "\t\t<dd>1</dd>\n",
       "\t<dt>ENSG00000261471</dt>\n",
       "\t\t<dd>0</dd>\n",
       "\t<dt>ENSG00000279641</dt>\n",
       "\t\t<dd>1</dd>\n",
       "\t<dt>ENSG00000252549</dt>\n",
       "\t\t<dd>1</dd>\n",
       "\t<dt>ENSG00000131051</dt>\n",
       "\t\t<dd>1</dd>\n",
       "\t<dt>ENSG00000164548</dt>\n",
       "\t\t<dd>1</dd>\n",
       "</dl>\n"
      ],
      "text/latex": [
       "\\begin{description*}\n",
       "\\item[ENSG00000172349] 1\n",
       "\\item[ENSG00000261471] 0\n",
       "\\item[ENSG00000279641] 1\n",
       "\\item[ENSG00000252549] 1\n",
       "\\item[ENSG00000131051] 1\n",
       "\\item[ENSG00000164548] 1\n",
       "\\end{description*}\n"
      ],
      "text/markdown": [
       "ENSG00000172349\n",
       ":   1ENSG00000261471\n",
       ":   0ENSG00000279641\n",
       ":   1ENSG00000252549\n",
       ":   1ENSG00000131051\n",
       ":   1ENSG00000164548\n",
       ":   1\n",
       "\n"
      ],
      "text/plain": [
       "ENSG00000172349 ENSG00000261471 ENSG00000279641 ENSG00000252549 ENSG00000131051 \n",
       "              1               0               1               1               1 \n",
       "ENSG00000164548 \n",
       "              1 "
      ]
     },
     "metadata": {},
     "output_type": "display_data"
    },
    {
     "name": "stderr",
     "output_type": "stream",
     "text": [
      "Loading hg19 length data...\n",
      "Fetching GO annotations...\n",
      "For 125 genes, we could not find any categories. These genes will be excluded.\n",
      "To force their use, please run with use_genes_without_cat=TRUE (see documentation).\n",
      "This was the default behavior for version 1.15.1 and earlier.\n",
      "Calculating the p-values...\n",
      "'select()' returned 1:1 mapping between keys and columns\n"
     ]
    },
    {
     "data": {
      "text/html": [
       "<table>\n",
       "<thead><tr><th></th><th scope=col>category</th><th scope=col>over_represented_pvalue</th><th scope=col>under_represented_pvalue</th><th scope=col>numDEInCat</th><th scope=col>numInCat</th><th scope=col>term</th><th scope=col>ontology</th></tr></thead>\n",
       "<tbody>\n",
       "\t<tr><th scope=row>2028</th><td>GO:0032482                                 </td><td>0.04196669                                 </td><td>1.0000000                                  </td><td>4                                          </td><td>4                                          </td><td>Rab protein signal transduction            </td><td>BP                                         </td></tr>\n",
       "\t<tr><th scope=row>1738</th><td>GO:0030139                                 </td><td>0.05041309                                 </td><td>0.9910881                                  </td><td>7                                          </td><td>9                                          </td><td>endocytic vesicle                          </td><td>CC                                         </td></tr>\n",
       "\t<tr><th scope=row>855</th><td>GO:0006979                                 </td><td>0.07083739                                 </td><td>0.9916662                                  </td><td>5                                          </td><td>6                                          </td><td>response to oxidative stress               </td><td>BP                                         </td></tr>\n",
       "\t<tr><th scope=row>2219</th><td>GO:0034341                                 </td><td>0.07083739                                 </td><td>0.9916662                                  </td><td>5                                          </td><td>6                                          </td><td>response to interferon-gamma               </td><td>BP                                         </td></tr>\n",
       "\t<tr><th scope=row>2837</th><td>GO:0045335                                 </td><td>0.07083739                                 </td><td>0.9916662                                  </td><td>5                                          </td><td>6                                          </td><td>phagocytic vesicle                         </td><td>CC                                         </td></tr>\n",
       "\t<tr><th scope=row>3484</th><td>GO:0060333                                 </td><td>0.07083739                                 </td><td>0.9916662                                  </td><td>5                                          </td><td>6                                          </td><td>interferon-gamma-mediated signaling pathway</td><td>BP                                         </td></tr>\n",
       "</tbody>\n",
       "</table>\n"
      ],
      "text/latex": [
       "\\begin{tabular}{r|lllllll}\n",
       "  & category & over\\_represented\\_pvalue & under\\_represented\\_pvalue & numDEInCat & numInCat & term & ontology\\\\\n",
       "\\hline\n",
       "\t2028 & GO:0032482                                  & 0.04196669                                  & 1.0000000                                   & 4                                           & 4                                           & Rab protein signal transduction             & BP                                         \\\\\n",
       "\t1738 & GO:0030139                                  & 0.05041309                                  & 0.9910881                                   & 7                                           & 9                                           & endocytic vesicle                           & CC                                         \\\\\n",
       "\t855 & GO:0006979                                  & 0.07083739                                  & 0.9916662                                   & 5                                           & 6                                           & response to oxidative stress                & BP                                         \\\\\n",
       "\t2219 & GO:0034341                                  & 0.07083739                                  & 0.9916662                                   & 5                                           & 6                                           & response to interferon-gamma                & BP                                         \\\\\n",
       "\t2837 & GO:0045335                                  & 0.07083739                                  & 0.9916662                                   & 5                                           & 6                                           & phagocytic vesicle                          & CC                                         \\\\\n",
       "\t3484 & GO:0060333                                  & 0.07083739                                  & 0.9916662                                   & 5                                           & 6                                           & interferon-gamma-mediated signaling pathway & BP                                         \\\\\n",
       "\\end{tabular}\n"
      ],
      "text/markdown": [
       "\n",
       "| <!--/--> | category | over_represented_pvalue | under_represented_pvalue | numDEInCat | numInCat | term | ontology | \n",
       "|---|---|---|---|---|---|\n",
       "| 2028 | GO:0032482                                  | 0.04196669                                  | 1.0000000                                   | 4                                           | 4                                           | Rab protein signal transduction             | BP                                          | \n",
       "| 1738 | GO:0030139                                  | 0.05041309                                  | 0.9910881                                   | 7                                           | 9                                           | endocytic vesicle                           | CC                                          | \n",
       "| 855 | GO:0006979                                  | 0.07083739                                  | 0.9916662                                   | 5                                           | 6                                           | response to oxidative stress                | BP                                          | \n",
       "| 2219 | GO:0034341                                  | 0.07083739                                  | 0.9916662                                   | 5                                           | 6                                           | response to interferon-gamma                | BP                                          | \n",
       "| 2837 | GO:0045335                                  | 0.07083739                                  | 0.9916662                                   | 5                                           | 6                                           | phagocytic vesicle                          | CC                                          | \n",
       "| 3484 | GO:0060333                                  | 0.07083739                                  | 0.9916662                                   | 5                                           | 6                                           | interferon-gamma-mediated signaling pathway | BP                                          | \n",
       "\n",
       "\n"
      ],
      "text/plain": [
       "     category   over_represented_pvalue under_represented_pvalue numDEInCat\n",
       "2028 GO:0032482 0.04196669              1.0000000                4         \n",
       "1738 GO:0030139 0.05041309              0.9910881                7         \n",
       "855  GO:0006979 0.07083739              0.9916662                5         \n",
       "2219 GO:0034341 0.07083739              0.9916662                5         \n",
       "2837 GO:0045335 0.07083739              0.9916662                5         \n",
       "3484 GO:0060333 0.07083739              0.9916662                5         \n",
       "     numInCat term                                        ontology\n",
       "2028 4        Rab protein signal transduction             BP      \n",
       "1738 9        endocytic vesicle                           CC      \n",
       "855  6        response to oxidative stress                BP      \n",
       "2219 6        response to interferon-gamma                BP      \n",
       "2837 6        phagocytic vesicle                          CC      \n",
       "3484 6        interferon-gamma-mediated signaling pathway BP      "
      ]
     },
     "metadata": {},
     "output_type": "display_data"
    },
    {
     "data": {
      "image/png": "[encoded data removed]",
      "text/plain": [
       "plot without title"
      ]
     },
     "metadata": {},
     "output_type": "display_data"
    }
   ],
   "source": [
    "info = read.table('ir_goseq_wt.txt')  # for intron retention events that are/are not more highly expressed in the wt\n",
    "\n",
    "genes = info$V2\n",
    "names(genes) = info$V1\n",
    "head(genes)\n",
    "\n",
    "pwf = nullp(genes, 'hg19', 'ensGene')  # it has to fetch gene lengths to fit the probability weighting function\n",
    "res = goseq(pwf, 'hg19', 'ensGene', method='Hypergeometric')   # no length bias of long reads for genes\n",
    "\n",
    "head(res)"
   ]
  }
 ],
 "metadata": {
  "kernelspec": {
   "display_name": "R",
   "language": "R",
   "name": "ir"
  },
  "language_info": {
   "codemirror_mode": "r",
   "file_extension": ".r",
   "mimetype": "text/x-r-source",
   "name": "R",
   "pygments_lexer": "r",
   "version": "3.2.3"
  }
 },
 "nbformat": 4,
 "nbformat_minor": 2
}
