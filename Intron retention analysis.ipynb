{
 "cells": [
  {
   "cell_type": "code",
   "execution_count": 9,
   "metadata": {
    "collapsed": false
   },
   "outputs": [
    {
     "name": "stderr",
     "output_type": "stream",
     "text": [
      "Bioconductor version 3.2 (BiocInstaller 1.20.3), ?biocLite for help\n",
      "A new version of Bioconductor is available after installing the most recent\n",
      "  version of R; see http://bioconductor.org/install\n",
      "BioC_mirror: https://bioconductor.org\n",
      "Using Bioconductor 3.2 (BiocInstaller 1.20.3), R 3.2.3 (2015-12-10).\n",
      "Installing package(s) 'goseq'\n"
     ]
    },
    {
     "name": "stdout",
     "output_type": "stream",
     "text": [
      "package 'goseq' successfully unpacked and MD5 sums checked\n",
      "\n",
      "The downloaded binary packages are in\n",
      "\tC:\\Users\\Ali\\AppData\\Local\\Temp\\RtmpoF3iLN\\downloaded_packages\n"
     ]
    },
    {
     "name": "stderr",
     "output_type": "stream",
     "text": [
      "Old packages: 'acepack', 'apcluster', 'ape', 'colorspace', 'crayon', 'curl',\n",
      "  'DBI', 'devtools', 'doParallel', 'evaluate', 'Formula', 'futile.logger',\n",
      "  'ggplot2', 'git2r', 'gridExtra', 'Hmisc', 'htmltools', 'htmlwidgets', 'httr',\n",
      "  'igraph', 'irlba', 'jsonlite', 'lambda.r', 'memoise', 'NLP', 'openssl',\n",
      "  'pbdZMQ', 'plyr', 'R6', 'Rcpp', 'RcppArmadillo', 'reshape2', 'rJava',\n",
      "  'RSQLite', 'rstudioapi', 'scales', 'snow', 'statmod', 'statnet.common',\n",
      "  'stringi', 'stringr', 'visNetwork', 'withr', 'wordnet', 'XML', 'boot',\n",
      "  'cluster', 'codetools', 'foreign', 'lattice', 'MASS', 'Matrix', 'mgcv',\n",
      "  'nlme', 'nnet', 'rpart', 'survival'\n",
      "BioC_mirror: https://bioconductor.org\n",
      "Using Bioconductor 3.2 (BiocInstaller 1.20.3), R 3.2.3 (2015-12-10).\n",
      "Installing package(s) 'edgeR'\n",
      "also installing the dependency 'limma'\n",
      "\n"
     ]
    },
    {
     "name": "stdout",
     "output_type": "stream",
     "text": [
      "package 'limma' successfully unpacked and MD5 sums checked\n",
      "package 'edgeR' successfully unpacked and MD5 sums checked\n",
      "\n",
      "The downloaded binary packages are in\n",
      "\tC:\\Users\\Ali\\AppData\\Local\\Temp\\RtmpoF3iLN\\downloaded_packages\n"
     ]
    },
    {
     "name": "stderr",
     "output_type": "stream",
     "text": [
      "Old packages: 'acepack', 'apcluster', 'ape', 'colorspace', 'crayon', 'curl',\n",
      "  'DBI', 'devtools', 'doParallel', 'evaluate', 'Formula', 'futile.logger',\n",
      "  'ggplot2', 'git2r', 'gridExtra', 'Hmisc', 'htmltools', 'htmlwidgets', 'httr',\n",
      "  'igraph', 'irlba', 'jsonlite', 'lambda.r', 'memoise', 'NLP', 'openssl',\n",
      "  'pbdZMQ', 'plyr', 'R6', 'Rcpp', 'RcppArmadillo', 'reshape2', 'rJava',\n",
      "  'RSQLite', 'rstudioapi', 'scales', 'snow', 'statmod', 'statnet.common',\n",
      "  'stringi', 'stringr', 'visNetwork', 'withr', 'wordnet', 'XML', 'boot',\n",
      "  'cluster', 'codetools', 'foreign', 'lattice', 'MASS', 'Matrix', 'mgcv',\n",
      "  'nlme', 'nnet', 'rpart', 'survival'\n"
     ]
    }
   ],
   "source": [
    "source(\"http://bioconductor.org/biocLite.R\")\n",
    "biocLite(\"goseq\")\n",
    "biocLite(\"edgeR\")\n",
    "biocLite(\"org.Hs.eg.db\")"
   ]
  },
  {
   "cell_type": "code",
   "execution_count": null,
   "metadata": {
    "collapsed": true
   },
   "outputs": [],
   "source": [
    "setwd('~/bme/jupyter_data/')\n",
    "library(goseq)"
   ]
  },
  {
   "cell_type": "markdown",
   "metadata": {},
   "source": [
    "First I look for any enriched GO terms in genes that have intron retention events. Genes are determined to have IR events according to mark_intron_retention.py, which compares all consensus isoforms for a gene and checks if any isoform has an exon that nearly completely spans another isoforms' intron. Next I look for enriched GO terms in genes that have intron retention events and are more highly expressed in the wildtype."
   ]
  },
  {
   "cell_type": "code",
   "execution_count": 22,
   "metadata": {
    "collapsed": false
   },
   "outputs": [
    {
     "data": {
      "text/html": [
       "<dl class=dl-horizontal>\n",
       "\t<dt>ENSG00000102054</dt>\n",
       "\t\t<dd>0</dd>\n",
       "\t<dt>ENSG00000124208</dt>\n",
       "\t\t<dd>0</dd>\n",
       "\t<dt>ENSG00000269899</dt>\n",
       "\t\t<dd>0</dd>\n",
       "\t<dt>ENSG00000167699</dt>\n",
       "\t\t<dd>0</dd>\n",
       "\t<dt>ENSG00000274888</dt>\n",
       "\t\t<dd>0</dd>\n",
       "\t<dt>ENSG00000106554</dt>\n",
       "\t\t<dd>0</dd>\n",
       "</dl>\n"
      ],
      "text/latex": [
       "\\begin{description*}\n",
       "\\item[ENSG00000102054] 0\n",
       "\\item[ENSG00000124208] 0\n",
       "\\item[ENSG00000269899] 0\n",
       "\\item[ENSG00000167699] 0\n",
       "\\item[ENSG00000274888] 0\n",
       "\\item[ENSG00000106554] 0\n",
       "\\end{description*}\n"
      ],
      "text/markdown": [
       "ENSG00000102054\n",
       ":   0ENSG00000124208\n",
       ":   0ENSG00000269899\n",
       ":   0ENSG00000167699\n",
       ":   0ENSG00000274888\n",
       ":   0ENSG00000106554\n",
       ":   0\n",
       "\n"
      ],
      "text/plain": [
       "ENSG00000102054 ENSG00000124208 ENSG00000269899 ENSG00000167699 ENSG00000274888 \n",
       "              0               0               0               0               0 \n",
       "ENSG00000106554 \n",
       "              0 "
      ]
     },
     "metadata": {},
     "output_type": "display_data"
    },
    {
     "name": "stderr",
     "output_type": "stream",
     "text": [
      "Loading hg19 length data...\n",
      "Fetching GO annotations...\n",
      "For 1304 genes, we could not find any categories. These genes will be excluded.\n",
      "To force their use, please run with use_genes_without_cat=TRUE (see documentation).\n",
      "This was the default behavior for version 1.15.1 and earlier.\n",
      "Calculating the p-values...\n",
      "'select()' returned 1:1 mapping between keys and columns\n"
     ]
    },
    {
     "data": {
      "image/png": "[encoded data removed]",
      "text/plain": [
       "plot without title"
      ]
     },
     "metadata": {},
     "output_type": "display_data"
    }
   ],
   "source": [
    "info = read.table('ir_goseq_bool.txt')  # intron retetion calls present/absent per gene\n",
    "genes = info$V2\n",
    "names(genes) = info$V1\n",
    "head(genes)\n",
    "\n",
    "pwf = nullp(genes, 'hg19', 'ensGene')  # it has to fetch gene lengths to fit the probability weighting function\n",
    "res = goseq(pwf, 'hg19', 'ensGene', method='Hypergeometric')   # no length bias of long reads for genes"
   ]
  },
  {
   "cell_type": "code",
   "execution_count": 26,
   "metadata": {
    "collapsed": false
   },
   "outputs": [
    {
     "data": {
      "text/html": [
       "<table>\n",
       "<thead><tr><th></th><th scope=col>category</th><th scope=col>over_represented_pvalue</th><th scope=col>under_represented_pvalue</th><th scope=col>numDEInCat</th><th scope=col>numInCat</th><th scope=col>term</th><th scope=col>ontology</th></tr></thead>\n",
       "<tbody>\n",
       "\t<tr><th scope=row>1693</th><td>GO:0006405                                                   </td><td>9.426504e-05                                                 </td><td>0.9999832                                                    </td><td> 13                                                          </td><td> 26                                                          </td><td>RNA export from nucleus                                      </td><td>BP                                                           </td></tr>\n",
       "\t<tr><th scope=row>7982</th><td>GO:0051592                                                   </td><td>1.983706e-04                                                 </td><td>0.9999770                                                    </td><td>  9                                                          </td><td> 15                                                          </td><td>response to calcium ion                                      </td><td>BP                                                           </td></tr>\n",
       "\t<tr><th scope=row>8922</th><td>GO:0071166                                                   </td><td>4.573343e-04                                                 </td><td>0.9999057                                                    </td><td> 12                                                          </td><td> 26                                                          </td><td>ribonucleoprotein complex localization                       </td><td>BP                                                           </td></tr>\n",
       "\t<tr><th scope=row>9016</th><td>GO:0071426                                                   </td><td>4.573343e-04                                                 </td><td>0.9999057                                                    </td><td> 12                                                          </td><td> 26                                                          </td><td>ribonucleoprotein complex export from nucleus                </td><td>BP                                                           </td></tr>\n",
       "\t<tr><th scope=row>1694</th><td>GO:0006406                                                   </td><td>5.446785e-04                                                 </td><td>0.9998956                                                    </td><td> 11                                                          </td><td> 23                                                          </td><td>mRNA export from nucleus                                     </td><td>BP                                                           </td></tr>\n",
       "\t<tr><th scope=row>9017</th><td>GO:0071427                                                   </td><td>5.446785e-04                                                 </td><td>0.9998956                                                    </td><td> 11                                                          </td><td> 23                                                          </td><td>mRNA-containing ribonucleoprotein complex export from nucleus</td><td>BP                                                           </td></tr>\n",
       "\t<tr><th scope=row>3168</th><td>GO:0015931                                                   </td><td>6.502184e-04                                                 </td><td>0.9998347                                                    </td><td> 14                                                          </td><td> 34                                                          </td><td>nucleobase-containing compound transport                     </td><td>BP                                                           </td></tr>\n",
       "\t<tr><th scope=row>7750</th><td>GO:0051028                                                   </td><td>6.997288e-04                                                 </td><td>0.9998457                                                    </td><td> 12                                                          </td><td> 27                                                          </td><td>mRNA transport                                               </td><td>BP                                                           </td></tr>\n",
       "\t<tr><th scope=row>7562</th><td>GO:0050657                                                   </td><td>8.256980e-04                                                 </td><td>0.9997974                                                    </td><td> 13                                                          </td><td> 31                                                          </td><td>nucleic acid transport                                       </td><td>BP                                                           </td></tr>\n",
       "\t<tr><th scope=row>7563</th><td>GO:0050658                                                   </td><td>8.256980e-04                                                 </td><td>0.9997974                                                    </td><td> 13                                                          </td><td> 31                                                          </td><td>RNA transport                                                </td><td>BP                                                           </td></tr>\n",
       "\t<tr><th scope=row>7811</th><td>GO:0051168                                                   </td><td>8.256980e-04                                                 </td><td>0.9997974                                                    </td><td> 13                                                          </td><td> 31                                                          </td><td>nuclear export                                               </td><td>BP                                                           </td></tr>\n",
       "\t<tr><th scope=row>7845</th><td>GO:0051236                                                   </td><td>8.256980e-04                                                 </td><td>0.9997974                                                    </td><td> 13                                                          </td><td> 31                                                          </td><td>establishment of RNA localization                            </td><td>BP                                                           </td></tr>\n",
       "\t<tr><th scope=row>60</th><td>GO:0000166                                                   </td><td>1.102469e-03                                                 </td><td>0.9993298                                                    </td><td> 81                                                          </td><td>356                                                          </td><td>nucleotide binding                                           </td><td>MF                                                           </td></tr>\n",
       "\t<tr><th scope=row>9819</th><td>GO:1901265                                                   </td><td>1.102469e-03                                                 </td><td>0.9993298                                                    </td><td> 81                                                          </td><td>356                                                          </td><td>nucleoside phosphate binding                                 </td><td>MF                                                           </td></tr>\n",
       "\t<tr><th scope=row>1691</th><td>GO:0006403                                                   </td><td>1.181546e-03                                                 </td><td>0.9996944                                                    </td><td> 13                                                          </td><td> 32                                                          </td><td>RNA localization                                             </td><td>BP                                                           </td></tr>\n",
       "\t<tr><th scope=row>2690</th><td>GO:0010033                                                   </td><td>1.755697e-03                                                 </td><td>0.9988884                                                    </td><td> 90                                                          </td><td>409                                                          </td><td>response to organic substance                                </td><td>BP                                                           </td></tr>\n",
       "\t<tr><th scope=row>2026</th><td>GO:0007049                                                   </td><td>2.248542e-03                                                 </td><td>0.9986587                                                    </td><td> 64                                                          </td><td>275                                                          </td><td>cell cycle                                                   </td><td>BP                                                           </td></tr>\n",
       "\t<tr><th scope=row>8967</th><td>GO:0071310                                                   </td><td>2.453423e-03                                                 </td><td>0.9984818                                                    </td><td> 74                                                          </td><td>328                                                          </td><td>cellular response to organic substance                       </td><td>BP                                                           </td></tr>\n",
       "\t<tr><th scope=row>8025</th><td>GO:0051726                                                   </td><td>2.981507e-03                                                 </td><td>0.9984284                                                    </td><td> 39                                                          </td><td>152                                                          </td><td>regulation of cell cycle                                     </td><td>BP                                                           </td></tr>\n",
       "\t<tr><th scope=row>5711</th><td>GO:0036094                                                   </td><td>4.213779e-03                                                 </td><td>0.9972532                                                    </td><td> 85                                                          </td><td>393                                                          </td><td>small molecule binding                                       </td><td>MF                                                           </td></tr>\n",
       "\t<tr><th scope=row>1788</th><td>GO:0006598                                                   </td><td>4.802853e-03                                                 </td><td>1.0000000                                                    </td><td>  3                                                          </td><td>  3                                                          </td><td>polyamine catabolic process                                  </td><td>BP                                                           </td></tr>\n",
       "\t<tr><th scope=row>2577</th><td>GO:0009310                                                   </td><td>4.802853e-03                                                 </td><td>1.0000000                                                    </td><td>  3                                                          </td><td>  3                                                          </td><td>amine catabolic process                                      </td><td>BP                                                           </td></tr>\n",
       "\t<tr><th scope=row>5989</th><td>GO:0042402                                                   </td><td>4.802853e-03                                                 </td><td>1.0000000                                                    </td><td>  3                                                          </td><td>  3                                                          </td><td>cellular biogenic amine catabolic process                    </td><td>BP                                                           </td></tr>\n",
       "\t<tr><th scope=row>8856</th><td>GO:0070887                                                   </td><td>5.065359e-03                                                 </td><td>0.9966759                                                    </td><td> 84                                                          </td><td>390                                                          </td><td>cellular response to chemical stimulus                       </td><td>BP                                                           </td></tr>\n",
       "\t<tr><th scope=row>5928</th><td>GO:0042221                                                   </td><td>5.798020e-03                                                 </td><td>0.9960352                                                    </td><td>106                                                          </td><td>512                                                          </td><td>response to chemical                                         </td><td>BP                                                           </td></tr>\n",
       "\t<tr><th scope=row>7804</th><td>GO:0051147                                                   </td><td>6.966210e-03                                                 </td><td>0.9986720                                                    </td><td>  7                                                          </td><td> 15                                                          </td><td>regulation of muscle cell differentiation                    </td><td>BP                                                           </td></tr>\n",
       "\t<tr><th scope=row>3959</th><td>GO:0030001                                                   </td><td>7.140267e-03                                                 </td><td>0.9968237                                                    </td><td> 21                                                          </td><td> 73                                                          </td><td>metal ion transport                                          </td><td>BP                                                           </td></tr>\n",
       "\t<tr><th scope=row>7531</th><td>GO:0048878                                                   </td><td>7.531655e-03                                                 </td><td>0.9962006                                                    </td><td> 28                                                          </td><td>106                                                          </td><td>chemical homeostasis                                         </td><td>BP                                                           </td></tr>\n",
       "\t<tr><th scope=row>97</th><td>GO:0000278                                                   </td><td>7.759549e-03                                                 </td><td>0.9955869                                                    </td><td> 40                                                          </td><td>165                                                          </td><td>mitotic cell cycle                                           </td><td>BP                                                           </td></tr>\n",
       "\t<tr><th scope=row>4451</th><td>GO:0031396                                                   </td><td>7.791214e-03                                                 </td><td>0.9967546                                                    </td><td> 18                                                          </td><td> 60                                                          </td><td>regulation of protein ubiquitination                         </td><td>BP                                                           </td></tr>\n",
       "</tbody>\n",
       "</table>\n"
      ],
      "text/latex": [
       "\\begin{tabular}{r|lllllll}\n",
       "  & category & over\\_represented\\_pvalue & under\\_represented\\_pvalue & numDEInCat & numInCat & term & ontology\\\\\n",
       "\\hline\n",
       "\t1693 & GO:0006405                                                    & 9.426504e-05                                                  & 0.9999832                                                     &  13                                                           &  26                                                           & RNA export from nucleus                                       & BP                                                           \\\\\n",
       "\t7982 & GO:0051592                                                    & 1.983706e-04                                                  & 0.9999770                                                     &   9                                                           &  15                                                           & response to calcium ion                                       & BP                                                           \\\\\n",
       "\t8922 & GO:0071166                                                    & 4.573343e-04                                                  & 0.9999057                                                     &  12                                                           &  26                                                           & ribonucleoprotein complex localization                        & BP                                                           \\\\\n",
       "\t9016 & GO:0071426                                                    & 4.573343e-04                                                  & 0.9999057                                                     &  12                                                           &  26                                                           & ribonucleoprotein complex export from nucleus                 & BP                                                           \\\\\n",
       "\t1694 & GO:0006406                                                    & 5.446785e-04                                                  & 0.9998956                                                     &  11                                                           &  23                                                           & mRNA export from nucleus                                      & BP                                                           \\\\\n",
       "\t9017 & GO:0071427                                                    & 5.446785e-04                                                  & 0.9998956                                                     &  11                                                           &  23                                                           & mRNA-containing ribonucleoprotein complex export from nucleus & BP                                                           \\\\\n",
       "\t3168 & GO:0015931                                                    & 6.502184e-04                                                  & 0.9998347                                                     &  14                                                           &  34                                                           & nucleobase-containing compound transport                      & BP                                                           \\\\\n",
       "\t7750 & GO:0051028                                                    & 6.997288e-04                                                  & 0.9998457                                                     &  12                                                           &  27                                                           & mRNA transport                                                & BP                                                           \\\\\n",
       "\t7562 & GO:0050657                                                    & 8.256980e-04                                                  & 0.9997974                                                     &  13                                                           &  31                                                           & nucleic acid transport                                        & BP                                                           \\\\\n",
       "\t7563 & GO:0050658                                                    & 8.256980e-04                                                  & 0.9997974                                                     &  13                                                           &  31                                                           & RNA transport                                                 & BP                                                           \\\\\n",
       "\t7811 & GO:0051168                                                    & 8.256980e-04                                                  & 0.9997974                                                     &  13                                                           &  31                                                           & nuclear export                                                & BP                                                           \\\\\n",
       "\t7845 & GO:0051236                                                    & 8.256980e-04                                                  & 0.9997974                                                     &  13                                                           &  31                                                           & establishment of RNA localization                             & BP                                                           \\\\\n",
       "\t60 & GO:0000166                                                    & 1.102469e-03                                                  & 0.9993298                                                     &  81                                                           & 356                                                           & nucleotide binding                                            & MF                                                           \\\\\n",
       "\t9819 & GO:1901265                                                    & 1.102469e-03                                                  & 0.9993298                                                     &  81                                                           & 356                                                           & nucleoside phosphate binding                                  & MF                                                           \\\\\n",
       "\t1691 & GO:0006403                                                    & 1.181546e-03                                                  & 0.9996944                                                     &  13                                                           &  32                                                           & RNA localization                                              & BP                                                           \\\\\n",
       "\t2690 & GO:0010033                                                    & 1.755697e-03                                                  & 0.9988884                                                     &  90                                                           & 409                                                           & response to organic substance                                 & BP                                                           \\\\\n",
       "\t2026 & GO:0007049                                                    & 2.248542e-03                                                  & 0.9986587                                                     &  64                                                           & 275                                                           & cell cycle                                                    & BP                                                           \\\\\n",
       "\t8967 & GO:0071310                                                    & 2.453423e-03                                                  & 0.9984818                                                     &  74                                                           & 328                                                           & cellular response to organic substance                        & BP                                                           \\\\\n",
       "\t8025 & GO:0051726                                                    & 2.981507e-03                                                  & 0.9984284                                                     &  39                                                           & 152                                                           & regulation of cell cycle                                      & BP                                                           \\\\\n",
       "\t5711 & GO:0036094                                                    & 4.213779e-03                                                  & 0.9972532                                                     &  85                                                           & 393                                                           & small molecule binding                                        & MF                                                           \\\\\n",
       "\t1788 & GO:0006598                                                    & 4.802853e-03                                                  & 1.0000000                                                     &   3                                                           &   3                                                           & polyamine catabolic process                                   & BP                                                           \\\\\n",
       "\t2577 & GO:0009310                                                    & 4.802853e-03                                                  & 1.0000000                                                     &   3                                                           &   3                                                           & amine catabolic process                                       & BP                                                           \\\\\n",
       "\t5989 & GO:0042402                                                    & 4.802853e-03                                                  & 1.0000000                                                     &   3                                                           &   3                                                           & cellular biogenic amine catabolic process                     & BP                                                           \\\\\n",
       "\t8856 & GO:0070887                                                    & 5.065359e-03                                                  & 0.9966759                                                     &  84                                                           & 390                                                           & cellular response to chemical stimulus                        & BP                                                           \\\\\n",
       "\t5928 & GO:0042221                                                    & 5.798020e-03                                                  & 0.9960352                                                     & 106                                                           & 512                                                           & response to chemical                                          & BP                                                           \\\\\n",
       "\t7804 & GO:0051147                                                    & 6.966210e-03                                                  & 0.9986720                                                     &   7                                                           &  15                                                           & regulation of muscle cell differentiation                     & BP                                                           \\\\\n",
       "\t3959 & GO:0030001                                                    & 7.140267e-03                                                  & 0.9968237                                                     &  21                                                           &  73                                                           & metal ion transport                                           & BP                                                           \\\\\n",
       "\t7531 & GO:0048878                                                    & 7.531655e-03                                                  & 0.9962006                                                     &  28                                                           & 106                                                           & chemical homeostasis                                          & BP                                                           \\\\\n",
       "\t97 & GO:0000278                                                    & 7.759549e-03                                                  & 0.9955869                                                     &  40                                                           & 165                                                           & mitotic cell cycle                                            & BP                                                           \\\\\n",
       "\t4451 & GO:0031396                                                    & 7.791214e-03                                                  & 0.9967546                                                     &  18                                                           &  60                                                           & regulation of protein ubiquitination                          & BP                                                           \\\\\n",
       "\\end{tabular}\n"
      ],
      "text/markdown": [
       "\n",
       "| <!--/--> | category | over_represented_pvalue | under_represented_pvalue | numDEInCat | numInCat | term | ontology | \n",
       "|---|---|---|---|---|---|---|---|---|---|---|---|---|---|---|---|---|---|---|---|---|---|---|---|---|---|---|---|---|---|\n",
       "| 1693 | GO:0006405                                                    | 9.426504e-05                                                  | 0.9999832                                                     |  13                                                           |  26                                                           | RNA export from nucleus                                       | BP                                                            | \n",
       "| 7982 | GO:0051592                                                    | 1.983706e-04                                                  | 0.9999770                                                     |   9                                                           |  15                                                           | response to calcium ion                                       | BP                                                            | \n",
       "| 8922 | GO:0071166                                                    | 4.573343e-04                                                  | 0.9999057                                                     |  12                                                           |  26                                                           | ribonucleoprotein complex localization                        | BP                                                            | \n",
       "| 9016 | GO:0071426                                                    | 4.573343e-04                                                  | 0.9999057                                                     |  12                                                           |  26                                                           | ribonucleoprotein complex export from nucleus                 | BP                                                            | \n",
       "| 1694 | GO:0006406                                                    | 5.446785e-04                                                  | 0.9998956                                                     |  11                                                           |  23                                                           | mRNA export from nucleus                                      | BP                                                            | \n",
       "| 9017 | GO:0071427                                                    | 5.446785e-04                                                  | 0.9998956                                                     |  11                                                           |  23                                                           | mRNA-containing ribonucleoprotein complex export from nucleus | BP                                                            | \n",
       "| 3168 | GO:0015931                                                    | 6.502184e-04                                                  | 0.9998347                                                     |  14                                                           |  34                                                           | nucleobase-containing compound transport                      | BP                                                            | \n",
       "| 7750 | GO:0051028                                                    | 6.997288e-04                                                  | 0.9998457                                                     |  12                                                           |  27                                                           | mRNA transport                                                | BP                                                            | \n",
       "| 7562 | GO:0050657                                                    | 8.256980e-04                                                  | 0.9997974                                                     |  13                                                           |  31                                                           | nucleic acid transport                                        | BP                                                            | \n",
       "| 7563 | GO:0050658                                                    | 8.256980e-04                                                  | 0.9997974                                                     |  13                                                           |  31                                                           | RNA transport                                                 | BP                                                            | \n",
       "| 7811 | GO:0051168                                                    | 8.256980e-04                                                  | 0.9997974                                                     |  13                                                           |  31                                                           | nuclear export                                                | BP                                                            | \n",
       "| 7845 | GO:0051236                                                    | 8.256980e-04                                                  | 0.9997974                                                     |  13                                                           |  31                                                           | establishment of RNA localization                             | BP                                                            | \n",
       "| 60 | GO:0000166                                                    | 1.102469e-03                                                  | 0.9993298                                                     |  81                                                           | 356                                                           | nucleotide binding                                            | MF                                                            | \n",
       "| 9819 | GO:1901265                                                    | 1.102469e-03                                                  | 0.9993298                                                     |  81                                                           | 356                                                           | nucleoside phosphate binding                                  | MF                                                            | \n",
       "| 1691 | GO:0006403                                                    | 1.181546e-03                                                  | 0.9996944                                                     |  13                                                           |  32                                                           | RNA localization                                              | BP                                                            | \n",
       "| 2690 | GO:0010033                                                    | 1.755697e-03                                                  | 0.9988884                                                     |  90                                                           | 409                                                           | response to organic substance                                 | BP                                                            | \n",
       "| 2026 | GO:0007049                                                    | 2.248542e-03                                                  | 0.9986587                                                     |  64                                                           | 275                                                           | cell cycle                                                    | BP                                                            | \n",
       "| 8967 | GO:0071310                                                    | 2.453423e-03                                                  | 0.9984818                                                     |  74                                                           | 328                                                           | cellular response to organic substance                        | BP                                                            | \n",
       "| 8025 | GO:0051726                                                    | 2.981507e-03                                                  | 0.9984284                                                     |  39                                                           | 152                                                           | regulation of cell cycle                                      | BP                                                            | \n",
       "| 5711 | GO:0036094                                                    | 4.213779e-03                                                  | 0.9972532                                                     |  85                                                           | 393                                                           | small molecule binding                                        | MF                                                            | \n",
       "| 1788 | GO:0006598                                                    | 4.802853e-03                                                  | 1.0000000                                                     |   3                                                           |   3                                                           | polyamine catabolic process                                   | BP                                                            | \n",
       "| 2577 | GO:0009310                                                    | 4.802853e-03                                                  | 1.0000000                                                     |   3                                                           |   3                                                           | amine catabolic process                                       | BP                                                            | \n",
       "| 5989 | GO:0042402                                                    | 4.802853e-03                                                  | 1.0000000                                                     |   3                                                           |   3                                                           | cellular biogenic amine catabolic process                     | BP                                                            | \n",
       "| 8856 | GO:0070887                                                    | 5.065359e-03                                                  | 0.9966759                                                     |  84                                                           | 390                                                           | cellular response to chemical stimulus                        | BP                                                            | \n",
       "| 5928 | GO:0042221                                                    | 5.798020e-03                                                  | 0.9960352                                                     | 106                                                           | 512                                                           | response to chemical                                          | BP                                                            | \n",
       "| 7804 | GO:0051147                                                    | 6.966210e-03                                                  | 0.9986720                                                     |   7                                                           |  15                                                           | regulation of muscle cell differentiation                     | BP                                                            | \n",
       "| 3959 | GO:0030001                                                    | 7.140267e-03                                                  | 0.9968237                                                     |  21                                                           |  73                                                           | metal ion transport                                           | BP                                                            | \n",
       "| 7531 | GO:0048878                                                    | 7.531655e-03                                                  | 0.9962006                                                     |  28                                                           | 106                                                           | chemical homeostasis                                          | BP                                                            | \n",
       "| 97 | GO:0000278                                                    | 7.759549e-03                                                  | 0.9955869                                                     |  40                                                           | 165                                                           | mitotic cell cycle                                            | BP                                                            | \n",
       "| 4451 | GO:0031396                                                    | 7.791214e-03                                                  | 0.9967546                                                     |  18                                                           |  60                                                           | regulation of protein ubiquitination                          | BP                                                            | \n",
       "\n",
       "\n"
      ],
      "text/plain": [
       "     category   over_represented_pvalue under_represented_pvalue numDEInCat\n",
       "1693 GO:0006405 9.426504e-05            0.9999832                 13       \n",
       "7982 GO:0051592 1.983706e-04            0.9999770                  9       \n",
       "8922 GO:0071166 4.573343e-04            0.9999057                 12       \n",
       "9016 GO:0071426 4.573343e-04            0.9999057                 12       \n",
       "1694 GO:0006406 5.446785e-04            0.9998956                 11       \n",
       "9017 GO:0071427 5.446785e-04            0.9998956                 11       \n",
       "3168 GO:0015931 6.502184e-04            0.9998347                 14       \n",
       "7750 GO:0051028 6.997288e-04            0.9998457                 12       \n",
       "7562 GO:0050657 8.256980e-04            0.9997974                 13       \n",
       "7563 GO:0050658 8.256980e-04            0.9997974                 13       \n",
       "7811 GO:0051168 8.256980e-04            0.9997974                 13       \n",
       "7845 GO:0051236 8.256980e-04            0.9997974                 13       \n",
       "60   GO:0000166 1.102469e-03            0.9993298                 81       \n",
       "9819 GO:1901265 1.102469e-03            0.9993298                 81       \n",
       "1691 GO:0006403 1.181546e-03            0.9996944                 13       \n",
       "2690 GO:0010033 1.755697e-03            0.9988884                 90       \n",
       "2026 GO:0007049 2.248542e-03            0.9986587                 64       \n",
       "8967 GO:0071310 2.453423e-03            0.9984818                 74       \n",
       "8025 GO:0051726 2.981507e-03            0.9984284                 39       \n",
       "5711 GO:0036094 4.213779e-03            0.9972532                 85       \n",
       "1788 GO:0006598 4.802853e-03            1.0000000                  3       \n",
       "2577 GO:0009310 4.802853e-03            1.0000000                  3       \n",
       "5989 GO:0042402 4.802853e-03            1.0000000                  3       \n",
       "8856 GO:0070887 5.065359e-03            0.9966759                 84       \n",
       "5928 GO:0042221 5.798020e-03            0.9960352                106       \n",
       "7804 GO:0051147 6.966210e-03            0.9986720                  7       \n",
       "3959 GO:0030001 7.140267e-03            0.9968237                 21       \n",
       "7531 GO:0048878 7.531655e-03            0.9962006                 28       \n",
       "97   GO:0000278 7.759549e-03            0.9955869                 40       \n",
       "4451 GO:0031396 7.791214e-03            0.9967546                 18       \n",
       "     numInCat term                                                         \n",
       "1693  26      RNA export from nucleus                                      \n",
       "7982  15      response to calcium ion                                      \n",
       "8922  26      ribonucleoprotein complex localization                       \n",
       "9016  26      ribonucleoprotein complex export from nucleus                \n",
       "1694  23      mRNA export from nucleus                                     \n",
       "9017  23      mRNA-containing ribonucleoprotein complex export from nucleus\n",
       "3168  34      nucleobase-containing compound transport                     \n",
       "7750  27      mRNA transport                                               \n",
       "7562  31      nucleic acid transport                                       \n",
       "7563  31      RNA transport                                                \n",
       "7811  31      nuclear export                                               \n",
       "7845  31      establishment of RNA localization                            \n",
       "60   356      nucleotide binding                                           \n",
       "9819 356      nucleoside phosphate binding                                 \n",
       "1691  32      RNA localization                                             \n",
       "2690 409      response to organic substance                                \n",
       "2026 275      cell cycle                                                   \n",
       "8967 328      cellular response to organic substance                       \n",
       "8025 152      regulation of cell cycle                                     \n",
       "5711 393      small molecule binding                                       \n",
       "1788   3      polyamine catabolic process                                  \n",
       "2577   3      amine catabolic process                                      \n",
       "5989   3      cellular biogenic amine catabolic process                    \n",
       "8856 390      cellular response to chemical stimulus                       \n",
       "5928 512      response to chemical                                         \n",
       "7804  15      regulation of muscle cell differentiation                    \n",
       "3959  73      metal ion transport                                          \n",
       "7531 106      chemical homeostasis                                         \n",
       "97   165      mitotic cell cycle                                           \n",
       "4451  60      regulation of protein ubiquitination                         \n",
       "     ontology\n",
       "1693 BP      \n",
       "7982 BP      \n",
       "8922 BP      \n",
       "9016 BP      \n",
       "1694 BP      \n",
       "9017 BP      \n",
       "3168 BP      \n",
       "7750 BP      \n",
       "7562 BP      \n",
       "7563 BP      \n",
       "7811 BP      \n",
       "7845 BP      \n",
       "60   MF      \n",
       "9819 MF      \n",
       "1691 BP      \n",
       "2690 BP      \n",
       "2026 BP      \n",
       "8967 BP      \n",
       "8025 BP      \n",
       "5711 MF      \n",
       "1788 BP      \n",
       "2577 BP      \n",
       "5989 BP      \n",
       "8856 BP      \n",
       "5928 BP      \n",
       "7804 BP      \n",
       "3959 BP      \n",
       "7531 BP      \n",
       "97   BP      \n",
       "4451 BP      "
      ]
     },
     "metadata": {},
     "output_type": "display_data"
    }
   ],
   "source": [
    "res[1:30,]"
   ]
  },
  {
   "cell_type": "code",
   "execution_count": 27,
   "metadata": {
    "collapsed": false
   },
   "outputs": [
    {
     "data": {
      "text/html": [
       "<dl class=dl-horizontal>\n",
       "\t<dt>ENSG00000172349</dt>\n",
       "\t\t<dd>1</dd>\n",
       "\t<dt>ENSG00000261471</dt>\n",
       "\t\t<dd>0</dd>\n",
       "\t<dt>ENSG00000279641</dt>\n",
       "\t\t<dd>1</dd>\n",
       "\t<dt>ENSG00000252549</dt>\n",
       "\t\t<dd>1</dd>\n",
       "\t<dt>ENSG00000131051</dt>\n",
       "\t\t<dd>1</dd>\n",
       "\t<dt>ENSG00000164548</dt>\n",
       "\t\t<dd>1</dd>\n",
       "</dl>\n"
      ],
      "text/latex": [
       "\\begin{description*}\n",
       "\\item[ENSG00000172349] 1\n",
       "\\item[ENSG00000261471] 0\n",
       "\\item[ENSG00000279641] 1\n",
       "\\item[ENSG00000252549] 1\n",
       "\\item[ENSG00000131051] 1\n",
       "\\item[ENSG00000164548] 1\n",
       "\\end{description*}\n"
      ],
      "text/markdown": [
       "ENSG00000172349\n",
       ":   1ENSG00000261471\n",
       ":   0ENSG00000279641\n",
       ":   1ENSG00000252549\n",
       ":   1ENSG00000131051\n",
       ":   1ENSG00000164548\n",
       ":   1\n",
       "\n"
      ],
      "text/plain": [
       "ENSG00000172349 ENSG00000261471 ENSG00000279641 ENSG00000252549 ENSG00000131051 \n",
       "              1               0               1               1               1 \n",
       "ENSG00000164548 \n",
       "              1 "
      ]
     },
     "metadata": {},
     "output_type": "display_data"
    },
    {
     "name": "stderr",
     "output_type": "stream",
     "text": [
      "Loading hg19 length data...\n",
      "Fetching GO annotations...\n",
      "For 125 genes, we could not find any categories. These genes will be excluded.\n",
      "To force their use, please run with use_genes_without_cat=TRUE (see documentation).\n",
      "This was the default behavior for version 1.15.1 and earlier.\n",
      "Calculating the p-values...\n",
      "'select()' returned 1:1 mapping between keys and columns\n"
     ]
    },
    {
     "data": {
      "text/html": [
       "<table>\n",
       "<thead><tr><th></th><th scope=col>category</th><th scope=col>over_represented_pvalue</th><th scope=col>under_represented_pvalue</th><th scope=col>numDEInCat</th><th scope=col>numInCat</th><th scope=col>term</th><th scope=col>ontology</th></tr></thead>\n",
       "<tbody>\n",
       "\t<tr><th scope=row>2028</th><td>GO:0032482                                 </td><td>0.04196669                                 </td><td>1.0000000                                  </td><td>4                                          </td><td>4                                          </td><td>Rab protein signal transduction            </td><td>BP                                         </td></tr>\n",
       "\t<tr><th scope=row>1738</th><td>GO:0030139                                 </td><td>0.05041309                                 </td><td>0.9910881                                  </td><td>7                                          </td><td>9                                          </td><td>endocytic vesicle                          </td><td>CC                                         </td></tr>\n",
       "\t<tr><th scope=row>855</th><td>GO:0006979                                 </td><td>0.07083739                                 </td><td>0.9916662                                  </td><td>5                                          </td><td>6                                          </td><td>response to oxidative stress               </td><td>BP                                         </td></tr>\n",
       "\t<tr><th scope=row>2219</th><td>GO:0034341                                 </td><td>0.07083739                                 </td><td>0.9916662                                  </td><td>5                                          </td><td>6                                          </td><td>response to interferon-gamma               </td><td>BP                                         </td></tr>\n",
       "\t<tr><th scope=row>2837</th><td>GO:0045335                                 </td><td>0.07083739                                 </td><td>0.9916662                                  </td><td>5                                          </td><td>6                                          </td><td>phagocytic vesicle                         </td><td>CC                                         </td></tr>\n",
       "\t<tr><th scope=row>3484</th><td>GO:0060333                                 </td><td>0.07083739                                 </td><td>0.9916662                                  </td><td>5                                          </td><td>6                                          </td><td>interferon-gamma-mediated signaling pathway</td><td>BP                                         </td></tr>\n",
       "</tbody>\n",
       "</table>\n"
      ],
      "text/latex": [
       "\\begin{tabular}{r|lllllll}\n",
       "  & category & over\\_represented\\_pvalue & under\\_represented\\_pvalue & numDEInCat & numInCat & term & ontology\\\\\n",
       "\\hline\n",
       "\t2028 & GO:0032482                                  & 0.04196669                                  & 1.0000000                                   & 4                                           & 4                                           & Rab protein signal transduction             & BP                                         \\\\\n",
       "\t1738 & GO:0030139                                  & 0.05041309                                  & 0.9910881                                   & 7                                           & 9                                           & endocytic vesicle                           & CC                                         \\\\\n",
       "\t855 & GO:0006979                                  & 0.07083739                                  & 0.9916662                                   & 5                                           & 6                                           & response to oxidative stress                & BP                                         \\\\\n",
       "\t2219 & GO:0034341                                  & 0.07083739                                  & 0.9916662                                   & 5                                           & 6                                           & response to interferon-gamma                & BP                                         \\\\\n",
       "\t2837 & GO:0045335                                  & 0.07083739                                  & 0.9916662                                   & 5                                           & 6                                           & phagocytic vesicle                          & CC                                         \\\\\n",
       "\t3484 & GO:0060333                                  & 0.07083739                                  & 0.9916662                                   & 5                                           & 6                                           & interferon-gamma-mediated signaling pathway & BP                                         \\\\\n",
       "\\end{tabular}\n"
      ],
      "text/markdown": [
       "\n",
       "| <!--/--> | category | over_represented_pvalue | under_represented_pvalue | numDEInCat | numInCat | term | ontology | \n",
       "|---|---|---|---|---|---|\n",
       "| 2028 | GO:0032482                                  | 0.04196669                                  | 1.0000000                                   | 4                                           | 4                                           | Rab protein signal transduction             | BP                                          | \n",
       "| 1738 | GO:0030139                                  | 0.05041309                                  | 0.9910881                                   | 7                                           | 9                                           | endocytic vesicle                           | CC                                          | \n",
       "| 855 | GO:0006979                                  | 0.07083739                                  | 0.9916662                                   | 5                                           | 6                                           | response to oxidative stress                | BP                                          | \n",
       "| 2219 | GO:0034341                                  | 0.07083739                                  | 0.9916662                                   | 5                                           | 6                                           | response to interferon-gamma                | BP                                          | \n",
       "| 2837 | GO:0045335                                  | 0.07083739                                  | 0.9916662                                   | 5                                           | 6                                           | phagocytic vesicle                          | CC                                          | \n",
       "| 3484 | GO:0060333                                  | 0.07083739                                  | 0.9916662                                   | 5                                           | 6                                           | interferon-gamma-mediated signaling pathway | BP                                          | \n",
       "\n",
       "\n"
      ],
      "text/plain": [
       "     category   over_represented_pvalue under_represented_pvalue numDEInCat\n",
       "2028 GO:0032482 0.04196669              1.0000000                4         \n",
       "1738 GO:0030139 0.05041309              0.9910881                7         \n",
       "855  GO:0006979 0.07083739              0.9916662                5         \n",
       "2219 GO:0034341 0.07083739              0.9916662                5         \n",
       "2837 GO:0045335 0.07083739              0.9916662                5         \n",
       "3484 GO:0060333 0.07083739              0.9916662                5         \n",
       "     numInCat term                                        ontology\n",
       "2028 4        Rab protein signal transduction             BP      \n",
       "1738 9        endocytic vesicle                           CC      \n",
       "855  6        response to oxidative stress                BP      \n",
       "2219 6        response to interferon-gamma                BP      \n",
       "2837 6        phagocytic vesicle                          CC      \n",
       "3484 6        interferon-gamma-mediated signaling pathway BP      "
      ]
     },
     "metadata": {},
     "output_type": "display_data"
    },
    {
     "data": {
      "image/png": "[encoded data removed]",
      "text/plain": [
       "plot without title"
      ]
     },
     "metadata": {},
     "output_type": "display_data"
    }
   ],
   "source": [
    "info = read.table('ir_goseq_wt.txt')  # for intron retention events that are/are not more highly expressed in the wt\n",
    "\n",
    "genes = info$V2\n",
    "names(genes) = info$V1\n",
    "head(genes)\n",
    "\n",
    "pwf = nullp(genes, 'hg19', 'ensGene')\n",
    "res_wt = goseq(pwf, 'hg19', 'ensGene', method='Hypergeometric')\n",
    "\n",
    "head(res_wt)"
   ]
  },
  {
   "cell_type": "code",
   "execution_count": 28,
   "metadata": {
    "collapsed": false
   },
   "outputs": [
    {
     "data": {
      "text/html": [
       "<dl class=dl-horizontal>\n",
       "\t<dt>ENSG00000172349</dt>\n",
       "\t\t<dd>1</dd>\n",
       "\t<dt>ENSG00000261471</dt>\n",
       "\t\t<dd>0</dd>\n",
       "\t<dt>ENSG00000279641</dt>\n",
       "\t\t<dd>1</dd>\n",
       "\t<dt>ENSG00000252549</dt>\n",
       "\t\t<dd>1</dd>\n",
       "\t<dt>ENSG00000131051</dt>\n",
       "\t\t<dd>1</dd>\n",
       "\t<dt>ENSG00000164548</dt>\n",
       "\t\t<dd>1</dd>\n",
       "</dl>\n"
      ],
      "text/latex": [
       "\\begin{description*}\n",
       "\\item[ENSG00000172349] 1\n",
       "\\item[ENSG00000261471] 0\n",
       "\\item[ENSG00000279641] 1\n",
       "\\item[ENSG00000252549] 1\n",
       "\\item[ENSG00000131051] 1\n",
       "\\item[ENSG00000164548] 1\n",
       "\\end{description*}\n"
      ],
      "text/markdown": [
       "ENSG00000172349\n",
       ":   1ENSG00000261471\n",
       ":   0ENSG00000279641\n",
       ":   1ENSG00000252549\n",
       ":   1ENSG00000131051\n",
       ":   1ENSG00000164548\n",
       ":   1\n",
       "\n"
      ],
      "text/plain": [
       "ENSG00000172349 ENSG00000261471 ENSG00000279641 ENSG00000252549 ENSG00000131051 \n",
       "              1               0               1               1               1 \n",
       "ENSG00000164548 \n",
       "              1 "
      ]
     },
     "metadata": {},
     "output_type": "display_data"
    },
    {
     "name": "stderr",
     "output_type": "stream",
     "text": [
      "Loading hg19 length data...\n",
      "Warning message in pcls(G):\n",
      "\"initial point very close to some inequality constraints\"Fetching GO annotations...\n",
      "For 125 genes, we could not find any categories. These genes will be excluded.\n",
      "To force their use, please run with use_genes_without_cat=TRUE (see documentation).\n",
      "This was the default behavior for version 1.15.1 and earlier.\n",
      "Calculating the p-values...\n",
      "'select()' returned 1:1 mapping between keys and columns\n"
     ]
    },
    {
     "data": {
      "text/html": [
       "<table>\n",
       "<thead><tr><th></th><th scope=col>category</th><th scope=col>over_represented_pvalue</th><th scope=col>under_represented_pvalue</th><th scope=col>numDEInCat</th><th scope=col>numInCat</th><th scope=col>term</th><th scope=col>ontology</th></tr></thead>\n",
       "<tbody>\n",
       "\t<tr><th scope=row>960</th><td>GO:0007599                                         </td><td>0.0005262045                                       </td><td>1.0000000                                          </td><td>12                                                 </td><td>12                                                 </td><td>hemostasis                                         </td><td>BP                                                 </td></tr>\n",
       "\t<tr><th scope=row>959</th><td>GO:0007596                                         </td><td>0.0010081901                                       </td><td>1.0000000                                          </td><td>11                                                 </td><td>11                                                 </td><td>blood coagulation                                  </td><td>BP                                                 </td></tr>\n",
       "\t<tr><th scope=row>3177</th><td>GO:0050817                                         </td><td>0.0010081901                                       </td><td>1.0000000                                          </td><td>11                                                 </td><td>11                                                 </td><td>coagulation                                        </td><td>BP                                                 </td></tr>\n",
       "\t<tr><th scope=row>1137</th><td>GO:0009611                                         </td><td>0.0011020257                                       </td><td>0.9999270                                          </td><td>14                                                 </td><td>15                                                 </td><td>response to wounding                               </td><td>BP                                                 </td></tr>\n",
       "\t<tr><th scope=row>4129</th><td>GO:1903047                                         </td><td>0.0018154237                                       </td><td>0.9997191                                          </td><td>18                                                 </td><td>21                                                 </td><td>mitotic cell cycle process                         </td><td>BP                                                 </td></tr>\n",
       "\t<tr><th scope=row>1912</th><td>GO:0031401                                         </td><td>0.0031873412                                       </td><td>0.9993766                                          </td><td>19                                                 </td><td>23                                                 </td><td>positive regulation of protein modification process</td><td>BP                                                 </td></tr>\n",
       "</tbody>\n",
       "</table>\n"
      ],
      "text/latex": [
       "\\begin{tabular}{r|lllllll}\n",
       "  & category & over\\_represented\\_pvalue & under\\_represented\\_pvalue & numDEInCat & numInCat & term & ontology\\\\\n",
       "\\hline\n",
       "\t960 & GO:0007599                                          & 0.0005262045                                        & 1.0000000                                           & 12                                                  & 12                                                  & hemostasis                                          & BP                                                 \\\\\n",
       "\t959 & GO:0007596                                          & 0.0010081901                                        & 1.0000000                                           & 11                                                  & 11                                                  & blood coagulation                                   & BP                                                 \\\\\n",
       "\t3177 & GO:0050817                                          & 0.0010081901                                        & 1.0000000                                           & 11                                                  & 11                                                  & coagulation                                         & BP                                                 \\\\\n",
       "\t1137 & GO:0009611                                          & 0.0011020257                                        & 0.9999270                                           & 14                                                  & 15                                                  & response to wounding                                & BP                                                 \\\\\n",
       "\t4129 & GO:1903047                                          & 0.0018154237                                        & 0.9997191                                           & 18                                                  & 21                                                  & mitotic cell cycle process                          & BP                                                 \\\\\n",
       "\t1912 & GO:0031401                                          & 0.0031873412                                        & 0.9993766                                           & 19                                                  & 23                                                  & positive regulation of protein modification process & BP                                                 \\\\\n",
       "\\end{tabular}\n"
      ],
      "text/markdown": [
       "\n",
       "| <!--/--> | category | over_represented_pvalue | under_represented_pvalue | numDEInCat | numInCat | term | ontology | \n",
       "|---|---|---|---|---|---|\n",
       "| 960 | GO:0007599                                          | 0.0005262045                                        | 1.0000000                                           | 12                                                  | 12                                                  | hemostasis                                          | BP                                                  | \n",
       "| 959 | GO:0007596                                          | 0.0010081901                                        | 1.0000000                                           | 11                                                  | 11                                                  | blood coagulation                                   | BP                                                  | \n",
       "| 3177 | GO:0050817                                          | 0.0010081901                                        | 1.0000000                                           | 11                                                  | 11                                                  | coagulation                                         | BP                                                  | \n",
       "| 1137 | GO:0009611                                          | 0.0011020257                                        | 0.9999270                                           | 14                                                  | 15                                                  | response to wounding                                | BP                                                  | \n",
       "| 4129 | GO:1903047                                          | 0.0018154237                                        | 0.9997191                                           | 18                                                  | 21                                                  | mitotic cell cycle process                          | BP                                                  | \n",
       "| 1912 | GO:0031401                                          | 0.0031873412                                        | 0.9993766                                           | 19                                                  | 23                                                  | positive regulation of protein modification process | BP                                                  | \n",
       "\n",
       "\n"
      ],
      "text/plain": [
       "     category   over_represented_pvalue under_represented_pvalue numDEInCat\n",
       "960  GO:0007599 0.0005262045            1.0000000                12        \n",
       "959  GO:0007596 0.0010081901            1.0000000                11        \n",
       "3177 GO:0050817 0.0010081901            1.0000000                11        \n",
       "1137 GO:0009611 0.0011020257            0.9999270                14        \n",
       "4129 GO:1903047 0.0018154237            0.9997191                18        \n",
       "1912 GO:0031401 0.0031873412            0.9993766                19        \n",
       "     numInCat term                                                ontology\n",
       "960  12       hemostasis                                          BP      \n",
       "959  11       blood coagulation                                   BP      \n",
       "3177 11       coagulation                                         BP      \n",
       "1137 15       response to wounding                                BP      \n",
       "4129 21       mitotic cell cycle process                          BP      \n",
       "1912 23       positive regulation of protein modification process BP      "
      ]
     },
     "metadata": {},
     "output_type": "display_data"
    },
    {
     "data": {
      "image/png": "[encoded data removed]",
      "text/plain": [
       "plot without title"
      ]
     },
     "metadata": {},
     "output_type": "display_data"
    }
   ],
   "source": [
    "info = read.table('ir_goseq_wt.txt')  # for intron retention events that are/are not more highly expressed in the wt\n",
    "\n",
    "genes = info$V2\n",
    "names(genes) = info$V1\n",
    "genes[genes==0] = 2\n",
    "genes[genes==1] = 0\n",
    "genes[genes==2] = 1  # for intron retention events that are/are not more highly expressed in the mt\n",
    "head(genes)\n",
    "\n",
    "pwf = nullp(genes, 'hg19', 'ensGene')  # it has to fetch gene lengths to fit the probability weighting function\n",
    "res_mt = goseq(pwf, 'hg19', 'ensGene', method='Hypergeometric')   # no length bias of long reads for genes\n",
    "\n",
    "head(res_mt)"
   ]
  },
  {
   "cell_type": "code",
   "execution_count": 29,
   "metadata": {
    "collapsed": false
   },
   "outputs": [
    {
     "data": {
      "text/html": [
       "<table>\n",
       "<thead><tr><th></th><th scope=col>category</th><th scope=col>over_represented_pvalue</th><th scope=col>under_represented_pvalue</th><th scope=col>numDEInCat</th><th scope=col>numInCat</th><th scope=col>term</th><th scope=col>ontology</th></tr></thead>\n",
       "<tbody>\n",
       "\t<tr><th scope=row>10702</th><td>GO:2001240                                                                                         </td><td>1                                                                                                  </td><td>0.8308858                                                                                          </td><td>0                                                                                                  </td><td>1                                                                                                  </td><td>negative regulation of extrinsic apoptotic signaling pathway in absence of ligand                  </td><td>BP                                                                                                 </td></tr>\n",
       "\t<tr><th scope=row>10711</th><td>GO:2001258                                                                                         </td><td>1                                                                                                  </td><td>0.5734537                                                                                          </td><td>0                                                                                                  </td><td>3                                                                                                  </td><td>negative regulation of cation channel activity                                                     </td><td>BP                                                                                                 </td></tr>\n",
       "\t<tr><th scope=row>10712</th><td>GO:2001259                                                                                         </td><td>1                                                                                                  </td><td>0.5734537                                                                                          </td><td>0                                                                                                  </td><td>3                                                                                                  </td><td>positive regulation of cation channel activity                                                     </td><td>BP                                                                                                 </td></tr>\n",
       "\t<tr><th scope=row>10714</th><td>GO:2001268                                                                                         </td><td>1                                                                                                  </td><td>0.5734537                                                                                          </td><td>0                                                                                                  </td><td>3                                                                                                  </td><td>negative regulation of cysteine-type endopeptidase activity involved in apoptotic signaling pathway</td><td>BP                                                                                                 </td></tr>\n",
       "\t<tr><th scope=row>10718</th><td>GO:2001279                                                                                         </td><td>1                                                                                                  </td><td>0.8308858                                                                                          </td><td>0                                                                                                  </td><td>1                                                                                                  </td><td>regulation of unsaturated fatty acid biosynthetic process                                          </td><td>BP                                                                                                 </td></tr>\n",
       "\t<tr><th scope=row>10719</th><td>GO:2001280                                                                                         </td><td>1                                                                                                  </td><td>0.8308858                                                                                          </td><td>0                                                                                                  </td><td>1                                                                                                  </td><td>positive regulation of unsaturated fatty acid biosynthetic process                                 </td><td>BP                                                                                                 </td></tr>\n",
       "</tbody>\n",
       "</table>\n"
      ],
      "text/latex": [
       "\\begin{tabular}{r|lllllll}\n",
       "  & category & over\\_represented\\_pvalue & under\\_represented\\_pvalue & numDEInCat & numInCat & term & ontology\\\\\n",
       "\\hline\n",
       "\t10702 & GO:2001240                                                                                          & 1                                                                                                   & 0.8308858                                                                                           & 0                                                                                                   & 1                                                                                                   & negative regulation of extrinsic apoptotic signaling pathway in absence of ligand                   & BP                                                                                                 \\\\\n",
       "\t10711 & GO:2001258                                                                                          & 1                                                                                                   & 0.5734537                                                                                           & 0                                                                                                   & 3                                                                                                   & negative regulation of cation channel activity                                                      & BP                                                                                                 \\\\\n",
       "\t10712 & GO:2001259                                                                                          & 1                                                                                                   & 0.5734537                                                                                           & 0                                                                                                   & 3                                                                                                   & positive regulation of cation channel activity                                                      & BP                                                                                                 \\\\\n",
       "\t10714 & GO:2001268                                                                                          & 1                                                                                                   & 0.5734537                                                                                           & 0                                                                                                   & 3                                                                                                   & negative regulation of cysteine-type endopeptidase activity involved in apoptotic signaling pathway & BP                                                                                                 \\\\\n",
       "\t10718 & GO:2001279                                                                                          & 1                                                                                                   & 0.8308858                                                                                           & 0                                                                                                   & 1                                                                                                   & regulation of unsaturated fatty acid biosynthetic process                                           & BP                                                                                                 \\\\\n",
       "\t10719 & GO:2001280                                                                                          & 1                                                                                                   & 0.8308858                                                                                           & 0                                                                                                   & 1                                                                                                   & positive regulation of unsaturated fatty acid biosynthetic process                                  & BP                                                                                                 \\\\\n",
       "\\end{tabular}\n"
      ],
      "text/markdown": [
       "\n",
       "| <!--/--> | category | over_represented_pvalue | under_represented_pvalue | numDEInCat | numInCat | term | ontology | \n",
       "|---|---|---|---|---|---|\n",
       "| 10702 | GO:2001240                                                                                          | 1                                                                                                   | 0.8308858                                                                                           | 0                                                                                                   | 1                                                                                                   | negative regulation of extrinsic apoptotic signaling pathway in absence of ligand                   | BP                                                                                                  | \n",
       "| 10711 | GO:2001258                                                                                          | 1                                                                                                   | 0.5734537                                                                                           | 0                                                                                                   | 3                                                                                                   | negative regulation of cation channel activity                                                      | BP                                                                                                  | \n",
       "| 10712 | GO:2001259                                                                                          | 1                                                                                                   | 0.5734537                                                                                           | 0                                                                                                   | 3                                                                                                   | positive regulation of cation channel activity                                                      | BP                                                                                                  | \n",
       "| 10714 | GO:2001268                                                                                          | 1                                                                                                   | 0.5734537                                                                                           | 0                                                                                                   | 3                                                                                                   | negative regulation of cysteine-type endopeptidase activity involved in apoptotic signaling pathway | BP                                                                                                  | \n",
       "| 10718 | GO:2001279                                                                                          | 1                                                                                                   | 0.8308858                                                                                           | 0                                                                                                   | 1                                                                                                   | regulation of unsaturated fatty acid biosynthetic process                                           | BP                                                                                                  | \n",
       "| 10719 | GO:2001280                                                                                          | 1                                                                                                   | 0.8308858                                                                                           | 0                                                                                                   | 1                                                                                                   | positive regulation of unsaturated fatty acid biosynthetic process                                  | BP                                                                                                  | \n",
       "\n",
       "\n"
      ],
      "text/plain": [
       "      category   over_represented_pvalue under_represented_pvalue numDEInCat\n",
       "10702 GO:2001240 1                       0.8308858                0         \n",
       "10711 GO:2001258 1                       0.5734537                0         \n",
       "10712 GO:2001259 1                       0.5734537                0         \n",
       "10714 GO:2001268 1                       0.5734537                0         \n",
       "10718 GO:2001279 1                       0.8308858                0         \n",
       "10719 GO:2001280 1                       0.8308858                0         \n",
       "      numInCat\n",
       "10702 1       \n",
       "10711 3       \n",
       "10712 3       \n",
       "10714 3       \n",
       "10718 1       \n",
       "10719 1       \n",
       "      term                                                                                               \n",
       "10702 negative regulation of extrinsic apoptotic signaling pathway in absence of ligand                  \n",
       "10711 negative regulation of cation channel activity                                                     \n",
       "10712 positive regulation of cation channel activity                                                     \n",
       "10714 negative regulation of cysteine-type endopeptidase activity involved in apoptotic signaling pathway\n",
       "10718 regulation of unsaturated fatty acid biosynthetic process                                          \n",
       "10719 positive regulation of unsaturated fatty acid biosynthetic process                                 \n",
       "      ontology\n",
       "10702 BP      \n",
       "10711 BP      \n",
       "10712 BP      \n",
       "10714 BP      \n",
       "10718 BP      \n",
       "10719 BP      "
      ]
     },
     "metadata": {},
     "output_type": "display_data"
    },
    {
     "data": {
      "text/html": [
       "<table>\n",
       "<thead><tr><th></th><th scope=col>category</th><th scope=col>over_represented_pvalue</th><th scope=col>under_represented_pvalue</th><th scope=col>numDEInCat</th><th scope=col>numInCat</th><th scope=col>term</th><th scope=col>ontology</th></tr></thead>\n",
       "<tbody>\n",
       "\t<tr><th scope=row>4315</th><td>GO:2001241                                                                                         </td><td>1                                                                                                  </td><td>0.5439331                                                                                          </td><td>0                                                                                                  </td><td>1                                                                                                  </td><td>positive regulation of extrinsic apoptotic signaling pathway in absence of ligand                  </td><td>BP                                                                                                 </td></tr>\n",
       "\t<tr><th scope=row>4318</th><td>GO:2001244                                                                                         </td><td>1                                                                                                  </td><td>0.2948209                                                                                          </td><td>0                                                                                                  </td><td>2                                                                                                  </td><td>positive regulation of intrinsic apoptotic signaling pathway                                       </td><td>BP                                                                                                 </td></tr>\n",
       "\t<tr><th scope=row>4319</th><td>GO:2001251                                                                                         </td><td>1                                                                                                  </td><td>0.5439331                                                                                          </td><td>0                                                                                                  </td><td>1                                                                                                  </td><td>negative regulation of chromosome organization                                                     </td><td>BP                                                                                                 </td></tr>\n",
       "\t<tr><th scope=row>4321</th><td>GO:2001256                                                                                         </td><td>1                                                                                                  </td><td>0.5439331                                                                                          </td><td>0                                                                                                  </td><td>1                                                                                                  </td><td>regulation of store-operated calcium entry                                                         </td><td>BP                                                                                                 </td></tr>\n",
       "\t<tr><th scope=row>4323</th><td>GO:2001267                                                                                         </td><td>1                                                                                                  </td><td>0.5439331                                                                                          </td><td>0                                                                                                  </td><td>1                                                                                                  </td><td>regulation of cysteine-type endopeptidase activity involved in apoptotic signaling pathway         </td><td>BP                                                                                                 </td></tr>\n",
       "\t<tr><th scope=row>4324</th><td>GO:2001269                                                                                         </td><td>1                                                                                                  </td><td>0.5439331                                                                                          </td><td>0                                                                                                  </td><td>1                                                                                                  </td><td>positive regulation of cysteine-type endopeptidase activity involved in apoptotic signaling pathway</td><td>BP                                                                                                 </td></tr>\n",
       "</tbody>\n",
       "</table>\n"
      ],
      "text/latex": [
       "\\begin{tabular}{r|lllllll}\n",
       "  & category & over\\_represented\\_pvalue & under\\_represented\\_pvalue & numDEInCat & numInCat & term & ontology\\\\\n",
       "\\hline\n",
       "\t4315 & GO:2001241                                                                                          & 1                                                                                                   & 0.5439331                                                                                           & 0                                                                                                   & 1                                                                                                   & positive regulation of extrinsic apoptotic signaling pathway in absence of ligand                   & BP                                                                                                 \\\\\n",
       "\t4318 & GO:2001244                                                                                          & 1                                                                                                   & 0.2948209                                                                                           & 0                                                                                                   & 2                                                                                                   & positive regulation of intrinsic apoptotic signaling pathway                                        & BP                                                                                                 \\\\\n",
       "\t4319 & GO:2001251                                                                                          & 1                                                                                                   & 0.5439331                                                                                           & 0                                                                                                   & 1                                                                                                   & negative regulation of chromosome organization                                                      & BP                                                                                                 \\\\\n",
       "\t4321 & GO:2001256                                                                                          & 1                                                                                                   & 0.5439331                                                                                           & 0                                                                                                   & 1                                                                                                   & regulation of store-operated calcium entry                                                          & BP                                                                                                 \\\\\n",
       "\t4323 & GO:2001267                                                                                          & 1                                                                                                   & 0.5439331                                                                                           & 0                                                                                                   & 1                                                                                                   & regulation of cysteine-type endopeptidase activity involved in apoptotic signaling pathway          & BP                                                                                                 \\\\\n",
       "\t4324 & GO:2001269                                                                                          & 1                                                                                                   & 0.5439331                                                                                           & 0                                                                                                   & 1                                                                                                   & positive regulation of cysteine-type endopeptidase activity involved in apoptotic signaling pathway & BP                                                                                                 \\\\\n",
       "\\end{tabular}\n"
      ],
      "text/markdown": [
       "\n",
       "| <!--/--> | category | over_represented_pvalue | under_represented_pvalue | numDEInCat | numInCat | term | ontology | \n",
       "|---|---|---|---|---|---|\n",
       "| 4315 | GO:2001241                                                                                          | 1                                                                                                   | 0.5439331                                                                                           | 0                                                                                                   | 1                                                                                                   | positive regulation of extrinsic apoptotic signaling pathway in absence of ligand                   | BP                                                                                                  | \n",
       "| 4318 | GO:2001244                                                                                          | 1                                                                                                   | 0.2948209                                                                                           | 0                                                                                                   | 2                                                                                                   | positive regulation of intrinsic apoptotic signaling pathway                                        | BP                                                                                                  | \n",
       "| 4319 | GO:2001251                                                                                          | 1                                                                                                   | 0.5439331                                                                                           | 0                                                                                                   | 1                                                                                                   | negative regulation of chromosome organization                                                      | BP                                                                                                  | \n",
       "| 4321 | GO:2001256                                                                                          | 1                                                                                                   | 0.5439331                                                                                           | 0                                                                                                   | 1                                                                                                   | regulation of store-operated calcium entry                                                          | BP                                                                                                  | \n",
       "| 4323 | GO:2001267                                                                                          | 1                                                                                                   | 0.5439331                                                                                           | 0                                                                                                   | 1                                                                                                   | regulation of cysteine-type endopeptidase activity involved in apoptotic signaling pathway          | BP                                                                                                  | \n",
       "| 4324 | GO:2001269                                                                                          | 1                                                                                                   | 0.5439331                                                                                           | 0                                                                                                   | 1                                                                                                   | positive regulation of cysteine-type endopeptidase activity involved in apoptotic signaling pathway | BP                                                                                                  | \n",
       "\n",
       "\n"
      ],
      "text/plain": [
       "     category   over_represented_pvalue under_represented_pvalue numDEInCat\n",
       "4315 GO:2001241 1                       0.5439331                0         \n",
       "4318 GO:2001244 1                       0.2948209                0         \n",
       "4319 GO:2001251 1                       0.5439331                0         \n",
       "4321 GO:2001256 1                       0.5439331                0         \n",
       "4323 GO:2001267 1                       0.5439331                0         \n",
       "4324 GO:2001269 1                       0.5439331                0         \n",
       "     numInCat\n",
       "4315 1       \n",
       "4318 2       \n",
       "4319 1       \n",
       "4321 1       \n",
       "4323 1       \n",
       "4324 1       \n",
       "     term                                                                                               \n",
       "4315 positive regulation of extrinsic apoptotic signaling pathway in absence of ligand                  \n",
       "4318 positive regulation of intrinsic apoptotic signaling pathway                                       \n",
       "4319 negative regulation of chromosome organization                                                     \n",
       "4321 regulation of store-operated calcium entry                                                         \n",
       "4323 regulation of cysteine-type endopeptidase activity involved in apoptotic signaling pathway         \n",
       "4324 positive regulation of cysteine-type endopeptidase activity involved in apoptotic signaling pathway\n",
       "     ontology\n",
       "4315 BP      \n",
       "4318 BP      \n",
       "4319 BP      \n",
       "4321 BP      \n",
       "4323 BP      \n",
       "4324 BP      "
      ]
     },
     "metadata": {},
     "output_type": "display_data"
    },
    {
     "data": {
      "text/html": [
       "<table>\n",
       "<thead><tr><th></th><th scope=col>category</th><th scope=col>over_represented_pvalue</th><th scope=col>under_represented_pvalue</th><th scope=col>numDEInCat</th><th scope=col>numInCat</th><th scope=col>term</th><th scope=col>ontology</th></tr></thead>\n",
       "<tbody>\n",
       "\t<tr><th scope=row>4306</th><td>GO:2001166                                                           </td><td>1                                                                    </td><td>0.4560669                                                            </td><td>0                                                                    </td><td>1                                                                    </td><td>regulation of histone H2B ubiquitination                             </td><td>BP                                                                   </td></tr>\n",
       "\t<tr><th scope=row>4307</th><td>GO:2001168                                                           </td><td>1                                                                    </td><td>0.4560669                                                            </td><td>0                                                                    </td><td>1                                                                    </td><td>positive regulation of histone H2B ubiquitination                    </td><td>BP                                                                   </td></tr>\n",
       "\t<tr><th scope=row>4308</th><td>GO:2001198                                                           </td><td>1                                                                    </td><td>0.4560669                                                            </td><td>0                                                                    </td><td>1                                                                    </td><td>regulation of dendritic cell differentiation                         </td><td>BP                                                                   </td></tr>\n",
       "\t<tr><th scope=row>4317</th><td>GO:2001243                                                           </td><td>1                                                                    </td><td>0.4560669                                                            </td><td>0                                                                    </td><td>1                                                                    </td><td>negative regulation of intrinsic apoptotic signaling pathway         </td><td>BP                                                                   </td></tr>\n",
       "\t<tr><th scope=row>4325</th><td>GO:2001273                                                           </td><td>1                                                                    </td><td>0.4560669                                                            </td><td>0                                                                    </td><td>1                                                                    </td><td>regulation of glucose import in response to insulin stimulus         </td><td>BP                                                                   </td></tr>\n",
       "\t<tr><th scope=row>4326</th><td>GO:2001274                                                           </td><td>1                                                                    </td><td>0.4560669                                                            </td><td>0                                                                    </td><td>1                                                                    </td><td>negative regulation of glucose import in response to insulin stimulus</td><td>BP                                                                   </td></tr>\n",
       "</tbody>\n",
       "</table>\n"
      ],
      "text/latex": [
       "\\begin{tabular}{r|lllllll}\n",
       "  & category & over\\_represented\\_pvalue & under\\_represented\\_pvalue & numDEInCat & numInCat & term & ontology\\\\\n",
       "\\hline\n",
       "\t4306 & GO:2001166                                                            & 1                                                                     & 0.4560669                                                             & 0                                                                     & 1                                                                     & regulation of histone H2B ubiquitination                              & BP                                                                   \\\\\n",
       "\t4307 & GO:2001168                                                            & 1                                                                     & 0.4560669                                                             & 0                                                                     & 1                                                                     & positive regulation of histone H2B ubiquitination                     & BP                                                                   \\\\\n",
       "\t4308 & GO:2001198                                                            & 1                                                                     & 0.4560669                                                             & 0                                                                     & 1                                                                     & regulation of dendritic cell differentiation                          & BP                                                                   \\\\\n",
       "\t4317 & GO:2001243                                                            & 1                                                                     & 0.4560669                                                             & 0                                                                     & 1                                                                     & negative regulation of intrinsic apoptotic signaling pathway          & BP                                                                   \\\\\n",
       "\t4325 & GO:2001273                                                            & 1                                                                     & 0.4560669                                                             & 0                                                                     & 1                                                                     & regulation of glucose import in response to insulin stimulus          & BP                                                                   \\\\\n",
       "\t4326 & GO:2001274                                                            & 1                                                                     & 0.4560669                                                             & 0                                                                     & 1                                                                     & negative regulation of glucose import in response to insulin stimulus & BP                                                                   \\\\\n",
       "\\end{tabular}\n"
      ],
      "text/markdown": [
       "\n",
       "| <!--/--> | category | over_represented_pvalue | under_represented_pvalue | numDEInCat | numInCat | term | ontology | \n",
       "|---|---|---|---|---|---|\n",
       "| 4306 | GO:2001166                                                            | 1                                                                     | 0.4560669                                                             | 0                                                                     | 1                                                                     | regulation of histone H2B ubiquitination                              | BP                                                                    | \n",
       "| 4307 | GO:2001168                                                            | 1                                                                     | 0.4560669                                                             | 0                                                                     | 1                                                                     | positive regulation of histone H2B ubiquitination                     | BP                                                                    | \n",
       "| 4308 | GO:2001198                                                            | 1                                                                     | 0.4560669                                                             | 0                                                                     | 1                                                                     | regulation of dendritic cell differentiation                          | BP                                                                    | \n",
       "| 4317 | GO:2001243                                                            | 1                                                                     | 0.4560669                                                             | 0                                                                     | 1                                                                     | negative regulation of intrinsic apoptotic signaling pathway          | BP                                                                    | \n",
       "| 4325 | GO:2001273                                                            | 1                                                                     | 0.4560669                                                             | 0                                                                     | 1                                                                     | regulation of glucose import in response to insulin stimulus          | BP                                                                    | \n",
       "| 4326 | GO:2001274                                                            | 1                                                                     | 0.4560669                                                             | 0                                                                     | 1                                                                     | negative regulation of glucose import in response to insulin stimulus | BP                                                                    | \n",
       "\n",
       "\n"
      ],
      "text/plain": [
       "     category   over_represented_pvalue under_represented_pvalue numDEInCat\n",
       "4306 GO:2001166 1                       0.4560669                0         \n",
       "4307 GO:2001168 1                       0.4560669                0         \n",
       "4308 GO:2001198 1                       0.4560669                0         \n",
       "4317 GO:2001243 1                       0.4560669                0         \n",
       "4325 GO:2001273 1                       0.4560669                0         \n",
       "4326 GO:2001274 1                       0.4560669                0         \n",
       "     numInCat\n",
       "4306 1       \n",
       "4307 1       \n",
       "4308 1       \n",
       "4317 1       \n",
       "4325 1       \n",
       "4326 1       \n",
       "     term                                                                 \n",
       "4306 regulation of histone H2B ubiquitination                             \n",
       "4307 positive regulation of histone H2B ubiquitination                    \n",
       "4308 regulation of dendritic cell differentiation                         \n",
       "4317 negative regulation of intrinsic apoptotic signaling pathway         \n",
       "4325 regulation of glucose import in response to insulin stimulus         \n",
       "4326 negative regulation of glucose import in response to insulin stimulus\n",
       "     ontology\n",
       "4306 BP      \n",
       "4307 BP      \n",
       "4308 BP      \n",
       "4317 BP      \n",
       "4325 BP      \n",
       "4326 BP      "
      ]
     },
     "metadata": {},
     "output_type": "display_data"
    }
   ],
   "source": [
    "tail(res)\n",
    "tail(res_wt)\n",
    "tail(res_mt)"
   ]
  }
 ],
 "metadata": {
  "kernelspec": {
   "display_name": "R",
   "language": "R",
   "name": "ir"
  },
  "language_info": {
   "codemirror_mode": "r",
   "file_extension": ".r",
   "mimetype": "text/x-r-source",
   "name": "R",
   "pygments_lexer": "r",
   "version": "3.2.3"
  }
 },
 "nbformat": 4,
 "nbformat_minor": 2
}
