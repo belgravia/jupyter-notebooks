{
 "cells": [
  {
   "cell_type": "markdown",
   "metadata": {},
   "source": [
    "I counted short/long reads that mapped to differentially spliced exons. <br>\n",
    "Sequence: JoNe SF3B1 K700E, hg38 Splicemap/BLAT-aligned. <br>\n",
    "Exons: Table S2 from <a href=http://www.cell.com/cancer-cell/fulltext/S1535-6108(16)30492-5>Wang et al.</a> <br>\n",
    "Made them into a bed file and used liftOver to change the coordinates to hg38.\n"
   ]
  },
  {
   "cell_type": "code",
   "execution_count": 21,
   "metadata": {
    "collapsed": false
   },
   "outputs": [
    {
     "data": {
      "text/html": [
       "276"
      ],
      "text/latex": [
       "276"
      ],
      "text/markdown": [
       "276"
      ],
      "text/plain": [
       "[1] 276"
      ]
     },
     "metadata": {},
     "output_type": "display_data"
    },
    {
     "data": {
      "text/html": [
       "<table>\n",
       "<thead><tr><th></th><th scope=col>short</th><th scope=col>long</th></tr></thead>\n",
       "<tbody>\n",
       "\t<tr><th scope=row>PCK2</th><td>236</td><td>4  </td></tr>\n",
       "\t<tr><th scope=row>GOLGA6L5,RP11-182J1.12</th><td>  0</td><td>0  </td></tr>\n",
       "\t<tr><th scope=row>DDHD2</th><td>  1</td><td>0  </td></tr>\n",
       "\t<tr><th scope=row>DYNLL1</th><td> 31</td><td>6  </td></tr>\n",
       "\t<tr><th scope=row>HECTD4</th><td>  1</td><td>0  </td></tr>\n",
       "\t<tr><th scope=row>PDCD2</th><td>219</td><td>3  </td></tr>\n",
       "</tbody>\n",
       "</table>\n"
      ],
      "text/latex": [
       "\\begin{tabular}{r|ll}\n",
       "  & short & long\\\\\n",
       "\\hline\n",
       "\tPCK2 & 236 & 4  \\\\\n",
       "\tGOLGA6L5,RP11-182J1.12 &   0 & 0  \\\\\n",
       "\tDDHD2 &   1 & 0  \\\\\n",
       "\tDYNLL1 &  31 & 6  \\\\\n",
       "\tHECTD4 &   1 & 0  \\\\\n",
       "\tPDCD2 & 219 & 3  \\\\\n",
       "\\end{tabular}\n"
      ],
      "text/markdown": [
       "\n",
       "| <!--/--> | short | long | \n",
       "|---|---|---|---|---|---|\n",
       "| PCK2 | 236 | 4   | \n",
       "| GOLGA6L5,RP11-182J1.12 |   0 | 0   | \n",
       "| DDHD2 |   1 | 0   | \n",
       "| DYNLL1 |  31 | 6   | \n",
       "| HECTD4 |   1 | 0   | \n",
       "| PDCD2 | 219 | 3   | \n",
       "\n",
       "\n"
      ],
      "text/plain": [
       "                       short long\n",
       "PCK2                   236   4   \n",
       "GOLGA6L5,RP11-182J1.12   0   0   \n",
       "DDHD2                    1   0   \n",
       "DYNLL1                  31   6   \n",
       "HECTD4                   1   0   \n",
       "PDCD2                  219   3   "
      ]
     },
     "metadata": {},
     "output_type": "display_data"
    },
    {
     "name": "stderr",
     "output_type": "stream",
     "text": [
      "Warning message in xy.coords(x, y, xlabel, ylabel, log):\n",
      "\"83 x values <= 0 omitted from logarithmic plot\"Warning message in xy.coords(x, y, xlabel, ylabel, log):\n",
      "\"90 y values <= 0 omitted from logarithmic plot\""
     ]
    },
    {
     "data": {
      "image/png": "[encoded data removed]",
      "text/plain": [
       "Plot with title \"Exon counts K700E\""
      ]
     },
     "metadata": {},
     "output_type": "display_data"
    }
   ],
   "source": [
    "setwd('~/bme')\n",
    "short = read.table('shortread_junction_support_exon.txt', fill=T)\n",
    "long = read.table('longread_junction_support_exon.txt', fill=T)\n",
    "df = data.frame(short=short$V2, long=long$V2, row.names=short$V1)\n",
    "nrow(df)  # printed: total number differentially spliced genes\n",
    "head(df)\n",
    "plot(df$short, df$long, xlab='Short', ylab='Long', cex=0.5, log='xy', main='Exon counts K700E')  # log base 10"
   ]
  },
  {
   "cell_type": "markdown",
   "metadata": {
    "collapsed": false
   },
   "source": [
    "I ran kallisto for transcript-level quantification of the JoNe short reads. I ran <a href='https://vollmerslab.soe.ucsc.edu/software'>Mandalorion</a> to quantify expression of ONT reads. Mandalorion provided gene counts and found isoform expression levels, however the isoforms were not named using an annotation file but instead were defined by the program (e.g. each gene would have isoform1, isoform2, and so on but the isoforms would not be named or identified). Chris said he made this decision because he observed that the majority of the time, the nanopore reads did not produce isoforms that matched the annotation. <br> <br> Below is my plot of gene expression comparing Illumina to ONT."
   ]
  },
  {
   "cell_type": "code",
   "execution_count": 1,
   "metadata": {
    "collapsed": false
   },
   "outputs": [
    {
     "data": {
      "text/html": [
       "673"
      ],
      "text/latex": [
       "673"
      ],
      "text/markdown": [
       "673"
      ],
      "text/plain": [
       "[1] 673"
      ]
     },
     "metadata": {},
     "output_type": "display_data"
    },
    {
     "data": {
      "text/html": [
       "2197"
      ],
      "text/latex": [
       "2197"
      ],
      "text/markdown": [
       "2197"
      ],
      "text/plain": [
       "[1] 2197"
      ]
     },
     "metadata": {},
     "output_type": "display_data"
    },
    {
     "data": {
      "text/html": [
       "0.316361091769397"
      ],
      "text/latex": [
       "0.316361091769397"
      ],
      "text/markdown": [
       "0.316361091769397"
      ],
      "text/plain": [
       "[1] 0.3163611"
      ]
     },
     "metadata": {},
     "output_type": "display_data"
    },
    {
     "data": {
      "text/html": [
       "0.173006096382268"
      ],
      "text/latex": [
       "0.173006096382268"
      ],
      "text/markdown": [
       "0.173006096382268"
      ],
      "text/plain": [
       "[1] 0.1730061"
      ]
     },
     "metadata": {},
     "output_type": "display_data"
    }
   ],
   "source": [
    "setwd('~/bme')\n",
    "short = read.table('abundance.r.txt')\n",
    "long = read.table('Gene_Expression.r.txt')\n",
    "short$V2 = as.character(short$V2)  # ensembl gene names\n",
    "short$V3 = as.character(short$V3)  # hugo gene symbols\n",
    "short$V5 = as.numeric(short$V5)  # est_counts\n",
    "long$V1 = as.character(long$V1)\n",
    "long$V2 = as.numeric(long$V2)\n",
    "relevant_genes = c(short$V2[short$V5 != 0], long$V1[!long$V1 %in% short$V2 & long$V2 != 0])  # genes expressed in at least one\n",
    "# of the datasets. Used to order all the genes\n",
    "short_normalized = short$V5 / short$V7  # dividing by effective length, took a weighted average of effective transcript lengths\n",
    "short_counts = short_normalized[match(relevant_genes, short$V2)]\n",
    "short_tpm = short$V6[match(relevant_genes, short$V2)]\n",
    "long_counts = long$V2[match(relevant_genes, long$V1)]\n",
    "sum(is.na(short_counts))  # printed: number of genes found to be expressed in the long reads but not in the short reads\n",
    "sum(is.na(long_counts))  # printed: vice versa\n",
    "short_counts[is.na(short_counts)] = 0\n",
    "short_tpm[is.na(short_tpm)]=0\n",
    "long_counts[is.na(long_counts)] = 0\n",
    "df = data.frame(short=short_counts, long=long_counts)\n",
    "df_both_expressed = df[df$short != 0 & df$long != 0,]\n",
    "cor(df_both_expressed$short, df_both_expressed$long)  # printed: pearson\n",
    "cor(short_counts, long_counts)  # printed, 0s included in the vectors\n",
    "\n",
    "altsplice_names = unique(as.character(read.table('junction_counts_short.txt')$V1))  # for the colored points\n",
    "altsplice_gene_names_ensembl = short$V2[short$V3 %in% altsplice_names]\n",
    "short_counts_altsplicegenesonly = short_counts[relevant_genes %in% altsplice_gene_names_ensembl]\n",
    "long_counts_altsplicegenesonly = long_counts[relevant_genes %in% altsplice_gene_names_ensembl]"
   ]
  },
  {
   "cell_type": "code",
   "execution_count": 2,
   "metadata": {
    "collapsed": false,
    "scrolled": false
   },
   "outputs": [
    {
     "data": {
      "image/png": "[encoded data removed]",
      "text/plain": [
       "Plot with title \"Gene counts, K700E\""
      ]
     },
     "metadata": {},
     "output_type": "display_data"
    },
    {
     "data": {
      "image/png": "[encoded data removed]",
      "text/plain": [
       "Plot with title \"Gene counts, K700E, expression in both\""
      ]
     },
     "metadata": {},
     "output_type": "display_data"
    }
   ],
   "source": [
    "plot(log2(short_counts+0.001), log2(long_counts+0.001), xlab='short (normalized by gene length)', ylab='long',\n",
    "     cex=0.5, main='Gene counts, K700E')  # data are log2 transformed, short read counts are normalized by gene length\n",
    "points(log2(short_counts_altsplicegenesonly+0.001), log2(long_counts_altsplicegenesonly+0.001), col='green',\n",
    "     cex=0.5, pch=24)  # coloring the points for the alternatively spliced genes in the mmc3 file\n",
    "plot(log2(df_both_expressed$short), log2(df_both_expressed$long), xlab='short (normalized by gene length)', ylab='long',\n",
    "     cex=0.5, main='Gene counts, K700E, expression in both', xlim=c(-15, 10))  # data are log2 transformed, no zeros in data so no 0.001 added\n",
    "points(log2(short_counts_altsplicegenesonly), log2(long_counts_altsplicegenesonly), col='green',\n",
    "     cex=0.5, pch=24)  # coloring the points for the alternatively spliced genes in the mmc3 file"
   ]
  },
  {
   "cell_type": "markdown",
   "metadata": {},
   "source": [
    "In the Figure 4C of the <a href=https://www.nature.com/articles/srep31602#f4>Oikonomopolous benchmark paper</a>, they got a Pearson r of 0.75 for the correlation of their short reads in TPM with their number of minION reads. I tried using TPM instead of counts divided by gene length, which is what I was doing previously. The TPM values are from kallisto and summed up to a gene level to match the gene-level counts for the long reads from Mandalorion. The resulting Pearson is slightly worse (comparing 0.316 to 0.194)."
   ]
  },
  {
   "cell_type": "code",
   "execution_count": 13,
   "metadata": {
    "collapsed": false
   },
   "outputs": [
    {
     "data": {
      "text/html": [
       "0.194438890800226"
      ],
      "text/latex": [
       "0.194438890800226"
      ],
      "text/markdown": [
       "0.194438890800226"
      ],
      "text/plain": [
       "[1] 0.1944389"
      ]
     },
     "metadata": {},
     "output_type": "display_data"
    },
    {
     "data": {
      "image/png": "[encoded data removed]",
      "text/plain": [
       "Plot with title \"TPM vs Counts\""
      ]
     },
     "metadata": {},
     "output_type": "display_data"
    }
   ],
   "source": [
    "plot(log2(short_tpm), log2(long_counts), main='TPM vs Counts', xlab='short, TPM', ylab='long counts')\n",
    "cor(short_tpm, long_counts)"
   ]
  },
  {
   "cell_type": "markdown",
   "metadata": {},
   "source": [
    "The exon sequences from TableS2 are the output of JuncBASE, and there is ambiguity in junction support because 1) a read mapping to the exon is not necessarily a junction read and 2) non-junction reads are not informative in determining the true junction. To address this, short and long reads spanning the alternative junctions were quantified instead. Long reads were counted as supported a junction if there was sequence on either end of the junction with a 5, 6, 7, or 8 basepair window around each of the splice sites. \n",
    "<br>\n",
    "The following plot is for a 5 basepair window."
   ]
  },
  {
   "cell_type": "code",
   "execution_count": 26,
   "metadata": {
    "collapsed": false
   },
   "outputs": [
    {
     "data": {
      "text/html": [
       "<table>\n",
       "<thead><tr><th scope=col>V1</th><th scope=col>V2</th><th scope=col>V3</th><th scope=col>V4</th></tr></thead>\n",
       "<tbody>\n",
       "\t<tr><td>PCK2                  </td><td>24099721              </td><td>24099994              </td><td> 0                    </td></tr>\n",
       "\t<tr><td>PCK2                  </td><td>24099721              </td><td>24102752              </td><td> 0                    </td></tr>\n",
       "\t<tr><td>GOLGA6L5,RP11-182J1.12</td><td>84513303              </td><td>84513966              </td><td> 0                    </td></tr>\n",
       "\t<tr><td>GOLGA6L5,RP11-182J1.12</td><td>84513331              </td><td>84513966              </td><td> 0                    </td></tr>\n",
       "\t<tr><td>DDHD2                 </td><td>38237628              </td><td>38238106              </td><td>19                    </td></tr>\n",
       "\t<tr><td>DDHD2                 </td><td>38237628              </td><td>38238088              </td><td>29                    </td></tr>\n",
       "</tbody>\n",
       "</table>\n"
      ],
      "text/latex": [
       "\\begin{tabular}{r|llll}\n",
       " V1 & V2 & V3 & V4\\\\\n",
       "\\hline\n",
       "\t PCK2                   & 24099721               & 24099994               &  0                    \\\\\n",
       "\t PCK2                   & 24099721               & 24102752               &  0                    \\\\\n",
       "\t GOLGA6L5,RP11-182J1.12 & 84513303               & 84513966               &  0                    \\\\\n",
       "\t GOLGA6L5,RP11-182J1.12 & 84513331               & 84513966               &  0                    \\\\\n",
       "\t DDHD2                  & 38237628               & 38238106               & 19                    \\\\\n",
       "\t DDHD2                  & 38237628               & 38238088               & 29                    \\\\\n",
       "\\end{tabular}\n"
      ],
      "text/markdown": [
       "\n",
       "V1 | V2 | V3 | V4 | \n",
       "|---|---|---|---|---|---|\n",
       "| PCK2                   | 24099721               | 24099994               |  0                     | \n",
       "| PCK2                   | 24099721               | 24102752               |  0                     | \n",
       "| GOLGA6L5,RP11-182J1.12 | 84513303               | 84513966               |  0                     | \n",
       "| GOLGA6L5,RP11-182J1.12 | 84513331               | 84513966               |  0                     | \n",
       "| DDHD2                  | 38237628               | 38238106               | 19                     | \n",
       "| DDHD2                  | 38237628               | 38238088               | 29                     | \n",
       "\n",
       "\n"
      ],
      "text/plain": [
       "  V1                     V2       V3       V4\n",
       "1 PCK2                   24099721 24099994  0\n",
       "2 PCK2                   24099721 24102752  0\n",
       "3 GOLGA6L5,RP11-182J1.12 84513303 84513966  0\n",
       "4 GOLGA6L5,RP11-182J1.12 84513331 84513966  0\n",
       "5 DDHD2                  38237628 38238106 19\n",
       "6 DDHD2                  38237628 38238088 29"
      ]
     },
     "metadata": {},
     "output_type": "display_data"
    },
    {
     "data": {
      "text/html": [
       "0.0514137515583417"
      ],
      "text/latex": [
       "0.0514137515583417"
      ],
      "text/markdown": [
       "0.0514137515583417"
      ],
      "text/plain": [
       "[1] 0.05141375"
      ]
     },
     "metadata": {},
     "output_type": "display_data"
    },
    {
     "data": {
      "image/png": "[encoded data removed]",
      "text/plain": [
       "Plot with title \"Junction counts, K700E\""
      ]
     },
     "metadata": {},
     "output_type": "display_data"
    }
   ],
   "source": [
    "setwd('~/bme')\n",
    "short = read.table('junction_counts_short.txt')\n",
    "long = read.table('junction_counts_long.txt')\n",
    "head(short)  # V1=gene name, V2 and V3=junction coordinates, V4=counts\n",
    "short$V5 = paste0(short$V1, short$V2, short$V3)\n",
    "long$V5 = paste0(long$V1, long$V2, long$V3)\n",
    "com = data.frame(s=short$V4, l=long$V4)\n",
    "com = com[com$s != 0 & com$l != 0,]\n",
    "cor(short$V4, long$V4)\n",
    "plot(log2(com$s), log2(com$l), cex=0.5, xlab='short', ylab='long', main='Junction counts, K700E')"
   ]
  },
  {
   "cell_type": "markdown",
   "metadata": {},
   "source": [
    "The problem is not in how the splice sites counts are being quantified, see below 4 plots. First, relaxing the splice window the long reads had to align to from 5 to 8 basepairs on either side provided slightly worse data, based solely on correlations. I tried 20 basepairs of wiggle room (40 bp window total!) and the plot still looked similar. Also, a few splice site counts in for the short reads and the long reads were verified manually in IGV/the browser and looked good. Since the counting seems to be good enough, the poor correlation could be attributed to large variability in transcripts sequenced in the nanopore..."
   ]
  },
  {
   "cell_type": "code",
   "execution_count": 16,
   "metadata": {
    "collapsed": false
   },
   "outputs": [
    {
     "name": "stderr",
     "output_type": "stream",
     "text": [
      "Warning message in xy.coords(x, y, xlabel, ylabel, log):\n",
      "\"521 x values <= 0 omitted from logarithmic plot\"Warning message in xy.coords(x, y, xlabel, ylabel, log):\n",
      "\"520 y values <= 0 omitted from logarithmic plot\"Warning message in xy.coords(x, y, xlabel, ylabel, log):\n",
      "\"521 x values <= 0 omitted from logarithmic plot\"Warning message in xy.coords(x, y, xlabel, ylabel, log):\n",
      "\"518 y values <= 0 omitted from logarithmic plot\"Warning message in xy.coords(x, y, xlabel, ylabel, log):\n",
      "\"521 x values <= 0 omitted from logarithmic plot\"Warning message in xy.coords(x, y, xlabel, ylabel, log):\n",
      "\"515 y values <= 0 omitted from logarithmic plot\"Warning message in xy.coords(x, y, xlabel, ylabel, log):\n",
      "\"521 x values <= 0 omitted from logarithmic plot\"Warning message in xy.coords(x, y, xlabel, ylabel, log):\n",
      "\"480 y values <= 0 omitted from logarithmic plot\""
     ]
    },
    {
     "data": {
      "text/html": [
       "0.0514137515583417"
      ],
      "text/latex": [
       "0.0514137515583417"
      ],
      "text/markdown": [
       "0.0514137515583417"
      ],
      "text/plain": [
       "[1] 0.05141375"
      ]
     },
     "metadata": {},
     "output_type": "display_data"
    },
    {
     "data": {
      "text/html": [
       "0.0502612069633811"
      ],
      "text/latex": [
       "0.0502612069633811"
      ],
      "text/markdown": [
       "0.0502612069633811"
      ],
      "text/plain": [
       "[1] 0.05026121"
      ]
     },
     "metadata": {},
     "output_type": "display_data"
    },
    {
     "data": {
      "text/html": [
       "0.0516209928248177"
      ],
      "text/latex": [
       "0.0516209928248177"
      ],
      "text/markdown": [
       "0.0516209928248177"
      ],
      "text/plain": [
       "[1] 0.05162099"
      ]
     },
     "metadata": {},
     "output_type": "display_data"
    },
    {
     "data": {
      "text/html": [
       "0.0501608339157037"
      ],
      "text/latex": [
       "0.0501608339157037"
      ],
      "text/markdown": [
       "0.0501608339157037"
      ],
      "text/plain": [
       "[1] 0.05016083"
      ]
     },
     "metadata": {},
     "output_type": "display_data"
    },
    {
     "data": {
      "text/html": [
       "0.047290710786801"
      ],
      "text/latex": [
       "0.047290710786801"
      ],
      "text/markdown": [
       "0.047290710786801"
      ],
      "text/plain": [
       "[1] 0.04729071"
      ]
     },
     "metadata": {},
     "output_type": "display_data"
    },
    {
     "data": {
      "image/png": "[encoded data removed]",
      "text/plain": [
       "Plot with title \"window=40\""
      ]
     },
     "metadata": {},
     "output_type": "display_data"
    }
   ],
   "source": [
    "setwd('~/bme')\n",
    "attach(mtcars)\n",
    "par(mfrow=c(2,2))\n",
    "long5 = read.table('junction_counts_long.txt')  # all counts are for the mutant SF3B1 sample\n",
    "long6 = read.table('junction_counts_long.6.txt')\n",
    "long7 = read.table('junction_counts_long.7.txt')\n",
    "long8 = read.table('junction_counts_long.8.txt')\n",
    "long20 = read.table('junction_counts_long.20.txt')\n",
    "short = read.table('junction_counts_short.txt')\n",
    "plot(short$V4, long5$V4, cex=0.5, log='xy', main='window=10')  # log base 10\n",
    "plot(short$V4, long6$V4, cex=0.5, log='xy', main='window=12')\n",
    "plot(short$V4, long7$V4, cex=0.5, log='xy', main='window=14')\n",
    "plot(short$V4, long20$V4, cex=0.5, log='xy', main='window=40')\n",
    "cor(short$V4, long5$V4)\n",
    "cor(short$V4, long6$V4)\n",
    "cor(short$V4, long7$V4)\n",
    "cor(short$V4, long8$V4)\n",
    "cor(short$V4, long20$V4)"
   ]
  },
  {
   "cell_type": "markdown",
   "metadata": {},
   "source": [
    "I then repeated the same analysis but with the wildtype SF3B1 long/short reads. \n",
    "First is the gene plot, then the junction plot."
   ]
  },
  {
   "cell_type": "code",
   "execution_count": 5,
   "metadata": {
    "collapsed": false
   },
   "outputs": [
    {
     "data": {
      "text/html": [
       "430"
      ],
      "text/latex": [
       "430"
      ],
      "text/markdown": [
       "430"
      ],
      "text/plain": [
       "[1] 430"
      ]
     },
     "metadata": {},
     "output_type": "display_data"
    },
    {
     "data": {
      "text/html": [
       "2156"
      ],
      "text/latex": [
       "2156"
      ],
      "text/markdown": [
       "2156"
      ],
      "text/plain": [
       "[1] 2156"
      ]
     },
     "metadata": {},
     "output_type": "display_data"
    },
    {
     "data": {
      "text/html": [
       "0.248527563953524"
      ],
      "text/latex": [
       "0.248527563953524"
      ],
      "text/markdown": [
       "0.248527563953524"
      ],
      "text/plain": [
       "[1] 0.2485276"
      ]
     },
     "metadata": {},
     "output_type": "display_data"
    },
    {
     "data": {
      "text/html": [
       "0.122455133755187"
      ],
      "text/latex": [
       "0.122455133755187"
      ],
      "text/markdown": [
       "0.122455133755187"
      ],
      "text/plain": [
       "[1] 0.1224551"
      ]
     },
     "metadata": {},
     "output_type": "display_data"
    }
   ],
   "source": [
    "setwd('~/bme')\n",
    "short = read.table('abundance.r.wt.txt')\n",
    "long = read.table('Gene_Expression.r.wt.txt')\n",
    "short$V2 = as.character(short$V2)  # ensembl gene names\n",
    "short$V3 = as.character(short$V3)  # hugo gene symbols\n",
    "short$V5 = as.numeric(short$V5)  # est_counts\n",
    "long$V1 = as.character(long$V1)\n",
    "long$V2 = as.numeric(long$V2)\n",
    "relevant_genes = c(short$V2[short$V5 != 0], long$V1[!long$V1 %in% short$V2 & long$V2 != 0])  # genes expressed in at least one\n",
    "# of the datasets. Used to order all the genes\n",
    "short_normalized = short$V5 / short$V7  # dividing by effective length, took a weighted average of effective transcript lengths\n",
    "short_counts = short_normalized[match(relevant_genes, short$V2)]\n",
    "long_counts = long$V2[match(relevant_genes, long$V1)]\n",
    "sum(is.na(short_counts))  # printed: number of genes found to be expressed in the long reads but not in the short reads\n",
    "sum(is.na(long_counts))  # printed: vice versa\n",
    "short_counts[is.na(short_counts)] = 0\n",
    "long_counts[is.na(long_counts)] = 0\n",
    "df = data.frame(short=short_counts, long=long_counts)\n",
    "df_both_expressed = df[df$short != 0 & df$long != 0,]\n",
    "cor(df_both_expressed$short, df_both_expressed$long)  # printed: spearman, rank-based\n",
    "cor(short_counts, long_counts)  # printed, 0s included in the vectors\n",
    "\n",
    "altsplice_names = unique(as.character(read.table('junction_counts_short.txt')$V1))  # for the colored points\n",
    "altsplice_gene_names_ensembl = short$V2[short$V3 %in% altsplice_names]\n",
    "short_counts_altsplicegenesonly = short_counts[relevant_genes %in% altsplice_gene_names_ensembl]\n",
    "long_counts_altsplicegenesonly = long_counts[relevant_genes %in% altsplice_gene_names_ensembl]"
   ]
  },
  {
   "cell_type": "code",
   "execution_count": 15,
   "metadata": {
    "collapsed": false
   },
   "outputs": [
    {
     "data": {
      "image/png": "[encoded data removed]",
      "text/plain": [
       "Plot with title \"Gene counts, wildtype SF3B1\""
      ]
     },
     "metadata": {},
     "output_type": "display_data"
    }
   ],
   "source": [
    "plot(log2(short_counts+0.001), log2(long_counts+0.1), xlab='short (normalized by gene length)', ylab='long',\n",
    "     cex=0.5, main='Gene counts, wildtype SF3B1')  # data are log2 transformed, short read counts are normalized by gene length\n",
    "points(log2(short_counts_altsplicegenesonly+0.001), log2(long_counts_altsplicegenesonly+0.1), col='green',\n",
    "     cex=0.5, pch=24)  # coloring the points for the alternatively spliced genes in the mmc3 file"
   ]
  },
  {
   "cell_type": "code",
   "execution_count": 12,
   "metadata": {
    "collapsed": false
   },
   "outputs": [
    {
     "data": {
      "text/html": [
       "0.0650202667259377"
      ],
      "text/latex": [
       "0.0650202667259377"
      ],
      "text/markdown": [
       "0.0650202667259377"
      ],
      "text/plain": [
       "[1] 0.06502027"
      ]
     },
     "metadata": {},
     "output_type": "display_data"
    },
    {
     "data": {
      "image/png": "[encoded data removed]",
      "text/plain": [
       "Plot with title \"Junction counts, wildtype SF3B1\""
      ]
     },
     "metadata": {},
     "output_type": "display_data"
    }
   ],
   "source": [
    "setwd('~/bme')\n",
    "short = read.table('junction_counts_short.wt.txt')\n",
    "long = read.table('junction_counts_long.wt.6.txt')\n",
    "short$V5 = paste0(short$V1, short$V2, short$V3)\n",
    "long$V5 = paste0(long$V1, long$V2, long$V3)\n",
    "com = data.frame(s=short$V4, l=long$V4)\n",
    "com = com[com$s != 0 & com$l != 0,]\n",
    "cor(short$V4, long$V4)\n",
    "plot(log2(com$s), log2(com$l), cex=0.5, xlab='short', ylab='long', main='Junction counts, wildtype SF3B1')"
   ]
  },
  {
   "cell_type": "markdown",
   "metadata": {},
   "source": [
    "I just wanted to see how many junction reads we would need to for a Fisher's exact test to return a significant result. It's pretty rough, since it assumes you have the same number of junction reads found in both conditions."
   ]
  },
  {
   "cell_type": "code",
   "execution_count": 4,
   "metadata": {
    "collapsed": false
   },
   "outputs": [
    {
     "data": {
      "image/png": "[encoded data removed]",
      "text/plain": [
       "plot without title"
      ]
     },
     "metadata": {},
     "output_type": "display_data"
    }
   ],
   "source": [
    "totalwt = totalmt = 4  # for now I always have the same number of reads in wild type and mutant\n",
    "avg_reads = c()  # average number of reads needed in one sample\n",
    "upper_reads = c()  # upper bound on number of reads\n",
    "lower_reads = c()  \n",
    "for (deltapsi in seq(100, 5)) {  # e.g. 30\n",
    "    sample_diff_center = c()\n",
    "    for (wtpsi in 0:(min(c(50, 100-deltapsi)))) {  # e.g. 10\n",
    "      mtpsi = wtpsi + deltapsi  # e.g. mtpsi = 10 + 30 = 40\n",
    "      wt = c(round(wtpsi*1e-2*totalwt), totalwt - round(wtpsi*1e-2*totalwt))  # c(10%totalwt, 90%totalwt)\n",
    "      mt = c(round(mtpsi*1e-2*totalmt), totalmt - round(mtpsi*1e-2*totalmt))  # c(40%totalmt, 60%totalmt)\n",
    "      while (fisher.test(matrix(c(wt, mt),nrow=2))$p.value > 0.05) {\n",
    "          totalmt = totalwt = totalwt + 1\n",
    "          wt = c(round(wtpsi*1e-2*totalwt), totalwt - round(wtpsi*1e-2*totalwt))\n",
    "          mt = c(round(mtpsi*1e-2*totalmt), totalmt - round(mtpsi*1e-2*totalmt))\n",
    "      }\n",
    "      sample_diff_center = c(sample_diff_center, totalwt)\n",
    "    }\n",
    "    avg_reads = c(avg_reads, mean(sample_diff_center))\n",
    "    upper_reads = c(upper_reads, max(sample_diff_center))\n",
    "    lower_reads = c(lower_reads, min(sample_diff_center))\n",
    "    totalmt = totalwt = lower_reads[length(lower_reads)]\n",
    "}\n",
    "upper_reads = upper_reads*2\n",
    "lower_reads = lower_reads *2\n",
    "avg_reads = avg_reads*2\n",
    "library(Hmisc)\n",
    "plot(5:100, rev(avg_reads), cex=0.5, ylim=c(0, max(upper_reads)), xlab='delta PSI',\n",
    "     ylab = 'Total reads needed in wt and mt')\n",
    "for (e in 1:length(lower_reads)) {  # draw range bars\n",
    "    points(rep(length(lower_reads)-e+5, 2), c(lower_reads[e],\n",
    "                                                         upper_reads[e]), type='l')\n",
    "}\n",
    "minor.tick(nx=1, ny=2, tick.ratio=.4)"
   ]
  }
 ],
 "metadata": {
  "kernelspec": {
   "display_name": "R",
   "language": "R",
   "name": "ir"
  },
  "language_info": {
   "codemirror_mode": "r",
   "file_extension": ".r",
   "mimetype": "text/x-r-source",
   "name": "R",
   "pygments_lexer": "r",
   "version": "3.2.3"
  }
 },
 "nbformat": 4,
 "nbformat_minor": 0
}
