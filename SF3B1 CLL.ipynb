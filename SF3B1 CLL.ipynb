{
 "cells": [
  {
   "cell_type": "markdown",
   "metadata": {},
   "source": [
    "I counted short/long reads that mapped to differentially spliced exons. <br>\n",
    "Sequence: JoNe SF3B1 K700E, hg38 Splicemap/BLAT-aligned. <br>\n",
    "Exons: Table S2 from <a href=http://www.cell.com/cancer-cell/fulltext/S1535-6108(16)30492-5>Wang et al.</a> <br>\n",
    "<a href=https://genome.ucsc.edu/cgi-bin/hgTracks?db=hg38&lastVirtModeType=default&lastVirtModeExtraState=&virtModeType=default&virtMode=0&nonVirtPosition=&position=chr12%3A120496353-120496492&hgsid=587810767_3iCA9Z5aeda3ib6YqsX6tTx1h1oK>Browser with Illumina/ONT reads</a>\n",
    "Note only the reads that counted support for differential splicing are displayed"
   ]
  },
  {
   "cell_type": "code",
   "execution_count": 8,
   "metadata": {
    "collapsed": false
   },
   "outputs": [
    {
     "data": {
      "text/html": [
       "276"
      ],
      "text/latex": [
       "276"
      ],
      "text/markdown": [
       "276"
      ],
      "text/plain": [
       "[1] 276"
      ]
     },
     "metadata": {},
     "output_type": "display_data"
    },
    {
     "data": {
      "text/html": [
       "37"
      ],
      "text/latex": [
       "37"
      ],
      "text/markdown": [
       "37"
      ],
      "text/plain": [
       "[1] 37"
      ]
     },
     "metadata": {},
     "output_type": "display_data"
    },
    {
     "data": {
      "text/html": [
       "46"
      ],
      "text/latex": [
       "46"
      ],
      "text/markdown": [
       "46"
      ],
      "text/plain": [
       "[1] 46"
      ]
     },
     "metadata": {},
     "output_type": "display_data"
    },
    {
     "data": {
      "text/html": [
       "<table>\n",
       "<thead><tr><th></th><th scope=col>short</th><th scope=col>long</th></tr></thead>\n",
       "<tbody>\n",
       "\t<tr><th scope=row>PCK2</th><td>236</td><td>4  </td></tr>\n",
       "\t<tr><th scope=row>GOLGA6L5,RP11-182J1.12</th><td>  0</td><td>0  </td></tr>\n",
       "\t<tr><th scope=row>DDHD2</th><td>  1</td><td>0  </td></tr>\n",
       "\t<tr><th scope=row>DYNLL1</th><td> 31</td><td>6  </td></tr>\n",
       "\t<tr><th scope=row>HECTD4</th><td>  1</td><td>0  </td></tr>\n",
       "\t<tr><th scope=row>PDCD2</th><td>219</td><td>3  </td></tr>\n",
       "</tbody>\n",
       "</table>\n"
      ],
      "text/latex": [
       "\\begin{tabular}{r|ll}\n",
       "  & short & long\\\\\n",
       "\\hline\n",
       "\tPCK2 & 236 & 4  \\\\\n",
       "\tGOLGA6L5,RP11-182J1.12 &   0 & 0  \\\\\n",
       "\tDDHD2 &   1 & 0  \\\\\n",
       "\tDYNLL1 &  31 & 6  \\\\\n",
       "\tHECTD4 &   1 & 0  \\\\\n",
       "\tPDCD2 & 219 & 3  \\\\\n",
       "\\end{tabular}\n"
      ],
      "text/markdown": [
       "\n",
       "| <!--/--> | short | long | \n",
       "|---|---|---|---|---|---|\n",
       "| PCK2 | 236 | 4   | \n",
       "| GOLGA6L5,RP11-182J1.12 |   0 | 0   | \n",
       "| DDHD2 |   1 | 0   | \n",
       "| DYNLL1 |  31 | 6   | \n",
       "| HECTD4 |   1 | 0   | \n",
       "| PDCD2 | 219 | 3   | \n",
       "\n",
       "\n"
      ],
      "text/plain": [
       "                       short long\n",
       "PCK2                   236   4   \n",
       "GOLGA6L5,RP11-182J1.12   0   0   \n",
       "DDHD2                    1   0   \n",
       "DYNLL1                  31   6   \n",
       "HECTD4                   1   0   \n",
       "PDCD2                  219   3   "
      ]
     },
     "metadata": {},
     "output_type": "display_data"
    }
   ],
   "source": [
    "setwd('~/bme')\n",
    "short = read.table('shortread_junction_support.txt', fill=T)\n",
    "long = read.table('longread_junction_support.txt', fill=T)\n",
    "df = data.frame(short=short$V2, long=long$V2)\n",
    "rownames(df) = short$V1\n",
    "nrow(df)  # total number differentially spliced genes\n",
    "nrow(df[df$long==0 & df$short==0,])  # missing data \n",
    "nrow(df[df$long>0 & df$short==0,])  # \n",
    "head(df)"
   ]
  },
  {
   "cell_type": "code",
   "execution_count": 4,
   "metadata": {
    "collapsed": false
   },
   "outputs": [
    {
     "data": {
      "image/png": "[encoded data removed]",
      "text/plain": [
       "plot without title"
      ]
     },
     "metadata": {},
     "output_type": "display_data"
    }
   ],
   "source": [
    "plot(df$short, df$long, xlab='Short', ylab='Long', cex=0.5)"
   ]
  },
  {
   "cell_type": "code",
   "execution_count": 7,
   "metadata": {
    "collapsed": false
   },
   "outputs": [
    {
     "data": {
      "text/html": [
       "37"
      ],
      "text/latex": [
       "37"
      ],
      "text/markdown": [
       "37"
      ],
      "text/plain": [
       "[1] 37"
      ]
     },
     "metadata": {},
     "output_type": "display_data"
    }
   ],
   "source": []
  }
 ],
 "metadata": {
  "kernelspec": {
   "display_name": "R",
   "language": "R",
   "name": "ir"
  },
  "language_info": {
   "codemirror_mode": "r",
   "file_extension": ".r",
   "mimetype": "text/x-r-source",
   "name": "R",
   "pygments_lexer": "r",
   "version": "3.2.3"
  }
 },
 "nbformat": 4,
 "nbformat_minor": 0
}
