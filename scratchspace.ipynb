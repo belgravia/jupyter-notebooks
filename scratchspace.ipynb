{
 "cells": [
  {
   "cell_type": "code",
   "execution_count": 19,
   "metadata": {
    "collapsed": false
   },
   "outputs": [
    {
     "data": {
      "text/html": [
       "<table>\n",
       "<thead><tr><th scope=col>V1</th><th scope=col>V2</th></tr></thead>\n",
       "<tbody>\n",
       "\t<tr><td>ENSG00000232739.1</td><td>0                </td></tr>\n",
       "\t<tr><td>ENSG00000256612.7</td><td>0                </td></tr>\n",
       "\t<tr><td>ENSG00000253420.1</td><td>0                </td></tr>\n",
       "\t<tr><td>ENSG00000240350.2</td><td>0                </td></tr>\n",
       "\t<tr><td>ENSG00000229644.6</td><td>0                </td></tr>\n",
       "\t<tr><td>ENSG00000242070.1</td><td>0                </td></tr>\n",
       "</tbody>\n",
       "</table>\n"
      ],
      "text/latex": [
       "\\begin{tabular}{r|ll}\n",
       " V1 & V2\\\\\n",
       "\\hline\n",
       "\t ENSG00000232739.1 & 0                \\\\\n",
       "\t ENSG00000256612.7 & 0                \\\\\n",
       "\t ENSG00000253420.1 & 0                \\\\\n",
       "\t ENSG00000240350.2 & 0                \\\\\n",
       "\t ENSG00000229644.6 & 0                \\\\\n",
       "\t ENSG00000242070.1 & 0                \\\\\n",
       "\\end{tabular}\n"
      ],
      "text/markdown": [
       "\n",
       "V1 | V2 | \n",
       "|---|---|---|---|---|---|\n",
       "| ENSG00000232739.1 | 0                 | \n",
       "| ENSG00000256612.7 | 0                 | \n",
       "| ENSG00000253420.1 | 0                 | \n",
       "| ENSG00000240350.2 | 0                 | \n",
       "| ENSG00000229644.6 | 0                 | \n",
       "| ENSG00000242070.1 | 0                 | \n",
       "\n",
       "\n"
      ],
      "text/plain": [
       "  V1                V2\n",
       "1 ENSG00000232739.1 0 \n",
       "2 ENSG00000256612.7 0 \n",
       "3 ENSG00000253420.1 0 \n",
       "4 ENSG00000240350.2 0 \n",
       "5 ENSG00000229644.6 0 \n",
       "6 ENSG00000242070.1 0 "
      ]
     },
     "metadata": {},
     "output_type": "display_data"
    },
    {
     "data": {
      "text/html": [
       "0.13"
      ],
      "text/latex": [
       "0.13"
      ],
      "text/markdown": [
       "0.13"
      ],
      "text/plain": [
       "[1] 0.13"
      ]
     },
     "metadata": {},
     "output_type": "display_data"
    },
    {
     "data": {
      "text/html": [
       "0.36"
      ],
      "text/latex": [
       "0.36"
      ],
      "text/markdown": [
       "0.36"
      ],
      "text/plain": [
       "[1] 0.36"
      ]
     },
     "metadata": {},
     "output_type": "display_data"
    },
    {
     "data": {
      "image/png": "[encoded data removed]",
      "text/plain": [
       "Plot with title \"\""
      ]
     },
     "metadata": {},
     "output_type": "display_data"
    }
   ],
   "source": [
    "setwd('~/bme')\n",
    "mt = read.table('Gene_Expression.r.txt')\n",
    "wt = read.table('Gene_Expression.r.wt.txt')\n",
    "head(mt)\n",
    "min((mt$V2[mt$V2!=0]))\n",
    "min(wt$V2[wt$V2!=0])\n",
    "hist(log2(mt$V2[mt$V2 != 0 & mt$V2 < 50]*10), breaks=30, xlab='log2(read count)', ylab='Number of genes with >= 1 read', \n",
    "     main='', col='gray')"
   ]
  }
 ],
 "metadata": {
  "kernelspec": {
   "display_name": "R",
   "language": "R",
   "name": "ir"
  },
  "language_info": {
   "codemirror_mode": "r",
   "file_extension": ".r",
   "mimetype": "text/x-r-source",
   "name": "R",
   "pygments_lexer": "r",
   "version": "3.2.3"
  }
 },
 "nbformat": 4,
 "nbformat_minor": 2
}
