{
 "cells": [
  {
   "cell_type": "markdown",
   "metadata": {},
   "source": [
    "Notebook of DE analysis between SF3B1 mutant and wildtype!\n",
    "I concatenated the 2D pass and 2D fail reads for each condition into one fastq file. I aligned using bwa mem. I used Angela's script to count alignments. "
   ]
  },
  {
   "cell_type": "code",
   "execution_count": null,
   "metadata": {
    "collapsed": true
   },
   "outputs": [],
   "source": [
    "~/bl/bin/bwa-0.7.15/bwa mem -t 8 ~/bl/atang/reference/gencode.v24.transcripts.fa wt_2d_passfail.fq > wt_2d_passfail.sam &\n",
    "python geneCountFromSam.py -i manifest -o jone_bwa.counts"
   ]
  },
  {
   "cell_type": "code",
   "execution_count": 4,
   "metadata": {
    "collapsed": false,
    "scrolled": false
   },
   "outputs": [
    {
     "data": {
      "text/html": [
       "<table>\n",
       "<thead><tr><th scope=col>V1</th><th scope=col>V2</th></tr></thead>\n",
       "<tbody>\n",
       "\t<tr><td>A1BG    </td><td>2       </td></tr>\n",
       "\t<tr><td>A1BG-AS1</td><td>2       </td></tr>\n",
       "\t<tr><td>A1CF    </td><td>2       </td></tr>\n",
       "\t<tr><td>A2M-AS1 </td><td>1       </td></tr>\n",
       "\t<tr><td>AACS    </td><td>3       </td></tr>\n",
       "\t<tr><td>AAED1   </td><td>5       </td></tr>\n",
       "</tbody>\n",
       "</table>\n"
      ],
      "text/latex": [
       "\\begin{tabular}{r|ll}\n",
       " V1 & V2\\\\\n",
       "\\hline\n",
       "\t A1BG     & 2       \\\\\n",
       "\t A1BG-AS1 & 2       \\\\\n",
       "\t A1CF     & 2       \\\\\n",
       "\t A2M-AS1  & 1       \\\\\n",
       "\t AACS     & 3       \\\\\n",
       "\t AAED1    & 5       \\\\\n",
       "\\end{tabular}\n"
      ],
      "text/markdown": [
       "\n",
       "V1 | V2 | \n",
       "|---|---|---|---|---|---|\n",
       "| A1BG     | 2        | \n",
       "| A1BG-AS1 | 2        | \n",
       "| A1CF     | 2        | \n",
       "| A2M-AS1  | 1        | \n",
       "| AACS     | 3        | \n",
       "| AAED1    | 5        | \n",
       "\n",
       "\n"
      ],
      "text/plain": [
       "  V1       V2\n",
       "1 A1BG     2 \n",
       "2 A1BG-AS1 2 \n",
       "3 A1CF     2 \n",
       "4 A2M-AS1  1 \n",
       "5 AACS     3 \n",
       "6 AAED1    5 "
      ]
     },
     "metadata": {},
     "output_type": "display_data"
    },
    {
     "data": {
      "text/html": [
       "<table>\n",
       "<thead><tr><th scope=col>V1</th><th scope=col>V2</th></tr></thead>\n",
       "<tbody>\n",
       "\t<tr><td>5_8S_rRNA</td><td>1        </td></tr>\n",
       "\t<tr><td>A1BG     </td><td>2        </td></tr>\n",
       "\t<tr><td>A1BG-AS1 </td><td>1        </td></tr>\n",
       "\t<tr><td>A2ML1    </td><td>2        </td></tr>\n",
       "\t<tr><td>AAAS     </td><td>3        </td></tr>\n",
       "\t<tr><td>AACS     </td><td>8        </td></tr>\n",
       "</tbody>\n",
       "</table>\n"
      ],
      "text/latex": [
       "\\begin{tabular}{r|ll}\n",
       " V1 & V2\\\\\n",
       "\\hline\n",
       "\t 5\\_8S\\_rRNA & 1            \\\\\n",
       "\t A1BG      & 2        \\\\\n",
       "\t A1BG-AS1  & 1        \\\\\n",
       "\t A2ML1     & 2        \\\\\n",
       "\t AAAS      & 3        \\\\\n",
       "\t AACS      & 8        \\\\\n",
       "\\end{tabular}\n"
      ],
      "text/markdown": [
       "\n",
       "V1 | V2 | \n",
       "|---|---|---|---|---|---|\n",
       "| 5_8S_rRNA | 1         | \n",
       "| A1BG      | 2         | \n",
       "| A1BG-AS1  | 1         | \n",
       "| A2ML1     | 2         | \n",
       "| AAAS      | 3         | \n",
       "| AACS      | 8         | \n",
       "\n",
       "\n"
      ],
      "text/plain": [
       "  V1        V2\n",
       "1 5_8S_rRNA 1 \n",
       "2 A1BG      2 \n",
       "3 A1BG-AS1  1 \n",
       "4 A2ML1     2 \n",
       "5 AAAS      3 \n",
       "6 AACS      8 "
      ]
     },
     "metadata": {},
     "output_type": "display_data"
    }
   ],
   "source": [
    "setwd('~/bme/jupyter_data/')\n",
    "library('DESeq2')\n",
    "mt = read.table('jone_bwa.isoform.merged.counts', header=F)\n",
    "wt = read.table('eiho_bwa.isoform.merged.counts', header=F)\n",
    "head(mt)\n",
    "head(wt)"
   ]
  },
  {
   "cell_type": "code",
   "execution_count": 5,
   "metadata": {
    "collapsed": false
   },
   "outputs": [
    {
     "data": {
      "text/html": [
       "<table>\n",
       "<thead><tr><th></th><th scope=col>mt</th><th scope=col>wt</th></tr></thead>\n",
       "<tbody>\n",
       "\t<tr><th scope=row>A1BG</th><td>2</td><td>2</td></tr>\n",
       "\t<tr><th scope=row>A1BG-AS1</th><td>2</td><td>1</td></tr>\n",
       "\t<tr><th scope=row>A1CF</th><td>2</td><td>0</td></tr>\n",
       "\t<tr><th scope=row>A2M-AS1</th><td>1</td><td>0</td></tr>\n",
       "\t<tr><th scope=row>AACS</th><td>3</td><td>8</td></tr>\n",
       "\t<tr><th scope=row>AAED1</th><td>5</td><td>5</td></tr>\n",
       "</tbody>\n",
       "</table>\n"
      ],
      "text/latex": [
       "\\begin{tabular}{r|ll}\n",
       "  & mt & wt\\\\\n",
       "\\hline\n",
       "\tA1BG & 2 & 2\\\\\n",
       "\tA1BG-AS1 & 2 & 1\\\\\n",
       "\tA1CF & 2 & 0\\\\\n",
       "\tA2M-AS1 & 1 & 0\\\\\n",
       "\tAACS & 3 & 8\\\\\n",
       "\tAAED1 & 5 & 5\\\\\n",
       "\\end{tabular}\n"
      ],
      "text/markdown": [
       "\n",
       "| <!--/--> | mt | wt | \n",
       "|---|---|---|---|---|---|\n",
       "| A1BG | 2 | 2 | \n",
       "| A1BG-AS1 | 2 | 1 | \n",
       "| A1CF | 2 | 0 | \n",
       "| A2M-AS1 | 1 | 0 | \n",
       "| AACS | 3 | 8 | \n",
       "| AAED1 | 5 | 5 | \n",
       "\n",
       "\n"
      ],
      "text/plain": [
       "         mt wt\n",
       "A1BG     2  2 \n",
       "A1BG-AS1 2  1 \n",
       "A1CF     2  0 \n",
       "A2M-AS1  1  0 \n",
       "AACS     3  8 \n",
       "AAED1    5  5 "
      ]
     },
     "metadata": {},
     "output_type": "display_data"
    },
    {
     "data": {
      "text/html": [
       "15395"
      ],
      "text/latex": [
       "15395"
      ],
      "text/markdown": [
       "15395"
      ],
      "text/plain": [
       "[1] 15395"
      ]
     },
     "metadata": {},
     "output_type": "display_data"
    },
    {
     "name": "stderr",
     "output_type": "stream",
     "text": [
      "converting counts to integer mode\n",
      "estimating size factors\n",
      "estimating dispersions\n",
      "Warning message in checkForExperimentalReplicates(object, modelMatrix):\n",
      "\"same number of samples and coefficients to fit,\n",
      "  estimating dispersion by treating samples as replicates.\n",
      "  read the ?DESeq section on 'Experiments without replicates'\"gene-wise dispersion estimates\n",
      "mean-dispersion relationship\n",
      "final dispersion estimates\n",
      "fitting model and testing\n"
     ]
    }
   ],
   "source": [
    "allgenes = unique(c(as.character(mt$V1), as.character(wt$V1)))\n",
    "counts = data.frame(mt=rep(0, length(allgenes)), wt=rep(0, length(allgenes)))\n",
    "rownames(counts) = allgenes\n",
    "counts$mt = mt$V2[match(allgenes, mt$V1)]\n",
    "counts$wt = wt$V2[match(allgenes, wt$V1)]\n",
    "counts$mt[is.na(counts$mt)] = 0\n",
    "counts$wt[is.na(counts$wt)] = 0\n",
    "head(counts)\n",
    "nrow(counts)\n",
    "\n",
    "dds = DESeqDataSetFromMatrix(countData = as.matrix(counts), colData = data.frame(condition=c('wt', 'mt')), design=~condition)\n",
    "dds = DESeq(dds)\n",
    "res = results(dds, alpha=0.05)\n",
    "sig = res[res$pvalue < 0.05,]"
   ]
  },
  {
   "cell_type": "code",
   "execution_count": 9,
   "metadata": {
    "collapsed": false,
    "scrolled": false
   },
   "outputs": [
    {
     "data": {
      "text/plain": [
       "log2 fold change (MAP): condition wt vs mt \n",
       "Wald test p-value: condition wt vs mt \n",
       "DataFrame with 6 rows and 6 columns\n",
       "          baseMean log2FoldChange     lfcSE          stat    pvalue      padj\n",
       "         <numeric>      <numeric> <numeric>     <numeric> <numeric> <numeric>\n",
       "A1BG           2.0   1.326132e-16  2.079590  6.376890e-17 1.0000000         1\n",
       "A1BG-AS1       1.5   4.242683e-01  2.058155  2.061401e-01 0.8366815         1\n",
       "A1CF           1.0   1.119306e+00  1.887972  5.928613e-01 0.5532740         1\n",
       "A2M-AS1        0.5   8.892342e-01  1.793242  4.958808e-01 0.6199785         1\n",
       "AACS           5.5  -9.926376e-01  1.898277 -5.229152e-01 0.6010333         1\n",
       "AAED1          5.0  -7.182671e-16  1.912720 -3.755212e-16 1.0000000         1"
      ]
     },
     "metadata": {},
     "output_type": "display_data"
    },
    {
     "data": {
      "text/html": [
       "0"
      ],
      "text/latex": [
       "0"
      ],
      "text/markdown": [
       "0"
      ],
      "text/plain": [
       "[1] 0"
      ]
     },
     "metadata": {},
     "output_type": "display_data"
    },
    {
     "data": {
      "text/html": [
       "24"
      ],
      "text/latex": [
       "24"
      ],
      "text/markdown": [
       "24"
      ],
      "text/plain": [
       "[1] 24"
      ]
     },
     "metadata": {},
     "output_type": "display_data"
    },
    {
     "data": {
      "text/plain": [
       "log2 fold change (MAP): condition wt vs mt \n",
       "Wald test p-value: condition wt vs mt \n",
       "DataFrame with 55 rows and 6 columns\n",
       "            baseMean log2FoldChange     lfcSE      stat      pvalue      padj\n",
       "           <numeric>      <numeric> <numeric> <numeric>   <numeric> <numeric>\n",
       "AC007192.4      30.0       2.734434 1.4208157  1.924552  0.05428543         1\n",
       "AC097374.2       6.0       3.466320 2.0386383  1.700312  0.08907234         1\n",
       "ACTB           492.5       1.977755 0.9496469  2.082621  0.03728575         1\n",
       "ACTG1           60.0       2.534959 1.2270384  2.065917  0.03883636         1\n",
       "AIF1            21.0       3.038886 1.5702353  1.935306  0.05295277         1\n",
       "...              ...            ...       ...       ...         ...       ...\n",
       "TSPO            11.5       3.223468  1.806487  1.784385 0.074361082         1\n",
       "TYROBP          15.0       3.601583  1.758084  2.048584 0.040502768         1\n",
       "U2              43.5      -4.442650  1.544774 -2.875922 0.004028496         1\n",
       "UBL7             8.5       3.977503  1.996811  1.991927 0.046379052         1\n",
       "SNORD118         6.0      -3.466320  2.038638 -1.700312 0.089072337         1"
      ]
     },
     "metadata": {},
     "output_type": "display_data"
    },
    {
     "data": {
      "text/html": [
       "<table>\n",
       "<thead><tr><th scope=col>logFC</th><th scope=col>negLogPval</th></tr></thead>\n",
       "<tbody>\n",
       "\t<tr><td> 1.326132e-16</td><td>0.000000e+00 </td></tr>\n",
       "\t<tr><td> 4.242683e-01</td><td>7.743984e-02 </td></tr>\n",
       "\t<tr><td> 1.119306e+00</td><td>2.570598e-01 </td></tr>\n",
       "\t<tr><td> 8.892342e-01</td><td>2.076233e-01 </td></tr>\n",
       "\t<tr><td>-9.926376e-01</td><td>2.211015e-01 </td></tr>\n",
       "\t<tr><td>-7.182671e-16</td><td>1.446491e-16 </td></tr>\n",
       "</tbody>\n",
       "</table>\n"
      ],
      "text/latex": [
       "\\begin{tabular}{r|ll}\n",
       " logFC & negLogPval\\\\\n",
       "\\hline\n",
       "\t  1.326132e-16 & 0.000000e+00 \\\\\n",
       "\t  4.242683e-01 & 7.743984e-02 \\\\\n",
       "\t  1.119306e+00 & 2.570598e-01 \\\\\n",
       "\t  8.892342e-01 & 2.076233e-01 \\\\\n",
       "\t -9.926376e-01 & 2.211015e-01 \\\\\n",
       "\t -7.182671e-16 & 1.446491e-16 \\\\\n",
       "\\end{tabular}\n"
      ],
      "text/markdown": [
       "\n",
       "logFC | negLogPval | \n",
       "|---|---|---|---|---|---|\n",
       "|  1.326132e-16 | 0.000000e+00  | \n",
       "|  4.242683e-01 | 7.743984e-02  | \n",
       "|  1.119306e+00 | 2.570598e-01  | \n",
       "|  8.892342e-01 | 2.076233e-01  | \n",
       "| -9.926376e-01 | 2.211015e-01  | \n",
       "| -7.182671e-16 | 1.446491e-16  | \n",
       "\n",
       "\n"
      ],
      "text/plain": [
       "  logFC         negLogPval  \n",
       "1  1.326132e-16 0.000000e+00\n",
       "2  4.242683e-01 7.743984e-02\n",
       "3  1.119306e+00 2.570598e-01\n",
       "4  8.892342e-01 2.076233e-01\n",
       "5 -9.926376e-01 2.211015e-01\n",
       "6 -7.182671e-16 1.446491e-16"
      ]
     },
     "metadata": {},
     "output_type": "display_data"
    },
    {
     "data": {
      "image/png": "[encoded data removed]",
      "text/plain": [
       "plot without title"
      ]
     },
     "metadata": {},
     "output_type": "display_data"
    }
   ],
   "source": [
    "head(res)\n",
    "sum(res$padj[!is.na(res$padj)]!=1)\n",
    "# sig_genes = rownames(res)[!is.na(res$padj) & res$padj < 0.05]\n",
    "sig = res[res$pvalue < 0.05,]\n",
    "nrow(sig)\n",
    "res[res$pvalue<0.1,]\n",
    "sig_genes = rownames(res)[res$pvalue<0.1]\n",
    "tab = data.frame(logFC = res$log2FoldChange, negLogPval = -log10(res$pvalue))\n",
    "head(tab)\n",
    "par(mar = c(5, 4, 4, 4))\n",
    "plot(tab, pch = 16, cex = 0.6, xlab = expression(log[2]~fold~change), ylab = expression(-log[10]~pvalue))\n",
    "lfc = 2\n",
    "pval = 0.01\n",
    "signGenes = (abs(tab$logFC) > lfc & tab$negLogPval > -log10(pval))\n",
    "points(tab[signGenes, ], pch = 16, cex = 0.8, col = \"red\") \n",
    "abline(h = -log10(pval), col = \"green3\", lty = 2) \n",
    "abline(v = c(-lfc, lfc), col = \"blue\", lty = 2) \n",
    "mtext(paste(\"pval =\", pval), side = 4, at = -log10(pval), cex = 0.8, line = 0.5, las = 1) \n",
    "mtext(c(paste(\"-\", lfc, \"fold\"), paste(\"+\", lfc, \"fold\")), side = 3, at = c(-lfc, lfc), cex = 0.8, line = 0.5)"
   ]
  },
  {
   "cell_type": "markdown",
   "metadata": {},
   "source": [
    "It's evident that there are more reads in the mutant than wildtype run and this is reflected in the differential expression analysis. DESeq without replicates might not normalize for library size. Genes of interest are IGKC, TMEM107, U2, SNORD118."
   ]
  },
  {
   "cell_type": "code",
   "execution_count": 10,
   "metadata": {
    "collapsed": false
   },
   "outputs": [
    {
     "data": {
      "text/html": [
       "<table>\n",
       "<thead><tr><th></th><th scope=col>mt</th><th scope=col>wt</th></tr></thead>\n",
       "<tbody>\n",
       "\t<tr><th scope=row>AC007192.4</th><td> 54</td><td>  6</td></tr>\n",
       "\t<tr><th scope=row>AC097374.2</th><td> 12</td><td>  0</td></tr>\n",
       "\t<tr><th scope=row>ACTB</th><td>798</td><td>187</td></tr>\n",
       "\t<tr><th scope=row>ACTG1</th><td>105</td><td> 15</td></tr>\n",
       "\t<tr><th scope=row>AIF1</th><td> 39</td><td>  3</td></tr>\n",
       "\t<tr><th scope=row>ANXA1</th><td> 18</td><td>  0</td></tr>\n",
       "\t<tr><th scope=row>ANXA2</th><td> 40</td><td>  4</td></tr>\n",
       "\t<tr><th scope=row>CCDC191</th><td> 22</td><td>  1</td></tr>\n",
       "\t<tr><th scope=row>CCL5</th><td> 53</td><td>  3</td></tr>\n",
       "\t<tr><th scope=row>CD68</th><td> 54</td><td>  5</td></tr>\n",
       "\t<tr><th scope=row>CLIC1</th><td> 47</td><td>  4</td></tr>\n",
       "\t<tr><th scope=row>CTSD</th><td> 21</td><td>  0</td></tr>\n",
       "\t<tr><th scope=row>DOK2</th><td> 15</td><td>  0</td></tr>\n",
       "\t<tr><th scope=row>DUSP1</th><td>104</td><td> 23</td></tr>\n",
       "\t<tr><th scope=row>FCER1G</th><td> 39</td><td>  1</td></tr>\n",
       "\t<tr><th scope=row>FCGR3A</th><td> 16</td><td>  0</td></tr>\n",
       "\t<tr><th scope=row>FCN1</th><td>114</td><td>  5</td></tr>\n",
       "\t<tr><th scope=row>FTH1</th><td>337</td><td> 55</td></tr>\n",
       "\t<tr><th scope=row>GNLY</th><td> 28</td><td>  2</td></tr>\n",
       "\t<tr><th scope=row>IER2</th><td> 35</td><td>  1</td></tr>\n",
       "\t<tr><th scope=row>IFI30</th><td> 66</td><td>  9</td></tr>\n",
       "\t<tr><th scope=row>IFNGR1</th><td> 14</td><td>  0</td></tr>\n",
       "\t<tr><th scope=row>IGKC</th><td> 32</td><td>298</td></tr>\n",
       "\t<tr><th scope=row>ITGB2</th><td> 35</td><td>  2</td></tr>\n",
       "\t<tr><th scope=row>ITM2B</th><td> 40</td><td>  5</td></tr>\n",
       "\t<tr><th scope=row>LDHB</th><td> 33</td><td>  3</td></tr>\n",
       "\t<tr><th scope=row>LYZ</th><td>439</td><td> 41</td></tr>\n",
       "\t<tr><th scope=row>MS4A6A</th><td> 23</td><td>  1</td></tr>\n",
       "\t<tr><th scope=row>MT-RNR1</th><td>115</td><td> 28</td></tr>\n",
       "\t<tr><th scope=row>MZB1</th><td> 13</td><td>  0</td></tr>\n",
       "\t<tr><th scope=row>NCOA4</th><td> 15</td><td>  0</td></tr>\n",
       "\t<tr><th scope=row>NKG7</th><td> 16</td><td>  0</td></tr>\n",
       "\t<tr><th scope=row>PLAUR</th><td> 12</td><td>  0</td></tr>\n",
       "\t<tr><th scope=row>PLEK</th><td> 19</td><td>  1</td></tr>\n",
       "\t<tr><th scope=row>PPBP</th><td> 16</td><td>  0</td></tr>\n",
       "\t<tr><th scope=row>PRF1</th><td> 15</td><td>  0</td></tr>\n",
       "\t<tr><th scope=row>PSAP</th><td>124</td><td> 26</td></tr>\n",
       "\t<tr><th scope=row>PYCARD</th><td> 18</td><td>  0</td></tr>\n",
       "\t<tr><th scope=row>RGS19</th><td> 12</td><td>  0</td></tr>\n",
       "\t<tr><th scope=row>RNASE6</th><td> 17</td><td>  0</td></tr>\n",
       "\t<tr><th scope=row>RPS2</th><td>339</td><td>101</td></tr>\n",
       "\t<tr><th scope=row>RPS4Y1</th><td> 15</td><td>  0</td></tr>\n",
       "\t<tr><th scope=row>S100A11</th><td> 36</td><td>  1</td></tr>\n",
       "\t<tr><th scope=row>S100A8</th><td> 63</td><td>  1</td></tr>\n",
       "\t<tr><th scope=row>SDCBP</th><td> 14</td><td>  0</td></tr>\n",
       "\t<tr><th scope=row>SH3BGRL3</th><td>122</td><td> 30</td></tr>\n",
       "\t<tr><th scope=row>THEMIS2</th><td> 15</td><td>  0</td></tr>\n",
       "\t<tr><th scope=row>TMEM107</th><td>  3</td><td> 71</td></tr>\n",
       "\t<tr><th scope=row>TMSB4X</th><td>249</td><td> 33</td></tr>\n",
       "\t<tr><th scope=row>TNFRSF1B</th><td> 20</td><td>  0</td></tr>\n",
       "\t<tr><th scope=row>TSPO</th><td> 22</td><td>  1</td></tr>\n",
       "\t<tr><th scope=row>TYROBP</th><td> 29</td><td>  1</td></tr>\n",
       "\t<tr><th scope=row>U2</th><td>  2</td><td> 85</td></tr>\n",
       "\t<tr><th scope=row>UBL7</th><td> 17</td><td>  0</td></tr>\n",
       "\t<tr><th scope=row>SNORD118</th><td>  0</td><td> 12</td></tr>\n",
       "</tbody>\n",
       "</table>\n"
      ],
      "text/latex": [
       "\\begin{tabular}{r|ll}\n",
       "  & mt & wt\\\\\n",
       "\\hline\n",
       "\tAC007192.4 &  54 &   6\\\\\n",
       "\tAC097374.2 &  12 &   0\\\\\n",
       "\tACTB & 798 & 187\\\\\n",
       "\tACTG1 & 105 &  15\\\\\n",
       "\tAIF1 &  39 &   3\\\\\n",
       "\tANXA1 &  18 &   0\\\\\n",
       "\tANXA2 &  40 &   4\\\\\n",
       "\tCCDC191 &  22 &   1\\\\\n",
       "\tCCL5 &  53 &   3\\\\\n",
       "\tCD68 &  54 &   5\\\\\n",
       "\tCLIC1 &  47 &   4\\\\\n",
       "\tCTSD &  21 &   0\\\\\n",
       "\tDOK2 &  15 &   0\\\\\n",
       "\tDUSP1 & 104 &  23\\\\\n",
       "\tFCER1G &  39 &   1\\\\\n",
       "\tFCGR3A &  16 &   0\\\\\n",
       "\tFCN1 & 114 &   5\\\\\n",
       "\tFTH1 & 337 &  55\\\\\n",
       "\tGNLY &  28 &   2\\\\\n",
       "\tIER2 &  35 &   1\\\\\n",
       "\tIFI30 &  66 &   9\\\\\n",
       "\tIFNGR1 &  14 &   0\\\\\n",
       "\tIGKC &  32 & 298\\\\\n",
       "\tITGB2 &  35 &   2\\\\\n",
       "\tITM2B &  40 &   5\\\\\n",
       "\tLDHB &  33 &   3\\\\\n",
       "\tLYZ & 439 &  41\\\\\n",
       "\tMS4A6A &  23 &   1\\\\\n",
       "\tMT-RNR1 & 115 &  28\\\\\n",
       "\tMZB1 &  13 &   0\\\\\n",
       "\tNCOA4 &  15 &   0\\\\\n",
       "\tNKG7 &  16 &   0\\\\\n",
       "\tPLAUR &  12 &   0\\\\\n",
       "\tPLEK &  19 &   1\\\\\n",
       "\tPPBP &  16 &   0\\\\\n",
       "\tPRF1 &  15 &   0\\\\\n",
       "\tPSAP & 124 &  26\\\\\n",
       "\tPYCARD &  18 &   0\\\\\n",
       "\tRGS19 &  12 &   0\\\\\n",
       "\tRNASE6 &  17 &   0\\\\\n",
       "\tRPS2 & 339 & 101\\\\\n",
       "\tRPS4Y1 &  15 &   0\\\\\n",
       "\tS100A11 &  36 &   1\\\\\n",
       "\tS100A8 &  63 &   1\\\\\n",
       "\tSDCBP &  14 &   0\\\\\n",
       "\tSH3BGRL3 & 122 &  30\\\\\n",
       "\tTHEMIS2 &  15 &   0\\\\\n",
       "\tTMEM107 &   3 &  71\\\\\n",
       "\tTMSB4X & 249 &  33\\\\\n",
       "\tTNFRSF1B &  20 &   0\\\\\n",
       "\tTSPO &  22 &   1\\\\\n",
       "\tTYROBP &  29 &   1\\\\\n",
       "\tU2 &   2 &  85\\\\\n",
       "\tUBL7 &  17 &   0\\\\\n",
       "\tSNORD118 &   0 &  12\\\\\n",
       "\\end{tabular}\n"
      ],
      "text/markdown": [
       "\n",
       "| <!--/--> | mt | wt | \n",
       "|---|---|---|---|---|---|---|---|---|---|---|---|---|---|---|---|---|---|---|---|---|---|---|---|---|---|---|---|---|---|---|---|---|---|---|---|---|---|---|---|---|---|---|---|---|---|---|---|---|---|---|---|---|---|---|\n",
       "| AC007192.4 |  54 |   6 | \n",
       "| AC097374.2 |  12 |   0 | \n",
       "| ACTB | 798 | 187 | \n",
       "| ACTG1 | 105 |  15 | \n",
       "| AIF1 |  39 |   3 | \n",
       "| ANXA1 |  18 |   0 | \n",
       "| ANXA2 |  40 |   4 | \n",
       "| CCDC191 |  22 |   1 | \n",
       "| CCL5 |  53 |   3 | \n",
       "| CD68 |  54 |   5 | \n",
       "| CLIC1 |  47 |   4 | \n",
       "| CTSD |  21 |   0 | \n",
       "| DOK2 |  15 |   0 | \n",
       "| DUSP1 | 104 |  23 | \n",
       "| FCER1G |  39 |   1 | \n",
       "| FCGR3A |  16 |   0 | \n",
       "| FCN1 | 114 |   5 | \n",
       "| FTH1 | 337 |  55 | \n",
       "| GNLY |  28 |   2 | \n",
       "| IER2 |  35 |   1 | \n",
       "| IFI30 |  66 |   9 | \n",
       "| IFNGR1 |  14 |   0 | \n",
       "| IGKC |  32 | 298 | \n",
       "| ITGB2 |  35 |   2 | \n",
       "| ITM2B |  40 |   5 | \n",
       "| LDHB |  33 |   3 | \n",
       "| LYZ | 439 |  41 | \n",
       "| MS4A6A |  23 |   1 | \n",
       "| MT-RNR1 | 115 |  28 | \n",
       "| MZB1 |  13 |   0 | \n",
       "| NCOA4 |  15 |   0 | \n",
       "| NKG7 |  16 |   0 | \n",
       "| PLAUR |  12 |   0 | \n",
       "| PLEK |  19 |   1 | \n",
       "| PPBP |  16 |   0 | \n",
       "| PRF1 |  15 |   0 | \n",
       "| PSAP | 124 |  26 | \n",
       "| PYCARD |  18 |   0 | \n",
       "| RGS19 |  12 |   0 | \n",
       "| RNASE6 |  17 |   0 | \n",
       "| RPS2 | 339 | 101 | \n",
       "| RPS4Y1 |  15 |   0 | \n",
       "| S100A11 |  36 |   1 | \n",
       "| S100A8 |  63 |   1 | \n",
       "| SDCBP |  14 |   0 | \n",
       "| SH3BGRL3 | 122 |  30 | \n",
       "| THEMIS2 |  15 |   0 | \n",
       "| TMEM107 |   3 |  71 | \n",
       "| TMSB4X | 249 |  33 | \n",
       "| TNFRSF1B |  20 |   0 | \n",
       "| TSPO |  22 |   1 | \n",
       "| TYROBP |  29 |   1 | \n",
       "| U2 |   2 |  85 | \n",
       "| UBL7 |  17 |   0 | \n",
       "| SNORD118 |   0 |  12 | \n",
       "\n",
       "\n"
      ],
      "text/plain": [
       "           mt  wt \n",
       "AC007192.4  54   6\n",
       "AC097374.2  12   0\n",
       "ACTB       798 187\n",
       "ACTG1      105  15\n",
       "AIF1        39   3\n",
       "ANXA1       18   0\n",
       "ANXA2       40   4\n",
       "CCDC191     22   1\n",
       "CCL5        53   3\n",
       "CD68        54   5\n",
       "CLIC1       47   4\n",
       "CTSD        21   0\n",
       "DOK2        15   0\n",
       "DUSP1      104  23\n",
       "FCER1G      39   1\n",
       "FCGR3A      16   0\n",
       "FCN1       114   5\n",
       "FTH1       337  55\n",
       "GNLY        28   2\n",
       "IER2        35   1\n",
       "IFI30       66   9\n",
       "IFNGR1      14   0\n",
       "IGKC        32 298\n",
       "ITGB2       35   2\n",
       "ITM2B       40   5\n",
       "LDHB        33   3\n",
       "LYZ        439  41\n",
       "MS4A6A      23   1\n",
       "MT-RNR1    115  28\n",
       "MZB1        13   0\n",
       "NCOA4       15   0\n",
       "NKG7        16   0\n",
       "PLAUR       12   0\n",
       "PLEK        19   1\n",
       "PPBP        16   0\n",
       "PRF1        15   0\n",
       "PSAP       124  26\n",
       "PYCARD      18   0\n",
       "RGS19       12   0\n",
       "RNASE6      17   0\n",
       "RPS2       339 101\n",
       "RPS4Y1      15   0\n",
       "S100A11     36   1\n",
       "S100A8      63   1\n",
       "SDCBP       14   0\n",
       "SH3BGRL3   122  30\n",
       "THEMIS2     15   0\n",
       "TMEM107      3  71\n",
       "TMSB4X     249  33\n",
       "TNFRSF1B    20   0\n",
       "TSPO        22   1\n",
       "TYROBP      29   1\n",
       "U2           2  85\n",
       "UBL7        17   0\n",
       "SNORD118     0  12"
      ]
     },
     "metadata": {},
     "output_type": "display_data"
    }
   ],
   "source": [
    "counts[rownames(counts) %in% sig_genes,]"
   ]
  }
 ],
 "metadata": {
  "kernelspec": {
   "display_name": "R",
   "language": "R",
   "name": "ir"
  },
  "language_info": {
   "codemirror_mode": "r",
   "file_extension": ".r",
   "mimetype": "text/x-r-source",
   "name": "R",
   "pygments_lexer": "r",
   "version": "3.2.3"
  }
 },
 "nbformat": 4,
 "nbformat_minor": 2
}
