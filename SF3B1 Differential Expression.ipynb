{
 "cells": [
  {
   "cell_type": "markdown",
   "metadata": {},
   "source": [
    "Notebook of DE analysis between SF3B1 mutant and wildtype!\n",
    "I concatenated the 2D pass and 2D fail reads for each condition into one fastq file. I aligned using bwa mem. I used Angela's script to count alignments. "
   ]
  },
  {
   "cell_type": "code",
   "execution_count": null,
   "metadata": {
    "collapsed": true
   },
   "outputs": [],
   "source": [
    "~/bl/bin/bwa-0.7.15/bwa mem -t 8 ~/bl/atang/reference/gencode.v24.transcripts.fa wt_2d_passfail.fq > wt_2d_passfail.sam &\n",
    "python geneCountFromSam.py -i manifest -o jone_bwa.counts"
   ]
  },
  {
   "cell_type": "code",
   "execution_count": 21,
   "metadata": {
    "collapsed": false
   },
   "outputs": [
    {
     "data": {
      "text/html": [
       "<table>\n",
       "<thead><tr><th scope=col>gene</th><th scope=col>transcript_type</th><th scope=col>jone</th></tr></thead>\n",
       "<tbody>\n",
       "\t<tr><td>AIMP1               </td><td>protein_coding      </td><td> 3                  </td></tr>\n",
       "\t<tr><td>EIF4A3              </td><td>protein_coding      </td><td>10                  </td></tr>\n",
       "\t<tr><td>STAG3L2             </td><td>retained_intron     </td><td> 3                  </td></tr>\n",
       "\t<tr><td>RP11-96D1.5         </td><td>antisense           </td><td> 2                  </td></tr>\n",
       "\t<tr><td>NSUN3               </td><td>processed_transcript</td><td> 4                  </td></tr>\n",
       "\t<tr><td>CRIP3               </td><td>protein_coding      </td><td> 1                  </td></tr>\n",
       "</tbody>\n",
       "</table>\n"
      ],
      "text/latex": [
       "\\begin{tabular}{r|lll}\n",
       " gene & transcript\\_type & jone\\\\\n",
       "\\hline\n",
       "\t AIMP1                  & protein\\_coding       &  3                    \\\\\n",
       "\t EIF4A3                 & protein\\_coding       & 10                    \\\\\n",
       "\t STAG3L2                & retained\\_intron      &  3                    \\\\\n",
       "\t RP11-96D1.5          & antisense            &  2                  \\\\\n",
       "\t NSUN3                  & processed\\_transcript &  4                    \\\\\n",
       "\t CRIP3                  & protein\\_coding       &  1                    \\\\\n",
       "\\end{tabular}\n"
      ],
      "text/markdown": [
       "\n",
       "gene | transcript_type | jone | \n",
       "|---|---|---|---|---|---|\n",
       "| AIMP1                | protein_coding       |  3                   | \n",
       "| EIF4A3               | protein_coding       | 10                   | \n",
       "| STAG3L2              | retained_intron      |  3                   | \n",
       "| RP11-96D1.5          | antisense            |  2                   | \n",
       "| NSUN3                | processed_transcript |  4                   | \n",
       "| CRIP3                | protein_coding       |  1                   | \n",
       "\n",
       "\n"
      ],
      "text/plain": [
       "  gene        transcript_type      jone\n",
       "1 AIMP1       protein_coding        3  \n",
       "2 EIF4A3      protein_coding       10  \n",
       "3 STAG3L2     retained_intron       3  \n",
       "4 RP11-96D1.5 antisense             2  \n",
       "5 NSUN3       processed_transcript  4  \n",
       "6 CRIP3       protein_coding        1  "
      ]
     },
     "metadata": {},
     "output_type": "display_data"
    }
   ],
   "source": [
    "setwd('~/bme/jupyter_data/')\n",
    "library('DESeq2')\n",
    "mt = read.table('jone_bwa.counts', header=T)\n",
    "wt = read.table('eiho_bwa.counts', header=T)\n",
    "head(mt)"
   ]
  },
  {
   "cell_type": "code",
   "execution_count": 33,
   "metadata": {
    "collapsed": false
   },
   "outputs": [
    {
     "data": {
      "text/html": [
       "<dl class=dl-horizontal>\n",
       "\t<dt>ACTB</dt>\n",
       "\t\t<dd>4</dd>\n",
       "\t<dt>ANKRD44</dt>\n",
       "\t\t<dd>4</dd>\n",
       "\t<dt>ARPC1B</dt>\n",
       "\t\t<dd>4</dd>\n",
       "\t<dt>B2M</dt>\n",
       "\t\t<dd>4</dd>\n",
       "\t<dt>CARS</dt>\n",
       "\t\t<dd>4</dd>\n",
       "\t<dt>CARS2</dt>\n",
       "\t\t<dd>4</dd>\n",
       "</dl>\n"
      ],
      "text/plain": [
       "\n",
       "   ACTB ANKRD44  ARPC1B     B2M    CARS   CARS2 \n",
       "      4       4       4       4       4       4 "
      ]
     },
     "metadata": {},
     "output_type": "display_data"
    },
    {
     "data": {
      "text/html": [
       "<table>\n",
       "<thead><tr><th scope=col>mt</th><th scope=col>wt</th></tr></thead>\n",
       "<tbody>\n",
       "\t<tr><td> 3</td><td>2 </td></tr>\n",
       "\t<tr><td>10</td><td>4 </td></tr>\n",
       "\t<tr><td> 3</td><td>6 </td></tr>\n",
       "\t<tr><td> 2</td><td>1 </td></tr>\n",
       "\t<tr><td> 4</td><td>0 </td></tr>\n",
       "\t<tr><td> 1</td><td>0 </td></tr>\n",
       "</tbody>\n",
       "</table>\n"
      ],
      "text/latex": [
       "\\begin{tabular}{r|ll}\n",
       " mt & wt\\\\\n",
       "\\hline\n",
       "\t  3 & 2 \\\\\n",
       "\t 10 & 4 \\\\\n",
       "\t  3 & 6 \\\\\n",
       "\t  2 & 1 \\\\\n",
       "\t  4 & 0 \\\\\n",
       "\t  1 & 0 \\\\\n",
       "\\end{tabular}\n"
      ],
      "text/markdown": [
       "\n",
       "mt | wt | \n",
       "|---|---|---|---|---|---|\n",
       "|  3 | 2  | \n",
       "| 10 | 4  | \n",
       "|  3 | 6  | \n",
       "|  2 | 1  | \n",
       "|  4 | 0  | \n",
       "|  1 | 0  | \n",
       "\n",
       "\n"
      ],
      "text/plain": [
       "  mt wt\n",
       "1  3 2 \n",
       "2 10 4 \n",
       "3  3 6 \n",
       "4  2 1 \n",
       "5  4 0 \n",
       "6  1 0 "
      ]
     },
     "metadata": {},
     "output_type": "display_data"
    },
    {
     "name": "stderr",
     "output_type": "stream",
     "text": [
      "converting counts to integer mode\n"
     ]
    },
    {
     "ename": "ERROR",
     "evalue": "Error in results(dds, alpha = 0.05): couldn't find results. you should first run DESeq()\n",
     "output_type": "error",
     "traceback": [
      "Error in results(dds, alpha = 0.05): couldn't find results. you should first run DESeq()\nTraceback:\n",
      "1. results(dds, alpha = 0.05)",
      "2. stop(\"couldn't find results. you should first run DESeq()\")"
     ]
    }
   ],
   "source": [
    "# counts = data.frame(mt=mt$jone, wt=wt$wt[match(mt$gene, wt$gene)])\n",
    "# counts$wt[is.na(counts$wt)] = 0\n",
    "# rownames(counts) = as.character(mt$gene)\n",
    "head(sort(table(as.character(mt$gene)), decreasing = T))\n",
    "\n",
    "head(counts)\n",
    "\n",
    "dds = DESeqDataSetFromMatrix(countData = as.matrix(counts), colData = data.frame(condition=c('wt', 'mt')), design=~condition)\n",
    "# dds = DESeq(dds)\n",
    "res = results(dds, alpha=0.05)\n",
    "head(res)\n",
    "sum(res$padj[!is.na(res$padj)]!=1)\n",
    "# sum(res$padj[!is.na(res$padj)]<0.05)\n",
    "# sig_genes = rownames(res)[!is.na(res$padj) & res$padj < 0.05]\n",
    "res[res$pvalue < 0.05,]"
   ]
  }
 ],
 "metadata": {
  "kernelspec": {
   "display_name": "R",
   "language": "R",
   "name": "ir"
  },
  "language_info": {
   "codemirror_mode": "r",
   "file_extension": ".r",
   "mimetype": "text/x-r-source",
   "name": "R",
   "pygments_lexer": "r",
   "version": "3.2.3"
  }
 },
 "nbformat": 4,
 "nbformat_minor": 2
}
