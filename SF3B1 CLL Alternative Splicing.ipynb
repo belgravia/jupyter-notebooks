{
 "cells": [
  {
   "cell_type": "markdown",
   "metadata": {},
   "source": [
    "I do Fisher exact tests on junctions we already know are alternatively spliced from short reads just to see what concordance looks like.\n",
    "\n",
    "A few genes have p-values that aren't 1, however none have a value below 0.05. The x-axis is arbitrarily indexed."
   ]
  },
  {
   "cell_type": "code",
   "execution_count": 13,
   "metadata": {
    "collapsed": false
   },
   "outputs": [
    {
     "data": {
      "text/html": [
       "<table>\n",
       "<thead><tr><th scope=col>V1</th><th scope=col>V2</th><th scope=col>V3</th><th scope=col>V4</th><th scope=col>V5</th><th scope=col>V1</th><th scope=col>V2</th><th scope=col>V3</th><th scope=col>V4</th><th scope=col>V5</th></tr></thead>\n",
       "<tbody>\n",
       "\t<tr><td>PCK2                  </td><td>24099721              </td><td>24099994              </td><td>0                     </td><td>1                     </td><td>PCK2                  </td><td>24099721              </td><td>24099994              </td><td>2                     </td><td>1                     </td></tr>\n",
       "\t<tr><td>PCK2                  </td><td>24099721              </td><td>24102752              </td><td>0                     </td><td>1                     </td><td>PCK2                  </td><td>24099721              </td><td>24102752              </td><td>1                     </td><td>1                     </td></tr>\n",
       "\t<tr><td>GOLGA6L5,RP11-182J1.12</td><td>84513303              </td><td>84513966              </td><td>0                     </td><td>1                     </td><td>GOLGA6L5,RP11-182J1.12</td><td>84513303              </td><td>84513966              </td><td>0                     </td><td>1                     </td></tr>\n",
       "\t<tr><td>GOLGA6L5,RP11-182J1.12</td><td>84513331              </td><td>84513966              </td><td>0                     </td><td>1                     </td><td>GOLGA6L5,RP11-182J1.12</td><td>84513331              </td><td>84513966              </td><td>0                     </td><td>1                     </td></tr>\n",
       "\t<tr><td>DDHD2                 </td><td>38237628              </td><td>38238106              </td><td>0                     </td><td>1                     </td><td>DDHD2                 </td><td>38237628              </td><td>38238106              </td><td>0                     </td><td>1                     </td></tr>\n",
       "\t<tr><td>DDHD2                 </td><td>38237628              </td><td>38238088              </td><td>1                     </td><td>1                     </td><td>DDHD2                 </td><td>38237628              </td><td>38238088              </td><td>0                     </td><td>1                     </td></tr>\n",
       "</tbody>\n",
       "</table>\n"
      ],
      "text/latex": [
       "\\begin{tabular}{r|llllllllll}\n",
       " V1 & V2 & V3 & V4 & V5 & V1 & V2 & V3 & V4 & V5\\\\\n",
       "\\hline\n",
       "\t PCK2                   & 24099721               & 24099994               & 0                      & 1                      & PCK2                   & 24099721               & 24099994               & 2                      & 1                     \\\\\n",
       "\t PCK2                   & 24099721               & 24102752               & 0                      & 1                      & PCK2                   & 24099721               & 24102752               & 1                      & 1                     \\\\\n",
       "\t GOLGA6L5,RP11-182J1.12 & 84513303               & 84513966               & 0                      & 1                      & GOLGA6L5,RP11-182J1.12 & 84513303               & 84513966               & 0                      & 1                     \\\\\n",
       "\t GOLGA6L5,RP11-182J1.12 & 84513331               & 84513966               & 0                      & 1                      & GOLGA6L5,RP11-182J1.12 & 84513331               & 84513966               & 0                      & 1                     \\\\\n",
       "\t DDHD2                  & 38237628               & 38238106               & 0                      & 1                      & DDHD2                  & 38237628               & 38238106               & 0                      & 1                     \\\\\n",
       "\t DDHD2                  & 38237628               & 38238088               & 1                      & 1                      & DDHD2                  & 38237628               & 38238088               & 0                      & 1                     \\\\\n",
       "\\end{tabular}\n"
      ],
      "text/markdown": [
       "\n",
       "V1 | V2 | V3 | V4 | V5 | V1 | V2 | V3 | V4 | V5 | \n",
       "|---|---|---|---|---|---|\n",
       "| PCK2                   | 24099721               | 24099994               | 0                      | 1                      | PCK2                   | 24099721               | 24099994               | 2                      | 1                      | \n",
       "| PCK2                   | 24099721               | 24102752               | 0                      | 1                      | PCK2                   | 24099721               | 24102752               | 1                      | 1                      | \n",
       "| GOLGA6L5,RP11-182J1.12 | 84513303               | 84513966               | 0                      | 1                      | GOLGA6L5,RP11-182J1.12 | 84513303               | 84513966               | 0                      | 1                      | \n",
       "| GOLGA6L5,RP11-182J1.12 | 84513331               | 84513966               | 0                      | 1                      | GOLGA6L5,RP11-182J1.12 | 84513331               | 84513966               | 0                      | 1                      | \n",
       "| DDHD2                  | 38237628               | 38238106               | 0                      | 1                      | DDHD2                  | 38237628               | 38238106               | 0                      | 1                      | \n",
       "| DDHD2                  | 38237628               | 38238088               | 1                      | 1                      | DDHD2                  | 38237628               | 38238088               | 0                      | 1                      | \n",
       "\n",
       "\n"
      ],
      "text/plain": [
       "  V1                     V2       V3       V4 V5 V1                    \n",
       "1 PCK2                   24099721 24099994 0  1  PCK2                  \n",
       "2 PCK2                   24099721 24102752 0  1  PCK2                  \n",
       "3 GOLGA6L5,RP11-182J1.12 84513303 84513966 0  1  GOLGA6L5,RP11-182J1.12\n",
       "4 GOLGA6L5,RP11-182J1.12 84513331 84513966 0  1  GOLGA6L5,RP11-182J1.12\n",
       "5 DDHD2                  38237628 38238106 0  1  DDHD2                 \n",
       "6 DDHD2                  38237628 38238088 1  1  DDHD2                 \n",
       "  V2       V3       V4 V5\n",
       "1 24099721 24099994 2  1 \n",
       "2 24099721 24102752 1  1 \n",
       "3 84513303 84513966 0  1 \n",
       "4 84513331 84513966 0  1 \n",
       "5 38237628 38238106 0  1 \n",
       "6 38237628 38238088 0  1 "
      ]
     },
     "metadata": {},
     "output_type": "display_data"
    }
   ],
   "source": [
    "setwd('~/bme')\n",
    "wt_counts = read.table('junction_counts_long.wt.6.txt')\n",
    "mt_counts = read.table('junction_counts_long.6.txt')\n",
    "wt_counts$V1 = as.character(wt_counts$V1)\n",
    "mt_counts$V1 = as.character(mt_counts$V1)\n",
    "head(cbind(wt_counts, mt_counts))"
   ]
  },
  {
   "cell_type": "code",
   "execution_count": 15,
   "metadata": {
    "collapsed": false
   },
   "outputs": [],
   "source": [
    "current_gene = ''\n",
    "genes = c()\n",
    "pvals = c()  # for collecting results\n",
    "sigrows = c()\n",
    "for (row in 1:(nrow(wt_counts))+1) {  # looping through table and pulling out rows with shared gene names to do fisher tests on\n",
    "    if (row == nrow(wt_counts)+1 || wt_counts[row, 1] != current_gene | nchar(current_gene)==0) {\n",
    "        if (nchar(current_gene) > 0 && (nrow(wtinfo) > 1)) {\n",
    "            for (i in 1:(nrow(wtinfo))) {\n",
    "                for (j in i:nrow(wtinfo)) {\n",
    "                    ctable = matrix(unlist(c(wtinfo[c(i,j),4], mtinfo[c(i,j),4])), nrow=2)\n",
    "                    if (sum(ctable) != 0 && wtinfo[i,2] == wtinfo[j,2] | wtinfo[i,3] == wtinfo[j,3]) {  \n",
    "                        # extra check for genes with multiple alt splice junctions, making sure gene and junction 5' end match\n",
    "                        if (fisher.test(ctable)$p.value < 0.6) {\n",
    "                            sigrows = c(sigrows, row-nrow(wtinfo)+i-1, row-nrow(wtinfo)+j-1)\n",
    "                        }\n",
    "                        pvals = c(pvals, fisher.test(ctable)$p.value)\n",
    "                        genes = c(genes, current_gene)\n",
    "                    }\n",
    "                }\n",
    "                \n",
    "            }\n",
    "        }\n",
    "        current_gene = wt_counts[row, 1]\n",
    "        wtinfo = wt_counts[row,]\n",
    "        mtinfo = mt_counts[row,]\n",
    "    } else {\n",
    "        wtinfo = rbind(wtinfo, wt_counts[row,])\n",
    "        mtinfo = rbind(mtinfo, mt_counts[row,])\n",
    "    }\n",
    "}"
   ]
  },
  {
   "cell_type": "code",
   "execution_count": 120,
   "metadata": {
    "collapsed": false
   },
   "outputs": [
    {
     "data": {
      "text/html": [
       "<table>\n",
       "<thead><tr><th></th><th scope=col>V1</th><th scope=col>V2</th><th scope=col>V3</th><th scope=col>V4</th><th scope=col>V5</th><th scope=col>V1</th><th scope=col>V2</th><th scope=col>V3</th><th scope=col>V4</th><th scope=col>V5</th></tr></thead>\n",
       "<tbody>\n",
       "\t<tr><th scope=row>17</th><td>ERGIC3  </td><td>35556272</td><td>35556990</td><td>0       </td><td>1       </td><td>ERGIC3  </td><td>35556272</td><td>35556990</td><td> 0      </td><td>1       </td></tr>\n",
       "\t<tr><th scope=row>18</th><td>ERGIC3  </td><td>35556749</td><td>35556954</td><td>0       </td><td>1       </td><td>ERGIC3  </td><td>35556749</td><td>35556954</td><td> 0      </td><td>1       </td></tr>\n",
       "\t<tr><th scope=row>19</th><td>ERGIC3  </td><td>35556272</td><td>35556954</td><td>0       </td><td>1       </td><td>ERGIC3  </td><td>35556272</td><td>35556954</td><td> 6      </td><td>1       </td></tr>\n",
       "\t<tr><th scope=row>31</th><td>FKBP3   </td><td>45130801</td><td>45134348</td><td>2       </td><td>1       </td><td>FKBP3   </td><td>45130801</td><td>45134348</td><td>10      </td><td>1       </td></tr>\n",
       "\t<tr><th scope=row>32</th><td>B3GAT3  </td><td>62620672</td><td>62621865</td><td>0       </td><td>1       </td><td>B3GAT3  </td><td>62620672</td><td>62621865</td><td> 4      </td><td>1       </td></tr>\n",
       "\t<tr><th scope=row>40</th><td>SRSF11  </td><td>70228556</td><td>70232267</td><td>2       </td><td>1       </td><td>SRSF11  </td><td>70228556</td><td>70232267</td><td>12      </td><td>1       </td></tr>\n",
       "</tbody>\n",
       "</table>\n"
      ],
      "text/latex": [
       "\\begin{tabular}{r|llllllllll}\n",
       "  & V1 & V2 & V3 & V4 & V5 & V1 & V2 & V3 & V4 & V5\\\\\n",
       "\\hline\n",
       "\t17 & ERGIC3   & 35556272 & 35556990 & 0        & 1        & ERGIC3   & 35556272 & 35556990 &  0       & 1       \\\\\n",
       "\t18 & ERGIC3   & 35556749 & 35556954 & 0        & 1        & ERGIC3   & 35556749 & 35556954 &  0       & 1       \\\\\n",
       "\t19 & ERGIC3   & 35556272 & 35556954 & 0        & 1        & ERGIC3   & 35556272 & 35556954 &  6       & 1       \\\\\n",
       "\t31 & FKBP3    & 45130801 & 45134348 & 2        & 1        & FKBP3    & 45130801 & 45134348 & 10       & 1       \\\\\n",
       "\t32 & B3GAT3   & 62620672 & 62621865 & 0        & 1        & B3GAT3   & 62620672 & 62621865 &  4       & 1       \\\\\n",
       "\t40 & SRSF11   & 70228556 & 70232267 & 2        & 1        & SRSF11   & 70228556 & 70232267 & 12       & 1       \\\\\n",
       "\\end{tabular}\n"
      ],
      "text/markdown": [
       "\n",
       "| <!--/--> | V1 | V2 | V3 | V4 | V5 | V1 | V2 | V3 | V4 | V5 | \n",
       "|---|---|---|---|---|---|\n",
       "| 17 | ERGIC3   | 35556272 | 35556990 | 0        | 1        | ERGIC3   | 35556272 | 35556990 |  0       | 1        | \n",
       "| 18 | ERGIC3   | 35556749 | 35556954 | 0        | 1        | ERGIC3   | 35556749 | 35556954 |  0       | 1        | \n",
       "| 19 | ERGIC3   | 35556272 | 35556954 | 0        | 1        | ERGIC3   | 35556272 | 35556954 |  6       | 1        | \n",
       "| 31 | FKBP3    | 45130801 | 45134348 | 2        | 1        | FKBP3    | 45130801 | 45134348 | 10       | 1        | \n",
       "| 32 | B3GAT3   | 62620672 | 62621865 | 0        | 1        | B3GAT3   | 62620672 | 62621865 |  4       | 1        | \n",
       "| 40 | SRSF11   | 70228556 | 70232267 | 2        | 1        | SRSF11   | 70228556 | 70232267 | 12       | 1        | \n",
       "\n",
       "\n"
      ],
      "text/plain": [
       "   V1     V2       V3       V4 V5 V1     V2       V3       V4 V5\n",
       "17 ERGIC3 35556272 35556990 0  1  ERGIC3 35556272 35556990  0 1 \n",
       "18 ERGIC3 35556749 35556954 0  1  ERGIC3 35556749 35556954  0 1 \n",
       "19 ERGIC3 35556272 35556954 0  1  ERGIC3 35556272 35556954  6 1 \n",
       "31 FKBP3  45130801 45134348 2  1  FKBP3  45130801 45134348 10 1 \n",
       "32 B3GAT3 62620672 62621865 0  1  B3GAT3 62620672 62621865  4 1 \n",
       "40 SRSF11 70228556 70232267 2  1  SRSF11 70228556 70232267 12 1 "
      ]
     },
     "metadata": {},
     "output_type": "display_data"
    }
   ],
   "source": [
    "sigrows = sort(unique(sigrows))\n",
    "head(cbind(wt_counts[sigrows,], mt_counts[sigrows,]))"
   ]
  },
  {
   "cell_type": "code",
   "execution_count": 16,
   "metadata": {
    "collapsed": false
   },
   "outputs": [
    {
     "data": {
      "image/png": "[encoded data removed]",
      "text/plain": [
       "plot without title"
      ]
     },
     "metadata": {},
     "output_type": "display_data"
    }
   ],
   "source": [
    "plot(log(pvals)*-1)\n",
    "df = data.frame(g=genes, p=pvals)\n",
    "df$pos = 1:nrow(df)\n",
    "df = df[df$p < 0.6,]\n",
    "newdf = df[1,]\n",
    "for (row in 2:nrow(df)) {\n",
    "    if (!df[row,1] %in% newdf[,1]) {\n",
    "        newdf = rbind(newdf, df[row,])\n",
    "    } else if (any((df[row,2]+.01) <= newdf[newdf$g == df[row,1],2])) {\n",
    "        newdf = rbind(newdf, df[row,])\n",
    "    }\n",
    "}\n",
    "text(newdf$pos, log(newdf$p)*-1+.06, labels=newdf$g, cex=0.5)  # names above points\n",
    "abline(h=log2(0.05))"
   ]
  },
  {
   "cell_type": "markdown",
   "metadata": {},
   "source": [
    "I use Jeltje's bedfile of corrected junctions and the junction counts in there and do lots of fisher tests. I'm looking specifically at 3' SS alterations, so I compare counts for different 3' SSs in the mutant and wildtype for junctions with the same 5' SS. Jeltje mentioned that the strand doesn't carry meaning in her bedfile, so I repeat this analysis treating \"3'\" as 5' SSs."
   ]
  },
  {
   "cell_type": "code",
   "execution_count": 21,
   "metadata": {
    "collapsed": false
   },
   "outputs": [
    {
     "data": {
      "text/html": [
       "<table>\n",
       "<thead><tr><th></th><th scope=col>mtchrom</th><th scope=col>mt5</th><th scope=col>mt3</th><th scope=col>counts</th><th scope=col>wt</th><th scope=col>wtchrom</th></tr></thead>\n",
       "<tbody>\n",
       "\t<tr><th scope=row>20</th><td>chrY     </td><td>  1389707</td><td>  1391934</td><td>  1      </td><td>10       </td><td>chrY     </td></tr>\n",
       "\t<tr><th scope=row>21</th><td>chrY     </td><td>  1389707</td><td>  1391947</td><td>  1      </td><td>10       </td><td>chrY     </td></tr>\n",
       "\t<tr><th scope=row>22</th><td>chrY     </td><td>  1389707</td><td>  1391918</td><td> 54      </td><td>10       </td><td>chrY     </td></tr>\n",
       "\t<tr><th scope=row>78</th><td>chrX     </td><td>154399376</td><td>154399527</td><td>  1      </td><td> 1       </td><td>chrX     </td></tr>\n",
       "\t<tr><th scope=row>79</th><td>chrX     </td><td>154399376</td><td>154399520</td><td>  5      </td><td> 1       </td><td>chrX     </td></tr>\n",
       "\t<tr><th scope=row>80</th><td>chrX     </td><td>154399376</td><td>154399506</td><td>101      </td><td> 1       </td><td>chrX     </td></tr>\n",
       "</tbody>\n",
       "</table>\n"
      ],
      "text/latex": [
       "\\begin{tabular}{r|llllll}\n",
       "  & mtchrom & mt5 & mt3 & counts & wt & wtchrom\\\\\n",
       "\\hline\n",
       "\t20 & chrY      &   1389707 &   1391934 &   1       & 10        & chrY     \\\\\n",
       "\t21 & chrY      &   1389707 &   1391947 &   1       & 10        & chrY     \\\\\n",
       "\t22 & chrY      &   1389707 &   1391918 &  54       & 10        & chrY     \\\\\n",
       "\t78 & chrX      & 154399376 & 154399527 &   1       &  1        & chrX     \\\\\n",
       "\t79 & chrX      & 154399376 & 154399520 &   5       &  1        & chrX     \\\\\n",
       "\t80 & chrX      & 154399376 & 154399506 & 101       &  1        & chrX     \\\\\n",
       "\\end{tabular}\n"
      ],
      "text/markdown": [
       "\n",
       "| <!--/--> | mtchrom | mt5 | mt3 | counts | wt | wtchrom | \n",
       "|---|---|---|---|---|---|\n",
       "| 20 | chrY      |   1389707 |   1391934 |   1       | 10        | chrY      | \n",
       "| 21 | chrY      |   1389707 |   1391947 |   1       | 10        | chrY      | \n",
       "| 22 | chrY      |   1389707 |   1391918 |  54       | 10        | chrY      | \n",
       "| 78 | chrX      | 154399376 | 154399527 |   1       |  1        | chrX      | \n",
       "| 79 | chrX      | 154399376 | 154399520 |   5       |  1        | chrX      | \n",
       "| 80 | chrX      | 154399376 | 154399506 | 101       |  1        | chrX      | \n",
       "\n",
       "\n"
      ],
      "text/plain": [
       "   mtchrom mt5       mt3       counts wt wtchrom\n",
       "20 chrY      1389707   1391934   1    10 chrY   \n",
       "21 chrY      1389707   1391947   1    10 chrY   \n",
       "22 chrY      1389707   1391918  54    10 chrY   \n",
       "78 chrX    154399376 154399527   1     1 chrX   \n",
       "79 chrX    154399376 154399520   5     1 chrX   \n",
       "80 chrX    154399376 154399506 101     1 chrX   "
      ]
     },
     "metadata": {},
     "output_type": "display_data"
    }
   ],
   "source": [
    "setwd('~/bme')\n",
    "mtalt = read.table('altsplicejunction_counts.txt')\n",
    "colnames(mtalt) = c('mtchrom', 'mt5', 'mt3', 'counts')\n",
    "wtalt = read.table('altsplicejunction_counts.wt.txt')\n",
    "together = mtalt\n",
    "together$wt = wtalt$V4[match(mtalt$mt5, wtalt$V2)]\n",
    "together$wtchrom = wtalt$V1[match(mtalt$mt5, wtalt$V2)]  # sanity check\n",
    "together$mtchrom = as.character(together$mtchrom)\n",
    "together$wtchrom = as.character(together$wtchrom)\n",
    "together = together[!is.na(together$wt) & together$wtchrom == together$mtchrom,]\n",
    "head(together)  # data frame containing junction counts for both mutant and wildtype"
   ]
  },
  {
   "cell_type": "code",
   "execution_count": 15,
   "metadata": {
    "collapsed": false
   },
   "outputs": [
    {
     "data": {
      "image/png": "[encoded data removed]",
      "text/plain": [
       "plot without title"
      ]
     },
     "metadata": {},
     "output_type": "display_data"
    }
   ],
   "source": [
    "current_gene = paste0(together[1,1],':',together[1,2])\n",
    "info = together[1,]\n",
    "genes = c()\n",
    "pvals = c()\n",
    "for (row in 2:nrow(together)) {\n",
    "    nameinit = paste0(together[row,1],':',together[row, 2])\n",
    "    if (nameinit != current_gene) {\n",
    "        for (i in 1:(nrow(info)-1)) {\n",
    "            for (j in (i+1):nrow(info)) {\n",
    "                ctable = matrix(unlist(c(info[c(i,j),4], info[c(i,j),5])), nrow=2)\n",
    "                if (sum(ctable) != 0) {\n",
    "                    pvals = c(pvals, fisher.test(ctable)$p.value)\n",
    "                    genes = c(genes, current_gene)\n",
    "                }\n",
    "            }    \n",
    "        }\n",
    "        current_gene = nameinit\n",
    "        info = together[row,]\n",
    "    } else {\n",
    "        info = rbind(info, together[row,])\n",
    "    }\n",
    "}\n",
    "rgenes = genes[pvals < 0.2]\n",
    "rpvals = pvals[pvals < 0.2]\n",
    "plot(log10(pvals)*-1, pch=16, cex=0.3)\n",
    "# text(1:length(rpvals), log10(rpvals)*-1+.03, labels=rgenes, cex=0.5)  # names above points\n",
    "abline(h=log10(0.05)*-1)\n"
   ]
  },
  {
   "cell_type": "markdown",
   "metadata": {},
   "source": [
    "Above: every point is the result of one fisher test between alternative junction events. These are only considering 3' splice site alterations, so if you look at the the mutant 5' position column (together$mt5), comparisons are done within a group of junctions sharing the same 5' end.\n",
    "\n",
    "Below: Like the plot above, but instead anchoring at the 3' ends. Some of these junctions could still be technically 5' end-anchored since Jeltje said the counts were done without regard to strand and the bedfile of junctions does not have strand information."
   ]
  },
  {
   "cell_type": "code",
   "execution_count": 12,
   "metadata": {
    "collapsed": false
   },
   "outputs": [
    {
     "data": {
      "text/html": [
       "<table>\n",
       "<thead><tr><th></th><th scope=col>mtchrom</th><th scope=col>mt5</th><th scope=col>mt3</th><th scope=col>counts</th><th scope=col>wt</th><th scope=col>wtchrom</th></tr></thead>\n",
       "<tbody>\n",
       "\t<tr><th scope=row>27843</th><td>chr9 </td><td>18467</td><td>24870</td><td>1    </td><td>1    </td><td>chr9 </td></tr>\n",
       "\t<tr><th scope=row>27844</th><td>chr9 </td><td>24618</td><td>24870</td><td>1    </td><td>1    </td><td>chr9 </td></tr>\n",
       "\t<tr><th scope=row>27845</th><td>chr9 </td><td>18472</td><td>24870</td><td>3    </td><td>1    </td><td>chr9 </td></tr>\n",
       "\t<tr><th scope=row>2082</th><td>chr12</td><td>18459</td><td>26820</td><td>1    </td><td>1    </td><td>chr12</td></tr>\n",
       "\t<tr><th scope=row>2083</th><td>chr12</td><td>18464</td><td>26820</td><td>3    </td><td>1    </td><td>chr12</td></tr>\n",
       "\t<tr><th scope=row>2084</th><td>chr12</td><td>26568</td><td>26820</td><td>1    </td><td>1    </td><td>chr12</td></tr>\n",
       "</tbody>\n",
       "</table>\n"
      ],
      "text/latex": [
       "\\begin{tabular}{r|llllll}\n",
       "  & mtchrom & mt5 & mt3 & counts & wt & wtchrom\\\\\n",
       "\\hline\n",
       "\t27843 & chr9  & 18467 & 24870 & 1     & 1     & chr9 \\\\\n",
       "\t27844 & chr9  & 24618 & 24870 & 1     & 1     & chr9 \\\\\n",
       "\t27845 & chr9  & 18472 & 24870 & 3     & 1     & chr9 \\\\\n",
       "\t2082 & chr12 & 18459 & 26820 & 1     & 1     & chr12\\\\\n",
       "\t2083 & chr12 & 18464 & 26820 & 3     & 1     & chr12\\\\\n",
       "\t2084 & chr12 & 26568 & 26820 & 1     & 1     & chr12\\\\\n",
       "\\end{tabular}\n"
      ],
      "text/markdown": [
       "\n",
       "| <!--/--> | mtchrom | mt5 | mt3 | counts | wt | wtchrom | \n",
       "|---|---|---|---|---|---|\n",
       "| 27843 | chr9  | 18467 | 24870 | 1     | 1     | chr9  | \n",
       "| 27844 | chr9  | 24618 | 24870 | 1     | 1     | chr9  | \n",
       "| 27845 | chr9  | 18472 | 24870 | 3     | 1     | chr9  | \n",
       "| 2082 | chr12 | 18459 | 26820 | 1     | 1     | chr12 | \n",
       "| 2083 | chr12 | 18464 | 26820 | 3     | 1     | chr12 | \n",
       "| 2084 | chr12 | 26568 | 26820 | 1     | 1     | chr12 | \n",
       "\n",
       "\n"
      ],
      "text/plain": [
       "      mtchrom mt5   mt3   counts wt wtchrom\n",
       "27843 chr9    18467 24870 1      1  chr9   \n",
       "27844 chr9    24618 24870 1      1  chr9   \n",
       "27845 chr9    18472 24870 3      1  chr9   \n",
       "2082  chr12   18459 26820 1      1  chr12  \n",
       "2083  chr12   18464 26820 3      1  chr12  \n",
       "2084  chr12   26568 26820 1      1  chr12  "
      ]
     },
     "metadata": {},
     "output_type": "display_data"
    },
    {
     "data": {
      "image/png": "[encoded data removed]",
      "text/plain": [
       "plot without title"
      ]
     },
     "metadata": {},
     "output_type": "display_data"
    }
   ],
   "source": [
    "setwd('~/bme')\n",
    "mtalt = read.table('altsplicejunction_counts.3.txt')   # anchored at the 3' site, aka the greater junction coordinate\n",
    "colnames(mtalt) = c('mtchrom', 'mt5', 'mt3', 'counts')\n",
    "wtalt = read.table('altsplicejunction_counts.3.wt.txt')\n",
    "together = mtalt\n",
    "together$wt = wtalt$V4[match(mtalt$mt3, wtalt$V3)]\n",
    "together$wtchrom = wtalt$V1[match(mtalt$mt3, wtalt$V3)]  # sanity check\n",
    "together$mtchrom = as.character(together$mtchrom)\n",
    "together$wtchrom = as.character(together$wtchrom)\n",
    "together = together[order(together$mt3),]\n",
    "together = together[!is.na(together$wt) & together$wtchrom == together$mtchrom,]\n",
    "head(together)  # data frame containing junction counts for both mutant and wildtype\n",
    "current_gene = paste0(together[1,1],':',together[1,3])\n",
    "info = together[1,]\n",
    "genes = c()\n",
    "pvals = c()\n",
    "for (row in 2:nrow(together)) {\n",
    "    nameinit = paste0(together[row,1],':',together[row, 3])\n",
    "    if (nameinit != current_gene) {\n",
    "        for (i in 1:(nrow(info)-1)) {\n",
    "            for (j in (i+1):nrow(info)) {\n",
    "                ctable = matrix(unlist(c(info[c(i,j),4], info[c(i,j),5])), nrow=2)\n",
    "                if (sum(ctable) != 0) {\n",
    "                    pvals = c(pvals, fisher.test(ctable)$p.value)\n",
    "                    genes = c(genes, current_gene)\n",
    "                }\n",
    "            }    \n",
    "        }\n",
    "        current_gene = nameinit\n",
    "        info = together[row,]\n",
    "    } else {\n",
    "        info = rbind(info, together[row,])\n",
    "    }\n",
    "}\n",
    "rgenes = genes[pvals < 0.2]\n",
    "rpvals = pvals[pvals < 0.2]\n",
    "plot(log10(pvals)*-1, pch=16, cex=0.3)\n",
    "abline(h=log10(0.05)*-1)\n"
   ]
  },
  {
   "cell_type": "markdown",
   "metadata": {},
   "source": [
    "<b> From here on starts analysis that actually makes sense :D </b> <br>\n",
    "Jeltje modified her script to be able to take in a genome and infer strand. So now I am plotting alternative 3' splice sites that are really 3' splice sites being altered."
   ]
  },
  {
   "cell_type": "code",
   "execution_count": 58,
   "metadata": {
    "collapsed": false
   },
   "outputs": [
    {
     "name": "stderr",
     "output_type": "stream",
     "text": [
      "Warning message in `[<-.factor`(`*tmp*`, is.na(chrvec), value = structure(c(NA, :\n",
      "\"invalid factor level, NA generated\"Warning message in `[<-.factor`(`*tmp*`, is.na(chrvec), value = structure(c(24L, :\n",
      "\"invalid factor level, NA generated\"Warning message in `[<-.factor`(`*tmp*`, is.na(chrvec), value = structure(c(NA, :\n",
      "\"invalid factor level, NA generated\""
     ]
    }
   ],
   "source": [
    "setwd('~/bme/jupyter_data')\n",
    "mtalt = read.table('altsplicejunction_counts.txt')\n",
    "mtaltrev = read.table('altsplicejunction_counts.rev.txt')  # 3' ss alterations on the minus strand\n",
    "colnames(mtalt) = c('mtchrom', 'mt5', 'mt3', 'mtcounts')\n",
    "colnames(mtaltrev) = c('mtchrom', 'mt5', 'mt3', 'mtcounts')\n",
    "wtalt = read.table('alt3primess_counts.wt.txt')\n",
    "wtaltrev = read.table('alt3primess_counts.wt.rev.txt')\n",
    "\n",
    "wtaltrev$temp = wtaltrev[,2]\n",
    "wtaltrev[,2] = wtaltrev[,3]\n",
    "wtaltrev[,3] = wtaltrev$temp\n",
    "\n",
    "mtaltrev$temp = mtaltrev[,2]\n",
    "mtaltrev[,2] = mtaltrev[,3]\n",
    "mtaltrev[,3] = mtaltrev$temp\n",
    "\n",
    "alljuncs = unique(c(paste0(mtalt[,2],'-',mtalt[,3]), paste0(wtalt[,2],'-', wtalt[,3]), paste0(mtaltrev[,2],'-',mtaltrev[,3]),\n",
    "             paste0(wtaltrev[,2],'-',wtaltrev[,3])))\n",
    "junctions = data.frame(alljuncs)\n",
    "junctions$intron5 = as.numeric(substr(alljuncs,1,regexpr('-', alljuncs)-1))\n",
    "junctions$intron3 = as.numeric(substr(alljuncs,regexpr('-',alljuncs)+1,nchar(alljuncs)))\n",
    "wtcounts = wtalt[,4][match(alljuncs, paste0(wtalt[,2],'-',wtalt[,3]))]\n",
    "wtcounts[is.na(wtcounts)] = wtaltrev[,4][match(alljuncs, paste0(wtaltrev[,2],'-',wtaltrev[,3]))][is.na(wtcounts)]\n",
    "junctions$wtcounts = wtcounts\n",
    "# print(sum(is.na(junctions$wtcounts)))\n",
    "junctions$wtcounts[is.na(junctions$wtcounts)] = 0\n",
    "\n",
    "mtcounts = mtalt[,4][match(alljuncs, paste0(mtalt[,2],'-',mtalt[,3]))]\n",
    "mtcounts[is.na(mtcounts)] = mtaltrev[,4][match(alljuncs, paste0(mtaltrev[,2],'-',mtaltrev[,3]))][is.na(mtcounts)]\n",
    "junctions$mtcounts = mtcounts\n",
    "junctions$mtcounts[is.na(junctions$mtcounts)] = 0\n",
    "\n",
    "chrvec =  wtalt[,1][match(alljuncs, paste0(wtalt[,2],'-',wtalt[,3]))]\n",
    "chrvec[is.na(chrvec)] = wtaltrev[,1][match(alljuncs, paste0(wtaltrev[,2],'-',wtaltrev[,3]))][is.na(chrvec)]\n",
    "chrvec[is.na(chrvec)] = mtalt[,1][match(alljuncs, paste0(mtalt[,2],'-',mtalt[,3]))][is.na(chrvec)]\n",
    "chrvec[is.na(chrvec)] = mtaltrev[,1][match(alljuncs, paste0(mtaltrev[,2],'-',mtaltrev[,3]))][is.na(chrvec)]\n",
    "junctions$chr = chrvec\n",
    "\n",
    "junctions = junctions[!is.na(chrvec),]  # 2 is the min number of reads between both samples\n",
    "junctionsold = junctions\n",
    "junctions[,5] = round(sum(junctions[,4])/sum(junctions[,5])*junctions[,5])\n",
    "\n",
    "junctions = junctions[rowSums(junctionsold[,c(4,5)]) > 1,]\n",
    "\n",
    "junctions = junctions[order(junctions[,2]),]\n",
    "\n",
    "# junctions[1:6,]  # data frame containing junction counts for both mutant and wildtype\n",
    "\n",
    "current_gene = paste0(junctions[1,6],':',junctions[1,2])\n",
    "info = junctions[1,]\n",
    "genes = c()\n",
    "pvals = c()\n",
    "dpsi = c()\n",
    "allpvals = c()\n",
    "for (row in 2:nrow(junctions)) {\n",
    "    nameinit = paste0(junctions[row,6],':',junctions[row, 2])\n",
    "    if (nameinit != current_gene ) {\n",
    "        if (nrow(info) > 1) {\n",
    "            best_dpsi = 0\n",
    "            best_pval = 1\n",
    "            for (i in 1:(nrow(info)-1)) {\n",
    "                for (j in (i+1):nrow(info)) {\n",
    "                    ctable = matrix(unlist(c(info[c(i,j),4], info[c(i,j),5])), nrow=2)\n",
    "                    if (sum(ctable) != 0) {\n",
    "                        pval = fisher.test(ctable)$p.value\n",
    "                        allpvals = c(allpvals, pval)\n",
    "                        if (pval < best_pval) {\n",
    "                            best_pval = pval\n",
    "                            best_dpsi = abs(info[i, 4]/sum(info[c(i,j),4]) - info[i, 5]/sum(info[c(i,j),5]))\n",
    "                        }\n",
    "                    }\n",
    "                }\n",
    "            }\n",
    "            genes = c(genes, current_gene)\n",
    "            pvals = c(pvals, best_pval)\n",
    "            dpsi = c(dpsi, best_dpsi)\n",
    "        }\n",
    "        current_gene = nameinit\n",
    "        info = junctions[row,]\n",
    "    } else {\n",
    "        info = rbind(info, junctions[row,])\n",
    "    }\n",
    "}\n",
    "# plot(log10(pvals)*-1, pch=16, cex=0.3, main=\"Alt 3'SS\")\n",
    "# abline(h=log10(0.05)*-1)\n",
    "\n",
    "genes3 = genes\n",
    "pvals3 = pvals\n",
    "junctions3 = junctions\n",
    "dpsi3=dpsi"
   ]
  },
  {
   "cell_type": "markdown",
   "metadata": {},
   "source": [
    "I plot altered 5' splice sites that are actually altered 5' splice sites. It's a bit interesting to compare this plot and the plot above with the previous two plots above that. It's all the same points just now they're correctly categorized."
   ]
  },
  {
   "cell_type": "code",
   "execution_count": 60,
   "metadata": {
    "collapsed": false
   },
   "outputs": [],
   "source": [
    "setwd('~/bme/jupyter_data')\n",
    "mtaltrev = read.table('alt5primess_counts.txt')\n",
    "mtalt = read.table('alt5primess_counts.rev.txt')  # 3' ss alterations on the minus strand\n",
    "colnames(mtalt) = c('mtchrom', 'mt5', 'mt3', 'mtcounts')\n",
    "colnames(mtaltrev) = c('mtchrom', 'mt5', 'mt3', 'mtcounts')\n",
    "wtaltrev = read.table('alt5primess_counts.wt.txt')\n",
    "wtalt = read.table('alt5primess_counts.wt.rev.txt')\n",
    "\n",
    "wtalt$temp = wtalt[,2]  # switch columns just so I can reuse 3' alt ss code\n",
    "wtalt[,2] = wtalt[,3]\n",
    "wtalt[,3] = wtalt$temp\n",
    "\n",
    "mtalt$temp = mtalt[,2]\n",
    "mtalt[,2] = mtalt[,3]\n",
    "mtalt[,3] = mtalt$temp\n",
    "\n",
    "alljuncs = unique(c(paste0(mtalt[,2],'-',mtalt[,3]), paste0(wtalt[,2],'-', wtalt[,3]), paste0(mtaltrev[,2],'-',mtaltrev[,3]),\n",
    "             paste0(wtaltrev[,2],'-',wtaltrev[,3])))  # coordinate 1 to coordinate 2\n",
    "junctions = data.frame(alljuncs)\n",
    "junctions$intron5 = as.numeric(substr(alljuncs,1,regexpr('-', alljuncs)-1))\n",
    "junctions$intron3 = as.numeric(substr(alljuncs,regexpr('-',alljuncs)+1,nchar(alljuncs)))\n",
    "wtcounts = wtalt[,4][match(alljuncs, paste0(wtalt[,2],'-',wtalt[,3]))]\n",
    "wtcounts[is.na(wtcounts)] = wtaltrev[,4][match(alljuncs, paste0(wtaltrev[,2],'-',wtaltrev[,3]))][is.na(wtcounts)]\n",
    "junctions$wtcounts = wtcounts\n",
    "junctions$wtcounts[is.na(junctions$wtcounts)] = 0\n",
    "\n",
    "mtcounts = mtalt[,4][match(alljuncs, paste0(mtalt[,2],'-',mtalt[,3]))]\n",
    "mtcounts[is.na(mtcounts)] = mtaltrev[,4][match(alljuncs, paste0(mtaltrev[,2],'-',mtaltrev[,3]))][is.na(mtcounts)]\n",
    "junctions$mtcounts = mtcounts\n",
    "junctions$mtcounts[is.na(junctions$mtcounts)] = 0\n",
    "\n",
    "chrvec =  wtalt[,1][match(alljuncs, paste0(wtalt[,2],'-',wtalt[,3]))]\n",
    "chrvec[is.na(chrvec)] = wtaltrev[,1][match(alljuncs, paste0(wtaltrev[,2],'-',wtaltrev[,3]))][is.na(chrvec)]\n",
    "chrvec[is.na(chrvec)] = mtalt[,1][match(alljuncs, paste0(mtalt[,2],'-',mtalt[,3]))][is.na(chrvec)]\n",
    "chrvec[is.na(chrvec)] = mtaltrev[,1][match(alljuncs, paste0(mtaltrev[,2],'-',mtaltrev[,3]))][is.na(chrvec)]\n",
    "junctions$chr = chrvec\n",
    "junctions = junctions[!is.na(chrvec),]\n",
    "\n",
    "junctions = junctions[order(junctions[,2]),]\n",
    "junctionsold = junctions\n",
    "junctions[,5] = round(sum(junctions[,4])/sum(junctions[,5])*junctions[,5])\n",
    "junctions = junctions[rowSums(junctionsold[,c(4,5)]) > 1,]\n",
    "\n",
    "# junctions[1:6,]  # data frame containing junction counts for both mutant and wildtype\n",
    "\n",
    "current_gene = paste0(junctions[1,6],':',junctions[1,2])\n",
    "info = junctions[1,]\n",
    "genes = c()\n",
    "pvals = c()\n",
    "allpvals = c()\n",
    "dpsi = c()\n",
    "for (row in 2:nrow(junctions)) {\n",
    "    nameinit = paste0(junctions[row,6],':',junctions[row, 2])\n",
    "    if (nameinit != current_gene ) {\n",
    "        if (nrow(info) > 1) {\n",
    "            best_dpsi = 0\n",
    "            best_pval = 1\n",
    "            for (i in 1:(nrow(info)-1)) {\n",
    "                for (j in (i+1):nrow(info)) {\n",
    "                    ctable = matrix(unlist(c(info[c(i,j),4], info[c(i,j),5])), nrow=2)\n",
    "                    if (sum(ctable) != 0) {\n",
    "                        pval = fisher.test(ctable)$p.value\n",
    "                        allpvals = c(allpvals, pval)\n",
    "                        if (pval < best_pval) {\n",
    "                            best_pval = pval\n",
    "                            best_dpsi = abs(info[i, 4]/sum(info[c(i,j),4]) - info[i, 5]/sum(info[c(i,j),5]))\n",
    "                        }\n",
    "                    }\n",
    "                }\n",
    "            }\n",
    "            genes = c(genes, current_gene)\n",
    "            pvals = c(pvals, best_pval)\n",
    "            dpsi = c(dpsi, best_dpsi)\n",
    "            \n",
    "        }\n",
    "        current_gene = nameinit\n",
    "        info = junctions[row,]\n",
    "    } else {\n",
    "        info = rbind(info, junctions[row,])\n",
    "    }\n",
    "}\n",
    "# plot(log10(pvals)*-1, pch=16, cex=0.3, main=\"Alt 5'SS\")\n",
    "# abline(h=log10(0.05)*-1)\n",
    "\n",
    "genes5 = genes\n",
    "pvals5 = pvals\n",
    "junctions5 = junctions\n",
    "dpsi5=dpsi"
   ]
  },
  {
   "cell_type": "markdown",
   "metadata": {},
   "source": [
    "There are more unique significant Alt3'SS than Alt5'SS events with and without FDR correction. <br>"
   ]
  },
  {
   "cell_type": "code",
   "execution_count": 62,
   "metadata": {
    "collapsed": false
   },
   "outputs": [
    {
     "data": {
      "text/html": [
       "12"
      ],
      "text/latex": [
       "12"
      ],
      "text/markdown": [
       "12"
      ],
      "text/plain": [
       "[1] 12"
      ]
     },
     "metadata": {},
     "output_type": "display_data"
    },
    {
     "data": {
      "text/html": [
       "11"
      ],
      "text/latex": [
       "11"
      ],
      "text/markdown": [
       "11"
      ],
      "text/plain": [
       "[1] 11"
      ]
     },
     "metadata": {},
     "output_type": "display_data"
    },
    {
     "data": {
      "text/html": [
       "5"
      ],
      "text/latex": [
       "5"
      ],
      "text/markdown": [
       "5"
      ],
      "text/plain": [
       "[1] 5"
      ]
     },
     "metadata": {},
     "output_type": "display_data"
    },
    {
     "data": {
      "text/html": [
       "7"
      ],
      "text/latex": [
       "7"
      ],
      "text/markdown": [
       "7"
      ],
      "text/plain": [
       "[1] 7"
      ]
     },
     "metadata": {},
     "output_type": "display_data"
    },
    {
     "data": {
      "text/html": [
       "8032"
      ],
      "text/latex": [
       "8032"
      ],
      "text/markdown": [
       "8032"
      ],
      "text/plain": [
       "[1] 8032"
      ]
     },
     "metadata": {},
     "output_type": "display_data"
    },
    {
     "data": {
      "text/html": [
       "7974"
      ],
      "text/latex": [
       "7974"
      ],
      "text/markdown": [
       "7974"
      ],
      "text/plain": [
       "[1] 7974"
      ]
     },
     "metadata": {},
     "output_type": "display_data"
    },
    {
     "data": {
      "text/html": [
       "<table>\n",
       "<thead><tr><th></th><th scope=col>genes3</th><th scope=col>pvals3adj</th><th scope=col>index</th><th scope=col>genes5</th><th scope=col>pvals5adj</th></tr></thead>\n",
       "<tbody>\n",
       "\t<tr><th scope=row>857</th><td>chr14:105855499</td><td>1.600524e-19   </td><td> 1             </td><td>chr19:48965896 </td><td>1.912760e-53   </td></tr>\n",
       "\t<tr><th scope=row>165</th><td>chr9:19378727  </td><td>1.193751e-18   </td><td> 2             </td><td>chr5:150412644 </td><td>1.112301e-31   </td></tr>\n",
       "\t<tr><th scope=row>482</th><td>chr19:48965896 </td><td>2.323418e-16   </td><td> 3             </td><td>chr14:105855499</td><td>6.245717e-21   </td></tr>\n",
       "\t<tr><th scope=row>992</th><td>chr5:150412644 </td><td>3.652742e-11   </td><td> 4             </td><td>chr7:142801407 </td><td>3.899738e-03   </td></tr>\n",
       "\t<tr><th scope=row>211</th><td>chr6:24718559  </td><td>1.525624e-03   </td><td> 5             </td><td>chr10:3781660  </td><td>4.779568e-03   </td></tr>\n",
       "\t<tr><th scope=row>994</th><td>chr5:150446821 </td><td>6.480329e-03   </td><td> 6             </td><td>chr12:53295619 </td><td>7.660819e-02   </td></tr>\n",
       "\t<tr><th scope=row>1029</th><td>chr6:158770783 </td><td>3.280996e-02   </td><td> 7             </td><td>chr1:30757678  </td><td>9.849624e-02   </td></tr>\n",
       "\t<tr><th scope=row>282</th><td>chr6:31355336  </td><td>7.380490e-01   </td><td> 8             </td><td>chr19:2269724  </td><td>2.799145e-01   </td></tr>\n",
       "\t<tr><th scope=row>1</th><td>chr9:172100    </td><td>1.000000e+00   </td><td> 9             </td><td>chr5:150445628 </td><td>3.528620e-01   </td></tr>\n",
       "\t<tr><th scope=row>2</th><td>chr11:209980   </td><td>1.000000e+00   </td><td>10             </td><td>chr6:30490495  </td><td>5.328025e-01   </td></tr>\n",
       "</tbody>\n",
       "</table>\n"
      ],
      "text/latex": [
       "\\begin{tabular}{r|lllll}\n",
       "  & genes3 & pvals3adj & index & genes5 & pvals5adj\\\\\n",
       "\\hline\n",
       "\t857 & chr14:105855499 & 1.600524e-19    &  1              & chr19:48965896  & 1.912760e-53   \\\\\n",
       "\t165 & chr9:19378727   & 1.193751e-18    &  2              & chr5:150412644  & 1.112301e-31   \\\\\n",
       "\t482 & chr19:48965896  & 2.323418e-16    &  3              & chr14:105855499 & 6.245717e-21   \\\\\n",
       "\t992 & chr5:150412644  & 3.652742e-11    &  4              & chr7:142801407  & 3.899738e-03   \\\\\n",
       "\t211 & chr6:24718559   & 1.525624e-03    &  5              & chr10:3781660   & 4.779568e-03   \\\\\n",
       "\t994 & chr5:150446821  & 6.480329e-03    &  6              & chr12:53295619  & 7.660819e-02   \\\\\n",
       "\t1029 & chr6:158770783  & 3.280996e-02    &  7              & chr1:30757678   & 9.849624e-02   \\\\\n",
       "\t282 & chr6:31355336   & 7.380490e-01    &  8              & chr19:2269724   & 2.799145e-01   \\\\\n",
       "\t1 & chr9:172100     & 1.000000e+00    &  9              & chr5:150445628  & 3.528620e-01   \\\\\n",
       "\t2 & chr11:209980    & 1.000000e+00    & 10              & chr6:30490495   & 5.328025e-01   \\\\\n",
       "\\end{tabular}\n"
      ],
      "text/markdown": [
       "\n",
       "| <!--/--> | genes3 | pvals3adj | index | genes5 | pvals5adj | \n",
       "|---|---|---|---|---|---|---|---|---|---|\n",
       "| 857 | chr14:105855499 | 1.600524e-19    |  1              | chr19:48965896  | 1.912760e-53    | \n",
       "| 165 | chr9:19378727   | 1.193751e-18    |  2              | chr5:150412644  | 1.112301e-31    | \n",
       "| 482 | chr19:48965896  | 2.323418e-16    |  3              | chr14:105855499 | 6.245717e-21    | \n",
       "| 992 | chr5:150412644  | 3.652742e-11    |  4              | chr7:142801407  | 3.899738e-03    | \n",
       "| 211 | chr6:24718559   | 1.525624e-03    |  5              | chr10:3781660   | 4.779568e-03    | \n",
       "| 994 | chr5:150446821  | 6.480329e-03    |  6              | chr12:53295619  | 7.660819e-02    | \n",
       "| 1029 | chr6:158770783  | 3.280996e-02    |  7              | chr1:30757678   | 9.849624e-02    | \n",
       "| 282 | chr6:31355336   | 7.380490e-01    |  8              | chr19:2269724   | 2.799145e-01    | \n",
       "| 1 | chr9:172100     | 1.000000e+00    |  9              | chr5:150445628  | 3.528620e-01    | \n",
       "| 2 | chr11:209980    | 1.000000e+00    | 10              | chr6:30490495   | 5.328025e-01    | \n",
       "\n",
       "\n"
      ],
      "text/plain": [
       "     genes3          pvals3adj    index genes5          pvals5adj   \n",
       "857  chr14:105855499 1.600524e-19  1    chr19:48965896  1.912760e-53\n",
       "165  chr9:19378727   1.193751e-18  2    chr5:150412644  1.112301e-31\n",
       "482  chr19:48965896  2.323418e-16  3    chr14:105855499 6.245717e-21\n",
       "992  chr5:150412644  3.652742e-11  4    chr7:142801407  3.899738e-03\n",
       "211  chr6:24718559   1.525624e-03  5    chr10:3781660   4.779568e-03\n",
       "994  chr5:150446821  6.480329e-03  6    chr12:53295619  7.660819e-02\n",
       "1029 chr6:158770783  3.280996e-02  7    chr1:30757678   9.849624e-02\n",
       "282  chr6:31355336   7.380490e-01  8    chr19:2269724   2.799145e-01\n",
       "1    chr9:172100     1.000000e+00  9    chr5:150445628  3.528620e-01\n",
       "2    chr11:209980    1.000000e+00 10    chr6:30490495   5.328025e-01"
      ]
     },
     "metadata": {},
     "output_type": "display_data"
    }
   ],
   "source": [
    "length(unique(pvals5[pvals5<0.05]))  # number of significant alt 5'ss events\n",
    "length(unique(pvals3[pvals3<0.05]))  # number of significant alt 3'ss events\n",
    "pvals5adj = p.adjust(pvals5, method='fdr')\n",
    "pvals3adj = p.adjust(pvals3, method='fdr')\n",
    "length(unique(pvals5adj[pvals5adj<0.05]))  # number of significant alt 5' ss events after fdr correction\n",
    "length(unique(pvals3adj[pvals3adj<0.05]))  # number of significant alt 3' ss events after fdr connection\n",
    "length(unique(paste0(junctions5[,1],junctions5[,3])))  # number of alt 5' ss events\n",
    "length(unique(paste0(junctions3[,1], junctions3[,2])))  # number of alt 3' ss events\n",
    "df3 = data.frame(genes3, pvals3adj)\n",
    "df5 = data.frame(genes5, pvals5adj)\n",
    "cbind((df3[order(df3$pvals3adj),][1:10,]), data.frame(index=seq(1:10)), (df5[order(df5$pvals5adj),][1:10,]))"
   ]
  },
  {
   "cell_type": "code",
   "execution_count": 4,
   "metadata": {
    "collapsed": false,
    "scrolled": false
   },
   "outputs": [
    {
     "data": {
      "image/png": "[encoded data removed]",
      "text/plain": [
       "plot without title"
      ]
     },
     "metadata": {},
     "output_type": "display_data"
    },
    {
     "data": {
      "image/png": "[encoded data removed]",
      "text/plain": [
       "plot without title"
      ]
     },
     "metadata": {},
     "output_type": "display_data"
    },
    {
     "data": {
      "image/png": "[encoded data removed]",
      "text/plain": [
       "plot without title"
      ]
     },
     "metadata": {},
     "output_type": "display_data"
    }
   ],
   "source": [
    "plot(-1*log10(seq(1,0,-1/length(pvals3)))[1:length(pvals3)],-1*log10(rev(sort(pvals3))),type='l')\n",
    "source(\"~/bme/jupyter_data/qq_pval.r\")\n",
    "qq_pval(pvals3)\n",
    "qq_pval(pvals5)"
   ]
  },
  {
   "cell_type": "markdown",
   "metadata": {},
   "source": [
    "I decided to move all contingency table making and fisher testing into python for sake of time. I've put the accompanying script in the same github folder as these jupyter notebooks.\n",
    "Changes from above implementations of fisher tests:\n",
    "1. I use all junctions found in the corrected reads. Before I was using junctions that were novel to the corrected nanopore reads.\n",
    "2. Contigency tables are formed with the counts in wildtype/mutant that are used by a junctionA and the sum of counts of all other junctions sharing the same 5' (or 3', when looking at alternative 5' splicing) as junctionA. Before I was doing pairwise comparisons.\n",
    "3. The counts of wt or mt reads aligning to a junction must sum to at least 2 (arbitrary cutoff, can experiment). "
   ]
  },
  {
   "cell_type": "code",
   "execution_count": 63,
   "metadata": {
    "collapsed": false,
    "scrolled": false
   },
   "outputs": [
    {
     "data": {
      "image/png": "[encoded data removed]",
      "text/plain": [
       "plot without title"
      ]
     },
     "metadata": {},
     "output_type": "display_data"
    },
    {
     "data": {
      "image/png": "[encoded data removed]",
      "text/plain": [
       "plot without title"
      ]
     },
     "metadata": {},
     "output_type": "display_data"
    }
   ],
   "source": [
    "setwd('~/bme/jupyter_data/')\n",
    "threeprime = read.table('alt3primess_fisher.txt')  # chrom, junction 5', 3', pval, strand, wt counts for this junction, \n",
    "                                                    # mt counts ' ', wt sum for all other junctions with this 5' position,\n",
    "                                                    # mt sum ' '\n",
    "fiveprime = read.table('alt5primess_fisher.txt')\n",
    "# nrow(threeprime)  # 3' total number of valid tests (counts >= 2)\n",
    "# nrow(fiveprime)  # 5' \"\"\n",
    "# sum(threeprime$V4 < 0.05)  # 3' tests that were significant\n",
    "# sum(fiveprime$V4 < 0.05)  # 5' \"\"\n",
    "# pvals3adj = p.adjust(threeprime$V4, method='fdr')\n",
    "# pvals5adj = p.adjust(fiveprime$V4, method='fdr')\n",
    "# threeprime$padj = pvals3adj\n",
    "# fiveprime$padj = pvals5adj\n",
    "# head(threeprime[order(threeprime$V4),])\n",
    "# head(fiveprime[order(fiveprime$V4),])\n",
    "# sum(pvals3adj < 0.05)  #  3' tests that were significant after correction\n",
    "# sum(pvals5adj < 0.05)  # 5' \"\"\n",
    "source(\"~/bme/jupyter_data/qq_pval.r\")\n",
    "qq_pval(threeprime$V4)\n",
    "qq_pval(fiveprime$V4)"
   ]
  },
  {
   "cell_type": "markdown",
   "metadata": {},
   "source": [
    "Ahh.. once again I fix the strand. Before I was using the strand that the read came from, which is not necessarily consistent with what strand the gene is on. It makes for poor fisher testing."
   ]
  },
  {
   "cell_type": "code",
   "execution_count": 7,
   "metadata": {
    "collapsed": false,
    "scrolled": false
   },
   "outputs": [
    {
     "name": "stderr",
     "output_type": "stream",
     "text": [
      "Warning message in scan(file, what, nmax, sep, dec, quote, skip, nlines, na.strings, :\n",
      "\"number of items read is not a multiple of the number of columns\""
     ]
    },
    {
     "data": {
      "text/html": [
       "3680"
      ],
      "text/latex": [
       "3680"
      ],
      "text/markdown": [
       "3680"
      ],
      "text/plain": [
       "[1] 3680"
      ]
     },
     "metadata": {},
     "output_type": "display_data"
    },
    {
     "data": {
      "text/html": [
       "5092"
      ],
      "text/latex": [
       "5092"
      ],
      "text/markdown": [
       "5092"
      ],
      "text/plain": [
       "[1] 5092"
      ]
     },
     "metadata": {},
     "output_type": "display_data"
    },
    {
     "data": {
      "text/html": [
       "130"
      ],
      "text/latex": [
       "130"
      ],
      "text/markdown": [
       "130"
      ],
      "text/plain": [
       "[1] 130"
      ]
     },
     "metadata": {},
     "output_type": "display_data"
    },
    {
     "data": {
      "text/html": [
       "90"
      ],
      "text/latex": [
       "90"
      ],
      "text/markdown": [
       "90"
      ],
      "text/plain": [
       "[1] 90"
      ]
     },
     "metadata": {},
     "output_type": "display_data"
    },
    {
     "data": {
      "text/html": [
       "33"
      ],
      "text/latex": [
       "33"
      ],
      "text/markdown": [
       "33"
      ],
      "text/plain": [
       "[1] 33"
      ]
     },
     "metadata": {},
     "output_type": "display_data"
    },
    {
     "data": {
      "text/html": [
       "11"
      ],
      "text/latex": [
       "11"
      ],
      "text/markdown": [
       "11"
      ],
      "text/plain": [
       "[1] 11"
      ]
     },
     "metadata": {},
     "output_type": "display_data"
    },
    {
     "data": {
      "text/html": [
       "<table>\n",
       "<thead><tr><th></th><th scope=col>V1</th><th scope=col>V2</th><th scope=col>V3</th><th scope=col>V4</th><th scope=col>V5</th><th scope=col>V6</th><th scope=col>V7</th><th scope=col>V8</th><th scope=col>V9</th><th scope=col>V10</th><th scope=col>padj</th></tr></thead>\n",
       "<tbody>\n",
       "\t<tr><th scope=row>3190</th><td>chr5        </td><td>150412624   </td><td>150407324   </td><td>8.183761e-82</td><td>-           </td><td>101         </td><td>581         </td><td>144         </td><td>  9         </td><td>CD74        </td><td>3.011624e-78</td></tr>\n",
       "\t<tr><th scope=row>536</th><td>chr14       </td><td>105855479   </td><td>105855234   </td><td>3.793882e-56</td><td>-           </td><td>308         </td><td>200         </td><td> 14         </td><td>243         </td><td>IGHM        </td><td>6.980743e-53</td></tr>\n",
       "\t<tr><th scope=row>2608</th><td>chr9        </td><td> 19378707   </td><td> 19378514   </td><td>1.322950e-52</td><td>-           </td><td> 73         </td><td>  3         </td><td>  1         </td><td>138         </td><td>RPS6        </td><td>1.622819e-49</td></tr>\n",
       "\t<tr><th scope=row>539</th><td>chr14       </td><td>105855479   </td><td>105855238   </td><td>2.790069e-24</td><td>-           </td><td>  0         </td><td> 92         </td><td>322         </td><td>351         </td><td>IGHM        </td><td>2.566863e-21</td></tr>\n",
       "\t<tr><th scope=row>2975</th><td>chr6        </td><td> 24718539   </td><td> 24716324   </td><td>5.736112e-24</td><td>-           </td><td> 32         </td><td>105         </td><td> 58         </td><td>  2         </td><td>C6orf62     </td><td>4.221778e-21</td></tr>\n",
       "\t<tr><th scope=row>537</th><td>chr14       </td><td>105855479   </td><td>105855235   </td><td>1.295086e-23</td><td>-           </td><td>  0         </td><td> 89         </td><td>322         </td><td>354         </td><td>IGHM        </td><td>7.943191e-21</td></tr>\n",
       "</tbody>\n",
       "</table>\n"
      ],
      "text/latex": [
       "\\begin{tabular}{r|lllllllllll}\n",
       "  & V1 & V2 & V3 & V4 & V5 & V6 & V7 & V8 & V9 & V10 & padj\\\\\n",
       "\\hline\n",
       "\t3190 & chr5         & 150412624    & 150407324    & 8.183761e-82 & -            & 101          & 581          & 144          &   9          & CD74         & 3.011624e-78\\\\\n",
       "\t536 & chr14        & 105855479    & 105855234    & 3.793882e-56 & -            & 308          & 200          &  14          & 243          & IGHM         & 6.980743e-53\\\\\n",
       "\t2608 & chr9         &  19378707    &  19378514    & 1.322950e-52 & -            &  73          &   3          &   1          & 138          & RPS6         & 1.622819e-49\\\\\n",
       "\t539 & chr14        & 105855479    & 105855238    & 2.790069e-24 & -            &   0          &  92          & 322          & 351          & IGHM         & 2.566863e-21\\\\\n",
       "\t2975 & chr6         &  24718539    &  24716324    & 5.736112e-24 & -            &  32          & 105          &  58          &   2          & C6orf62      & 4.221778e-21\\\\\n",
       "\t537 & chr14        & 105855479    & 105855235    & 1.295086e-23 & -            &   0          &  89          & 322          & 354          & IGHM         & 7.943191e-21\\\\\n",
       "\\end{tabular}\n"
      ],
      "text/markdown": [
       "\n",
       "| <!--/--> | V1 | V2 | V3 | V4 | V5 | V6 | V7 | V8 | V9 | V10 | padj | \n",
       "|---|---|---|---|---|---|\n",
       "| 3190 | chr5         | 150412624    | 150407324    | 8.183761e-82 | -            | 101          | 581          | 144          |   9          | CD74         | 3.011624e-78 | \n",
       "| 536 | chr14        | 105855479    | 105855234    | 3.793882e-56 | -            | 308          | 200          |  14          | 243          | IGHM         | 6.980743e-53 | \n",
       "| 2608 | chr9         |  19378707    |  19378514    | 1.322950e-52 | -            |  73          |   3          |   1          | 138          | RPS6         | 1.622819e-49 | \n",
       "| 539 | chr14        | 105855479    | 105855238    | 2.790069e-24 | -            |   0          |  92          | 322          | 351          | IGHM         | 2.566863e-21 | \n",
       "| 2975 | chr6         |  24718539    |  24716324    | 5.736112e-24 | -            |  32          | 105          |  58          |   2          | C6orf62      | 4.221778e-21 | \n",
       "| 537 | chr14        | 105855479    | 105855235    | 1.295086e-23 | -            |   0          |  89          | 322          | 354          | IGHM         | 7.943191e-21 | \n",
       "\n",
       "\n"
      ],
      "text/plain": [
       "     V1    V2        V3        V4           V5 V6  V7  V8  V9  V10    \n",
       "3190 chr5  150412624 150407324 8.183761e-82 -  101 581 144   9 CD74   \n",
       "536  chr14 105855479 105855234 3.793882e-56 -  308 200  14 243 IGHM   \n",
       "2608 chr9   19378707  19378514 1.322950e-52 -   73   3   1 138 RPS6   \n",
       "539  chr14 105855479 105855238 2.790069e-24 -    0  92 322 351 IGHM   \n",
       "2975 chr6   24718539  24716324 5.736112e-24 -   32 105  58   2 C6orf62\n",
       "537  chr14 105855479 105855235 1.295086e-23 -    0  89 322 354 IGHM   \n",
       "     padj        \n",
       "3190 3.011624e-78\n",
       "536  6.980743e-53\n",
       "2608 1.622819e-49\n",
       "539  2.566863e-21\n",
       "2975 4.221778e-21\n",
       "537  7.943191e-21"
      ]
     },
     "metadata": {},
     "output_type": "display_data"
    },
    {
     "data": {
      "text/html": [
       "<table>\n",
       "<thead><tr><th></th><th scope=col>V1</th><th scope=col>V2</th><th scope=col>V3</th><th scope=col>V4</th><th scope=col>V5</th><th scope=col>V6</th><th scope=col>V7</th><th scope=col>V8</th><th scope=col>V9</th><th scope=col>V10</th><th scope=col>padj</th></tr></thead>\n",
       "<tbody>\n",
       "\t<tr><th scope=row>536</th><td>chr14       </td><td>105855479   </td><td>105855234   </td><td>3.793882e-56</td><td>-           </td><td>308         </td><td>200         </td><td> 14         </td><td>243         </td><td>IGHM        </td><td>6.980743e-53</td></tr>\n",
       "\t<tr><th scope=row>2608</th><td>chr9        </td><td> 19378707   </td><td> 19378514   </td><td>1.322950e-52</td><td>-           </td><td> 73         </td><td>  3         </td><td>  1         </td><td>138         </td><td>RPS6        </td><td>1.622819e-49</td></tr>\n",
       "\t<tr><th scope=row>539</th><td>chr14       </td><td>105855479   </td><td>105855238   </td><td>2.790069e-24</td><td>-           </td><td>  0         </td><td> 92         </td><td>322         </td><td>351         </td><td>IGHM        </td><td>2.566863e-21</td></tr>\n",
       "\t<tr><th scope=row>2975</th><td>chr6        </td><td> 24718539   </td><td> 24716324   </td><td>5.736112e-24</td><td>-           </td><td> 32         </td><td>105         </td><td> 58         </td><td>  2         </td><td>C6orf62     </td><td>4.221778e-21</td></tr>\n",
       "\t<tr><th scope=row>537</th><td>chr14       </td><td>105855479   </td><td>105855235   </td><td>1.295086e-23</td><td>-           </td><td>  0         </td><td> 89         </td><td>322         </td><td>354         </td><td>IGHM        </td><td>7.943191e-21</td></tr>\n",
       "\t<tr><th scope=row>3410</th><td>chr5        </td><td>150446801   </td><td>150445685   </td><td>7.098655e-16</td><td>-           </td><td> 55         </td><td>177         </td><td> 38         </td><td>  5         </td><td>RPS14       </td><td>3.265381e-13</td></tr>\n",
       "\t<tr><th scope=row>2609</th><td>chr9        </td><td> 19378707   </td><td> 19378515   </td><td>1.022344e-14</td><td>-           </td><td>  0         </td><td> 62         </td><td> 74         </td><td> 79         </td><td>RPS6        </td><td>4.180252e-12</td></tr>\n",
       "\t<tr><th scope=row>3065</th><td>chr6        </td><td> 31355316   </td><td> 31355223   </td><td>1.086525e-10</td><td>-           </td><td> 40         </td><td>134         </td><td> 29         </td><td>  7         </td><td>HLA-B       </td><td>3.634919e-08</td></tr>\n",
       "\t<tr><th scope=row>2946</th><td>chr6        </td><td>158770763   </td><td>158769944   </td><td>5.937065e-10</td><td>-           </td><td> 47         </td><td> 10         </td><td>  7         </td><td> 31         </td><td>EZR         </td><td>1.820700e-07</td></tr>\n",
       "\t<tr><th scope=row>3412</th><td>chr5        </td><td>150446801   </td><td>150445688   </td><td>3.873131e-08</td><td>-           </td><td> 15         </td><td>  0         </td><td> 78         </td><td>182         </td><td>RPS14       </td><td>9.502080e-06</td></tr>\n",
       "\t<tr><th scope=row>2973</th><td>chr6        </td><td> 24718539   </td><td> 24716320   </td><td>2.705817e-07</td><td>-           </td><td> 18         </td><td>  0         </td><td> 72         </td><td>107         </td><td>C6orf62     </td><td>5.857298e-05</td></tr>\n",
       "\t<tr><th scope=row>2605</th><td>chr9        </td><td> 19378707   </td><td> 19378513   </td><td>7.196933e-07</td><td>-           </td><td>  0         </td><td> 31         </td><td> 74         </td><td>110         </td><td>RPS6        </td><td>1.471373e-04</td></tr>\n",
       "\t<tr><th scope=row>2976</th><td>chr6        </td><td> 24718539   </td><td> 24716326   </td><td>2.278608e-05</td><td>-           </td><td> 13         </td><td>  0         </td><td> 77         </td><td>107         </td><td>C6orf62     </td><td>4.192639e-03</td></tr>\n",
       "\t<tr><th scope=row>1964</th><td>chr6        </td><td> 30490515   </td><td> 30491136   </td><td>9.372672e-05</td><td>+           </td><td> 37         </td><td> 50         </td><td>  7         </td><td> 50         </td><td>HLA-E       </td><td>1.437143e-02</td></tr>\n",
       "\t<tr><th scope=row>2947</th><td>chr6        </td><td>158770763   </td><td>158769942   </td><td>1.109457e-04</td><td>-           </td><td>  0         </td><td> 10         </td><td> 54         </td><td> 31         </td><td>EZR         </td><td>1.633121e-02</td></tr>\n",
       "\t<tr><th scope=row>2600</th><td>chr9        </td><td> 19378707   </td><td> 19378511   </td><td>1.296808e-04</td><td>-           </td><td>  0         </td><td> 21         </td><td> 74         </td><td>120         </td><td>RPS6        </td><td>1.835482e-02</td></tr>\n",
       "\t<tr><th scope=row>3409</th><td>chr5        </td><td>150446801   </td><td>150445684   </td><td>1.391266e-04</td><td>-           </td><td>  8         </td><td>  0         </td><td> 85         </td><td>182         </td><td>RPS14       </td><td>1.896244e-02</td></tr>\n",
       "\t<tr><th scope=row>1836</th><td>chr7        </td><td> 99392876   </td><td> 99394028   </td><td>2.072968e-04</td><td>+           </td><td>  9         </td><td> 53         </td><td>  5         </td><td>  0         </td><td>RP5-900K19.2</td><td>2.724473e-02</td></tr>\n",
       "\t<tr><th scope=row>2023</th><td>chr1        </td><td>109214128   </td><td>109223977   </td><td>2.579979e-04</td><td>+           </td><td>  1         </td><td> 12         </td><td>  6         </td><td>  0         </td><td>SARS        </td><td>3.273905e-02</td></tr>\n",
       "\t<tr><th scope=row>538</th><td>chr14       </td><td>105855479   </td><td>105855237   </td><td>2.924129e-04</td><td>-           </td><td>  0         </td><td> 15         </td><td>322         </td><td>428         </td><td>IGHM        </td><td>3.428917e-02</td></tr>\n",
       "</tbody>\n",
       "</table>\n"
      ],
      "text/latex": [
       "\\begin{tabular}{r|lllllllllll}\n",
       "  & V1 & V2 & V3 & V4 & V5 & V6 & V7 & V8 & V9 & V10 & padj\\\\\n",
       "\\hline\n",
       "\t536 & chr14        & 105855479    & 105855234    & 3.793882e-56 & -            & 308          & 200          &  14          & 243          & IGHM         & 6.980743e-53\\\\\n",
       "\t2608 & chr9         &  19378707    &  19378514    & 1.322950e-52 & -            &  73          &   3          &   1          & 138          & RPS6         & 1.622819e-49\\\\\n",
       "\t539 & chr14        & 105855479    & 105855238    & 2.790069e-24 & -            &   0          &  92          & 322          & 351          & IGHM         & 2.566863e-21\\\\\n",
       "\t2975 & chr6         &  24718539    &  24716324    & 5.736112e-24 & -            &  32          & 105          &  58          &   2          & C6orf62      & 4.221778e-21\\\\\n",
       "\t537 & chr14        & 105855479    & 105855235    & 1.295086e-23 & -            &   0          &  89          & 322          & 354          & IGHM         & 7.943191e-21\\\\\n",
       "\t3410 & chr5         & 150446801    & 150445685    & 7.098655e-16 & -            &  55          & 177          &  38          &   5          & RPS14        & 3.265381e-13\\\\\n",
       "\t2609 & chr9         &  19378707    &  19378515    & 1.022344e-14 & -            &   0          &  62          &  74          &  79          & RPS6         & 4.180252e-12\\\\\n",
       "\t3065 & chr6         &  31355316    &  31355223    & 1.086525e-10 & -            &  40          & 134          &  29          &   7          & HLA-B        & 3.634919e-08\\\\\n",
       "\t2946 & chr6         & 158770763    & 158769944    & 5.937065e-10 & -            &  47          &  10          &   7          &  31          & EZR          & 1.820700e-07\\\\\n",
       "\t3412 & chr5         & 150446801    & 150445688    & 3.873131e-08 & -            &  15          &   0          &  78          & 182          & RPS14        & 9.502080e-06\\\\\n",
       "\t2973 & chr6         &  24718539    &  24716320    & 2.705817e-07 & -            &  18          &   0          &  72          & 107          & C6orf62      & 5.857298e-05\\\\\n",
       "\t2605 & chr9         &  19378707    &  19378513    & 7.196933e-07 & -            &   0          &  31          &  74          & 110          & RPS6         & 1.471373e-04\\\\\n",
       "\t2976 & chr6         &  24718539    &  24716326    & 2.278608e-05 & -            &  13          &   0          &  77          & 107          & C6orf62      & 4.192639e-03\\\\\n",
       "\t1964 & chr6         &  30490515    &  30491136    & 9.372672e-05 & +            &  37          &  50          &   7          &  50          & HLA-E        & 1.437143e-02\\\\\n",
       "\t2947 & chr6         & 158770763    & 158769942    & 1.109457e-04 & -            &   0          &  10          &  54          &  31          & EZR          & 1.633121e-02\\\\\n",
       "\t2600 & chr9         &  19378707    &  19378511    & 1.296808e-04 & -            &   0          &  21          &  74          & 120          & RPS6         & 1.835482e-02\\\\\n",
       "\t3409 & chr5         & 150446801    & 150445684    & 1.391266e-04 & -            &   8          &   0          &  85          & 182          & RPS14        & 1.896244e-02\\\\\n",
       "\t1836 & chr7         &  99392876    &  99394028    & 2.072968e-04 & +            &   9          &  53          &   5          &   0          & RP5-900K19.2 & 2.724473e-02\\\\\n",
       "\t2023 & chr1         & 109214128    & 109223977    & 2.579979e-04 & +            &   1          &  12          &   6          &   0          & SARS         & 3.273905e-02\\\\\n",
       "\t538 & chr14        & 105855479    & 105855237    & 2.924129e-04 & -            &   0          &  15          & 322          & 428          & IGHM         & 3.428917e-02\\\\\n",
       "\\end{tabular}\n"
      ],
      "text/markdown": [
       "\n",
       "| <!--/--> | V1 | V2 | V3 | V4 | V5 | V6 | V7 | V8 | V9 | V10 | padj | \n",
       "|---|---|---|---|---|---|---|---|---|---|---|---|---|---|---|---|---|---|---|---|\n",
       "| 536 | chr14        | 105855479    | 105855234    | 3.793882e-56 | -            | 308          | 200          |  14          | 243          | IGHM         | 6.980743e-53 | \n",
       "| 2608 | chr9         |  19378707    |  19378514    | 1.322950e-52 | -            |  73          |   3          |   1          | 138          | RPS6         | 1.622819e-49 | \n",
       "| 539 | chr14        | 105855479    | 105855238    | 2.790069e-24 | -            |   0          |  92          | 322          | 351          | IGHM         | 2.566863e-21 | \n",
       "| 2975 | chr6         |  24718539    |  24716324    | 5.736112e-24 | -            |  32          | 105          |  58          |   2          | C6orf62      | 4.221778e-21 | \n",
       "| 537 | chr14        | 105855479    | 105855235    | 1.295086e-23 | -            |   0          |  89          | 322          | 354          | IGHM         | 7.943191e-21 | \n",
       "| 3410 | chr5         | 150446801    | 150445685    | 7.098655e-16 | -            |  55          | 177          |  38          |   5          | RPS14        | 3.265381e-13 | \n",
       "| 2609 | chr9         |  19378707    |  19378515    | 1.022344e-14 | -            |   0          |  62          |  74          |  79          | RPS6         | 4.180252e-12 | \n",
       "| 3065 | chr6         |  31355316    |  31355223    | 1.086525e-10 | -            |  40          | 134          |  29          |   7          | HLA-B        | 3.634919e-08 | \n",
       "| 2946 | chr6         | 158770763    | 158769944    | 5.937065e-10 | -            |  47          |  10          |   7          |  31          | EZR          | 1.820700e-07 | \n",
       "| 3412 | chr5         | 150446801    | 150445688    | 3.873131e-08 | -            |  15          |   0          |  78          | 182          | RPS14        | 9.502080e-06 | \n",
       "| 2973 | chr6         |  24718539    |  24716320    | 2.705817e-07 | -            |  18          |   0          |  72          | 107          | C6orf62      | 5.857298e-05 | \n",
       "| 2605 | chr9         |  19378707    |  19378513    | 7.196933e-07 | -            |   0          |  31          |  74          | 110          | RPS6         | 1.471373e-04 | \n",
       "| 2976 | chr6         |  24718539    |  24716326    | 2.278608e-05 | -            |  13          |   0          |  77          | 107          | C6orf62      | 4.192639e-03 | \n",
       "| 1964 | chr6         |  30490515    |  30491136    | 9.372672e-05 | +            |  37          |  50          |   7          |  50          | HLA-E        | 1.437143e-02 | \n",
       "| 2947 | chr6         | 158770763    | 158769942    | 1.109457e-04 | -            |   0          |  10          |  54          |  31          | EZR          | 1.633121e-02 | \n",
       "| 2600 | chr9         |  19378707    |  19378511    | 1.296808e-04 | -            |   0          |  21          |  74          | 120          | RPS6         | 1.835482e-02 | \n",
       "| 3409 | chr5         | 150446801    | 150445684    | 1.391266e-04 | -            |   8          |   0          |  85          | 182          | RPS14        | 1.896244e-02 | \n",
       "| 1836 | chr7         |  99392876    |  99394028    | 2.072968e-04 | +            |   9          |  53          |   5          |   0          | RP5-900K19.2 | 2.724473e-02 | \n",
       "| 2023 | chr1         | 109214128    | 109223977    | 2.579979e-04 | +            |   1          |  12          |   6          |   0          | SARS         | 3.273905e-02 | \n",
       "| 538 | chr14        | 105855479    | 105855237    | 2.924129e-04 | -            |   0          |  15          | 322          | 428          | IGHM         | 3.428917e-02 | \n",
       "\n",
       "\n"
      ],
      "text/plain": [
       "     V1    V2        V3        V4           V5 V6  V7  V8  V9  V10         \n",
       "536  chr14 105855479 105855234 3.793882e-56 -  308 200  14 243 IGHM        \n",
       "2608 chr9   19378707  19378514 1.322950e-52 -   73   3   1 138 RPS6        \n",
       "539  chr14 105855479 105855238 2.790069e-24 -    0  92 322 351 IGHM        \n",
       "2975 chr6   24718539  24716324 5.736112e-24 -   32 105  58   2 C6orf62     \n",
       "537  chr14 105855479 105855235 1.295086e-23 -    0  89 322 354 IGHM        \n",
       "3410 chr5  150446801 150445685 7.098655e-16 -   55 177  38   5 RPS14       \n",
       "2609 chr9   19378707  19378515 1.022344e-14 -    0  62  74  79 RPS6        \n",
       "3065 chr6   31355316  31355223 1.086525e-10 -   40 134  29   7 HLA-B       \n",
       "2946 chr6  158770763 158769944 5.937065e-10 -   47  10   7  31 EZR         \n",
       "3412 chr5  150446801 150445688 3.873131e-08 -   15   0  78 182 RPS14       \n",
       "2973 chr6   24718539  24716320 2.705817e-07 -   18   0  72 107 C6orf62     \n",
       "2605 chr9   19378707  19378513 7.196933e-07 -    0  31  74 110 RPS6        \n",
       "2976 chr6   24718539  24716326 2.278608e-05 -   13   0  77 107 C6orf62     \n",
       "1964 chr6   30490515  30491136 9.372672e-05 +   37  50   7  50 HLA-E       \n",
       "2947 chr6  158770763 158769942 1.109457e-04 -    0  10  54  31 EZR         \n",
       "2600 chr9   19378707  19378511 1.296808e-04 -    0  21  74 120 RPS6        \n",
       "3409 chr5  150446801 150445684 1.391266e-04 -    8   0  85 182 RPS14       \n",
       "1836 chr7   99392876  99394028 2.072968e-04 +    9  53   5   0 RP5-900K19.2\n",
       "2023 chr1  109214128 109223977 2.579979e-04 +    1  12   6   0 SARS        \n",
       "538  chr14 105855479 105855237 2.924129e-04 -    0  15 322 428 IGHM        \n",
       "     padj        \n",
       "536  6.980743e-53\n",
       "2608 1.622819e-49\n",
       "539  2.566863e-21\n",
       "2975 4.221778e-21\n",
       "537  7.943191e-21\n",
       "3410 3.265381e-13\n",
       "2609 4.180252e-12\n",
       "3065 3.634919e-08\n",
       "2946 1.820700e-07\n",
       "3412 9.502080e-06\n",
       "2973 5.857298e-05\n",
       "2605 1.471373e-04\n",
       "2976 4.192639e-03\n",
       "1964 1.437143e-02\n",
       "2947 1.633121e-02\n",
       "2600 1.835482e-02\n",
       "3409 1.896244e-02\n",
       "1836 2.724473e-02\n",
       "2023 3.273905e-02\n",
       "538  3.428917e-02"
      ]
     },
     "metadata": {},
     "output_type": "display_data"
    },
    {
     "data": {
      "text/html": [
       "<table>\n",
       "<thead><tr><th></th><th scope=col>V1</th><th scope=col>V2</th><th scope=col>V3</th><th scope=col>V4</th><th scope=col>V5</th><th scope=col>V6</th><th scope=col>V7</th><th scope=col>V8</th><th scope=col>V9</th><th scope=col>V10</th><th scope=col>padj</th></tr></thead>\n",
       "<tbody>\n",
       "\t<tr><th scope=row>3769</th><td>chr19       </td><td> 48965769   </td><td> 48965609   </td><td>1.755952e-50</td><td>+           </td><td>43          </td><td>340         </td><td>101         </td><td> 20         </td><td>FTL         </td><td>8.941307e-47</td></tr>\n",
       "\t<tr><th scope=row>427</th><td>chr14       </td><td>105856217   </td><td>105863197   </td><td>9.148395e-32</td><td>-           </td><td> 1          </td><td>131         </td><td> 81         </td><td> 49         </td><td>IGHM        </td><td>2.329181e-28</td></tr>\n",
       "\t<tr><th scope=row>3765</th><td>chr19       </td><td> 48965769   </td><td> 48965606   </td><td>5.110666e-29</td><td>+           </td><td>47          </td><td>  0         </td><td> 97         </td><td>360         </td><td>FTL         </td><td>8.674504e-26</td></tr>\n",
       "\t<tr><th scope=row>3764</th><td>chr19       </td><td> 48965769   </td><td> 48965604   </td><td>3.149554e-13</td><td>+           </td><td>22          </td><td>  0         </td><td>122         </td><td>360         </td><td>FTL         </td><td>4.009383e-10</td></tr>\n",
       "\t<tr><th scope=row>431</th><td>chr14       </td><td>105856217   </td><td>105864214   </td><td>1.327661e-12</td><td>-           </td><td>32          </td><td>  7         </td><td> 50         </td><td>173         </td><td>IGHM        </td><td>1.352090e-09</td></tr>\n",
       "\t<tr><th scope=row>3432</th><td>chr2        </td><td> 88857683   </td><td> 88860885   </td><td>9.272923e-08</td><td>-           </td><td>85          </td><td>  3         </td><td> 18         </td><td> 15         </td><td>IGKC        </td><td>7.869621e-05</td></tr>\n",
       "\t<tr><th scope=row>3928</th><td>chr19       </td><td>  5691531   </td><td>  5691453   </td><td>5.129400e-06</td><td>+           </td><td>12          </td><td>  4         </td><td>  0         </td><td> 17         </td><td>RPL36       </td><td>3.731272e-03</td></tr>\n",
       "\t<tr><th scope=row>2787</th><td>chr6        </td><td> 31354296   </td><td> 31354478   </td><td>1.877382e-05</td><td>-           </td><td>12          </td><td> 63         </td><td> 13         </td><td>  6         </td><td>HLA-B       </td><td>1.152838e-02</td></tr>\n",
       "\t<tr><th scope=row>2916</th><td>chr6        </td><td> 31356957   </td><td> 31357085   </td><td>2.037616e-05</td><td>-           </td><td> 7          </td><td> 31         </td><td> 19         </td><td>  7         </td><td>HLA-B       </td><td>1.152838e-02</td></tr>\n",
       "\t<tr><th scope=row>2819</th><td>chr6        </td><td> 31355592   </td><td> 31356166   </td><td>4.825850e-05</td><td>-           </td><td> 6          </td><td> 50         </td><td> 11         </td><td>  7         </td><td>HLA-B       </td><td>2.457323e-02</td></tr>\n",
       "</tbody>\n",
       "</table>\n"
      ],
      "text/latex": [
       "\\begin{tabular}{r|lllllllllll}\n",
       "  & V1 & V2 & V3 & V4 & V5 & V6 & V7 & V8 & V9 & V10 & padj\\\\\n",
       "\\hline\n",
       "\t3769 & chr19        &  48965769    &  48965609    & 1.755952e-50 & +            & 43           & 340          & 101          &  20          & FTL          & 8.941307e-47\\\\\n",
       "\t427 & chr14        & 105856217    & 105863197    & 9.148395e-32 & -            &  1           & 131          &  81          &  49          & IGHM         & 2.329181e-28\\\\\n",
       "\t3765 & chr19        &  48965769    &  48965606    & 5.110666e-29 & +            & 47           &   0          &  97          & 360          & FTL          & 8.674504e-26\\\\\n",
       "\t3764 & chr19        &  48965769    &  48965604    & 3.149554e-13 & +            & 22           &   0          & 122          & 360          & FTL          & 4.009383e-10\\\\\n",
       "\t431 & chr14        & 105856217    & 105864214    & 1.327661e-12 & -            & 32           &   7          &  50          & 173          & IGHM         & 1.352090e-09\\\\\n",
       "\t3432 & chr2         &  88857683    &  88860885    & 9.272923e-08 & -            & 85           &   3          &  18          &  15          & IGKC         & 7.869621e-05\\\\\n",
       "\t3928 & chr19        &   5691531    &   5691453    & 5.129400e-06 & +            & 12           &   4          &   0          &  17          & RPL36        & 3.731272e-03\\\\\n",
       "\t2787 & chr6         &  31354296    &  31354478    & 1.877382e-05 & -            & 12           &  63          &  13          &   6          & HLA-B        & 1.152838e-02\\\\\n",
       "\t2916 & chr6         &  31356957    &  31357085    & 2.037616e-05 & -            &  7           &  31          &  19          &   7          & HLA-B        & 1.152838e-02\\\\\n",
       "\t2819 & chr6         &  31355592    &  31356166    & 4.825850e-05 & -            &  6           &  50          &  11          &   7          & HLA-B        & 2.457323e-02\\\\\n",
       "\\end{tabular}\n"
      ],
      "text/markdown": [
       "\n",
       "| <!--/--> | V1 | V2 | V3 | V4 | V5 | V6 | V7 | V8 | V9 | V10 | padj | \n",
       "|---|---|---|---|---|---|---|---|---|---|\n",
       "| 3769 | chr19        |  48965769    |  48965609    | 1.755952e-50 | +            | 43           | 340          | 101          |  20          | FTL          | 8.941307e-47 | \n",
       "| 427 | chr14        | 105856217    | 105863197    | 9.148395e-32 | -            |  1           | 131          |  81          |  49          | IGHM         | 2.329181e-28 | \n",
       "| 3765 | chr19        |  48965769    |  48965606    | 5.110666e-29 | +            | 47           |   0          |  97          | 360          | FTL          | 8.674504e-26 | \n",
       "| 3764 | chr19        |  48965769    |  48965604    | 3.149554e-13 | +            | 22           |   0          | 122          | 360          | FTL          | 4.009383e-10 | \n",
       "| 431 | chr14        | 105856217    | 105864214    | 1.327661e-12 | -            | 32           |   7          |  50          | 173          | IGHM         | 1.352090e-09 | \n",
       "| 3432 | chr2         |  88857683    |  88860885    | 9.272923e-08 | -            | 85           |   3          |  18          |  15          | IGKC         | 7.869621e-05 | \n",
       "| 3928 | chr19        |   5691531    |   5691453    | 5.129400e-06 | +            | 12           |   4          |   0          |  17          | RPL36        | 3.731272e-03 | \n",
       "| 2787 | chr6         |  31354296    |  31354478    | 1.877382e-05 | -            | 12           |  63          |  13          |   6          | HLA-B        | 1.152838e-02 | \n",
       "| 2916 | chr6         |  31356957    |  31357085    | 2.037616e-05 | -            |  7           |  31          |  19          |   7          | HLA-B        | 1.152838e-02 | \n",
       "| 2819 | chr6         |  31355592    |  31356166    | 4.825850e-05 | -            |  6           |  50          |  11          |   7          | HLA-B        | 2.457323e-02 | \n",
       "\n",
       "\n"
      ],
      "text/plain": [
       "     V1    V2        V3        V4           V5 V6 V7  V8  V9  V10  \n",
       "3769 chr19  48965769  48965609 1.755952e-50 +  43 340 101  20 FTL  \n",
       "427  chr14 105856217 105863197 9.148395e-32 -   1 131  81  49 IGHM \n",
       "3765 chr19  48965769  48965606 5.110666e-29 +  47   0  97 360 FTL  \n",
       "3764 chr19  48965769  48965604 3.149554e-13 +  22   0 122 360 FTL  \n",
       "431  chr14 105856217 105864214 1.327661e-12 -  32   7  50 173 IGHM \n",
       "3432 chr2   88857683  88860885 9.272923e-08 -  85   3  18  15 IGKC \n",
       "3928 chr19   5691531   5691453 5.129400e-06 +  12   4   0  17 RPL36\n",
       "2787 chr6   31354296  31354478 1.877382e-05 -  12  63  13   6 HLA-B\n",
       "2916 chr6   31356957  31357085 2.037616e-05 -   7  31  19   7 HLA-B\n",
       "2819 chr6   31355592  31356166 4.825850e-05 -   6  50  11   7 HLA-B\n",
       "     padj        \n",
       "3769 8.941307e-47\n",
       "427  2.329181e-28\n",
       "3765 8.674504e-26\n",
       "3764 4.009383e-10\n",
       "431  1.352090e-09\n",
       "3432 7.869621e-05\n",
       "3928 3.731272e-03\n",
       "2787 1.152838e-02\n",
       "2916 1.152838e-02\n",
       "2819 2.457323e-02"
      ]
     },
     "metadata": {},
     "output_type": "display_data"
    },
    {
     "data": {
      "image/png": "[encoded data removed]",
      "text/plain": [
       "Plot with title \"Alt 3'SS\""
      ]
     },
     "metadata": {},
     "output_type": "display_data"
    },
    {
     "data": {
      "image/png": "[encoded data removed]",
      "text/plain": [
       "Plot with title \"Alt 5'SS\""
      ]
     },
     "metadata": {},
     "output_type": "display_data"
    },
    {
     "data": {
      "image/png": "[encoded data removed]",
      "text/plain": [
       "plot without title"
      ]
     },
     "metadata": {},
     "output_type": "display_data"
    },
    {
     "data": {
      "image/png": "[encoded data removed]",
      "text/plain": [
       "plot without title"
      ]
     },
     "metadata": {},
     "output_type": "display_data"
    }
   ],
   "source": [
    "setwd('~/bme/jupyter_data/')\n",
    "threeprime = read.table('alt3primess_strandfixed.txt')  # chrom, junction 5', 3', pval, strand, wt counts for this junction, \n",
    "                                                    # mt counts ' ', wt sum for all other junctions with this 5' position,\n",
    "                                                    # mt sum ' '\n",
    "fiveprime = read.table('alt5primess_strandfixed.txt')\n",
    "nrow(threeprime)  # 3' total number of valid tests (counts >= 2)\n",
    "nrow(fiveprime)  # 5' \"\"\n",
    "sum(threeprime$V4 < 0.05)  # 3' tests that were significant\n",
    "sum(fiveprime$V4 < 0.05)  # 5' \"\"\n",
    "pvals3adj = p.adjust(threeprime$V4, method='fdr')\n",
    "pvals5adj = p.adjust(fiveprime$V4, method='fdr')\n",
    "threeprime$padj = pvals3adj\n",
    "fiveprime$padj = pvals5adj\n",
    "sum(pvals3adj < 0.05)  #  3' tests that were significant after correction\n",
    "sum(pvals5adj < 0.05)  # 5' \"\"\n",
    "threeprime[order(threeprime$V4),][1:6,]\n",
    "temp = threeprime[order(threeprime$V4),]\n",
    "temp[temp$V10 != 'CD74',][1:20,]  # because too many are CD74\n",
    "fiveprime[order(fiveprime$V4),][1:10,]\n",
    "psi = threeprime$V6+1\n",
    "psi2 = threeprime$V7+1\n",
    "psi = (psi2 - psi)/(psi2+psi)*100 # rough calculation of psi\n",
    "plot(psi,log10(threeprime$V4)*-1, pch=16, cex=0.3, main=\"Alt 3'SS\")  # a poor man's volcano plot\n",
    "abline(h=log10(0.05)*-1)\n",
    "psi = fiveprime$V6+1\n",
    "psi2 = fiveprime$V7+1\n",
    "psi = (psi2 - psi)/(psi2+psi)*100\n",
    "plot(psi,log10(fiveprime$V4)*-1, pch=16, cex=0.3, main=\"Alt 5'SS\")\n",
    "abline(h=log10(0.05)*-1)\n",
    "source(\"~/bme/jupyter_data/qq_pval.r\")\n",
    "qq_pval(threeprime$V4)\n",
    "qq_pval(fiveprime$V4)\n"
   ]
  }
 ],
 "metadata": {
  "kernelspec": {
   "display_name": "R",
   "language": "R",
   "name": "ir"
  },
  "language_info": {
   "codemirror_mode": "r",
   "file_extension": ".r",
   "mimetype": "text/x-r-source",
   "name": "R",
   "pygments_lexer": "r",
   "version": "3.2.3"
  }
 },
 "nbformat": 4,
 "nbformat_minor": 0
}
