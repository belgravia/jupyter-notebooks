{
 "cells": [
  {
   "cell_type": "markdown",
   "metadata": {},
   "source": [
    "I do Fisher exact tests on junctions we already know are alternatively spliced from short reads just to see what concordance looks like.\n",
    "\n",
    "A few genes have p-values that aren't 1, however none have a value below 0.05. The x-axis is arbitrarily indexed."
   ]
  },
  {
   "cell_type": "code",
   "execution_count": 13,
   "metadata": {
    "collapsed": false
   },
   "outputs": [
    {
     "data": {
      "text/html": [
       "<table>\n",
       "<thead><tr><th scope=col>V1</th><th scope=col>V2</th><th scope=col>V3</th><th scope=col>V4</th><th scope=col>V5</th><th scope=col>V1</th><th scope=col>V2</th><th scope=col>V3</th><th scope=col>V4</th><th scope=col>V5</th></tr></thead>\n",
       "<tbody>\n",
       "\t<tr><td>PCK2                  </td><td>24099721              </td><td>24099994              </td><td>0                     </td><td>1                     </td><td>PCK2                  </td><td>24099721              </td><td>24099994              </td><td>2                     </td><td>1                     </td></tr>\n",
       "\t<tr><td>PCK2                  </td><td>24099721              </td><td>24102752              </td><td>0                     </td><td>1                     </td><td>PCK2                  </td><td>24099721              </td><td>24102752              </td><td>1                     </td><td>1                     </td></tr>\n",
       "\t<tr><td>GOLGA6L5,RP11-182J1.12</td><td>84513303              </td><td>84513966              </td><td>0                     </td><td>1                     </td><td>GOLGA6L5,RP11-182J1.12</td><td>84513303              </td><td>84513966              </td><td>0                     </td><td>1                     </td></tr>\n",
       "\t<tr><td>GOLGA6L5,RP11-182J1.12</td><td>84513331              </td><td>84513966              </td><td>0                     </td><td>1                     </td><td>GOLGA6L5,RP11-182J1.12</td><td>84513331              </td><td>84513966              </td><td>0                     </td><td>1                     </td></tr>\n",
       "\t<tr><td>DDHD2                 </td><td>38237628              </td><td>38238106              </td><td>0                     </td><td>1                     </td><td>DDHD2                 </td><td>38237628              </td><td>38238106              </td><td>0                     </td><td>1                     </td></tr>\n",
       "\t<tr><td>DDHD2                 </td><td>38237628              </td><td>38238088              </td><td>1                     </td><td>1                     </td><td>DDHD2                 </td><td>38237628              </td><td>38238088              </td><td>0                     </td><td>1                     </td></tr>\n",
       "</tbody>\n",
       "</table>\n"
      ],
      "text/latex": [
       "\\begin{tabular}{r|llllllllll}\n",
       " V1 & V2 & V3 & V4 & V5 & V1 & V2 & V3 & V4 & V5\\\\\n",
       "\\hline\n",
       "\t PCK2                   & 24099721               & 24099994               & 0                      & 1                      & PCK2                   & 24099721               & 24099994               & 2                      & 1                     \\\\\n",
       "\t PCK2                   & 24099721               & 24102752               & 0                      & 1                      & PCK2                   & 24099721               & 24102752               & 1                      & 1                     \\\\\n",
       "\t GOLGA6L5,RP11-182J1.12 & 84513303               & 84513966               & 0                      & 1                      & GOLGA6L5,RP11-182J1.12 & 84513303               & 84513966               & 0                      & 1                     \\\\\n",
       "\t GOLGA6L5,RP11-182J1.12 & 84513331               & 84513966               & 0                      & 1                      & GOLGA6L5,RP11-182J1.12 & 84513331               & 84513966               & 0                      & 1                     \\\\\n",
       "\t DDHD2                  & 38237628               & 38238106               & 0                      & 1                      & DDHD2                  & 38237628               & 38238106               & 0                      & 1                     \\\\\n",
       "\t DDHD2                  & 38237628               & 38238088               & 1                      & 1                      & DDHD2                  & 38237628               & 38238088               & 0                      & 1                     \\\\\n",
       "\\end{tabular}\n"
      ],
      "text/markdown": [
       "\n",
       "V1 | V2 | V3 | V4 | V5 | V1 | V2 | V3 | V4 | V5 | \n",
       "|---|---|---|---|---|---|\n",
       "| PCK2                   | 24099721               | 24099994               | 0                      | 1                      | PCK2                   | 24099721               | 24099994               | 2                      | 1                      | \n",
       "| PCK2                   | 24099721               | 24102752               | 0                      | 1                      | PCK2                   | 24099721               | 24102752               | 1                      | 1                      | \n",
       "| GOLGA6L5,RP11-182J1.12 | 84513303               | 84513966               | 0                      | 1                      | GOLGA6L5,RP11-182J1.12 | 84513303               | 84513966               | 0                      | 1                      | \n",
       "| GOLGA6L5,RP11-182J1.12 | 84513331               | 84513966               | 0                      | 1                      | GOLGA6L5,RP11-182J1.12 | 84513331               | 84513966               | 0                      | 1                      | \n",
       "| DDHD2                  | 38237628               | 38238106               | 0                      | 1                      | DDHD2                  | 38237628               | 38238106               | 0                      | 1                      | \n",
       "| DDHD2                  | 38237628               | 38238088               | 1                      | 1                      | DDHD2                  | 38237628               | 38238088               | 0                      | 1                      | \n",
       "\n",
       "\n"
      ],
      "text/plain": [
       "  V1                     V2       V3       V4 V5 V1                    \n",
       "1 PCK2                   24099721 24099994 0  1  PCK2                  \n",
       "2 PCK2                   24099721 24102752 0  1  PCK2                  \n",
       "3 GOLGA6L5,RP11-182J1.12 84513303 84513966 0  1  GOLGA6L5,RP11-182J1.12\n",
       "4 GOLGA6L5,RP11-182J1.12 84513331 84513966 0  1  GOLGA6L5,RP11-182J1.12\n",
       "5 DDHD2                  38237628 38238106 0  1  DDHD2                 \n",
       "6 DDHD2                  38237628 38238088 1  1  DDHD2                 \n",
       "  V2       V3       V4 V5\n",
       "1 24099721 24099994 2  1 \n",
       "2 24099721 24102752 1  1 \n",
       "3 84513303 84513966 0  1 \n",
       "4 84513331 84513966 0  1 \n",
       "5 38237628 38238106 0  1 \n",
       "6 38237628 38238088 0  1 "
      ]
     },
     "metadata": {},
     "output_type": "display_data"
    }
   ],
   "source": [
    "setwd('~/bme')\n",
    "wt_counts = read.table('junction_counts_long.wt.6.txt')\n",
    "mt_counts = read.table('junction_counts_long.6.txt')\n",
    "wt_counts$V1 = as.character(wt_counts$V1)\n",
    "mt_counts$V1 = as.character(mt_counts$V1)\n",
    "head(cbind(wt_counts, mt_counts))"
   ]
  },
  {
   "cell_type": "code",
   "execution_count": 15,
   "metadata": {
    "collapsed": false
   },
   "outputs": [],
   "source": [
    "current_gene = ''\n",
    "genes = c()\n",
    "pvals = c()  # for collecting results\n",
    "sigrows = c()\n",
    "for (row in 1:(nrow(wt_counts))+1) {  # looping through table and pulling out rows with shared gene names to do fisher tests on\n",
    "    if (row == nrow(wt_counts)+1 || wt_counts[row, 1] != current_gene | nchar(current_gene)==0) {\n",
    "        if (nchar(current_gene) > 0 && (nrow(wtinfo) > 1)) {\n",
    "            for (i in 1:(nrow(wtinfo))) {\n",
    "                for (j in i:nrow(wtinfo)) {\n",
    "                    ctable = matrix(unlist(c(wtinfo[c(i,j),4], mtinfo[c(i,j),4])), nrow=2)\n",
    "                    if (sum(ctable) != 0 && wtinfo[i,2] == wtinfo[j,2] | wtinfo[i,3] == wtinfo[j,3]) {  \n",
    "                        # extra check for genes with multiple alt splice junctions, making sure gene and junction 5' end match\n",
    "                        if (fisher.test(ctable)$p.value < 0.6) {\n",
    "                            sigrows = c(sigrows, row-nrow(wtinfo)+i-1, row-nrow(wtinfo)+j-1)\n",
    "                        }\n",
    "                        pvals = c(pvals, fisher.test(ctable)$p.value)\n",
    "                        genes = c(genes, current_gene)\n",
    "                    }\n",
    "                }\n",
    "                \n",
    "            }\n",
    "        }\n",
    "        current_gene = wt_counts[row, 1]\n",
    "        wtinfo = wt_counts[row,]\n",
    "        mtinfo = mt_counts[row,]\n",
    "    } else {\n",
    "        wtinfo = rbind(wtinfo, wt_counts[row,])\n",
    "        mtinfo = rbind(mtinfo, mt_counts[row,])\n",
    "    }\n",
    "}"
   ]
  },
  {
   "cell_type": "code",
   "execution_count": 120,
   "metadata": {
    "collapsed": false
   },
   "outputs": [
    {
     "data": {
      "text/html": [
       "<table>\n",
       "<thead><tr><th></th><th scope=col>V1</th><th scope=col>V2</th><th scope=col>V3</th><th scope=col>V4</th><th scope=col>V5</th><th scope=col>V1</th><th scope=col>V2</th><th scope=col>V3</th><th scope=col>V4</th><th scope=col>V5</th></tr></thead>\n",
       "<tbody>\n",
       "\t<tr><th scope=row>17</th><td>ERGIC3  </td><td>35556272</td><td>35556990</td><td>0       </td><td>1       </td><td>ERGIC3  </td><td>35556272</td><td>35556990</td><td> 0      </td><td>1       </td></tr>\n",
       "\t<tr><th scope=row>18</th><td>ERGIC3  </td><td>35556749</td><td>35556954</td><td>0       </td><td>1       </td><td>ERGIC3  </td><td>35556749</td><td>35556954</td><td> 0      </td><td>1       </td></tr>\n",
       "\t<tr><th scope=row>19</th><td>ERGIC3  </td><td>35556272</td><td>35556954</td><td>0       </td><td>1       </td><td>ERGIC3  </td><td>35556272</td><td>35556954</td><td> 6      </td><td>1       </td></tr>\n",
       "\t<tr><th scope=row>31</th><td>FKBP3   </td><td>45130801</td><td>45134348</td><td>2       </td><td>1       </td><td>FKBP3   </td><td>45130801</td><td>45134348</td><td>10      </td><td>1       </td></tr>\n",
       "\t<tr><th scope=row>32</th><td>B3GAT3  </td><td>62620672</td><td>62621865</td><td>0       </td><td>1       </td><td>B3GAT3  </td><td>62620672</td><td>62621865</td><td> 4      </td><td>1       </td></tr>\n",
       "\t<tr><th scope=row>40</th><td>SRSF11  </td><td>70228556</td><td>70232267</td><td>2       </td><td>1       </td><td>SRSF11  </td><td>70228556</td><td>70232267</td><td>12      </td><td>1       </td></tr>\n",
       "</tbody>\n",
       "</table>\n"
      ],
      "text/latex": [
       "\\begin{tabular}{r|llllllllll}\n",
       "  & V1 & V2 & V3 & V4 & V5 & V1 & V2 & V3 & V4 & V5\\\\\n",
       "\\hline\n",
       "\t17 & ERGIC3   & 35556272 & 35556990 & 0        & 1        & ERGIC3   & 35556272 & 35556990 &  0       & 1       \\\\\n",
       "\t18 & ERGIC3   & 35556749 & 35556954 & 0        & 1        & ERGIC3   & 35556749 & 35556954 &  0       & 1       \\\\\n",
       "\t19 & ERGIC3   & 35556272 & 35556954 & 0        & 1        & ERGIC3   & 35556272 & 35556954 &  6       & 1       \\\\\n",
       "\t31 & FKBP3    & 45130801 & 45134348 & 2        & 1        & FKBP3    & 45130801 & 45134348 & 10       & 1       \\\\\n",
       "\t32 & B3GAT3   & 62620672 & 62621865 & 0        & 1        & B3GAT3   & 62620672 & 62621865 &  4       & 1       \\\\\n",
       "\t40 & SRSF11   & 70228556 & 70232267 & 2        & 1        & SRSF11   & 70228556 & 70232267 & 12       & 1       \\\\\n",
       "\\end{tabular}\n"
      ],
      "text/markdown": [
       "\n",
       "| <!--/--> | V1 | V2 | V3 | V4 | V5 | V1 | V2 | V3 | V4 | V5 | \n",
       "|---|---|---|---|---|---|\n",
       "| 17 | ERGIC3   | 35556272 | 35556990 | 0        | 1        | ERGIC3   | 35556272 | 35556990 |  0       | 1        | \n",
       "| 18 | ERGIC3   | 35556749 | 35556954 | 0        | 1        | ERGIC3   | 35556749 | 35556954 |  0       | 1        | \n",
       "| 19 | ERGIC3   | 35556272 | 35556954 | 0        | 1        | ERGIC3   | 35556272 | 35556954 |  6       | 1        | \n",
       "| 31 | FKBP3    | 45130801 | 45134348 | 2        | 1        | FKBP3    | 45130801 | 45134348 | 10       | 1        | \n",
       "| 32 | B3GAT3   | 62620672 | 62621865 | 0        | 1        | B3GAT3   | 62620672 | 62621865 |  4       | 1        | \n",
       "| 40 | SRSF11   | 70228556 | 70232267 | 2        | 1        | SRSF11   | 70228556 | 70232267 | 12       | 1        | \n",
       "\n",
       "\n"
      ],
      "text/plain": [
       "   V1     V2       V3       V4 V5 V1     V2       V3       V4 V5\n",
       "17 ERGIC3 35556272 35556990 0  1  ERGIC3 35556272 35556990  0 1 \n",
       "18 ERGIC3 35556749 35556954 0  1  ERGIC3 35556749 35556954  0 1 \n",
       "19 ERGIC3 35556272 35556954 0  1  ERGIC3 35556272 35556954  6 1 \n",
       "31 FKBP3  45130801 45134348 2  1  FKBP3  45130801 45134348 10 1 \n",
       "32 B3GAT3 62620672 62621865 0  1  B3GAT3 62620672 62621865  4 1 \n",
       "40 SRSF11 70228556 70232267 2  1  SRSF11 70228556 70232267 12 1 "
      ]
     },
     "metadata": {},
     "output_type": "display_data"
    }
   ],
   "source": [
    "sigrows = sort(unique(sigrows))\n",
    "head(cbind(wt_counts[sigrows,], mt_counts[sigrows,]))"
   ]
  },
  {
   "cell_type": "code",
   "execution_count": 16,
   "metadata": {
    "collapsed": false
   },
   "outputs": [
    {
     "data": {
      "image/png": "[encoded data removed]",
      "text/plain": [
       "plot without title"
      ]
     },
     "metadata": {},
     "output_type": "display_data"
    }
   ],
   "source": [
    "plot(log(pvals)*-1)\n",
    "df = data.frame(g=genes, p=pvals)\n",
    "df$pos = 1:nrow(df)\n",
    "df = df[df$p < 0.6,]\n",
    "newdf = df[1,]\n",
    "for (row in 2:nrow(df)) {\n",
    "    if (!df[row,1] %in% newdf[,1]) {\n",
    "        newdf = rbind(newdf, df[row,])\n",
    "    } else if (any((df[row,2]+.01) <= newdf[newdf$g == df[row,1],2])) {\n",
    "        newdf = rbind(newdf, df[row,])\n",
    "    }\n",
    "}\n",
    "text(newdf$pos, log(newdf$p)*-1+.06, labels=newdf$g, cex=0.5)  # names above points\n",
    "abline(h=log2(0.05))"
   ]
  },
  {
   "cell_type": "markdown",
   "metadata": {},
   "source": [
    "I use Jeltje's bedfile of corrected junctions and the junction counts in there and do lots of fisher tests. I'm looking specifically at 3' SS alterations, so I compare counts for different 3' SSs in the mutant and wildtype for junctions with the same 5' SS. Jeltje mentioned that the strand doesn't carry meaning in her bedfile, so I repeat this analysis treating \"3'\" as 5' SSs."
   ]
  },
  {
   "cell_type": "code",
   "execution_count": 21,
   "metadata": {
    "collapsed": false
   },
   "outputs": [
    {
     "data": {
      "text/html": [
       "<table>\n",
       "<thead><tr><th></th><th scope=col>mtchrom</th><th scope=col>mt5</th><th scope=col>mt3</th><th scope=col>counts</th><th scope=col>wt</th><th scope=col>wtchrom</th></tr></thead>\n",
       "<tbody>\n",
       "\t<tr><th scope=row>20</th><td>chrY     </td><td>  1389707</td><td>  1391934</td><td>  1      </td><td>10       </td><td>chrY     </td></tr>\n",
       "\t<tr><th scope=row>21</th><td>chrY     </td><td>  1389707</td><td>  1391947</td><td>  1      </td><td>10       </td><td>chrY     </td></tr>\n",
       "\t<tr><th scope=row>22</th><td>chrY     </td><td>  1389707</td><td>  1391918</td><td> 54      </td><td>10       </td><td>chrY     </td></tr>\n",
       "\t<tr><th scope=row>78</th><td>chrX     </td><td>154399376</td><td>154399527</td><td>  1      </td><td> 1       </td><td>chrX     </td></tr>\n",
       "\t<tr><th scope=row>79</th><td>chrX     </td><td>154399376</td><td>154399520</td><td>  5      </td><td> 1       </td><td>chrX     </td></tr>\n",
       "\t<tr><th scope=row>80</th><td>chrX     </td><td>154399376</td><td>154399506</td><td>101      </td><td> 1       </td><td>chrX     </td></tr>\n",
       "</tbody>\n",
       "</table>\n"
      ],
      "text/latex": [
       "\\begin{tabular}{r|llllll}\n",
       "  & mtchrom & mt5 & mt3 & counts & wt & wtchrom\\\\\n",
       "\\hline\n",
       "\t20 & chrY      &   1389707 &   1391934 &   1       & 10        & chrY     \\\\\n",
       "\t21 & chrY      &   1389707 &   1391947 &   1       & 10        & chrY     \\\\\n",
       "\t22 & chrY      &   1389707 &   1391918 &  54       & 10        & chrY     \\\\\n",
       "\t78 & chrX      & 154399376 & 154399527 &   1       &  1        & chrX     \\\\\n",
       "\t79 & chrX      & 154399376 & 154399520 &   5       &  1        & chrX     \\\\\n",
       "\t80 & chrX      & 154399376 & 154399506 & 101       &  1        & chrX     \\\\\n",
       "\\end{tabular}\n"
      ],
      "text/markdown": [
       "\n",
       "| <!--/--> | mtchrom | mt5 | mt3 | counts | wt | wtchrom | \n",
       "|---|---|---|---|---|---|\n",
       "| 20 | chrY      |   1389707 |   1391934 |   1       | 10        | chrY      | \n",
       "| 21 | chrY      |   1389707 |   1391947 |   1       | 10        | chrY      | \n",
       "| 22 | chrY      |   1389707 |   1391918 |  54       | 10        | chrY      | \n",
       "| 78 | chrX      | 154399376 | 154399527 |   1       |  1        | chrX      | \n",
       "| 79 | chrX      | 154399376 | 154399520 |   5       |  1        | chrX      | \n",
       "| 80 | chrX      | 154399376 | 154399506 | 101       |  1        | chrX      | \n",
       "\n",
       "\n"
      ],
      "text/plain": [
       "   mtchrom mt5       mt3       counts wt wtchrom\n",
       "20 chrY      1389707   1391934   1    10 chrY   \n",
       "21 chrY      1389707   1391947   1    10 chrY   \n",
       "22 chrY      1389707   1391918  54    10 chrY   \n",
       "78 chrX    154399376 154399527   1     1 chrX   \n",
       "79 chrX    154399376 154399520   5     1 chrX   \n",
       "80 chrX    154399376 154399506 101     1 chrX   "
      ]
     },
     "metadata": {},
     "output_type": "display_data"
    }
   ],
   "source": [
    "setwd('~/bme')\n",
    "mtalt = read.table('altsplicejunction_counts.txt')\n",
    "colnames(mtalt) = c('mtchrom', 'mt5', 'mt3', 'counts')\n",
    "wtalt = read.table('altsplicejunction_counts.wt.txt')\n",
    "together = mtalt\n",
    "together$wt = wtalt$V4[match(mtalt$mt5, wtalt$V2)]\n",
    "together$wtchrom = wtalt$V1[match(mtalt$mt5, wtalt$V2)]  # sanity check\n",
    "together$mtchrom = as.character(together$mtchrom)\n",
    "together$wtchrom = as.character(together$wtchrom)\n",
    "together = together[!is.na(together$wt) & together$wtchrom == together$mtchrom,]\n",
    "head(together)  # data frame containing junction counts for both mutant and wildtype"
   ]
  },
  {
   "cell_type": "code",
   "execution_count": 15,
   "metadata": {
    "collapsed": false
   },
   "outputs": [
    {
     "data": {
      "image/png": "[encoded data removed]",
      "text/plain": [
       "plot without title"
      ]
     },
     "metadata": {},
     "output_type": "display_data"
    }
   ],
   "source": [
    "current_gene = paste0(together[1,1],':',together[1,2])\n",
    "info = together[1,]\n",
    "genes = c()\n",
    "pvals = c()\n",
    "for (row in 2:nrow(together)) {\n",
    "    nameinit = paste0(together[row,1],':',together[row, 2])\n",
    "    if (nameinit != current_gene) {\n",
    "        for (i in 1:(nrow(info)-1)) {\n",
    "            for (j in (i+1):nrow(info)) {\n",
    "                ctable = matrix(unlist(c(info[c(i,j),4], info[c(i,j),5])), nrow=2)\n",
    "                if (sum(ctable) != 0) {\n",
    "                    pvals = c(pvals, fisher.test(ctable)$p.value)\n",
    "                    genes = c(genes, current_gene)\n",
    "                }\n",
    "            }    \n",
    "        }\n",
    "        current_gene = nameinit\n",
    "        info = together[row,]\n",
    "    } else {\n",
    "        info = rbind(info, together[row,])\n",
    "    }\n",
    "}\n",
    "rgenes = genes[pvals < 0.2]\n",
    "rpvals = pvals[pvals < 0.2]\n",
    "plot(log10(pvals)*-1, pch=16, cex=0.3)\n",
    "# text(1:length(rpvals), log10(rpvals)*-1+.03, labels=rgenes, cex=0.5)  # names above points\n",
    "abline(h=log10(0.05)*-1)\n"
   ]
  },
  {
   "cell_type": "markdown",
   "metadata": {},
   "source": [
    "Above: every point is the result of one fisher test between alternative junction events. These are only considering 3' splice site alterations, so if you look at the the mutant 5' position column (together$mt5), comparisons are done within a group of junctions sharing the same 5' end.\n",
    "\n",
    "Below: Like the plot above, but instead anchoring at the 3' ends. Some of these junctions could still be technically 5' end-anchored since Jeltje said the counts were done without regard to strand and the bedfile of junctions does not have strand information."
   ]
  },
  {
   "cell_type": "code",
   "execution_count": 12,
   "metadata": {
    "collapsed": false
   },
   "outputs": [
    {
     "data": {
      "text/html": [
       "<table>\n",
       "<thead><tr><th></th><th scope=col>mtchrom</th><th scope=col>mt5</th><th scope=col>mt3</th><th scope=col>counts</th><th scope=col>wt</th><th scope=col>wtchrom</th></tr></thead>\n",
       "<tbody>\n",
       "\t<tr><th scope=row>27843</th><td>chr9 </td><td>18467</td><td>24870</td><td>1    </td><td>1    </td><td>chr9 </td></tr>\n",
       "\t<tr><th scope=row>27844</th><td>chr9 </td><td>24618</td><td>24870</td><td>1    </td><td>1    </td><td>chr9 </td></tr>\n",
       "\t<tr><th scope=row>27845</th><td>chr9 </td><td>18472</td><td>24870</td><td>3    </td><td>1    </td><td>chr9 </td></tr>\n",
       "\t<tr><th scope=row>2082</th><td>chr12</td><td>18459</td><td>26820</td><td>1    </td><td>1    </td><td>chr12</td></tr>\n",
       "\t<tr><th scope=row>2083</th><td>chr12</td><td>18464</td><td>26820</td><td>3    </td><td>1    </td><td>chr12</td></tr>\n",
       "\t<tr><th scope=row>2084</th><td>chr12</td><td>26568</td><td>26820</td><td>1    </td><td>1    </td><td>chr12</td></tr>\n",
       "</tbody>\n",
       "</table>\n"
      ],
      "text/latex": [
       "\\begin{tabular}{r|llllll}\n",
       "  & mtchrom & mt5 & mt3 & counts & wt & wtchrom\\\\\n",
       "\\hline\n",
       "\t27843 & chr9  & 18467 & 24870 & 1     & 1     & chr9 \\\\\n",
       "\t27844 & chr9  & 24618 & 24870 & 1     & 1     & chr9 \\\\\n",
       "\t27845 & chr9  & 18472 & 24870 & 3     & 1     & chr9 \\\\\n",
       "\t2082 & chr12 & 18459 & 26820 & 1     & 1     & chr12\\\\\n",
       "\t2083 & chr12 & 18464 & 26820 & 3     & 1     & chr12\\\\\n",
       "\t2084 & chr12 & 26568 & 26820 & 1     & 1     & chr12\\\\\n",
       "\\end{tabular}\n"
      ],
      "text/markdown": [
       "\n",
       "| <!--/--> | mtchrom | mt5 | mt3 | counts | wt | wtchrom | \n",
       "|---|---|---|---|---|---|\n",
       "| 27843 | chr9  | 18467 | 24870 | 1     | 1     | chr9  | \n",
       "| 27844 | chr9  | 24618 | 24870 | 1     | 1     | chr9  | \n",
       "| 27845 | chr9  | 18472 | 24870 | 3     | 1     | chr9  | \n",
       "| 2082 | chr12 | 18459 | 26820 | 1     | 1     | chr12 | \n",
       "| 2083 | chr12 | 18464 | 26820 | 3     | 1     | chr12 | \n",
       "| 2084 | chr12 | 26568 | 26820 | 1     | 1     | chr12 | \n",
       "\n",
       "\n"
      ],
      "text/plain": [
       "      mtchrom mt5   mt3   counts wt wtchrom\n",
       "27843 chr9    18467 24870 1      1  chr9   \n",
       "27844 chr9    24618 24870 1      1  chr9   \n",
       "27845 chr9    18472 24870 3      1  chr9   \n",
       "2082  chr12   18459 26820 1      1  chr12  \n",
       "2083  chr12   18464 26820 3      1  chr12  \n",
       "2084  chr12   26568 26820 1      1  chr12  "
      ]
     },
     "metadata": {},
     "output_type": "display_data"
    },
    {
     "data": {
      "image/png": "[encoded data removed]",
      "text/plain": [
       "plot without title"
      ]
     },
     "metadata": {},
     "output_type": "display_data"
    }
   ],
   "source": [
    "setwd('~/bme')\n",
    "mtalt = read.table('altsplicejunction_counts.3.txt')   # anchored at the 3' site, aka the greater junction coordinate\n",
    "colnames(mtalt) = c('mtchrom', 'mt5', 'mt3', 'counts')\n",
    "wtalt = read.table('altsplicejunction_counts.3.wt.txt')\n",
    "together = mtalt\n",
    "together$wt = wtalt$V4[match(mtalt$mt3, wtalt$V3)]\n",
    "together$wtchrom = wtalt$V1[match(mtalt$mt3, wtalt$V3)]  # sanity check\n",
    "together$mtchrom = as.character(together$mtchrom)\n",
    "together$wtchrom = as.character(together$wtchrom)\n",
    "together = together[order(together$mt3),]\n",
    "together = together[!is.na(together$wt) & together$wtchrom == together$mtchrom,]\n",
    "head(together)  # data frame containing junction counts for both mutant and wildtype\n",
    "current_gene = paste0(together[1,1],':',together[1,3])\n",
    "info = together[1,]\n",
    "genes = c()\n",
    "pvals = c()\n",
    "for (row in 2:nrow(together)) {\n",
    "    nameinit = paste0(together[row,1],':',together[row, 3])\n",
    "    if (nameinit != current_gene) {\n",
    "        for (i in 1:(nrow(info)-1)) {\n",
    "            for (j in (i+1):nrow(info)) {\n",
    "                ctable = matrix(unlist(c(info[c(i,j),4], info[c(i,j),5])), nrow=2)\n",
    "                if (sum(ctable) != 0) {\n",
    "                    pvals = c(pvals, fisher.test(ctable)$p.value)\n",
    "                    genes = c(genes, current_gene)\n",
    "                }\n",
    "            }    \n",
    "        }\n",
    "        current_gene = nameinit\n",
    "        info = together[row,]\n",
    "    } else {\n",
    "        info = rbind(info, together[row,])\n",
    "    }\n",
    "}\n",
    "rgenes = genes[pvals < 0.2]\n",
    "rpvals = pvals[pvals < 0.2]\n",
    "plot(log10(pvals)*-1, pch=16, cex=0.3)\n",
    "abline(h=log10(0.05)*-1)\n"
   ]
  },
  {
   "cell_type": "markdown",
   "metadata": {},
   "source": [
    "<b> From here on starts analysis that actually makes sense :D </b> <br>\n",
    "Jeltje modified her script to be able to take in a genome and infer strand. So now I am plotting alternative 3' splice sites that are really 3' splice sites being altered."
   ]
  },
  {
   "cell_type": "code",
   "execution_count": 8,
   "metadata": {
    "collapsed": false
   },
   "outputs": [
    {
     "data": {
      "text/html": [
       "<table>\n",
       "<thead><tr><th scope=col>mtchrom</th><th scope=col>mt5</th><th scope=col>mt3</th><th scope=col>name</th><th scope=col>mtcounts</th><th scope=col>strand</th></tr></thead>\n",
       "<tbody>\n",
       "\t<tr><td>chr1            </td><td>14829           </td><td>14969           </td><td>chr1:14829-14969</td><td>2               </td><td>+               </td></tr>\n",
       "\t<tr><td>chr1            </td><td>14969           </td><td>14829           </td><td>chr1:14829-14969</td><td>2               </td><td>-               </td></tr>\n",
       "\t<tr><td>chr1            </td><td>15036           </td><td>15795           </td><td>chr1:15036-15795</td><td>1               </td><td>+               </td></tr>\n",
       "\t<tr><td>chr1            </td><td>15039           </td><td>15799           </td><td>chr1:15039-15799</td><td>1               </td><td>+               </td></tr>\n",
       "\t<tr><td>chr1            </td><td>15799           </td><td>15041           </td><td>chr1:15041-15799</td><td>1               </td><td>-               </td></tr>\n",
       "\t<tr><td>chr1            </td><td>15831           </td><td>15041           </td><td>chr1:15041-15831</td><td>1               </td><td>-               </td></tr>\n",
       "</tbody>\n",
       "</table>\n"
      ],
      "text/latex": [
       "\\begin{tabular}{r|llllll}\n",
       " mtchrom & mt5 & mt3 & name & mtcounts & strand\\\\\n",
       "\\hline\n",
       "\t chr1             & 14829            & 14969            & chr1:14829-14969 & 2                & +               \\\\\n",
       "\t chr1             & 14969            & 14829            & chr1:14829-14969 & 2                & -               \\\\\n",
       "\t chr1             & 15036            & 15795            & chr1:15036-15795 & 1                & +               \\\\\n",
       "\t chr1             & 15039            & 15799            & chr1:15039-15799 & 1                & +               \\\\\n",
       "\t chr1             & 15799            & 15041            & chr1:15041-15799 & 1                & -               \\\\\n",
       "\t chr1             & 15831            & 15041            & chr1:15041-15831 & 1                & -               \\\\\n",
       "\\end{tabular}\n"
      ],
      "text/markdown": [
       "\n",
       "mtchrom | mt5 | mt3 | name | mtcounts | strand | \n",
       "|---|---|---|---|---|---|\n",
       "| chr1             | 14829            | 14969            | chr1:14829-14969 | 2                | +                | \n",
       "| chr1             | 14969            | 14829            | chr1:14829-14969 | 2                | -                | \n",
       "| chr1             | 15036            | 15795            | chr1:15036-15795 | 1                | +                | \n",
       "| chr1             | 15039            | 15799            | chr1:15039-15799 | 1                | +                | \n",
       "| chr1             | 15799            | 15041            | chr1:15041-15799 | 1                | -                | \n",
       "| chr1             | 15831            | 15041            | chr1:15041-15831 | 1                | -                | \n",
       "\n",
       "\n"
      ],
      "text/plain": [
       "  mtchrom mt5   mt3   name             mtcounts strand\n",
       "1 chr1    14829 14969 chr1:14829-14969 2        +     \n",
       "2 chr1    14969 14829 chr1:14829-14969 2        -     \n",
       "3 chr1    15036 15795 chr1:15036-15795 1        +     \n",
       "4 chr1    15039 15799 chr1:15039-15799 1        +     \n",
       "5 chr1    15799 15041 chr1:15041-15799 1        -     \n",
       "6 chr1    15831 15041 chr1:15041-15831 1        -     "
      ]
     },
     "metadata": {},
     "output_type": "display_data"
    }
   ],
   "source": [
    "setwd('~/bme/jupyter_data')\n",
    "\n",
    "mtalt = read.table('correctedw10m30.k700.txt')\n",
    "colnames(mtalt) = c('mtchrom', 'mt5', 'mt3', 'name', 'mtcounts', 'strand')\n",
    "mtalt$temp = mtalt$mt5\n",
    "mtalt$temp2 = mtalt$mt3\n",
    "mtalt$temp[mtalt$strand == '-'] = mtalt$mt3[mtalt$strand == '-']\n",
    "mtalt$temp2[mtalt$strand == '-'] = mtalt$mt5[mtalt$strand == '-']  # reverse coordinates for junctions on - strand\n",
    "mtalt$mt5 = mtalt$temp\n",
    "mtalt$mt3 = mtalt$temp2\n",
    "mtalt = mtalt[,1:6]\n",
    "\n",
    "wtalt = read.table('correctedw10m30.w.txt')\n",
    "colnames(wtalt) = c('wtchrom', 'wt5', 'wt3', 'name', 'wtcounts', 'strand')\n",
    "wtalt$temp = wtalt$wt5\n",
    "wtalt$temp2 = wtalt$wt3\n",
    "wtalt$temp[wtalt$strand == '-'] = wtalt$wt3[wtalt$strand == '-']\n",
    "wtalt$temp2[wtalt$strand == '-'] = wtalt$wt5[wtalt$strand == '-']  # reverse coordinates for junctions on - strand\n",
    "wtalt$wt5 = wtalt$temp\n",
    "wtalt$wt3 = wtalt$temp2\n",
    "wtalt = wtalt[,1:6]\n",
    "\n",
    "head(mtalt)\n",
    "\n",
    "# mtalt = read.table('altsplicejunction_counts.txt')\n",
    "# mtaltrev = read.table('altsplicejunction_counts.rev.txt')  # 3' ss alterations on the minus strand\n",
    "# colnames(mtalt) = c('mtchrom', 'mt5', 'mt3', 'mtcounts')\n",
    "# colnames(mtaltrev) = c('mtchrom', 'mt5', 'mt3', 'mtcounts')\n",
    "# wtalt = read.table('alt3primess_counts.wt.txt')\n",
    "# wtaltrev = read.table('alt3primess_counts.wt.rev.txt')\n",
    "\n",
    "# wtaltrev$temp = wtaltrev[,2]\n",
    "# wtaltrev[,2] = wtaltrev[,3]\n",
    "# wtaltrev[,3] = wtaltrev$temp\n",
    "\n",
    "# # mtaltrev$temp = mtaltrev[,2]\n",
    "# # mtaltrev[,2] = mtaltrev[,3]\n",
    "# # mtaltrev[,3] = mtaltrev$temp\n",
    "\n",
    "# # alljuncs = unique(c(paste0(mtalt[,2],'-',mtalt[,3]), paste0(wtalt[,2],'-', wtalt[,3]), paste0(mtaltrev[,2],'-',mtaltrev[,3]),\n",
    "# #              paste0(wtaltrev[,2],'-',wtaltrev[,3])))\n",
    "# alljuncs = unique(c(paste0(mtalt[,2],'-',mtalt[,3]), paste0(wtalt[,2],'-', wtalt[,3])))\n",
    "# junctions = data.frame(alljuncs)\n",
    "# junctions$intron5 = as.numeric(substr(alljuncs,1,regexpr('-', alljuncs)-1))\n",
    "# junctions$intron3 = as.numeric(substr(alljuncs,regexpr('-',alljuncs)+1,nchar(alljuncs)))\n",
    "# wtcounts = wtalt[,4][match(alljuncs, paste0(wtalt[,2],'-',wtalt[,3]))]\n",
    "# # wtcounts[is.na(wtcounts)] = wtaltrev[,4][match(alljuncs, paste0(wtaltrev[,2],'-',wtaltrev[,3]))][is.na(wtcounts)]\n",
    "# junctions$wtcounts = wtcounts\n",
    "# # print(sum(is.na(junctions$wtcounts)))\n",
    "# junctions$wtcounts[is.na(junctions$wtcounts)] = 0\n",
    "\n",
    "# mtcounts = mtalt[,4][match(alljuncs, paste0(mtalt[,2],'-',mtalt[,3]))]\n",
    "# # mtcounts[is.na(mtcounts)] = mtaltrev[,4][match(alljuncs, paste0(mtaltrev[,2],'-',mtaltrev[,3]))][is.na(mtcounts)]\n",
    "# junctions$mtcounts = mtcounts\n",
    "# junctions$mtcounts[is.na(junctions$mtcounts)] = 0\n",
    "\n",
    "# chrvec =  wtalt[,1][match(alljuncs, paste0(wtalt[,2],'-',wtalt[,3]))]\n",
    "# # chrvec[is.na(chrvec)] = wtaltrev[,1][match(alljuncs, paste0(wtaltrev[,2],'-',wtaltrev[,3]))][is.na(chrvec)]\n",
    "# chrvec[is.na(chrvec)] = mtalt[,1][match(alljuncs, paste0(mtalt[,2],'-',mtalt[,3]))][is.na(chrvec)]\n",
    "# # chrvec[is.na(chrvec)] = mtaltrev[,1][match(alljuncs, paste0(mtaltrev[,2],'-',mtaltrev[,3]))][is.na(chrvec)]\n",
    "# junctions$chr = chrvec\n",
    "\n",
    "\n",
    "# junctions = junctions[!is.na(chrvec),]  # 2 is the min number of reads between both samples\n",
    "# junctionsold = junctions\n",
    "# junctions[,5] = round(sum(junctions[,4])/sum(junctions[,5])*junctions[,5])\n",
    "\n",
    "# junctions = junctions[rowSums(junctionsold[,c(4,5)]) > 1,]\n",
    "\n",
    "# junctions = junctions[order(junctions[,2]),]\n",
    "\n",
    "# junctions[1:6,]  # data frame containing junction counts for both mutant and wildtype\n",
    "\n",
    "# current_gene = paste0(junctions[1,6],':',junctions[1,2])\n",
    "# info = junctions[1,]\n",
    "# genes = c()\n",
    "# pvals = c()\n",
    "# dpsi = c()\n",
    "# allpvals = c()\n",
    "# for (row in 2:nrow(junctions)) {\n",
    "#     nameinit = paste0(junctions[row,6],':',junctions[row, 2])\n",
    "#     if (nameinit != current_gene ) {\n",
    "#         if (nrow(info) > 1) {\n",
    "#             best_dpsi = 0\n",
    "#             best_pval = 1\n",
    "#             for (i in 1:(nrow(info)-1)) {\n",
    "#                 for (j in (i+1):nrow(info)) {\n",
    "#                     ctable = matrix(unlist(c(info[c(i,j),4], info[c(i,j),5])), nrow=2)\n",
    "#                     if (sum(ctable) != 0) {\n",
    "#                         pval = fisher.test(ctable)$p.value\n",
    "#                         allpvals = c(allpvals, pval)\n",
    "#                         if (pval < best_pval) {\n",
    "#                             best_pval = pval\n",
    "#                             best_dpsi = abs(info[i, 4]/sum(info[c(i,j),4]) - info[i, 5]/sum(info[c(i,j),5]))\n",
    "#                         }\n",
    "#                     }\n",
    "#                 }\n",
    "#             }\n",
    "#             genes = c(genes, current_gene)\n",
    "#             pvals = c(pvals, best_pval)\n",
    "#             dpsi = c(dpsi, best_dpsi)\n",
    "#         }\n",
    "#         current_gene = nameinit\n",
    "#         info = junctions[row,]\n",
    "#     } else {\n",
    "#         info = rbind(info, junctions[row,])\n",
    "#     }\n",
    "# }\n",
    "# plot(log10(pvals)*-1, pch=16, cex=0.3, main=\"Alt 3'SS\")\n",
    "# abline(h=log10(0.05)*-1)\n",
    "\n",
    "# genes3 = genes\n",
    "# pvals3 = pvals\n",
    "# junctions3 = junctions\n",
    "# dpsi3=dpsi"
   ]
  },
  {
   "cell_type": "markdown",
   "metadata": {},
   "source": [
    "I plot altered 5' splice sites that are actually altered 5' splice sites. It's a bit interesting to compare this plot and the plot above with the previous two plots above that. It's all the same points just now they're correctly categorized."
   ]
  },
  {
   "cell_type": "code",
   "execution_count": 5,
   "metadata": {
    "collapsed": false
   },
   "outputs": [
    {
     "name": "stdout",
     "output_type": "stream",
     "text": [
      "[1] \"1387298-1386739\"     \"1387315-1386739\"     \"1536940-1466562\"    \n",
      "[4] \"1467050-1466562\"     \"123706877-123703485\" \"123706869-123703485\"\n"
     ]
    },
    {
     "data": {
      "text/html": [
       "<table>\n",
       "<thead><tr><th></th><th scope=col>alljuncs</th><th scope=col>intron5</th><th scope=col>intron3</th><th scope=col>wtcounts</th><th scope=col>mtcounts</th><th scope=col>chr</th></tr></thead>\n",
       "<tbody>\n",
       "\t<tr><th scope=row>965</th><td>51577-47537  </td><td> 51577       </td><td> 47537       </td><td>0            </td><td>2            </td><td>chr16        </td></tr>\n",
       "\t<tr><th scope=row>8070</th><td>55529-55796  </td><td> 55529       </td><td> 55796       </td><td>0            </td><td>2            </td><td>chr16        </td></tr>\n",
       "\t<tr><th scope=row>8256</th><td>56593-57105  </td><td> 56593       </td><td> 57105       </td><td>0            </td><td>2            </td><td>chr16        </td></tr>\n",
       "\t<tr><th scope=row>7979</th><td>83236-85420  </td><td> 83236       </td><td> 85420       </td><td>0            </td><td>1            </td><td>chr16        </td></tr>\n",
       "\t<tr><th scope=row>4713</th><td>121980-121553</td><td>121980       </td><td>121553       </td><td>2            </td><td>0            </td><td>chr9         </td></tr>\n",
       "\t<tr><th scope=row>3236</th><td>146121-135010</td><td>146121       </td><td>135010       </td><td>2            </td><td>2            </td><td>chr9         </td></tr>\n",
       "</tbody>\n",
       "</table>\n"
      ],
      "text/latex": [
       "\\begin{tabular}{r|llllll}\n",
       "  & alljuncs & intron5 & intron3 & wtcounts & mtcounts & chr\\\\\n",
       "\\hline\n",
       "\t965 & 51577-47537   &  51577        &  47537        & 0             & 2             & chr16        \\\\\n",
       "\t8070 & 55529-55796   &  55529        &  55796        & 0             & 2             & chr16        \\\\\n",
       "\t8256 & 56593-57105   &  56593        &  57105        & 0             & 2             & chr16        \\\\\n",
       "\t7979 & 83236-85420   &  83236        &  85420        & 0             & 1             & chr16        \\\\\n",
       "\t4713 & 121980-121553 & 121980        & 121553        & 2             & 0             & chr9         \\\\\n",
       "\t3236 & 146121-135010 & 146121        & 135010        & 2             & 2             & chr9         \\\\\n",
       "\\end{tabular}\n"
      ],
      "text/markdown": [
       "\n",
       "| <!--/--> | alljuncs | intron5 | intron3 | wtcounts | mtcounts | chr | \n",
       "|---|---|---|---|---|---|\n",
       "| 965 | 51577-47537   |  51577        |  47537        | 0             | 2             | chr16         | \n",
       "| 8070 | 55529-55796   |  55529        |  55796        | 0             | 2             | chr16         | \n",
       "| 8256 | 56593-57105   |  56593        |  57105        | 0             | 2             | chr16         | \n",
       "| 7979 | 83236-85420   |  83236        |  85420        | 0             | 1             | chr16         | \n",
       "| 4713 | 121980-121553 | 121980        | 121553        | 2             | 0             | chr9          | \n",
       "| 3236 | 146121-135010 | 146121        | 135010        | 2             | 2             | chr9          | \n",
       "\n",
       "\n"
      ],
      "text/plain": [
       "     alljuncs      intron5 intron3 wtcounts mtcounts chr  \n",
       "965  51577-47537    51577   47537  0        2        chr16\n",
       "8070 55529-55796    55529   55796  0        2        chr16\n",
       "8256 56593-57105    56593   57105  0        2        chr16\n",
       "7979 83236-85420    83236   85420  0        1        chr16\n",
       "4713 121980-121553 121980  121553  2        0        chr9 \n",
       "3236 146121-135010 146121  135010  2        2        chr9 "
      ]
     },
     "metadata": {},
     "output_type": "display_data"
    },
    {
     "data": {
      "image/png": "[encoded data removed]",
      "text/plain": [
       "Plot with title \"Alt 5'SS\""
      ]
     },
     "metadata": {},
     "output_type": "display_data"
    }
   ],
   "source": [
    "setwd('~/bme/jupyter_data')\n",
    "mtaltrev = read.table('alt5primess_counts.txt')\n",
    "mtalt = read.table('alt5primess_counts.rev.txt')  # 3' ss alterations on the minus strand\n",
    "colnames(mtalt) = c('mtchrom', 'mt5', 'mt3', 'mtcounts')\n",
    "colnames(mtaltrev) = c('mtchrom', 'mt5', 'mt3', 'mtcounts')\n",
    "wtaltrev = read.table('alt5primess_counts.wt.txt')\n",
    "wtalt = read.table('alt5primess_counts.wt.rev.txt')\n",
    "\n",
    "wtalt$temp = wtalt[,2]  # switch columns just so I can reuse 3' alt ss code\n",
    "wtalt[,2] = wtalt[,3]\n",
    "wtalt[,3] = wtalt$temp\n",
    "\n",
    "mtalt$temp = mtalt[,2]\n",
    "mtalt[,2] = mtalt[,3]\n",
    "mtalt[,3] = mtalt$temp\n",
    "\n",
    "alljuncs = unique(c(paste0(mtalt[,2],'-',mtalt[,3]), paste0(wtalt[,2],'-', wtalt[,3]), paste0(mtaltrev[,2],'-',mtaltrev[,3]),\n",
    "             paste0(wtaltrev[,2],'-',wtaltrev[,3])))  # coordinate 1 to coordinate 2\n",
    "print(head(alljuncs))\n",
    "junctions = data.frame(alljuncs)\n",
    "junctions$intron5 = as.numeric(substr(alljuncs,1,regexpr('-', alljuncs)-1))\n",
    "junctions$intron3 = as.numeric(substr(alljuncs,regexpr('-',alljuncs)+1,nchar(alljuncs)))\n",
    "wtcounts = wtalt[,4][match(alljuncs, paste0(wtalt[,2],'-',wtalt[,3]))]\n",
    "wtcounts[is.na(wtcounts)] = wtaltrev[,4][match(alljuncs, paste0(wtaltrev[,2],'-',wtaltrev[,3]))][is.na(wtcounts)]\n",
    "junctions$wtcounts = wtcounts\n",
    "junctions$wtcounts[is.na(junctions$wtcounts)] = 0\n",
    "\n",
    "mtcounts = mtalt[,4][match(alljuncs, paste0(mtalt[,2],'-',mtalt[,3]))]\n",
    "mtcounts[is.na(mtcounts)] = mtaltrev[,4][match(alljuncs, paste0(mtaltrev[,2],'-',mtaltrev[,3]))][is.na(mtcounts)]\n",
    "junctions$mtcounts = mtcounts\n",
    "junctions$mtcounts[is.na(junctions$mtcounts)] = 0\n",
    "\n",
    "chrvec =  wtalt[,1][match(alljuncs, paste0(wtalt[,2],'-',wtalt[,3]))]\n",
    "chrvec[is.na(chrvec)] = wtaltrev[,1][match(alljuncs, paste0(wtaltrev[,2],'-',wtaltrev[,3]))][is.na(chrvec)]\n",
    "chrvec[is.na(chrvec)] = mtalt[,1][match(alljuncs, paste0(mtalt[,2],'-',mtalt[,3]))][is.na(chrvec)]\n",
    "chrvec[is.na(chrvec)] = mtaltrev[,1][match(alljuncs, paste0(mtaltrev[,2],'-',mtaltrev[,3]))][is.na(chrvec)]\n",
    "junctions$chr = chrvec\n",
    "junctions = junctions[!is.na(chrvec),]\n",
    "\n",
    "junctions = junctions[order(junctions[,2]),]\n",
    "junctionsold = junctions\n",
    "junctions[,5] = round(sum(junctions[,4])/sum(junctions[,5])*junctions[,5])\n",
    "junctions = junctions[rowSums(junctionsold[,c(4,5)]) > 1,]\n",
    "\n",
    "junctions[1:6,]  # data frame containing junction counts for both mutant and wildtype\n",
    "\n",
    "current_gene = paste0(junctions[1,6],':',junctions[1,2])\n",
    "info = junctions[1,]\n",
    "genes = c()\n",
    "pvals = c()\n",
    "allpvals = c()\n",
    "dpsi = c()\n",
    "for (row in 2:nrow(junctions)) {\n",
    "    nameinit = paste0(junctions[row,6],':',junctions[row, 2])\n",
    "    if (nameinit != current_gene ) {\n",
    "        if (nrow(info) > 1) {\n",
    "            best_dpsi = 0\n",
    "            best_pval = 1\n",
    "            for (i in 1:(nrow(info)-1)) {\n",
    "                for (j in (i+1):nrow(info)) {\n",
    "                    ctable = matrix(unlist(c(info[c(i,j),4], info[c(i,j),5])), nrow=2)\n",
    "                    if (sum(ctable) != 0) {\n",
    "                        pval = fisher.test(ctable)$p.value\n",
    "                        allpvals = c(allpvals, pval)\n",
    "                        if (pval < best_pval) {\n",
    "                            best_pval = pval\n",
    "                            best_dpsi = abs(info[i, 4]/sum(info[c(i,j),4]) - info[i, 5]/sum(info[c(i,j),5]))\n",
    "                        }\n",
    "                    }\n",
    "                }\n",
    "            }\n",
    "            genes = c(genes, current_gene)\n",
    "            pvals = c(pvals, best_pval)\n",
    "            dpsi = c(dpsi, best_dpsi)\n",
    "            \n",
    "        }\n",
    "        current_gene = nameinit\n",
    "        info = junctions[row,]\n",
    "    } else {\n",
    "        info = rbind(info, junctions[row,])\n",
    "    }\n",
    "}\n",
    "plot(log10(pvals)*-1, pch=16, cex=0.3, main=\"Alt 5'SS\")\n",
    "abline(h=log10(0.05)*-1)\n",
    "\n",
    "genes5 = genes\n",
    "pvals5 = pvals\n",
    "junctions5 = junctions\n",
    "dpsi5=dpsi"
   ]
  },
  {
   "cell_type": "markdown",
   "metadata": {},
   "source": [
    "There are more unique significant Alt3'SS than Alt5'SS events with and without FDR correction. <br>"
   ]
  },
  {
   "cell_type": "code",
   "execution_count": 10,
   "metadata": {
    "collapsed": false
   },
   "outputs": [
    {
     "data": {
      "text/html": [
       "12"
      ],
      "text/latex": [
       "12"
      ],
      "text/markdown": [
       "12"
      ],
      "text/plain": [
       "[1] 12"
      ]
     },
     "metadata": {},
     "output_type": "display_data"
    },
    {
     "data": {
      "text/html": [
       "11"
      ],
      "text/latex": [
       "11"
      ],
      "text/markdown": [
       "11"
      ],
      "text/plain": [
       "[1] 11"
      ]
     },
     "metadata": {},
     "output_type": "display_data"
    },
    {
     "data": {
      "text/html": [
       "5"
      ],
      "text/latex": [
       "5"
      ],
      "text/markdown": [
       "5"
      ],
      "text/plain": [
       "[1] 5"
      ]
     },
     "metadata": {},
     "output_type": "display_data"
    },
    {
     "data": {
      "text/html": [
       "7"
      ],
      "text/latex": [
       "7"
      ],
      "text/markdown": [
       "7"
      ],
      "text/plain": [
       "[1] 7"
      ]
     },
     "metadata": {},
     "output_type": "display_data"
    },
    {
     "data": {
      "text/html": [
       "8032"
      ],
      "text/latex": [
       "8032"
      ],
      "text/markdown": [
       "8032"
      ],
      "text/plain": [
       "[1] 8032"
      ]
     },
     "metadata": {},
     "output_type": "display_data"
    },
    {
     "data": {
      "text/html": [
       "7974"
      ],
      "text/latex": [
       "7974"
      ],
      "text/markdown": [
       "7974"
      ],
      "text/plain": [
       "[1] 7974"
      ]
     },
     "metadata": {},
     "output_type": "display_data"
    },
    {
     "data": {
      "text/html": [
       "<table>\n",
       "<thead><tr><th></th><th scope=col>genes3</th><th scope=col>pvals3adj</th><th scope=col>index</th><th scope=col>genes5</th><th scope=col>pvals5adj</th></tr></thead>\n",
       "<tbody>\n",
       "\t<tr><th scope=row>857</th><td>chr14:105855499</td><td>1.600524e-19   </td><td> 1             </td><td>chr19:48965896 </td><td>1.912760e-53   </td></tr>\n",
       "\t<tr><th scope=row>165</th><td>chr9:19378727  </td><td>1.193751e-18   </td><td> 2             </td><td>chr5:150412644 </td><td>1.112301e-31   </td></tr>\n",
       "\t<tr><th scope=row>482</th><td>chr19:48965896 </td><td>2.323418e-16   </td><td> 3             </td><td>chr14:105855499</td><td>6.245717e-21   </td></tr>\n",
       "\t<tr><th scope=row>992</th><td>chr5:150412644 </td><td>3.652742e-11   </td><td> 4             </td><td>chr7:142801407 </td><td>3.899738e-03   </td></tr>\n",
       "\t<tr><th scope=row>211</th><td>chr6:24718559  </td><td>1.525624e-03   </td><td> 5             </td><td>chr10:3781660  </td><td>4.779568e-03   </td></tr>\n",
       "\t<tr><th scope=row>994</th><td>chr5:150446821 </td><td>6.480329e-03   </td><td> 6             </td><td>chr12:53295619 </td><td>7.660819e-02   </td></tr>\n",
       "\t<tr><th scope=row>1029</th><td>chr6:158770783 </td><td>3.280996e-02   </td><td> 7             </td><td>chr1:30757678  </td><td>9.849624e-02   </td></tr>\n",
       "\t<tr><th scope=row>282</th><td>chr6:31355336  </td><td>7.380490e-01   </td><td> 8             </td><td>chr19:2269724  </td><td>2.799145e-01   </td></tr>\n",
       "\t<tr><th scope=row>1</th><td>chr9:172100    </td><td>1.000000e+00   </td><td> 9             </td><td>chr5:150445628 </td><td>3.528620e-01   </td></tr>\n",
       "\t<tr><th scope=row>2</th><td>chr11:209980   </td><td>1.000000e+00   </td><td>10             </td><td>chr6:30490495  </td><td>5.328025e-01   </td></tr>\n",
       "\t<tr><th scope=row>3</th><td>chr11:212491   </td><td>1.000000e+00   </td><td>11             </td><td>chr15:44715681 </td><td>5.328025e-01   </td></tr>\n",
       "\t<tr><th scope=row>4</th><td>chr16:220668   </td><td>1.000000e+00   </td><td>12             </td><td>chr3:71015568  </td><td>5.328025e-01   </td></tr>\n",
       "\t<tr><th scope=row>5</th><td>chr2:271919    </td><td>1.000000e+00   </td><td>13             </td><td>chr12:6960219  </td><td>7.197802e-01   </td></tr>\n",
       "\t<tr><th scope=row>6</th><td>chr5:304201    </td><td>1.000000e+00   </td><td>14             </td><td>chr7:99374761  </td><td>7.197802e-01   </td></tr>\n",
       "\t<tr><th scope=row>7</th><td>chr11:500503   </td><td>1.000000e+00   </td><td>15             </td><td>chr20:36497046 </td><td>8.086420e-01   </td></tr>\n",
       "\t<tr><th scope=row>8</th><td>chr11:507132   </td><td>1.000000e+00   </td><td>16             </td><td>chr22:39014359 </td><td>8.086420e-01   </td></tr>\n",
       "\t<tr><th scope=row>9</th><td>chr11:614495   </td><td>1.000000e+00   </td><td>17             </td><td>chr17:41689049 </td><td>8.086420e-01   </td></tr>\n",
       "\t<tr><th scope=row>10</th><td>chr11:614816   </td><td>1.000000e+00   </td><td>18             </td><td>chr1:206921837 </td><td>8.086420e-01   </td></tr>\n",
       "\t<tr><th scope=row>11</th><td>chr16:635631   </td><td>1.000000e+00   </td><td>19             </td><td>chr19:1272031  </td><td>8.187500e-01   </td></tr>\n",
       "\t<tr><th scope=row>12</th><td>chr16:670155   </td><td>1.000000e+00   </td><td>20             </td><td>chr1:209756289 </td><td>8.187500e-01   </td></tr>\n",
       "</tbody>\n",
       "</table>\n"
      ],
      "text/latex": [
       "\\begin{tabular}{r|lllll}\n",
       "  & genes3 & pvals3adj & index & genes5 & pvals5adj\\\\\n",
       "\\hline\n",
       "\t857 & chr14:105855499 & 1.600524e-19    &  1              & chr19:48965896  & 1.912760e-53   \\\\\n",
       "\t165 & chr9:19378727   & 1.193751e-18    &  2              & chr5:150412644  & 1.112301e-31   \\\\\n",
       "\t482 & chr19:48965896  & 2.323418e-16    &  3              & chr14:105855499 & 6.245717e-21   \\\\\n",
       "\t992 & chr5:150412644  & 3.652742e-11    &  4              & chr7:142801407  & 3.899738e-03   \\\\\n",
       "\t211 & chr6:24718559   & 1.525624e-03    &  5              & chr10:3781660   & 4.779568e-03   \\\\\n",
       "\t994 & chr5:150446821  & 6.480329e-03    &  6              & chr12:53295619  & 7.660819e-02   \\\\\n",
       "\t1029 & chr6:158770783  & 3.280996e-02    &  7              & chr1:30757678   & 9.849624e-02   \\\\\n",
       "\t282 & chr6:31355336   & 7.380490e-01    &  8              & chr19:2269724   & 2.799145e-01   \\\\\n",
       "\t1 & chr9:172100     & 1.000000e+00    &  9              & chr5:150445628  & 3.528620e-01   \\\\\n",
       "\t2 & chr11:209980    & 1.000000e+00    & 10              & chr6:30490495   & 5.328025e-01   \\\\\n",
       "\t3 & chr11:212491    & 1.000000e+00    & 11              & chr15:44715681  & 5.328025e-01   \\\\\n",
       "\t4 & chr16:220668    & 1.000000e+00    & 12              & chr3:71015568   & 5.328025e-01   \\\\\n",
       "\t5 & chr2:271919     & 1.000000e+00    & 13              & chr12:6960219   & 7.197802e-01   \\\\\n",
       "\t6 & chr5:304201     & 1.000000e+00    & 14              & chr7:99374761   & 7.197802e-01   \\\\\n",
       "\t7 & chr11:500503    & 1.000000e+00    & 15              & chr20:36497046  & 8.086420e-01   \\\\\n",
       "\t8 & chr11:507132    & 1.000000e+00    & 16              & chr22:39014359  & 8.086420e-01   \\\\\n",
       "\t9 & chr11:614495    & 1.000000e+00    & 17              & chr17:41689049  & 8.086420e-01   \\\\\n",
       "\t10 & chr11:614816    & 1.000000e+00    & 18              & chr1:206921837  & 8.086420e-01   \\\\\n",
       "\t11 & chr16:635631    & 1.000000e+00    & 19              & chr19:1272031   & 8.187500e-01   \\\\\n",
       "\t12 & chr16:670155    & 1.000000e+00    & 20              & chr1:209756289  & 8.187500e-01   \\\\\n",
       "\\end{tabular}\n"
      ],
      "text/markdown": [
       "\n",
       "| <!--/--> | genes3 | pvals3adj | index | genes5 | pvals5adj | \n",
       "|---|---|---|---|---|---|---|---|---|---|---|---|---|---|---|---|---|---|---|---|\n",
       "| 857 | chr14:105855499 | 1.600524e-19    |  1              | chr19:48965896  | 1.912760e-53    | \n",
       "| 165 | chr9:19378727   | 1.193751e-18    |  2              | chr5:150412644  | 1.112301e-31    | \n",
       "| 482 | chr19:48965896  | 2.323418e-16    |  3              | chr14:105855499 | 6.245717e-21    | \n",
       "| 992 | chr5:150412644  | 3.652742e-11    |  4              | chr7:142801407  | 3.899738e-03    | \n",
       "| 211 | chr6:24718559   | 1.525624e-03    |  5              | chr10:3781660   | 4.779568e-03    | \n",
       "| 994 | chr5:150446821  | 6.480329e-03    |  6              | chr12:53295619  | 7.660819e-02    | \n",
       "| 1029 | chr6:158770783  | 3.280996e-02    |  7              | chr1:30757678   | 9.849624e-02    | \n",
       "| 282 | chr6:31355336   | 7.380490e-01    |  8              | chr19:2269724   | 2.799145e-01    | \n",
       "| 1 | chr9:172100     | 1.000000e+00    |  9              | chr5:150445628  | 3.528620e-01    | \n",
       "| 2 | chr11:209980    | 1.000000e+00    | 10              | chr6:30490495   | 5.328025e-01    | \n",
       "| 3 | chr11:212491    | 1.000000e+00    | 11              | chr15:44715681  | 5.328025e-01    | \n",
       "| 4 | chr16:220668    | 1.000000e+00    | 12              | chr3:71015568   | 5.328025e-01    | \n",
       "| 5 | chr2:271919     | 1.000000e+00    | 13              | chr12:6960219   | 7.197802e-01    | \n",
       "| 6 | chr5:304201     | 1.000000e+00    | 14              | chr7:99374761   | 7.197802e-01    | \n",
       "| 7 | chr11:500503    | 1.000000e+00    | 15              | chr20:36497046  | 8.086420e-01    | \n",
       "| 8 | chr11:507132    | 1.000000e+00    | 16              | chr22:39014359  | 8.086420e-01    | \n",
       "| 9 | chr11:614495    | 1.000000e+00    | 17              | chr17:41689049  | 8.086420e-01    | \n",
       "| 10 | chr11:614816    | 1.000000e+00    | 18              | chr1:206921837  | 8.086420e-01    | \n",
       "| 11 | chr16:635631    | 1.000000e+00    | 19              | chr19:1272031   | 8.187500e-01    | \n",
       "| 12 | chr16:670155    | 1.000000e+00    | 20              | chr1:209756289  | 8.187500e-01    | \n",
       "\n",
       "\n"
      ],
      "text/plain": [
       "     genes3          pvals3adj    index genes5          pvals5adj   \n",
       "857  chr14:105855499 1.600524e-19  1    chr19:48965896  1.912760e-53\n",
       "165  chr9:19378727   1.193751e-18  2    chr5:150412644  1.112301e-31\n",
       "482  chr19:48965896  2.323418e-16  3    chr14:105855499 6.245717e-21\n",
       "992  chr5:150412644  3.652742e-11  4    chr7:142801407  3.899738e-03\n",
       "211  chr6:24718559   1.525624e-03  5    chr10:3781660   4.779568e-03\n",
       "994  chr5:150446821  6.480329e-03  6    chr12:53295619  7.660819e-02\n",
       "1029 chr6:158770783  3.280996e-02  7    chr1:30757678   9.849624e-02\n",
       "282  chr6:31355336   7.380490e-01  8    chr19:2269724   2.799145e-01\n",
       "1    chr9:172100     1.000000e+00  9    chr5:150445628  3.528620e-01\n",
       "2    chr11:209980    1.000000e+00 10    chr6:30490495   5.328025e-01\n",
       "3    chr11:212491    1.000000e+00 11    chr15:44715681  5.328025e-01\n",
       "4    chr16:220668    1.000000e+00 12    chr3:71015568   5.328025e-01\n",
       "5    chr2:271919     1.000000e+00 13    chr12:6960219   7.197802e-01\n",
       "6    chr5:304201     1.000000e+00 14    chr7:99374761   7.197802e-01\n",
       "7    chr11:500503    1.000000e+00 15    chr20:36497046  8.086420e-01\n",
       "8    chr11:507132    1.000000e+00 16    chr22:39014359  8.086420e-01\n",
       "9    chr11:614495    1.000000e+00 17    chr17:41689049  8.086420e-01\n",
       "10   chr11:614816    1.000000e+00 18    chr1:206921837  8.086420e-01\n",
       "11   chr16:635631    1.000000e+00 19    chr19:1272031   8.187500e-01\n",
       "12   chr16:670155    1.000000e+00 20    chr1:209756289  8.187500e-01"
      ]
     },
     "metadata": {},
     "output_type": "display_data"
    }
   ],
   "source": [
    "length(unique(pvals5[pvals5<0.05]))  # number of significant alt 5'ss events\n",
    "length(unique(pvals3[pvals3<0.05]))  # number of significant alt 3'ss events\n",
    "pvals5adj = p.adjust(pvals5, method='fdr')\n",
    "pvals3adj = p.adjust(pvals3, method='fdr')\n",
    "length(unique(pvals5adj[pvals5adj<0.05]))  # number of significant alt 5' ss events after fdr correction\n",
    "length(unique(pvals3adj[pvals3adj<0.05]))  # number of significant alt 3' ss events after fdr connection\n",
    "length(unique(paste0(junctions5[,1],junctions5[,3])))  # number of alt 5' ss events\n",
    "length(unique(paste0(junctions3[,1], junctions3[,2])))  # number of alt 3' ss events\n",
    "df3 = data.frame(genes3, pvals3adj)\n",
    "df5 = data.frame(genes5, pvals5adj)\n",
    "cbind((df3[order(df3$pvals3adj),][1:20,]), data.frame(index=seq(1:20)), (df5[order(df5$pvals5adj),][1:20,]))"
   ]
  },
  {
   "cell_type": "code",
   "execution_count": 4,
   "metadata": {
    "collapsed": false,
    "scrolled": false
   },
   "outputs": [
    {
     "data": {
      "image/png": "[encoded data removed]",
      "text/plain": [
       "plot without title"
      ]
     },
     "metadata": {},
     "output_type": "display_data"
    },
    {
     "data": {
      "image/png": "[encoded data removed]",
      "text/plain": [
       "plot without title"
      ]
     },
     "metadata": {},
     "output_type": "display_data"
    },
    {
     "data": {
      "image/png": "[encoded data removed]",
      "text/plain": [
       "plot without title"
      ]
     },
     "metadata": {},
     "output_type": "display_data"
    }
   ],
   "source": [
    "plot(-1*log10(seq(1,0,-1/length(pvals3)))[1:length(pvals3)],-1*log10(rev(sort(pvals3))),type='l')\n",
    "source(\"~/bme/jupyter_data/qq_pval.r\")\n",
    "qq_pval(pvals3)\n",
    "qq_pval(pvals5)"
   ]
  },
  {
   "cell_type": "code",
   "execution_count": 15,
   "metadata": {
    "collapsed": false
   },
   "outputs": [
    {
     "data": {
      "text/html": [
       "<table>\n",
       "<thead><tr><th scope=col>V1</th><th scope=col>V2</th><th scope=col>V3</th><th scope=col>V4</th><th scope=col>V5</th><th scope=col>V6</th><th scope=col>V7</th><th scope=col>V8</th><th scope=col>V9</th></tr></thead>\n",
       "<tbody>\n",
       "\t<tr><td>chr17    </td><td> 7592983 </td><td>57211760 </td><td>1.0000000</td><td>-        </td><td>0        </td><td>1        </td><td>1        </td><td>0        </td></tr>\n",
       "\t<tr><td>chr17    </td><td> 7592983 </td><td>57211760 </td><td>1.0000000</td><td>-        </td><td>1        </td><td>0        </td><td>1        </td><td>0        </td></tr>\n",
       "\t<tr><td>chr17    </td><td>15555281 </td><td>57211760 </td><td>1.0000000</td><td>-        </td><td>0        </td><td>1        </td><td>0        </td><td>1        </td></tr>\n",
       "\t<tr><td>chr17    </td><td>15555281 </td><td>57211760 </td><td>1.0000000</td><td>-        </td><td>0        </td><td>1        </td><td>0        </td><td>1        </td></tr>\n",
       "\t<tr><td>chr17    </td><td>64375050 </td><td>57211760 </td><td>0.2222222</td><td>-        </td><td>1        </td><td>0        </td><td>1        </td><td>7        </td></tr>\n",
       "\t<tr><td>chr17    </td><td>64375050 </td><td>57211760 </td><td>1.0000000</td><td>-        </td><td>1        </td><td>7        </td><td>1        </td><td>7        </td></tr>\n",
       "</tbody>\n",
       "</table>\n"
      ],
      "text/latex": [
       "\\begin{tabular}{r|lllllllll}\n",
       " V1 & V2 & V3 & V4 & V5 & V6 & V7 & V8 & V9\\\\\n",
       "\\hline\n",
       "\t chr17     &  7592983  & 57211760  & 1.0000000 & -         & 0         & 1         & 1         & 0        \\\\\n",
       "\t chr17     &  7592983  & 57211760  & 1.0000000 & -         & 1         & 0         & 1         & 0        \\\\\n",
       "\t chr17     & 15555281  & 57211760  & 1.0000000 & -         & 0         & 1         & 0         & 1        \\\\\n",
       "\t chr17     & 15555281  & 57211760  & 1.0000000 & -         & 0         & 1         & 0         & 1        \\\\\n",
       "\t chr17     & 64375050  & 57211760  & 0.2222222 & -         & 1         & 0         & 1         & 7        \\\\\n",
       "\t chr17     & 64375050  & 57211760  & 1.0000000 & -         & 1         & 7         & 1         & 7        \\\\\n",
       "\\end{tabular}\n"
      ],
      "text/markdown": [
       "\n",
       "V1 | V2 | V3 | V4 | V5 | V6 | V7 | V8 | V9 | \n",
       "|---|---|---|---|---|---|\n",
       "| chr17     |  7592983  | 57211760  | 1.0000000 | -         | 0         | 1         | 1         | 0         | \n",
       "| chr17     |  7592983  | 57211760  | 1.0000000 | -         | 1         | 0         | 1         | 0         | \n",
       "| chr17     | 15555281  | 57211760  | 1.0000000 | -         | 0         | 1         | 0         | 1         | \n",
       "| chr17     | 15555281  | 57211760  | 1.0000000 | -         | 0         | 1         | 0         | 1         | \n",
       "| chr17     | 64375050  | 57211760  | 0.2222222 | -         | 1         | 0         | 1         | 7         | \n",
       "| chr17     | 64375050  | 57211760  | 1.0000000 | -         | 1         | 7         | 1         | 7         | \n",
       "\n",
       "\n"
      ],
      "text/plain": [
       "  V1    V2       V3       V4        V5 V6 V7 V8 V9\n",
       "1 chr17  7592983 57211760 1.0000000 -  0  1  1  0 \n",
       "2 chr17  7592983 57211760 1.0000000 -  1  0  1  0 \n",
       "3 chr17 15555281 57211760 1.0000000 -  0  1  0  1 \n",
       "4 chr17 15555281 57211760 1.0000000 -  0  1  0  1 \n",
       "5 chr17 64375050 57211760 0.2222222 -  1  0  1  7 \n",
       "6 chr17 64375050 57211760 1.0000000 -  1  7  1  7 "
      ]
     },
     "metadata": {},
     "output_type": "display_data"
    },
    {
     "data": {
      "image/png": "[encoded data removed]",
      "text/plain": [
       "plot without title"
      ]
     },
     "metadata": {},
     "output_type": "display_data"
    },
    {
     "data": {
      "image/png": "[encoded data removed]",
      "text/plain": [
       "plot without title"
      ]
     },
     "metadata": {},
     "output_type": "display_data"
    }
   ],
   "source": [
    "setwd('~/bme/jupyter_data/')\n",
    "# threeprime = read.table('alt3primess_fisher.txt')\n",
    "# fiveprime = read.table('alt5primess_fisher.txt')\n",
    "head(threeprime)\n",
    "source(\"~/bme/jupyter_data/qq_pval.r\")\n",
    "qq_pval(threeprime$V4)\n",
    "qq_pval(fiveprime$V4)"
   ]
  },
  {
   "cell_type": "markdown",
   "metadata": {},
   "source": [
    "I decided to move all contingency table making and fisher testing into python for sake of time. I've put the accompanying script in the same github folder as these jupyter notebooks.\n",
    "Changes from above implementations of fisher tests:\n",
    "1. I use all junctions found in the corrected reads. Before I was using junctions that were novel to the corrected nanopore reads.\n",
    "2. Contigency tables are formed with the counts in wildtype/mutant that are used by a junctionA and the sum of counts of all other junctions sharing the same 5' (or 3', when looking at alternative 5' splicing) as junctionA. Before I was doing pairwise comparisons.\n",
    "3. The counts of wt or mt reads aligning to a junction must sum to at least 2 (arbitrary cutoff, can experiment). "
   ]
  },
  {
   "cell_type": "code",
   "execution_count": 30,
   "metadata": {
    "collapsed": false
   },
   "outputs": [
    {
     "data": {
      "text/html": [
       "<table>\n",
       "<thead><tr><th scope=col>V1</th><th scope=col>V2</th><th scope=col>V3</th><th scope=col>V4</th><th scope=col>V5</th><th scope=col>V6</th><th scope=col>V7</th><th scope=col>V8</th><th scope=col>V9</th></tr></thead>\n",
       "<tbody>\n",
       "\t<tr><td>chr17    </td><td>16948737 </td><td>16940511 </td><td>1.0000000</td><td>-        </td><td> 0       </td><td> 2       </td><td>1        </td><td>1        </td></tr>\n",
       "\t<tr><td>chr17    </td><td>77206727 </td><td>77206400 </td><td>1.0000000</td><td>-        </td><td> 2       </td><td> 2       </td><td>1        </td><td>1        </td></tr>\n",
       "\t<tr><td>chr17    </td><td> 4720945 </td><td> 4720629 </td><td>1.0000000</td><td>-        </td><td> 0       </td><td> 2       </td><td>1        </td><td>4        </td></tr>\n",
       "\t<tr><td>chr17    </td><td> 4720945 </td><td> 4720640 </td><td>1.0000000</td><td>-        </td><td> 1       </td><td> 3       </td><td>0        </td><td>3        </td></tr>\n",
       "\t<tr><td>chr17    </td><td>39202988 </td><td>39202439 </td><td>0.2819149</td><td>-        </td><td>18       </td><td>27       </td><td>0        </td><td>3        </td></tr>\n",
       "\t<tr><td>chr17    </td><td>16428816 </td><td>16428387 </td><td>1.0000000</td><td>-        </td><td> 0       </td><td> 2       </td><td>0        </td><td>2        </td></tr>\n",
       "</tbody>\n",
       "</table>\n"
      ],
      "text/latex": [
       "\\begin{tabular}{r|lllllllll}\n",
       " V1 & V2 & V3 & V4 & V5 & V6 & V7 & V8 & V9\\\\\n",
       "\\hline\n",
       "\t chr17     & 16948737  & 16940511  & 1.0000000 & -         &  0        &  2        & 1         & 1        \\\\\n",
       "\t chr17     & 77206727  & 77206400  & 1.0000000 & -         &  2        &  2        & 1         & 1        \\\\\n",
       "\t chr17     &  4720945  &  4720629  & 1.0000000 & -         &  0        &  2        & 1         & 4        \\\\\n",
       "\t chr17     &  4720945  &  4720640  & 1.0000000 & -         &  1        &  3        & 0         & 3        \\\\\n",
       "\t chr17     & 39202988  & 39202439  & 0.2819149 & -         & 18        & 27        & 0         & 3        \\\\\n",
       "\t chr17     & 16428816  & 16428387  & 1.0000000 & -         &  0        &  2        & 0         & 2        \\\\\n",
       "\\end{tabular}\n"
      ],
      "text/markdown": [
       "\n",
       "V1 | V2 | V3 | V4 | V5 | V6 | V7 | V8 | V9 | \n",
       "|---|---|---|---|---|---|\n",
       "| chr17     | 16948737  | 16940511  | 1.0000000 | -         |  0        |  2        | 1         | 1         | \n",
       "| chr17     | 77206727  | 77206400  | 1.0000000 | -         |  2        |  2        | 1         | 1         | \n",
       "| chr17     |  4720945  |  4720629  | 1.0000000 | -         |  0        |  2        | 1         | 4         | \n",
       "| chr17     |  4720945  |  4720640  | 1.0000000 | -         |  1        |  3        | 0         | 3         | \n",
       "| chr17     | 39202988  | 39202439  | 0.2819149 | -         | 18        | 27        | 0         | 3         | \n",
       "| chr17     | 16428816  | 16428387  | 1.0000000 | -         |  0        |  2        | 0         | 2         | \n",
       "\n",
       "\n"
      ],
      "text/plain": [
       "  V1    V2       V3       V4        V5 V6 V7 V8 V9\n",
       "1 chr17 16948737 16940511 1.0000000 -   0  2 1  1 \n",
       "2 chr17 77206727 77206400 1.0000000 -   2  2 1  1 \n",
       "3 chr17  4720945  4720629 1.0000000 -   0  2 1  4 \n",
       "4 chr17  4720945  4720640 1.0000000 -   1  3 0  3 \n",
       "5 chr17 39202988 39202439 0.2819149 -  18 27 0  3 \n",
       "6 chr17 16428816 16428387 1.0000000 -   0  2 0  2 "
      ]
     },
     "metadata": {},
     "output_type": "display_data"
    },
    {
     "data": {
      "text/html": [
       "6680"
      ],
      "text/latex": [
       "6680"
      ],
      "text/markdown": [
       "6680"
      ],
      "text/plain": [
       "[1] 6680"
      ]
     },
     "metadata": {},
     "output_type": "display_data"
    },
    {
     "data": {
      "text/html": [
       "5835"
      ],
      "text/latex": [
       "5835"
      ],
      "text/markdown": [
       "5835"
      ],
      "text/plain": [
       "[1] 5835"
      ]
     },
     "metadata": {},
     "output_type": "display_data"
    },
    {
     "data": {
      "text/html": [
       "189"
      ],
      "text/latex": [
       "189"
      ],
      "text/markdown": [
       "189"
      ],
      "text/plain": [
       "[1] 189"
      ]
     },
     "metadata": {},
     "output_type": "display_data"
    },
    {
     "data": {
      "text/html": [
       "165"
      ],
      "text/latex": [
       "165"
      ],
      "text/markdown": [
       "165"
      ],
      "text/plain": [
       "[1] 165"
      ]
     },
     "metadata": {},
     "output_type": "display_data"
    },
    {
     "data": {
      "text/html": [
       "28"
      ],
      "text/latex": [
       "28"
      ],
      "text/markdown": [
       "28"
      ],
      "text/plain": [
       "[1] 28"
      ]
     },
     "metadata": {},
     "output_type": "display_data"
    },
    {
     "data": {
      "text/html": [
       "0"
      ],
      "text/latex": [
       "0"
      ],
      "text/markdown": [
       "0"
      ],
      "text/plain": [
       "[1] 0"
      ]
     },
     "metadata": {},
     "output_type": "display_data"
    },
    {
     "data": {
      "image/png": "[encoded data removed]",
      "text/plain": [
       "Plot with title \"Alt 3'SS\""
      ]
     },
     "metadata": {},
     "output_type": "display_data"
    },
    {
     "data": {
      "image/png": "[encoded data removed]",
      "text/plain": [
       "Plot with title \"Alt 5'SS\""
      ]
     },
     "metadata": {},
     "output_type": "display_data"
    }
   ],
   "source": [
    "setwd('~/bme/jupyter_data/')\n",
    "threeprime = read.table('alt3primess_fisher.txt')  # chrom, junction 5', 3', pval, strand, \n",
    "fiveprime = read.table('alt5primess_fisher.txt')\n",
    "head(threeprime)\n",
    "nrow(threeprime)\n",
    "nrow(fiveprime)\n",
    "sum(threeprime$V4 < 0.05)\n",
    "sum(fiveprime$V4 < 0.05)\n",
    "pvals3adj = p.adjust(threeprime$V4, method='fdr')\n",
    "pvals5adj = p.adjust(fiveprime$V5, method='fdr')\n",
    "sum(pvals3adj < 0.05)\n",
    "sum(pvals5adj < 0.05)\n",
    "plot(log10(threeprime$V4)*-1, pch=16, cex=0.3, main=\"Alt 3'SS\")\n",
    "plot(log10(fiveprime$V4)*-1, pch=16, cex=0.3, main=\"Alt 5'SS\")\n",
    "source(\"~/bme/jupyter_data/qq_pval.r\")"
   ]
  },
  {
   "cell_type": "code",
   "execution_count": 29,
   "metadata": {
    "collapsed": false
   },
   "outputs": [
    {
     "data": {
      "image/png": "[encoded data removed]",
      "text/plain": [
       "plot without title"
      ]
     },
     "metadata": {},
     "output_type": "display_data"
    },
    {
     "data": {
      "image/png": "[encoded data removed]",
      "text/plain": [
       "plot without title"
      ]
     },
     "metadata": {},
     "output_type": "display_data"
    }
   ],
   "source": [
    "qq_pval(threeprime$V4)\n",
    "qq_pval(fiveprime$V4)"
   ]
  }
 ],
 "metadata": {
  "kernelspec": {
   "display_name": "R",
   "language": "R",
   "name": "ir"
  },
  "language_info": {
   "codemirror_mode": "r",
   "file_extension": ".r",
   "mimetype": "text/x-r-source",
   "name": "R",
   "pygments_lexer": "r",
   "version": "3.2.3"
  }
 },
 "nbformat": 4,
 "nbformat_minor": 0
}
