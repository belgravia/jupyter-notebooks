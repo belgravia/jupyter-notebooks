{
 "cells": [
  {
   "cell_type": "markdown",
   "metadata": {},
   "source": [
    "I do Fisher exact tests on junctions we already know are alternatively spliced from short reads just to see what concordance looks like.\n",
    "\n",
    "A few genes have p-values that aren't 1, however none have a value below 0.05. The x-axis is arbitrarily indexed."
   ]
  },
  {
   "cell_type": "code",
   "execution_count": 13,
   "metadata": {
    "collapsed": false
   },
   "outputs": [
    {
     "data": {
      "text/html": [
       "<table>\n",
       "<thead><tr><th scope=col>V1</th><th scope=col>V2</th><th scope=col>V3</th><th scope=col>V4</th><th scope=col>V5</th><th scope=col>V1</th><th scope=col>V2</th><th scope=col>V3</th><th scope=col>V4</th><th scope=col>V5</th></tr></thead>\n",
       "<tbody>\n",
       "\t<tr><td>PCK2                  </td><td>24099721              </td><td>24099994              </td><td>0                     </td><td>1                     </td><td>PCK2                  </td><td>24099721              </td><td>24099994              </td><td>2                     </td><td>1                     </td></tr>\n",
       "\t<tr><td>PCK2                  </td><td>24099721              </td><td>24102752              </td><td>0                     </td><td>1                     </td><td>PCK2                  </td><td>24099721              </td><td>24102752              </td><td>1                     </td><td>1                     </td></tr>\n",
       "\t<tr><td>GOLGA6L5,RP11-182J1.12</td><td>84513303              </td><td>84513966              </td><td>0                     </td><td>1                     </td><td>GOLGA6L5,RP11-182J1.12</td><td>84513303              </td><td>84513966              </td><td>0                     </td><td>1                     </td></tr>\n",
       "\t<tr><td>GOLGA6L5,RP11-182J1.12</td><td>84513331              </td><td>84513966              </td><td>0                     </td><td>1                     </td><td>GOLGA6L5,RP11-182J1.12</td><td>84513331              </td><td>84513966              </td><td>0                     </td><td>1                     </td></tr>\n",
       "\t<tr><td>DDHD2                 </td><td>38237628              </td><td>38238106              </td><td>0                     </td><td>1                     </td><td>DDHD2                 </td><td>38237628              </td><td>38238106              </td><td>0                     </td><td>1                     </td></tr>\n",
       "\t<tr><td>DDHD2                 </td><td>38237628              </td><td>38238088              </td><td>1                     </td><td>1                     </td><td>DDHD2                 </td><td>38237628              </td><td>38238088              </td><td>0                     </td><td>1                     </td></tr>\n",
       "</tbody>\n",
       "</table>\n"
      ],
      "text/latex": [
       "\\begin{tabular}{r|llllllllll}\n",
       " V1 & V2 & V3 & V4 & V5 & V1 & V2 & V3 & V4 & V5\\\\\n",
       "\\hline\n",
       "\t PCK2                   & 24099721               & 24099994               & 0                      & 1                      & PCK2                   & 24099721               & 24099994               & 2                      & 1                     \\\\\n",
       "\t PCK2                   & 24099721               & 24102752               & 0                      & 1                      & PCK2                   & 24099721               & 24102752               & 1                      & 1                     \\\\\n",
       "\t GOLGA6L5,RP11-182J1.12 & 84513303               & 84513966               & 0                      & 1                      & GOLGA6L5,RP11-182J1.12 & 84513303               & 84513966               & 0                      & 1                     \\\\\n",
       "\t GOLGA6L5,RP11-182J1.12 & 84513331               & 84513966               & 0                      & 1                      & GOLGA6L5,RP11-182J1.12 & 84513331               & 84513966               & 0                      & 1                     \\\\\n",
       "\t DDHD2                  & 38237628               & 38238106               & 0                      & 1                      & DDHD2                  & 38237628               & 38238106               & 0                      & 1                     \\\\\n",
       "\t DDHD2                  & 38237628               & 38238088               & 1                      & 1                      & DDHD2                  & 38237628               & 38238088               & 0                      & 1                     \\\\\n",
       "\\end{tabular}\n"
      ],
      "text/markdown": [
       "\n",
       "V1 | V2 | V3 | V4 | V5 | V1 | V2 | V3 | V4 | V5 | \n",
       "|---|---|---|---|---|---|\n",
       "| PCK2                   | 24099721               | 24099994               | 0                      | 1                      | PCK2                   | 24099721               | 24099994               | 2                      | 1                      | \n",
       "| PCK2                   | 24099721               | 24102752               | 0                      | 1                      | PCK2                   | 24099721               | 24102752               | 1                      | 1                      | \n",
       "| GOLGA6L5,RP11-182J1.12 | 84513303               | 84513966               | 0                      | 1                      | GOLGA6L5,RP11-182J1.12 | 84513303               | 84513966               | 0                      | 1                      | \n",
       "| GOLGA6L5,RP11-182J1.12 | 84513331               | 84513966               | 0                      | 1                      | GOLGA6L5,RP11-182J1.12 | 84513331               | 84513966               | 0                      | 1                      | \n",
       "| DDHD2                  | 38237628               | 38238106               | 0                      | 1                      | DDHD2                  | 38237628               | 38238106               | 0                      | 1                      | \n",
       "| DDHD2                  | 38237628               | 38238088               | 1                      | 1                      | DDHD2                  | 38237628               | 38238088               | 0                      | 1                      | \n",
       "\n",
       "\n"
      ],
      "text/plain": [
       "  V1                     V2       V3       V4 V5 V1                    \n",
       "1 PCK2                   24099721 24099994 0  1  PCK2                  \n",
       "2 PCK2                   24099721 24102752 0  1  PCK2                  \n",
       "3 GOLGA6L5,RP11-182J1.12 84513303 84513966 0  1  GOLGA6L5,RP11-182J1.12\n",
       "4 GOLGA6L5,RP11-182J1.12 84513331 84513966 0  1  GOLGA6L5,RP11-182J1.12\n",
       "5 DDHD2                  38237628 38238106 0  1  DDHD2                 \n",
       "6 DDHD2                  38237628 38238088 1  1  DDHD2                 \n",
       "  V2       V3       V4 V5\n",
       "1 24099721 24099994 2  1 \n",
       "2 24099721 24102752 1  1 \n",
       "3 84513303 84513966 0  1 \n",
       "4 84513331 84513966 0  1 \n",
       "5 38237628 38238106 0  1 \n",
       "6 38237628 38238088 0  1 "
      ]
     },
     "metadata": {},
     "output_type": "display_data"
    }
   ],
   "source": [
    "setwd('~/bme')\n",
    "wt_counts = read.table('junction_counts_long.wt.6.txt')\n",
    "mt_counts = read.table('junction_counts_long.6.txt')\n",
    "wt_counts$V1 = as.character(wt_counts$V1)\n",
    "mt_counts$V1 = as.character(mt_counts$V1)\n",
    "head(cbind(wt_counts, mt_counts))"
   ]
  },
  {
   "cell_type": "code",
   "execution_count": 15,
   "metadata": {
    "collapsed": false
   },
   "outputs": [],
   "source": [
    "current_gene = ''\n",
    "genes = c()\n",
    "pvals = c()  # for collecting results\n",
    "sigrows = c()\n",
    "for (row in 1:(nrow(wt_counts))+1) {  # looping through table and pulling out rows with shared gene names to do fisher tests on\n",
    "    if (row == nrow(wt_counts)+1 || wt_counts[row, 1] != current_gene | nchar(current_gene)==0) {\n",
    "        if (nchar(current_gene) > 0 && (nrow(wtinfo) > 1)) {\n",
    "            for (i in 1:(nrow(wtinfo))) {\n",
    "                for (j in i:nrow(wtinfo)) {\n",
    "                    ctable = matrix(unlist(c(wtinfo[c(i,j),4], mtinfo[c(i,j),4])), nrow=2)\n",
    "                    if (sum(ctable) != 0 && wtinfo[i,2] == wtinfo[j,2] | wtinfo[i,3] == wtinfo[j,3]) {  \n",
    "                        # extra check for genes with multiple alt splice junctions, making sure gene and junction 5' end match\n",
    "                        if (fisher.test(ctable)$p.value < 0.6) {\n",
    "                            sigrows = c(sigrows, row-nrow(wtinfo)+i-1, row-nrow(wtinfo)+j-1)\n",
    "                        }\n",
    "                        pvals = c(pvals, fisher.test(ctable)$p.value)\n",
    "                        genes = c(genes, current_gene)\n",
    "                    }\n",
    "                }\n",
    "                \n",
    "            }\n",
    "        }\n",
    "        current_gene = wt_counts[row, 1]\n",
    "        wtinfo = wt_counts[row,]\n",
    "        mtinfo = mt_counts[row,]\n",
    "    } else {\n",
    "        wtinfo = rbind(wtinfo, wt_counts[row,])\n",
    "        mtinfo = rbind(mtinfo, mt_counts[row,])\n",
    "    }\n",
    "}"
   ]
  },
  {
   "cell_type": "code",
   "execution_count": 120,
   "metadata": {
    "collapsed": false
   },
   "outputs": [
    {
     "data": {
      "text/html": [
       "<table>\n",
       "<thead><tr><th></th><th scope=col>V1</th><th scope=col>V2</th><th scope=col>V3</th><th scope=col>V4</th><th scope=col>V5</th><th scope=col>V1</th><th scope=col>V2</th><th scope=col>V3</th><th scope=col>V4</th><th scope=col>V5</th></tr></thead>\n",
       "<tbody>\n",
       "\t<tr><th scope=row>17</th><td>ERGIC3  </td><td>35556272</td><td>35556990</td><td>0       </td><td>1       </td><td>ERGIC3  </td><td>35556272</td><td>35556990</td><td> 0      </td><td>1       </td></tr>\n",
       "\t<tr><th scope=row>18</th><td>ERGIC3  </td><td>35556749</td><td>35556954</td><td>0       </td><td>1       </td><td>ERGIC3  </td><td>35556749</td><td>35556954</td><td> 0      </td><td>1       </td></tr>\n",
       "\t<tr><th scope=row>19</th><td>ERGIC3  </td><td>35556272</td><td>35556954</td><td>0       </td><td>1       </td><td>ERGIC3  </td><td>35556272</td><td>35556954</td><td> 6      </td><td>1       </td></tr>\n",
       "\t<tr><th scope=row>31</th><td>FKBP3   </td><td>45130801</td><td>45134348</td><td>2       </td><td>1       </td><td>FKBP3   </td><td>45130801</td><td>45134348</td><td>10      </td><td>1       </td></tr>\n",
       "\t<tr><th scope=row>32</th><td>B3GAT3  </td><td>62620672</td><td>62621865</td><td>0       </td><td>1       </td><td>B3GAT3  </td><td>62620672</td><td>62621865</td><td> 4      </td><td>1       </td></tr>\n",
       "\t<tr><th scope=row>40</th><td>SRSF11  </td><td>70228556</td><td>70232267</td><td>2       </td><td>1       </td><td>SRSF11  </td><td>70228556</td><td>70232267</td><td>12      </td><td>1       </td></tr>\n",
       "</tbody>\n",
       "</table>\n"
      ],
      "text/latex": [
       "\\begin{tabular}{r|llllllllll}\n",
       "  & V1 & V2 & V3 & V4 & V5 & V1 & V2 & V3 & V4 & V5\\\\\n",
       "\\hline\n",
       "\t17 & ERGIC3   & 35556272 & 35556990 & 0        & 1        & ERGIC3   & 35556272 & 35556990 &  0       & 1       \\\\\n",
       "\t18 & ERGIC3   & 35556749 & 35556954 & 0        & 1        & ERGIC3   & 35556749 & 35556954 &  0       & 1       \\\\\n",
       "\t19 & ERGIC3   & 35556272 & 35556954 & 0        & 1        & ERGIC3   & 35556272 & 35556954 &  6       & 1       \\\\\n",
       "\t31 & FKBP3    & 45130801 & 45134348 & 2        & 1        & FKBP3    & 45130801 & 45134348 & 10       & 1       \\\\\n",
       "\t32 & B3GAT3   & 62620672 & 62621865 & 0        & 1        & B3GAT3   & 62620672 & 62621865 &  4       & 1       \\\\\n",
       "\t40 & SRSF11   & 70228556 & 70232267 & 2        & 1        & SRSF11   & 70228556 & 70232267 & 12       & 1       \\\\\n",
       "\\end{tabular}\n"
      ],
      "text/markdown": [
       "\n",
       "| <!--/--> | V1 | V2 | V3 | V4 | V5 | V1 | V2 | V3 | V4 | V5 | \n",
       "|---|---|---|---|---|---|\n",
       "| 17 | ERGIC3   | 35556272 | 35556990 | 0        | 1        | ERGIC3   | 35556272 | 35556990 |  0       | 1        | \n",
       "| 18 | ERGIC3   | 35556749 | 35556954 | 0        | 1        | ERGIC3   | 35556749 | 35556954 |  0       | 1        | \n",
       "| 19 | ERGIC3   | 35556272 | 35556954 | 0        | 1        | ERGIC3   | 35556272 | 35556954 |  6       | 1        | \n",
       "| 31 | FKBP3    | 45130801 | 45134348 | 2        | 1        | FKBP3    | 45130801 | 45134348 | 10       | 1        | \n",
       "| 32 | B3GAT3   | 62620672 | 62621865 | 0        | 1        | B3GAT3   | 62620672 | 62621865 |  4       | 1        | \n",
       "| 40 | SRSF11   | 70228556 | 70232267 | 2        | 1        | SRSF11   | 70228556 | 70232267 | 12       | 1        | \n",
       "\n",
       "\n"
      ],
      "text/plain": [
       "   V1     V2       V3       V4 V5 V1     V2       V3       V4 V5\n",
       "17 ERGIC3 35556272 35556990 0  1  ERGIC3 35556272 35556990  0 1 \n",
       "18 ERGIC3 35556749 35556954 0  1  ERGIC3 35556749 35556954  0 1 \n",
       "19 ERGIC3 35556272 35556954 0  1  ERGIC3 35556272 35556954  6 1 \n",
       "31 FKBP3  45130801 45134348 2  1  FKBP3  45130801 45134348 10 1 \n",
       "32 B3GAT3 62620672 62621865 0  1  B3GAT3 62620672 62621865  4 1 \n",
       "40 SRSF11 70228556 70232267 2  1  SRSF11 70228556 70232267 12 1 "
      ]
     },
     "metadata": {},
     "output_type": "display_data"
    }
   ],
   "source": [
    "sigrows = sort(unique(sigrows))\n",
    "head(cbind(wt_counts[sigrows,], mt_counts[sigrows,]))"
   ]
  },
  {
   "cell_type": "code",
   "execution_count": 16,
   "metadata": {
    "collapsed": false
   },
   "outputs": [
    {
     "data": {
      "image/png": "[encoded data removed]",
      "text/plain": [
       "plot without title"
      ]
     },
     "metadata": {},
     "output_type": "display_data"
    }
   ],
   "source": [
    "plot(log(pvals)*-1)\n",
    "df = data.frame(g=genes, p=pvals)\n",
    "df$pos = 1:nrow(df)\n",
    "df = df[df$p < 0.6,]\n",
    "newdf = df[1,]\n",
    "for (row in 2:nrow(df)) {\n",
    "    if (!df[row,1] %in% newdf[,1]) {\n",
    "        newdf = rbind(newdf, df[row,])\n",
    "    } else if (any((df[row,2]+.01) <= newdf[newdf$g == df[row,1],2])) {\n",
    "        newdf = rbind(newdf, df[row,])\n",
    "    }\n",
    "}\n",
    "text(newdf$pos, log(newdf$p)*-1+.06, labels=newdf$g, cex=0.5)  # names above points\n",
    "abline(h=log2(0.05))"
   ]
  },
  {
   "cell_type": "markdown",
   "metadata": {},
   "source": [
    "I use Jeltje's bedfile of corrected junctions and the junction counts in there and do lots of fisher tests. I'm looking specifically at 3' SS alterations, so I compare counts for different 3' SSs in the mutant and wildtype for junctions with the same 5' SS. Jeltje mentioned that the strand doesn't carry meaning in her bedfile, so I repeat this analysis treating \"3'\" as 5' SSs."
   ]
  },
  {
   "cell_type": "code",
   "execution_count": 21,
   "metadata": {
    "collapsed": false
   },
   "outputs": [
    {
     "data": {
      "text/html": [
       "<table>\n",
       "<thead><tr><th></th><th scope=col>mtchrom</th><th scope=col>mt5</th><th scope=col>mt3</th><th scope=col>counts</th><th scope=col>wt</th><th scope=col>wtchrom</th></tr></thead>\n",
       "<tbody>\n",
       "\t<tr><th scope=row>20</th><td>chrY     </td><td>  1389707</td><td>  1391934</td><td>  1      </td><td>10       </td><td>chrY     </td></tr>\n",
       "\t<tr><th scope=row>21</th><td>chrY     </td><td>  1389707</td><td>  1391947</td><td>  1      </td><td>10       </td><td>chrY     </td></tr>\n",
       "\t<tr><th scope=row>22</th><td>chrY     </td><td>  1389707</td><td>  1391918</td><td> 54      </td><td>10       </td><td>chrY     </td></tr>\n",
       "\t<tr><th scope=row>78</th><td>chrX     </td><td>154399376</td><td>154399527</td><td>  1      </td><td> 1       </td><td>chrX     </td></tr>\n",
       "\t<tr><th scope=row>79</th><td>chrX     </td><td>154399376</td><td>154399520</td><td>  5      </td><td> 1       </td><td>chrX     </td></tr>\n",
       "\t<tr><th scope=row>80</th><td>chrX     </td><td>154399376</td><td>154399506</td><td>101      </td><td> 1       </td><td>chrX     </td></tr>\n",
       "</tbody>\n",
       "</table>\n"
      ],
      "text/latex": [
       "\\begin{tabular}{r|llllll}\n",
       "  & mtchrom & mt5 & mt3 & counts & wt & wtchrom\\\\\n",
       "\\hline\n",
       "\t20 & chrY      &   1389707 &   1391934 &   1       & 10        & chrY     \\\\\n",
       "\t21 & chrY      &   1389707 &   1391947 &   1       & 10        & chrY     \\\\\n",
       "\t22 & chrY      &   1389707 &   1391918 &  54       & 10        & chrY     \\\\\n",
       "\t78 & chrX      & 154399376 & 154399527 &   1       &  1        & chrX     \\\\\n",
       "\t79 & chrX      & 154399376 & 154399520 &   5       &  1        & chrX     \\\\\n",
       "\t80 & chrX      & 154399376 & 154399506 & 101       &  1        & chrX     \\\\\n",
       "\\end{tabular}\n"
      ],
      "text/markdown": [
       "\n",
       "| <!--/--> | mtchrom | mt5 | mt3 | counts | wt | wtchrom | \n",
       "|---|---|---|---|---|---|\n",
       "| 20 | chrY      |   1389707 |   1391934 |   1       | 10        | chrY      | \n",
       "| 21 | chrY      |   1389707 |   1391947 |   1       | 10        | chrY      | \n",
       "| 22 | chrY      |   1389707 |   1391918 |  54       | 10        | chrY      | \n",
       "| 78 | chrX      | 154399376 | 154399527 |   1       |  1        | chrX      | \n",
       "| 79 | chrX      | 154399376 | 154399520 |   5       |  1        | chrX      | \n",
       "| 80 | chrX      | 154399376 | 154399506 | 101       |  1        | chrX      | \n",
       "\n",
       "\n"
      ],
      "text/plain": [
       "   mtchrom mt5       mt3       counts wt wtchrom\n",
       "20 chrY      1389707   1391934   1    10 chrY   \n",
       "21 chrY      1389707   1391947   1    10 chrY   \n",
       "22 chrY      1389707   1391918  54    10 chrY   \n",
       "78 chrX    154399376 154399527   1     1 chrX   \n",
       "79 chrX    154399376 154399520   5     1 chrX   \n",
       "80 chrX    154399376 154399506 101     1 chrX   "
      ]
     },
     "metadata": {},
     "output_type": "display_data"
    }
   ],
   "source": [
    "setwd('~/bme')\n",
    "mtalt = read.table('altsplicejunction_counts.txt')\n",
    "colnames(mtalt) = c('mtchrom', 'mt5', 'mt3', 'counts')\n",
    "wtalt = read.table('altsplicejunction_counts.wt.txt')\n",
    "together = mtalt\n",
    "together$wt = wtalt$V4[match(mtalt$mt5, wtalt$V2)]\n",
    "together$wtchrom = wtalt$V1[match(mtalt$mt5, wtalt$V2)]  # sanity check\n",
    "together$mtchrom = as.character(together$mtchrom)\n",
    "together$wtchrom = as.character(together$wtchrom)\n",
    "together = together[!is.na(together$wt) & together$wtchrom == together$mtchrom,]\n",
    "head(together)  # data frame containing junction counts for both mutant and wildtype"
   ]
  },
  {
   "cell_type": "code",
   "execution_count": 15,
   "metadata": {
    "collapsed": false
   },
   "outputs": [
    {
     "data": {
      "image/png": "[encoded data removed]",
      "text/plain": [
       "plot without title"
      ]
     },
     "metadata": {},
     "output_type": "display_data"
    }
   ],
   "source": [
    "current_gene = paste0(together[1,1],':',together[1,2])\n",
    "info = together[1,]\n",
    "genes = c()\n",
    "pvals = c()\n",
    "for (row in 2:nrow(together)) {\n",
    "    nameinit = paste0(together[row,1],':',together[row, 2])\n",
    "    if (nameinit != current_gene) {\n",
    "        for (i in 1:(nrow(info)-1)) {\n",
    "            for (j in (i+1):nrow(info)) {\n",
    "                ctable = matrix(unlist(c(info[c(i,j),4], info[c(i,j),5])), nrow=2)\n",
    "                if (sum(ctable) != 0) {\n",
    "                    pvals = c(pvals, fisher.test(ctable)$p.value)\n",
    "                    genes = c(genes, current_gene)\n",
    "                }\n",
    "            }    \n",
    "        }\n",
    "        current_gene = nameinit\n",
    "        info = together[row,]\n",
    "    } else {\n",
    "        info = rbind(info, together[row,])\n",
    "    }\n",
    "}\n",
    "rgenes = genes[pvals < 0.2]\n",
    "rpvals = pvals[pvals < 0.2]\n",
    "plot(log10(pvals)*-1, pch=16, cex=0.3)\n",
    "# text(1:length(rpvals), log10(rpvals)*-1+.03, labels=rgenes, cex=0.5)  # names above points\n",
    "abline(h=log10(0.05)*-1)\n"
   ]
  },
  {
   "cell_type": "markdown",
   "metadata": {},
   "source": [
    "Above: every point is the result of one fisher test between alternative junction events. These are only considering 3' splice site alterations, so if you look at the the mutant 5' position column (together$mt5), comparisons are done within a group of junctions sharing the same 5' end.\n",
    "\n",
    "Below: Like the plot above, but instead anchoring at the 3' ends. Some of these junctions could still be technically 5' end-anchored since Jeltje said the counts were done without regard to strand and the bedfile of junctions does not have strand information."
   ]
  },
  {
   "cell_type": "code",
   "execution_count": 12,
   "metadata": {
    "collapsed": false
   },
   "outputs": [
    {
     "data": {
      "text/html": [
       "<table>\n",
       "<thead><tr><th></th><th scope=col>mtchrom</th><th scope=col>mt5</th><th scope=col>mt3</th><th scope=col>counts</th><th scope=col>wt</th><th scope=col>wtchrom</th></tr></thead>\n",
       "<tbody>\n",
       "\t<tr><th scope=row>27843</th><td>chr9 </td><td>18467</td><td>24870</td><td>1    </td><td>1    </td><td>chr9 </td></tr>\n",
       "\t<tr><th scope=row>27844</th><td>chr9 </td><td>24618</td><td>24870</td><td>1    </td><td>1    </td><td>chr9 </td></tr>\n",
       "\t<tr><th scope=row>27845</th><td>chr9 </td><td>18472</td><td>24870</td><td>3    </td><td>1    </td><td>chr9 </td></tr>\n",
       "\t<tr><th scope=row>2082</th><td>chr12</td><td>18459</td><td>26820</td><td>1    </td><td>1    </td><td>chr12</td></tr>\n",
       "\t<tr><th scope=row>2083</th><td>chr12</td><td>18464</td><td>26820</td><td>3    </td><td>1    </td><td>chr12</td></tr>\n",
       "\t<tr><th scope=row>2084</th><td>chr12</td><td>26568</td><td>26820</td><td>1    </td><td>1    </td><td>chr12</td></tr>\n",
       "</tbody>\n",
       "</table>\n"
      ],
      "text/latex": [
       "\\begin{tabular}{r|llllll}\n",
       "  & mtchrom & mt5 & mt3 & counts & wt & wtchrom\\\\\n",
       "\\hline\n",
       "\t27843 & chr9  & 18467 & 24870 & 1     & 1     & chr9 \\\\\n",
       "\t27844 & chr9  & 24618 & 24870 & 1     & 1     & chr9 \\\\\n",
       "\t27845 & chr9  & 18472 & 24870 & 3     & 1     & chr9 \\\\\n",
       "\t2082 & chr12 & 18459 & 26820 & 1     & 1     & chr12\\\\\n",
       "\t2083 & chr12 & 18464 & 26820 & 3     & 1     & chr12\\\\\n",
       "\t2084 & chr12 & 26568 & 26820 & 1     & 1     & chr12\\\\\n",
       "\\end{tabular}\n"
      ],
      "text/markdown": [
       "\n",
       "| <!--/--> | mtchrom | mt5 | mt3 | counts | wt | wtchrom | \n",
       "|---|---|---|---|---|---|\n",
       "| 27843 | chr9  | 18467 | 24870 | 1     | 1     | chr9  | \n",
       "| 27844 | chr9  | 24618 | 24870 | 1     | 1     | chr9  | \n",
       "| 27845 | chr9  | 18472 | 24870 | 3     | 1     | chr9  | \n",
       "| 2082 | chr12 | 18459 | 26820 | 1     | 1     | chr12 | \n",
       "| 2083 | chr12 | 18464 | 26820 | 3     | 1     | chr12 | \n",
       "| 2084 | chr12 | 26568 | 26820 | 1     | 1     | chr12 | \n",
       "\n",
       "\n"
      ],
      "text/plain": [
       "      mtchrom mt5   mt3   counts wt wtchrom\n",
       "27843 chr9    18467 24870 1      1  chr9   \n",
       "27844 chr9    24618 24870 1      1  chr9   \n",
       "27845 chr9    18472 24870 3      1  chr9   \n",
       "2082  chr12   18459 26820 1      1  chr12  \n",
       "2083  chr12   18464 26820 3      1  chr12  \n",
       "2084  chr12   26568 26820 1      1  chr12  "
      ]
     },
     "metadata": {},
     "output_type": "display_data"
    },
    {
     "data": {
      "image/png": "[encoded data removed]",
      "text/plain": [
       "plot without title"
      ]
     },
     "metadata": {},
     "output_type": "display_data"
    }
   ],
   "source": [
    "setwd('~/bme')\n",
    "mtalt = read.table('altsplicejunction_counts.3.txt')   # anchored at the 3' site, aka the greater junction coordinate\n",
    "colnames(mtalt) = c('mtchrom', 'mt5', 'mt3', 'counts')\n",
    "wtalt = read.table('altsplicejunction_counts.3.wt.txt')\n",
    "together = mtalt\n",
    "together$wt = wtalt$V4[match(mtalt$mt3, wtalt$V3)]\n",
    "together$wtchrom = wtalt$V1[match(mtalt$mt3, wtalt$V3)]  # sanity check\n",
    "together$mtchrom = as.character(together$mtchrom)\n",
    "together$wtchrom = as.character(together$wtchrom)\n",
    "together = together[order(together$mt3),]\n",
    "together = together[!is.na(together$wt) & together$wtchrom == together$mtchrom,]\n",
    "head(together)  # data frame containing junction counts for both mutant and wildtype\n",
    "current_gene = paste0(together[1,1],':',together[1,3])\n",
    "info = together[1,]\n",
    "genes = c()\n",
    "pvals = c()\n",
    "for (row in 2:nrow(together)) {\n",
    "    nameinit = paste0(together[row,1],':',together[row, 3])\n",
    "    if (nameinit != current_gene) {\n",
    "        for (i in 1:(nrow(info)-1)) {\n",
    "            for (j in (i+1):nrow(info)) {\n",
    "                ctable = matrix(unlist(c(info[c(i,j),4], info[c(i,j),5])), nrow=2)\n",
    "                if (sum(ctable) != 0) {\n",
    "                    pvals = c(pvals, fisher.test(ctable)$p.value)\n",
    "                    genes = c(genes, current_gene)\n",
    "                }\n",
    "            }    \n",
    "        }\n",
    "        current_gene = nameinit\n",
    "        info = together[row,]\n",
    "    } else {\n",
    "        info = rbind(info, together[row,])\n",
    "    }\n",
    "}\n",
    "rgenes = genes[pvals < 0.2]\n",
    "rpvals = pvals[pvals < 0.2]\n",
    "plot(log10(pvals)*-1, pch=16, cex=0.3)\n",
    "abline(h=log10(0.05)*-1)\n"
   ]
  },
  {
   "cell_type": "markdown",
   "metadata": {},
   "source": [
    "<b> From here on starts analysis that actually makes sense :D </b> <br>\n",
    "Jeltje modified her script to be able to take in a genome and infer strand. So now I am plotting alternative 3' splice sites that are really 3' splice sites being altered."
   ]
  },
  {
   "cell_type": "code",
   "execution_count": null,
   "metadata": {
    "collapsed": false
   },
   "outputs": [
    {
     "name": "stderr",
     "output_type": "stream",
     "text": [
      "Warning message in `[<-.factor`(`*tmp*`, is.na(chrvec), value = structure(c(NA, :\n",
      "\"invalid factor level, NA generated\"Warning message in `[<-.factor`(`*tmp*`, is.na(chrvec), value = structure(c(24L, :\n",
      "\"invalid factor level, NA generated\"Warning message in `[<-.factor`(`*tmp*`, is.na(chrvec), value = structure(c(NA, :\n",
      "\"invalid factor level, NA generated\""
     ]
    },
    {
     "data": {
      "text/html": [
       "<table>\n",
       "<thead><tr><th></th><th scope=col>alljuncs</th><th scope=col>intron5</th><th scope=col>intron3</th><th scope=col>wtcounts</th><th scope=col>mtcounts</th><th scope=col>chr</th></tr></thead>\n",
       "<tbody>\n",
       "\t<tr><th scope=row>8736</th><td>51577-47537  </td><td> 51577       </td><td> 47537       </td><td>0            </td><td>2            </td><td>chr16        </td></tr>\n",
       "\t<tr><th scope=row>16572</th><td>123236-122070</td><td>123236       </td><td>122070       </td><td>2            </td><td>2            </td><td>chr9         </td></tr>\n",
       "\t<tr><th scope=row>16706</th><td>134998-123434</td><td>134998       </td><td>123434       </td><td>0            </td><td>1            </td><td>chr9         </td></tr>\n",
       "\t<tr><th scope=row>16429</th><td>154728-152058</td><td>154728       </td><td>152058       </td><td>0            </td><td>2            </td><td>chr9         </td></tr>\n",
       "\t<tr><th scope=row>16638</th><td>172100-168892</td><td>172100       </td><td>168892       </td><td>1            </td><td>0            </td><td>chr9         </td></tr>\n",
       "\t<tr><th scope=row>16639</th><td>172100-164017</td><td>172100       </td><td>164017       </td><td>2            </td><td>2            </td><td>chr9         </td></tr>\n",
       "</tbody>\n",
       "</table>\n"
      ],
      "text/latex": [
       "\\begin{tabular}{r|llllll}\n",
       "  & alljuncs & intron5 & intron3 & wtcounts & mtcounts & chr\\\\\n",
       "\\hline\n",
       "\t8736 & 51577-47537   &  51577        &  47537        & 0             & 2             & chr16        \\\\\n",
       "\t16572 & 123236-122070 & 123236        & 122070        & 2             & 2             & chr9         \\\\\n",
       "\t16706 & 134998-123434 & 134998        & 123434        & 0             & 1             & chr9         \\\\\n",
       "\t16429 & 154728-152058 & 154728        & 152058        & 0             & 2             & chr9         \\\\\n",
       "\t16638 & 172100-168892 & 172100        & 168892        & 1             & 0             & chr9         \\\\\n",
       "\t16639 & 172100-164017 & 172100        & 164017        & 2             & 2             & chr9         \\\\\n",
       "\\end{tabular}\n"
      ],
      "text/markdown": [
       "\n",
       "| <!--/--> | alljuncs | intron5 | intron3 | wtcounts | mtcounts | chr | \n",
       "|---|---|---|---|---|---|\n",
       "| 8736 | 51577-47537   |  51577        |  47537        | 0             | 2             | chr16         | \n",
       "| 16572 | 123236-122070 | 123236        | 122070        | 2             | 2             | chr9          | \n",
       "| 16706 | 134998-123434 | 134998        | 123434        | 0             | 1             | chr9          | \n",
       "| 16429 | 154728-152058 | 154728        | 152058        | 0             | 2             | chr9          | \n",
       "| 16638 | 172100-168892 | 172100        | 168892        | 1             | 0             | chr9          | \n",
       "| 16639 | 172100-164017 | 172100        | 164017        | 2             | 2             | chr9          | \n",
       "\n",
       "\n"
      ],
      "text/plain": [
       "      alljuncs      intron5 intron3 wtcounts mtcounts chr  \n",
       "8736  51577-47537    51577   47537  0        2        chr16\n",
       "16572 123236-122070 123236  122070  2        2        chr9 \n",
       "16706 134998-123434 134998  123434  0        1        chr9 \n",
       "16429 154728-152058 154728  152058  0        2        chr9 \n",
       "16638 172100-168892 172100  168892  1        0        chr9 \n",
       "16639 172100-164017 172100  164017  2        2        chr9 "
      ]
     },
     "metadata": {},
     "output_type": "display_data"
    }
   ],
   "source": [
    "setwd('~/bme/jupyter_data')\n",
    "mtalt = read.table('altsplicejunction_counts.txt')\n",
    "mtaltrev = read.table('altsplicejunction_counts.rev.txt')  # 3' ss alterations on the minus strand\n",
    "colnames(mtalt) = c('mtchrom', 'mt5', 'mt3', 'mtcounts')\n",
    "colnames(mtaltrev) = c('mtchrom', 'mt5', 'mt3', 'mtcounts')\n",
    "wtalt = read.table('alt3primess_counts.wt.txt')\n",
    "wtaltrev = read.table('alt3primess_counts.wt.rev.txt')\n",
    "\n",
    "wtaltrev$temp = wtaltrev[,2]\n",
    "wtaltrev[,2] = wtaltrev[,3]\n",
    "wtaltrev[,3] = wtaltrev$temp\n",
    "\n",
    "mtaltrev$temp = mtaltrev[,2]\n",
    "mtaltrev[,2] = mtaltrev[,3]\n",
    "mtaltrev[,3] = mtaltrev$temp\n",
    "\n",
    "alljuncs = unique(c(paste0(mtalt[,2],'-',mtalt[,3]), paste0(wtalt[,2],'-', wtalt[,3]), paste0(mtaltrev[,2],'-',mtaltrev[,3]),\n",
    "             paste0(wtaltrev[,2],'-',wtaltrev[,3])))\n",
    "junctions = data.frame(alljuncs)\n",
    "junctions$intron5 = as.numeric(substr(alljuncs,1,regexpr('-', alljuncs)-1))\n",
    "junctions$intron3 = as.numeric(substr(alljuncs,regexpr('-',alljuncs)+1,nchar(alljuncs)))\n",
    "wtcounts = wtalt[,4][match(alljuncs, paste0(wtalt[,2],'-',wtalt[,3]))]\n",
    "wtcounts[is.na(wtcounts)] = wtaltrev[,4][match(alljuncs, paste0(wtaltrev[,2],'-',wtaltrev[,3]))][is.na(wtcounts)]\n",
    "junctions$wtcounts = wtcounts\n",
    "junctions$wtcounts[is.na(junctions$wtcounts)] = 0\n",
    "\n",
    "mtcounts = mtalt[,4][match(alljuncs, paste0(mtalt[,2],'-',mtalt[,3]))]\n",
    "mtcounts[is.na(mtcounts)] = mtaltrev[,4][match(alljuncs, paste0(mtaltrev[,2],'-',mtaltrev[,3]))][is.na(mtcounts)]\n",
    "junctions$mtcounts = mtcounts\n",
    "junctions$mtcounts[is.na(junctions$mtcounts)] = 0\n",
    "\n",
    "chrvec =  wtalt[,1][match(alljuncs, paste0(wtalt[,2],'-',wtalt[,3]))]\n",
    "chrvec[is.na(chrvec)] = wtaltrev[,1][match(alljuncs, paste0(wtaltrev[,2],'-',wtaltrev[,3]))][is.na(chrvec)]\n",
    "chrvec[is.na(chrvec)] = mtalt[,1][match(alljuncs, paste0(mtalt[,2],'-',mtalt[,3]))][is.na(chrvec)]\n",
    "chrvec[is.na(chrvec)] = mtaltrev[,1][match(alljuncs, paste0(mtaltrev[,2],'-',mtaltrev[,3]))][is.na(chrvec)]\n",
    "junctions$chr = chrvec\n",
    "junctions = junctions[!is.na(chrvec) & rowSums(junctions[,c(4,5)]) > 1,]  # 2 is the min number of reads between both samples\n",
    "\n",
    "junctions = junctions[order(junctions[,2]),]\n",
    "junctions[,5] = round(sum(junctions[,4])/sum(junctions[,5])*junctions[,5])\n",
    "\n",
    "junctions[1:6,]  # data frame containing junction counts for both mutant and wildtype\n",
    "\n",
    "current_gene = paste0(junctions[1,6],':',junctions[1,2])\n",
    "info = junctions[1,]\n",
    "genes = c()\n",
    "pvals = c()\n",
    "dpsi = c()\n",
    "allpvals = c()\n",
    "for (row in 2:nrow(junctions)) {\n",
    "    nameinit = paste0(junctions[row,6],':',junctions[row, 2])\n",
    "    if (nameinit != current_gene ) {\n",
    "        if (nrow(info) > 1) {\n",
    "            best_dpsi = 0\n",
    "            best_pval = 1\n",
    "            for (i in 1:(nrow(info)-1)) {\n",
    "                for (j in (i+1):nrow(info)) {\n",
    "                    ctable = matrix(unlist(c(info[c(i,j),4], info[c(i,j),5])), nrow=2)\n",
    "                    if (sum(ctable) != 0) {\n",
    "                        pval = fisher.test(ctable)$p.value\n",
    "                        allpvals = c(allpvals, pval)\n",
    "                        if (pval < best_pval) {\n",
    "                            best_pval = pval\n",
    "                            best_dpsi = abs(info[i, 4]/sum(info[c(i,j),4]) - info[i, 5]/sum(info[c(i,j),5]))\n",
    "                        }\n",
    "                    }\n",
    "                }\n",
    "            }\n",
    "            genes = c(genes, current_gene)\n",
    "            pvals = c(pvals, best_pval)\n",
    "            dpsi = c(dpsi, best_dpsi)\n",
    "        }\n",
    "        current_gene = nameinit\n",
    "        info = junctions[row,]\n",
    "    } else {\n",
    "        info = rbind(info, junctions[row,])\n",
    "    }\n",
    "}\n",
    "plot(log10(pvals)*-1, pch=16, cex=0.3, main=\"Alt 3'SS\")\n",
    "abline(h=log10(0.05)*-1)\n",
    "\n",
    "genes3 = genes\n",
    "pvals3 = allpvals\n",
    "junctions3 = junctions\n",
    "dpsi3=dpsi"
   ]
  },
  {
   "cell_type": "markdown",
   "metadata": {},
   "source": [
    "I plot altered 5' splice sites that are actually altered 5' splice sites. It's a bit interesting to compare this plot and the plot above with the previous two plots above that. It's all the same points just now they're correctly categorized."
   ]
  },
  {
   "cell_type": "code",
   "execution_count": 9,
   "metadata": {
    "collapsed": false
   },
   "outputs": [
    {
     "data": {
      "text/html": [
       "<table>\n",
       "<thead><tr><th></th><th scope=col>alljuncs</th><th scope=col>intron5</th><th scope=col>intron3</th><th scope=col>wtcounts</th><th scope=col>mtcounts</th><th scope=col>chr</th></tr></thead>\n",
       "<tbody>\n",
       "\t<tr><th scope=row>965</th><td>51577-47537  </td><td> 51577       </td><td> 47537       </td><td>0            </td><td>2            </td><td>chr16        </td></tr>\n",
       "\t<tr><th scope=row>8070</th><td>55529-55796  </td><td> 55529       </td><td> 55796       </td><td>0            </td><td>2            </td><td>chr16        </td></tr>\n",
       "\t<tr><th scope=row>8256</th><td>56593-57105  </td><td> 56593       </td><td> 57105       </td><td>0            </td><td>2            </td><td>chr16        </td></tr>\n",
       "\t<tr><th scope=row>7979</th><td>83236-85420  </td><td> 83236       </td><td> 85420       </td><td>0            </td><td>1            </td><td>chr16        </td></tr>\n",
       "\t<tr><th scope=row>4713</th><td>121980-121553</td><td>121980       </td><td>121553       </td><td>2            </td><td>0            </td><td>chr9         </td></tr>\n",
       "\t<tr><th scope=row>3236</th><td>146121-135010</td><td>146121       </td><td>135010       </td><td>2            </td><td>2            </td><td>chr9         </td></tr>\n",
       "</tbody>\n",
       "</table>\n"
      ],
      "text/latex": [
       "\\begin{tabular}{r|llllll}\n",
       "  & alljuncs & intron5 & intron3 & wtcounts & mtcounts & chr\\\\\n",
       "\\hline\n",
       "\t965 & 51577-47537   &  51577        &  47537        & 0             & 2             & chr16        \\\\\n",
       "\t8070 & 55529-55796   &  55529        &  55796        & 0             & 2             & chr16        \\\\\n",
       "\t8256 & 56593-57105   &  56593        &  57105        & 0             & 2             & chr16        \\\\\n",
       "\t7979 & 83236-85420   &  83236        &  85420        & 0             & 1             & chr16        \\\\\n",
       "\t4713 & 121980-121553 & 121980        & 121553        & 2             & 0             & chr9         \\\\\n",
       "\t3236 & 146121-135010 & 146121        & 135010        & 2             & 2             & chr9         \\\\\n",
       "\\end{tabular}\n"
      ],
      "text/markdown": [
       "\n",
       "| <!--/--> | alljuncs | intron5 | intron3 | wtcounts | mtcounts | chr | \n",
       "|---|---|---|---|---|---|\n",
       "| 965 | 51577-47537   |  51577        |  47537        | 0             | 2             | chr16         | \n",
       "| 8070 | 55529-55796   |  55529        |  55796        | 0             | 2             | chr16         | \n",
       "| 8256 | 56593-57105   |  56593        |  57105        | 0             | 2             | chr16         | \n",
       "| 7979 | 83236-85420   |  83236        |  85420        | 0             | 1             | chr16         | \n",
       "| 4713 | 121980-121553 | 121980        | 121553        | 2             | 0             | chr9          | \n",
       "| 3236 | 146121-135010 | 146121        | 135010        | 2             | 2             | chr9          | \n",
       "\n",
       "\n"
      ],
      "text/plain": [
       "     alljuncs      intron5 intron3 wtcounts mtcounts chr  \n",
       "965  51577-47537    51577   47537  0        2        chr16\n",
       "8070 55529-55796    55529   55796  0        2        chr16\n",
       "8256 56593-57105    56593   57105  0        2        chr16\n",
       "7979 83236-85420    83236   85420  0        1        chr16\n",
       "4713 121980-121553 121980  121553  2        0        chr9 \n",
       "3236 146121-135010 146121  135010  2        2        chr9 "
      ]
     },
     "metadata": {},
     "output_type": "display_data"
    },
    {
     "data": {
      "image/png": "[encoded data removed]",
      "text/plain": [
       "Plot with title \"Alt 5'SS\""
      ]
     },
     "metadata": {},
     "output_type": "display_data"
    }
   ],
   "source": [
    "setwd('~/bme/jupyter_data')\n",
    "mtaltrev = read.table('alt5primess_counts.txt')\n",
    "mtalt = read.table('alt5primess_counts.rev.txt')  # 3' ss alterations on the minus strand\n",
    "colnames(mtalt) = c('mtchrom', 'mt5', 'mt3', 'mtcounts')\n",
    "colnames(mtaltrev) = c('mtchrom', 'mt5', 'mt3', 'mtcounts')\n",
    "wtaltrev = read.table('alt5primess_counts.wt.txt')\n",
    "wtalt = read.table('alt5primess_counts.wt.rev.txt')\n",
    "\n",
    "wtalt$temp = wtalt[,2]  # switch columns just so I can reuse 3' alt ss code\n",
    "wtalt[,2] = wtalt[,3]\n",
    "wtalt[,3] = wtalt$temp\n",
    "\n",
    "mtalt$temp = mtalt[,2]\n",
    "mtalt[,2] = mtalt[,3]\n",
    "mtalt[,3] = mtalt$temp\n",
    "\n",
    "alljuncs = unique(c(paste0(mtalt[,2],'-',mtalt[,3]), paste0(wtalt[,2],'-', wtalt[,3]), paste0(mtaltrev[,2],'-',mtaltrev[,3]),\n",
    "             paste0(wtaltrev[,2],'-',wtaltrev[,3])))\n",
    "junctions = data.frame(alljuncs)\n",
    "junctions$intron5 = as.numeric(substr(alljuncs,1,regexpr('-', alljuncs)-1))\n",
    "junctions$intron3 = as.numeric(substr(alljuncs,regexpr('-',alljuncs)+1,nchar(alljuncs)))\n",
    "wtcounts = wtalt[,4][match(alljuncs, paste0(wtalt[,2],'-',wtalt[,3]))]\n",
    "wtcounts[is.na(wtcounts)] = wtaltrev[,4][match(alljuncs, paste0(wtaltrev[,2],'-',wtaltrev[,3]))][is.na(wtcounts)]\n",
    "junctions$wtcounts = wtcounts\n",
    "junctions$wtcounts[is.na(junctions$wtcounts)] = 0\n",
    "\n",
    "mtcounts = mtalt[,4][match(alljuncs, paste0(mtalt[,2],'-',mtalt[,3]))]\n",
    "mtcounts[is.na(mtcounts)] = mtaltrev[,4][match(alljuncs, paste0(mtaltrev[,2],'-',mtaltrev[,3]))][is.na(mtcounts)]\n",
    "junctions$mtcounts = mtcounts\n",
    "junctions$mtcounts[is.na(junctions$mtcounts)] = 0\n",
    "\n",
    "chrvec =  wtalt[,1][match(alljuncs, paste0(wtalt[,2],'-',wtalt[,3]))]\n",
    "chrvec[is.na(chrvec)] = wtaltrev[,1][match(alljuncs, paste0(wtaltrev[,2],'-',wtaltrev[,3]))][is.na(chrvec)]\n",
    "chrvec[is.na(chrvec)] = mtalt[,1][match(alljuncs, paste0(mtalt[,2],'-',mtalt[,3]))][is.na(chrvec)]\n",
    "chrvec[is.na(chrvec)] = mtaltrev[,1][match(alljuncs, paste0(mtaltrev[,2],'-',mtaltrev[,3]))][is.na(chrvec)]\n",
    "junctions$chr = chrvec\n",
    "junctions = junctions[!is.na(chrvec) & rowSums(junctions[,c(4,5)]) > 1,]\n",
    "\n",
    "junctions = junctions[order(junctions[,2]),]\n",
    "junctions[,5] = round(sum(junctions[,4])/sum(junctions[,5])*junctions[,5])\n",
    "\n",
    "junctions[1:6,]  # data frame containing junction counts for both mutant and wildtype\n",
    "\n",
    "current_gene = paste0(junctions[1,6],':',junctions[1,2])\n",
    "info = junctions[1,]\n",
    "genes = c()\n",
    "pvals = c()\n",
    "allpvals = c()\n",
    "dpsi = c()\n",
    "for (row in 2:nrow(junctions)) {\n",
    "    nameinit = paste0(junctions[row,6],':',junctions[row, 2])\n",
    "    if (nameinit != current_gene ) {\n",
    "        if (nrow(info) > 1) {\n",
    "            best_dpsi = 0\n",
    "            best_pval = 1\n",
    "            for (i in 1:(nrow(info)-1)) {\n",
    "                for (j in (i+1):nrow(info)) {\n",
    "                    ctable = matrix(unlist(c(info[c(i,j),4], info[c(i,j),5])), nrow=2)\n",
    "                    if (sum(ctable) != 0) {\n",
    "                        pval = fisher.test(ctable)$p.value\n",
    "                        allpvals = c(allpvals, pval)\n",
    "                        if (pval < best_pval) {\n",
    "                            best_pval = pval\n",
    "                            best_dpsi = abs(info[i, 4]/sum(info[c(i,j),4]) - info[i, 5]/sum(info[c(i,j),5]))\n",
    "                        }\n",
    "                    }\n",
    "                }\n",
    "            }\n",
    "            genes = c(genes, current_gene)\n",
    "            pvals = c(pvals, best_pval)\n",
    "            dpsi = c(dpsi, best_dpsi)\n",
    "        }\n",
    "        current_gene = nameinit\n",
    "        info = junctions[row,]\n",
    "    } else {\n",
    "        info = rbind(info, junctions[row,])\n",
    "    }\n",
    "}\n",
    "plot(log10(pvals)*-1, pch=16, cex=0.3, main=\"Alt 5'SS\")\n",
    "abline(h=log10(0.05)*-1)\n",
    "\n",
    "genes5 = genes\n",
    "pvals5 = allpvals\n",
    "junctions5 = junctions\n",
    "dpsi5=dpsi"
   ]
  },
  {
   "cell_type": "markdown",
   "metadata": {},
   "source": [
    "There are more unique significant Alt3'SS than Alt5'SS events with and without FDR correction. <br>"
   ]
  },
  {
   "cell_type": "code",
   "execution_count": 7,
   "metadata": {
    "collapsed": false
   },
   "outputs": [
    {
     "data": {
      "text/html": [
       "11"
      ],
      "text/latex": [
       "11"
      ],
      "text/markdown": [
       "11"
      ],
      "text/plain": [
       "[1] 11"
      ]
     },
     "metadata": {},
     "output_type": "display_data"
    },
    {
     "data": {
      "text/html": [
       "10"
      ],
      "text/latex": [
       "10"
      ],
      "text/markdown": [
       "10"
      ],
      "text/plain": [
       "[1] 10"
      ]
     },
     "metadata": {},
     "output_type": "display_data"
    },
    {
     "data": {
      "text/html": [
       "4"
      ],
      "text/latex": [
       "4"
      ],
      "text/markdown": [
       "4"
      ],
      "text/plain": [
       "[1] 4"
      ]
     },
     "metadata": {},
     "output_type": "display_data"
    },
    {
     "data": {
      "text/html": [
       "7"
      ],
      "text/latex": [
       "7"
      ],
      "text/markdown": [
       "7"
      ],
      "text/plain": [
       "[1] 7"
      ]
     },
     "metadata": {},
     "output_type": "display_data"
    },
    {
     "data": {
      "text/html": [
       "8032"
      ],
      "text/latex": [
       "8032"
      ],
      "text/markdown": [
       "8032"
      ],
      "text/plain": [
       "[1] 8032"
      ]
     },
     "metadata": {},
     "output_type": "display_data"
    },
    {
     "data": {
      "text/html": [
       "7974"
      ],
      "text/latex": [
       "7974"
      ],
      "text/markdown": [
       "7974"
      ],
      "text/plain": [
       "[1] 7974"
      ]
     },
     "metadata": {},
     "output_type": "display_data"
    },
    {
     "name": "stderr",
     "output_type": "stream",
     "text": [
      "Warning message in data.frame(..., check.names = FALSE):\n",
      "\"row names were found from a short variable and have been discarded\""
     ]
    },
    {
     "data": {
      "text/html": [
       "<table>\n",
       "<thead><tr><th scope=col>genes3</th><th scope=col>pvals3adj</th><th scope=col>index</th><th scope=col>genes5</th><th scope=col>pvals5adj</th></tr></thead>\n",
       "<tbody>\n",
       "\t<tr><td>chr14:105855499</td><td>7.649873e-19   </td><td> 1             </td><td>chr19:48965896 </td><td>5.958814e-52   </td></tr>\n",
       "\t<tr><td>chr9:19378727  </td><td>4.824745e-18   </td><td> 2             </td><td>chr5:150412644 </td><td>6.413365e-31   </td></tr>\n",
       "\t<tr><td>chr19:48965896 </td><td>1.280741e-15   </td><td> 3             </td><td>chr14:105855499</td><td>6.719453e-20   </td></tr>\n",
       "\t<tr><td>chr5:150412644 </td><td>1.116605e-10   </td><td> 4             </td><td>chr10:3781660  </td><td>1.077746e-02   </td></tr>\n",
       "\t<tr><td>chr6:24718559  </td><td>4.029550e-03   </td><td> 5             </td><td>chr7:142801407 </td><td>1.077746e-02   </td></tr>\n",
       "\t<tr><td>chr5:150446821 </td><td>9.494452e-03   </td><td> 6             </td><td>chr12:53295619 </td><td>9.012728e-02   </td></tr>\n",
       "\t<tr><td>chr6:158770783 </td><td>3.280996e-02   </td><td> 7             </td><td>chr1:30757678  </td><td>1.094403e-01   </td></tr>\n",
       "\t<tr><td>chr9:172100    </td><td>1.000000e+00   </td><td> 8             </td><td>chr19:2269724  </td><td>3.023077e-01   </td></tr>\n",
       "\t<tr><td>chr11:209980   </td><td>1.000000e+00   </td><td> 9             </td><td>chr5:150445628 </td><td>4.851852e-01   </td></tr>\n",
       "\t<tr><td>chr11:212491   </td><td>1.000000e+00   </td><td>10             </td><td>chr6:30490495  </td><td>5.103896e-01   </td></tr>\n",
       "\t<tr><td>chr16:220668   </td><td>1.000000e+00   </td><td>11             </td><td>chr3:71015568  </td><td>5.670996e-01   </td></tr>\n",
       "\t<tr><td>chr2:271919    </td><td>1.000000e+00   </td><td>12             </td><td>chr15:44715681 </td><td>5.789707e-01   </td></tr>\n",
       "\t<tr><td>chr5:304201    </td><td>1.000000e+00   </td><td>13             </td><td>chr7:99374761  </td><td>5.789707e-01   </td></tr>\n",
       "\t<tr><td>chr11:500503   </td><td>1.000000e+00   </td><td>14             </td><td>chr12:6960219  </td><td>6.683673e-01   </td></tr>\n",
       "\t<tr><td>chr11:507132   </td><td>1.000000e+00   </td><td>15             </td><td>chr22:39014359 </td><td>8.562092e-01   </td></tr>\n",
       "\t<tr><td>chr11:614495   </td><td>1.000000e+00   </td><td>16             </td><td>chr17:41689049 </td><td>8.562092e-01   </td></tr>\n",
       "\t<tr><td>chr11:614816   </td><td>1.000000e+00   </td><td>17             </td><td>chr1:206921837 </td><td>8.562092e-01   </td></tr>\n",
       "\t<tr><td>chr16:635631   </td><td>1.000000e+00   </td><td>18             </td><td>chr19:1272031  </td><td>8.618421e-01   </td></tr>\n",
       "\t<tr><td>chr16:670155   </td><td>1.000000e+00   </td><td>19             </td><td>chr1:209756289 </td><td>8.618421e-01   </td></tr>\n",
       "\t<tr><td>chr16:670753   </td><td>1.000000e+00   </td><td>20             </td><td>chr16:670155   </td><td>9.357143e-01   </td></tr>\n",
       "\t<tr><td>chr16:680664   </td><td>1.000000e+00   </td><td>21             </td><td>chr19:1080527  </td><td>9.492754e-01   </td></tr>\n",
       "\t<tr><td>chr11:695826   </td><td>1.000000e+00   </td><td>22             </td><td>chr19:8462561  </td><td>9.492754e-01   </td></tr>\n",
       "\t<tr><td>chr11:811625   </td><td>1.000000e+00   </td><td>23             </td><td>chr19:8474224  </td><td>9.492754e-01   </td></tr>\n",
       "\t<tr><td>chr11:812613   </td><td>1.000000e+00   </td><td>24             </td><td>chr8:24311417  </td><td>9.492754e-01   </td></tr>\n",
       "\t<tr><td>chr19:884922   </td><td>1.000000e+00   </td><td>25             </td><td>chr6:30491633  </td><td>9.492754e-01   </td></tr>\n",
       "\t<tr><td>chr14:105855499</td><td>7.649873e-19   </td><td>26             </td><td>chr6:31354652  </td><td>9.492754e-01   </td></tr>\n",
       "\t<tr><td>chr9:19378727  </td><td>4.824745e-18   </td><td>27             </td><td>chr6:31355126  </td><td>9.492754e-01   </td></tr>\n",
       "\t<tr><td>chr19:48965896 </td><td>1.280741e-15   </td><td>28             </td><td>chr1:32276043  </td><td>9.492754e-01   </td></tr>\n",
       "\t<tr><td>chr5:150412644 </td><td>1.116605e-10   </td><td>29             </td><td>chr6:32440012  </td><td>9.492754e-01   </td></tr>\n",
       "\t<tr><td>chr6:24718559  </td><td>4.029550e-03   </td><td>30             </td><td>chr20:36497046 </td><td>9.492754e-01   </td></tr>\n",
       "\t<tr><td>chr5:150446821 </td><td>9.494452e-03   </td><td>31             </td><td>chr19:40801395 </td><td>9.492754e-01   </td></tr>\n",
       "\t<tr><td>chr6:158770783 </td><td>3.280996e-02   </td><td>32             </td><td>chr6:42048520  </td><td>9.492754e-01   </td></tr>\n",
       "\t<tr><td>chr9:172100    </td><td>1.000000e+00   </td><td>33             </td><td>chr12:54284297 </td><td>9.492754e-01   </td></tr>\n",
       "\t<tr><td>chr11:209980   </td><td>1.000000e+00   </td><td>34             </td><td>chr20:58895664 </td><td>9.492754e-01   </td></tr>\n",
       "\t<tr><td>chr11:212491   </td><td>1.000000e+00   </td><td>35             </td><td>chr2:68787936  </td><td>9.492754e-01   </td></tr>\n",
       "\t<tr><td>chr16:220668   </td><td>1.000000e+00   </td><td>36             </td><td>chr1:70246887  </td><td>9.492754e-01   </td></tr>\n",
       "\t<tr><td>chr2:271919    </td><td>1.000000e+00   </td><td>37             </td><td>chr10:71825856 </td><td>9.492754e-01   </td></tr>\n",
       "\t<tr><td>chr5:304201    </td><td>1.000000e+00   </td><td>38             </td><td>chr6:75241195  </td><td>9.492754e-01   </td></tr>\n",
       "\t<tr><td>chr11:500503   </td><td>1.000000e+00   </td><td>39             </td><td>chr17:75778829 </td><td>9.492754e-01   </td></tr>\n",
       "\t<tr><td>chr11:507132   </td><td>1.000000e+00   </td><td>40             </td><td>chr15:88636272 </td><td>9.492754e-01   </td></tr>\n",
       "\t<tr><td>chr11:614495   </td><td>1.000000e+00   </td><td>41             </td><td>chr7:105014515 </td><td>9.492754e-01   </td></tr>\n",
       "\t<tr><td>chr11:614816   </td><td>1.000000e+00   </td><td>42             </td><td>chr1:110894381 </td><td>9.492754e-01   </td></tr>\n",
       "\t<tr><td>chr16:635631   </td><td>1.000000e+00   </td><td>43             </td><td>chr12:112013589</td><td>9.492754e-01   </td></tr>\n",
       "\t<tr><td>chr16:670155   </td><td>1.000000e+00   </td><td>44             </td><td>chr8:143597367 </td><td>9.492754e-01   </td></tr>\n",
       "\t<tr><td>chr16:670753   </td><td>1.000000e+00   </td><td>45             </td><td>chr3:169970927 </td><td>9.492754e-01   </td></tr>\n",
       "\t<tr><td>chr16:680664   </td><td>1.000000e+00   </td><td>46             </td><td>chr1:198699684 </td><td>9.492754e-01   </td></tr>\n",
       "\t<tr><td>chr11:695826   </td><td>1.000000e+00   </td><td>47             </td><td>chr11:507132   </td><td>1.000000e+00   </td></tr>\n",
       "\t<tr><td>chr11:811625   </td><td>1.000000e+00   </td><td>48             </td><td>chr16:635631   </td><td>1.000000e+00   </td></tr>\n",
       "\t<tr><td>chr11:812613   </td><td>1.000000e+00   </td><td>49             </td><td>chr4:1248935   </td><td>1.000000e+00   </td></tr>\n",
       "\t<tr><td>chr19:884922   </td><td>1.000000e+00   </td><td>50             </td><td>chr19:1269390  </td><td>1.000000e+00   </td></tr>\n",
       "</tbody>\n",
       "</table>\n"
      ],
      "text/latex": [
       "\\begin{tabular}{r|lllll}\n",
       " genes3 & pvals3adj & index & genes5 & pvals5adj\\\\\n",
       "\\hline\n",
       "\t chr14:105855499 & 7.649873e-19    &  1              & chr19:48965896  & 5.958814e-52   \\\\\n",
       "\t chr9:19378727   & 4.824745e-18    &  2              & chr5:150412644  & 6.413365e-31   \\\\\n",
       "\t chr19:48965896  & 1.280741e-15    &  3              & chr14:105855499 & 6.719453e-20   \\\\\n",
       "\t chr5:150412644  & 1.116605e-10    &  4              & chr10:3781660   & 1.077746e-02   \\\\\n",
       "\t chr6:24718559   & 4.029550e-03    &  5              & chr7:142801407  & 1.077746e-02   \\\\\n",
       "\t chr5:150446821  & 9.494452e-03    &  6              & chr12:53295619  & 9.012728e-02   \\\\\n",
       "\t chr6:158770783  & 3.280996e-02    &  7              & chr1:30757678   & 1.094403e-01   \\\\\n",
       "\t chr9:172100     & 1.000000e+00    &  8              & chr19:2269724   & 3.023077e-01   \\\\\n",
       "\t chr11:209980    & 1.000000e+00    &  9              & chr5:150445628  & 4.851852e-01   \\\\\n",
       "\t chr11:212491    & 1.000000e+00    & 10              & chr6:30490495   & 5.103896e-01   \\\\\n",
       "\t chr16:220668    & 1.000000e+00    & 11              & chr3:71015568   & 5.670996e-01   \\\\\n",
       "\t chr2:271919     & 1.000000e+00    & 12              & chr15:44715681  & 5.789707e-01   \\\\\n",
       "\t chr5:304201     & 1.000000e+00    & 13              & chr7:99374761   & 5.789707e-01   \\\\\n",
       "\t chr11:500503    & 1.000000e+00    & 14              & chr12:6960219   & 6.683673e-01   \\\\\n",
       "\t chr11:507132    & 1.000000e+00    & 15              & chr22:39014359  & 8.562092e-01   \\\\\n",
       "\t chr11:614495    & 1.000000e+00    & 16              & chr17:41689049  & 8.562092e-01   \\\\\n",
       "\t chr11:614816    & 1.000000e+00    & 17              & chr1:206921837  & 8.562092e-01   \\\\\n",
       "\t chr16:635631    & 1.000000e+00    & 18              & chr19:1272031   & 8.618421e-01   \\\\\n",
       "\t chr16:670155    & 1.000000e+00    & 19              & chr1:209756289  & 8.618421e-01   \\\\\n",
       "\t chr16:670753    & 1.000000e+00    & 20              & chr16:670155    & 9.357143e-01   \\\\\n",
       "\t chr16:680664    & 1.000000e+00    & 21              & chr19:1080527   & 9.492754e-01   \\\\\n",
       "\t chr11:695826    & 1.000000e+00    & 22              & chr19:8462561   & 9.492754e-01   \\\\\n",
       "\t chr11:811625    & 1.000000e+00    & 23              & chr19:8474224   & 9.492754e-01   \\\\\n",
       "\t chr11:812613    & 1.000000e+00    & 24              & chr8:24311417   & 9.492754e-01   \\\\\n",
       "\t chr19:884922    & 1.000000e+00    & 25              & chr6:30491633   & 9.492754e-01   \\\\\n",
       "\t chr14:105855499 & 7.649873e-19    & 26              & chr6:31354652   & 9.492754e-01   \\\\\n",
       "\t chr9:19378727   & 4.824745e-18    & 27              & chr6:31355126   & 9.492754e-01   \\\\\n",
       "\t chr19:48965896  & 1.280741e-15    & 28              & chr1:32276043   & 9.492754e-01   \\\\\n",
       "\t chr5:150412644  & 1.116605e-10    & 29              & chr6:32440012   & 9.492754e-01   \\\\\n",
       "\t chr6:24718559   & 4.029550e-03    & 30              & chr20:36497046  & 9.492754e-01   \\\\\n",
       "\t chr5:150446821  & 9.494452e-03    & 31              & chr19:40801395  & 9.492754e-01   \\\\\n",
       "\t chr6:158770783  & 3.280996e-02    & 32              & chr6:42048520   & 9.492754e-01   \\\\\n",
       "\t chr9:172100     & 1.000000e+00    & 33              & chr12:54284297  & 9.492754e-01   \\\\\n",
       "\t chr11:209980    & 1.000000e+00    & 34              & chr20:58895664  & 9.492754e-01   \\\\\n",
       "\t chr11:212491    & 1.000000e+00    & 35              & chr2:68787936   & 9.492754e-01   \\\\\n",
       "\t chr16:220668    & 1.000000e+00    & 36              & chr1:70246887   & 9.492754e-01   \\\\\n",
       "\t chr2:271919     & 1.000000e+00    & 37              & chr10:71825856  & 9.492754e-01   \\\\\n",
       "\t chr5:304201     & 1.000000e+00    & 38              & chr6:75241195   & 9.492754e-01   \\\\\n",
       "\t chr11:500503    & 1.000000e+00    & 39              & chr17:75778829  & 9.492754e-01   \\\\\n",
       "\t chr11:507132    & 1.000000e+00    & 40              & chr15:88636272  & 9.492754e-01   \\\\\n",
       "\t chr11:614495    & 1.000000e+00    & 41              & chr7:105014515  & 9.492754e-01   \\\\\n",
       "\t chr11:614816    & 1.000000e+00    & 42              & chr1:110894381  & 9.492754e-01   \\\\\n",
       "\t chr16:635631    & 1.000000e+00    & 43              & chr12:112013589 & 9.492754e-01   \\\\\n",
       "\t chr16:670155    & 1.000000e+00    & 44              & chr8:143597367  & 9.492754e-01   \\\\\n",
       "\t chr16:670753    & 1.000000e+00    & 45              & chr3:169970927  & 9.492754e-01   \\\\\n",
       "\t chr16:680664    & 1.000000e+00    & 46              & chr1:198699684  & 9.492754e-01   \\\\\n",
       "\t chr11:695826    & 1.000000e+00    & 47              & chr11:507132    & 1.000000e+00   \\\\\n",
       "\t chr11:811625    & 1.000000e+00    & 48              & chr16:635631    & 1.000000e+00   \\\\\n",
       "\t chr11:812613    & 1.000000e+00    & 49              & chr4:1248935    & 1.000000e+00   \\\\\n",
       "\t chr19:884922    & 1.000000e+00    & 50              & chr19:1269390   & 1.000000e+00   \\\\\n",
       "\\end{tabular}\n"
      ],
      "text/markdown": [
       "\n",
       "genes3 | pvals3adj | index | genes5 | pvals5adj | \n",
       "|---|---|---|---|---|---|---|---|---|---|---|---|---|---|---|---|---|---|---|---|---|---|---|---|---|---|---|---|---|---|---|---|---|---|---|---|---|---|---|---|---|---|---|---|---|---|---|---|---|---|\n",
       "| chr14:105855499 | 7.649873e-19    |  1              | chr19:48965896  | 5.958814e-52    | \n",
       "| chr9:19378727   | 4.824745e-18    |  2              | chr5:150412644  | 6.413365e-31    | \n",
       "| chr19:48965896  | 1.280741e-15    |  3              | chr14:105855499 | 6.719453e-20    | \n",
       "| chr5:150412644  | 1.116605e-10    |  4              | chr10:3781660   | 1.077746e-02    | \n",
       "| chr6:24718559   | 4.029550e-03    |  5              | chr7:142801407  | 1.077746e-02    | \n",
       "| chr5:150446821  | 9.494452e-03    |  6              | chr12:53295619  | 9.012728e-02    | \n",
       "| chr6:158770783  | 3.280996e-02    |  7              | chr1:30757678   | 1.094403e-01    | \n",
       "| chr9:172100     | 1.000000e+00    |  8              | chr19:2269724   | 3.023077e-01    | \n",
       "| chr11:209980    | 1.000000e+00    |  9              | chr5:150445628  | 4.851852e-01    | \n",
       "| chr11:212491    | 1.000000e+00    | 10              | chr6:30490495   | 5.103896e-01    | \n",
       "| chr16:220668    | 1.000000e+00    | 11              | chr3:71015568   | 5.670996e-01    | \n",
       "| chr2:271919     | 1.000000e+00    | 12              | chr15:44715681  | 5.789707e-01    | \n",
       "| chr5:304201     | 1.000000e+00    | 13              | chr7:99374761   | 5.789707e-01    | \n",
       "| chr11:500503    | 1.000000e+00    | 14              | chr12:6960219   | 6.683673e-01    | \n",
       "| chr11:507132    | 1.000000e+00    | 15              | chr22:39014359  | 8.562092e-01    | \n",
       "| chr11:614495    | 1.000000e+00    | 16              | chr17:41689049  | 8.562092e-01    | \n",
       "| chr11:614816    | 1.000000e+00    | 17              | chr1:206921837  | 8.562092e-01    | \n",
       "| chr16:635631    | 1.000000e+00    | 18              | chr19:1272031   | 8.618421e-01    | \n",
       "| chr16:670155    | 1.000000e+00    | 19              | chr1:209756289  | 8.618421e-01    | \n",
       "| chr16:670753    | 1.000000e+00    | 20              | chr16:670155    | 9.357143e-01    | \n",
       "| chr16:680664    | 1.000000e+00    | 21              | chr19:1080527   | 9.492754e-01    | \n",
       "| chr11:695826    | 1.000000e+00    | 22              | chr19:8462561   | 9.492754e-01    | \n",
       "| chr11:811625    | 1.000000e+00    | 23              | chr19:8474224   | 9.492754e-01    | \n",
       "| chr11:812613    | 1.000000e+00    | 24              | chr8:24311417   | 9.492754e-01    | \n",
       "| chr19:884922    | 1.000000e+00    | 25              | chr6:30491633   | 9.492754e-01    | \n",
       "| chr14:105855499 | 7.649873e-19    | 26              | chr6:31354652   | 9.492754e-01    | \n",
       "| chr9:19378727   | 4.824745e-18    | 27              | chr6:31355126   | 9.492754e-01    | \n",
       "| chr19:48965896  | 1.280741e-15    | 28              | chr1:32276043   | 9.492754e-01    | \n",
       "| chr5:150412644  | 1.116605e-10    | 29              | chr6:32440012   | 9.492754e-01    | \n",
       "| chr6:24718559   | 4.029550e-03    | 30              | chr20:36497046  | 9.492754e-01    | \n",
       "| chr5:150446821  | 9.494452e-03    | 31              | chr19:40801395  | 9.492754e-01    | \n",
       "| chr6:158770783  | 3.280996e-02    | 32              | chr6:42048520   | 9.492754e-01    | \n",
       "| chr9:172100     | 1.000000e+00    | 33              | chr12:54284297  | 9.492754e-01    | \n",
       "| chr11:209980    | 1.000000e+00    | 34              | chr20:58895664  | 9.492754e-01    | \n",
       "| chr11:212491    | 1.000000e+00    | 35              | chr2:68787936   | 9.492754e-01    | \n",
       "| chr16:220668    | 1.000000e+00    | 36              | chr1:70246887   | 9.492754e-01    | \n",
       "| chr2:271919     | 1.000000e+00    | 37              | chr10:71825856  | 9.492754e-01    | \n",
       "| chr5:304201     | 1.000000e+00    | 38              | chr6:75241195   | 9.492754e-01    | \n",
       "| chr11:500503    | 1.000000e+00    | 39              | chr17:75778829  | 9.492754e-01    | \n",
       "| chr11:507132    | 1.000000e+00    | 40              | chr15:88636272  | 9.492754e-01    | \n",
       "| chr11:614495    | 1.000000e+00    | 41              | chr7:105014515  | 9.492754e-01    | \n",
       "| chr11:614816    | 1.000000e+00    | 42              | chr1:110894381  | 9.492754e-01    | \n",
       "| chr16:635631    | 1.000000e+00    | 43              | chr12:112013589 | 9.492754e-01    | \n",
       "| chr16:670155    | 1.000000e+00    | 44              | chr8:143597367  | 9.492754e-01    | \n",
       "| chr16:670753    | 1.000000e+00    | 45              | chr3:169970927  | 9.492754e-01    | \n",
       "| chr16:680664    | 1.000000e+00    | 46              | chr1:198699684  | 9.492754e-01    | \n",
       "| chr11:695826    | 1.000000e+00    | 47              | chr11:507132    | 1.000000e+00    | \n",
       "| chr11:811625    | 1.000000e+00    | 48              | chr16:635631    | 1.000000e+00    | \n",
       "| chr11:812613    | 1.000000e+00    | 49              | chr4:1248935    | 1.000000e+00    | \n",
       "| chr19:884922    | 1.000000e+00    | 50              | chr19:1269390   | 1.000000e+00    | \n",
       "\n",
       "\n"
      ],
      "text/plain": [
       "   genes3          pvals3adj    index genes5          pvals5adj   \n",
       "1  chr14:105855499 7.649873e-19  1    chr19:48965896  5.958814e-52\n",
       "2  chr9:19378727   4.824745e-18  2    chr5:150412644  6.413365e-31\n",
       "3  chr19:48965896  1.280741e-15  3    chr14:105855499 6.719453e-20\n",
       "4  chr5:150412644  1.116605e-10  4    chr10:3781660   1.077746e-02\n",
       "5  chr6:24718559   4.029550e-03  5    chr7:142801407  1.077746e-02\n",
       "6  chr5:150446821  9.494452e-03  6    chr12:53295619  9.012728e-02\n",
       "7  chr6:158770783  3.280996e-02  7    chr1:30757678   1.094403e-01\n",
       "8  chr9:172100     1.000000e+00  8    chr19:2269724   3.023077e-01\n",
       "9  chr11:209980    1.000000e+00  9    chr5:150445628  4.851852e-01\n",
       "10 chr11:212491    1.000000e+00 10    chr6:30490495   5.103896e-01\n",
       "11 chr16:220668    1.000000e+00 11    chr3:71015568   5.670996e-01\n",
       "12 chr2:271919     1.000000e+00 12    chr15:44715681  5.789707e-01\n",
       "13 chr5:304201     1.000000e+00 13    chr7:99374761   5.789707e-01\n",
       "14 chr11:500503    1.000000e+00 14    chr12:6960219   6.683673e-01\n",
       "15 chr11:507132    1.000000e+00 15    chr22:39014359  8.562092e-01\n",
       "16 chr11:614495    1.000000e+00 16    chr17:41689049  8.562092e-01\n",
       "17 chr11:614816    1.000000e+00 17    chr1:206921837  8.562092e-01\n",
       "18 chr16:635631    1.000000e+00 18    chr19:1272031   8.618421e-01\n",
       "19 chr16:670155    1.000000e+00 19    chr1:209756289  8.618421e-01\n",
       "20 chr16:670753    1.000000e+00 20    chr16:670155    9.357143e-01\n",
       "21 chr16:680664    1.000000e+00 21    chr19:1080527   9.492754e-01\n",
       "22 chr11:695826    1.000000e+00 22    chr19:8462561   9.492754e-01\n",
       "23 chr11:811625    1.000000e+00 23    chr19:8474224   9.492754e-01\n",
       "24 chr11:812613    1.000000e+00 24    chr8:24311417   9.492754e-01\n",
       "25 chr19:884922    1.000000e+00 25    chr6:30491633   9.492754e-01\n",
       "26 chr14:105855499 7.649873e-19 26    chr6:31354652   9.492754e-01\n",
       "27 chr9:19378727   4.824745e-18 27    chr6:31355126   9.492754e-01\n",
       "28 chr19:48965896  1.280741e-15 28    chr1:32276043   9.492754e-01\n",
       "29 chr5:150412644  1.116605e-10 29    chr6:32440012   9.492754e-01\n",
       "30 chr6:24718559   4.029550e-03 30    chr20:36497046  9.492754e-01\n",
       "31 chr5:150446821  9.494452e-03 31    chr19:40801395  9.492754e-01\n",
       "32 chr6:158770783  3.280996e-02 32    chr6:42048520   9.492754e-01\n",
       "33 chr9:172100     1.000000e+00 33    chr12:54284297  9.492754e-01\n",
       "34 chr11:209980    1.000000e+00 34    chr20:58895664  9.492754e-01\n",
       "35 chr11:212491    1.000000e+00 35    chr2:68787936   9.492754e-01\n",
       "36 chr16:220668    1.000000e+00 36    chr1:70246887   9.492754e-01\n",
       "37 chr2:271919     1.000000e+00 37    chr10:71825856  9.492754e-01\n",
       "38 chr5:304201     1.000000e+00 38    chr6:75241195   9.492754e-01\n",
       "39 chr11:500503    1.000000e+00 39    chr17:75778829  9.492754e-01\n",
       "40 chr11:507132    1.000000e+00 40    chr15:88636272  9.492754e-01\n",
       "41 chr11:614495    1.000000e+00 41    chr7:105014515  9.492754e-01\n",
       "42 chr11:614816    1.000000e+00 42    chr1:110894381  9.492754e-01\n",
       "43 chr16:635631    1.000000e+00 43    chr12:112013589 9.492754e-01\n",
       "44 chr16:670155    1.000000e+00 44    chr8:143597367  9.492754e-01\n",
       "45 chr16:670753    1.000000e+00 45    chr3:169970927  9.492754e-01\n",
       "46 chr16:680664    1.000000e+00 46    chr1:198699684  9.492754e-01\n",
       "47 chr11:695826    1.000000e+00 47    chr11:507132    1.000000e+00\n",
       "48 chr11:811625    1.000000e+00 48    chr16:635631    1.000000e+00\n",
       "49 chr11:812613    1.000000e+00 49    chr4:1248935    1.000000e+00\n",
       "50 chr19:884922    1.000000e+00 50    chr19:1269390   1.000000e+00"
      ]
     },
     "metadata": {},
     "output_type": "display_data"
    }
   ],
   "source": [
    "length(unique(pvals5[pvals5<0.05]))  # number of significant alt 5'ss events\n",
    "length(unique(pvals3[pvals3<0.05]))  # number of significant alt 3'ss events\n",
    "pvals5adj = p.adjust(pvals5, method='fdr')\n",
    "pvals3adj = p.adjust(pvals3, method='fdr')\n",
    "length(unique(pvals5adj[pvals5adj<0.05]))  # number of significant alt 5' ss events after fdr correction\n",
    "length(unique(pvals3adj[pvals3adj<0.05]))  # number of significant alt 3' ss events after fdr connection\n",
    "length(unique(paste0(junctions5[,1],junctions5[,3])))  # number of alt 5' ss events\n",
    "length(unique(paste0(junctions3[,1], junctions3[,2])))  # number of alt 3' ss events\n",
    "df3 = data.frame(genes3, pvals3adj)\n",
    "df5 = data.frame(genes5, pvals5adj)\n",
    "cbind((df3[order(df3$pvals3adj),][1:25,]), data.frame(index=seq(1:50)), (df5[order(df5$pvals5adj),][1:50,]))"
   ]
  },
  {
   "cell_type": "code",
   "execution_count": 8,
   "metadata": {
    "collapsed": false,
    "scrolled": false
   },
   "outputs": [
    {
     "data": {
      "image/png": "[encoded data removed]",
      "text/plain": [
       "plot without title"
      ]
     },
     "metadata": {},
     "output_type": "display_data"
    },
    {
     "data": {
      "image/png": "[encoded data removed]",
      "text/plain": [
       "plot without title"
      ]
     },
     "metadata": {},
     "output_type": "display_data"
    },
    {
     "data": {
      "image/png": "[encoded data removed]",
      "text/plain": [
       "plot without title"
      ]
     },
     "metadata": {},
     "output_type": "display_data"
    }
   ],
   "source": [
    "plot(-1*log10(seq(1,0,-1/length(pvals3)))[1:length(pvals3)],-1*log10(rev(sort(pvals3))),type='l')\n",
    "source(\"~/bme/jupyter_data/qq_pval.r\")\n",
    "qq_pval(pvals3adj)\n",
    "qq_pval(pvals5adj)"
   ]
  }
 ],
 "metadata": {
  "kernelspec": {
   "display_name": "R",
   "language": "R",
   "name": "ir"
  },
  "language_info": {
   "codemirror_mode": "r",
   "file_extension": ".r",
   "mimetype": "text/x-r-source",
   "name": "R",
   "pygments_lexer": "r",
   "version": "3.2.3"
  }
 },
 "nbformat": 4,
 "nbformat_minor": 0
}
