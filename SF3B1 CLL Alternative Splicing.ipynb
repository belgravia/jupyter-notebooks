{
 "cells": [
  {
   "cell_type": "markdown",
   "metadata": {},
   "source": [
    "I do Fisher exact tests on junctions we already know are alternatively spliced from short reads just to see what concordance looks like.\n",
    "\n",
    "A few genes have p-values that aren't 1, however none have a value below 0.05. The x-axis is arbitrarily indexed."
   ]
  },
  {
   "cell_type": "code",
   "execution_count": 13,
   "metadata": {
    "collapsed": false
   },
   "outputs": [
    {
     "data": {
      "text/html": [
       "<table>\n",
       "<thead><tr><th scope=col>V1</th><th scope=col>V2</th><th scope=col>V3</th><th scope=col>V4</th><th scope=col>V5</th><th scope=col>V1</th><th scope=col>V2</th><th scope=col>V3</th><th scope=col>V4</th><th scope=col>V5</th></tr></thead>\n",
       "<tbody>\n",
       "\t<tr><td>PCK2                  </td><td>24099721              </td><td>24099994              </td><td>0                     </td><td>1                     </td><td>PCK2                  </td><td>24099721              </td><td>24099994              </td><td>2                     </td><td>1                     </td></tr>\n",
       "\t<tr><td>PCK2                  </td><td>24099721              </td><td>24102752              </td><td>0                     </td><td>1                     </td><td>PCK2                  </td><td>24099721              </td><td>24102752              </td><td>1                     </td><td>1                     </td></tr>\n",
       "\t<tr><td>GOLGA6L5,RP11-182J1.12</td><td>84513303              </td><td>84513966              </td><td>0                     </td><td>1                     </td><td>GOLGA6L5,RP11-182J1.12</td><td>84513303              </td><td>84513966              </td><td>0                     </td><td>1                     </td></tr>\n",
       "\t<tr><td>GOLGA6L5,RP11-182J1.12</td><td>84513331              </td><td>84513966              </td><td>0                     </td><td>1                     </td><td>GOLGA6L5,RP11-182J1.12</td><td>84513331              </td><td>84513966              </td><td>0                     </td><td>1                     </td></tr>\n",
       "\t<tr><td>DDHD2                 </td><td>38237628              </td><td>38238106              </td><td>0                     </td><td>1                     </td><td>DDHD2                 </td><td>38237628              </td><td>38238106              </td><td>0                     </td><td>1                     </td></tr>\n",
       "\t<tr><td>DDHD2                 </td><td>38237628              </td><td>38238088              </td><td>1                     </td><td>1                     </td><td>DDHD2                 </td><td>38237628              </td><td>38238088              </td><td>0                     </td><td>1                     </td></tr>\n",
       "</tbody>\n",
       "</table>\n"
      ],
      "text/latex": [
       "\\begin{tabular}{r|llllllllll}\n",
       " V1 & V2 & V3 & V4 & V5 & V1 & V2 & V3 & V4 & V5\\\\\n",
       "\\hline\n",
       "\t PCK2                   & 24099721               & 24099994               & 0                      & 1                      & PCK2                   & 24099721               & 24099994               & 2                      & 1                     \\\\\n",
       "\t PCK2                   & 24099721               & 24102752               & 0                      & 1                      & PCK2                   & 24099721               & 24102752               & 1                      & 1                     \\\\\n",
       "\t GOLGA6L5,RP11-182J1.12 & 84513303               & 84513966               & 0                      & 1                      & GOLGA6L5,RP11-182J1.12 & 84513303               & 84513966               & 0                      & 1                     \\\\\n",
       "\t GOLGA6L5,RP11-182J1.12 & 84513331               & 84513966               & 0                      & 1                      & GOLGA6L5,RP11-182J1.12 & 84513331               & 84513966               & 0                      & 1                     \\\\\n",
       "\t DDHD2                  & 38237628               & 38238106               & 0                      & 1                      & DDHD2                  & 38237628               & 38238106               & 0                      & 1                     \\\\\n",
       "\t DDHD2                  & 38237628               & 38238088               & 1                      & 1                      & DDHD2                  & 38237628               & 38238088               & 0                      & 1                     \\\\\n",
       "\\end{tabular}\n"
      ],
      "text/markdown": [
       "\n",
       "V1 | V2 | V3 | V4 | V5 | V1 | V2 | V3 | V4 | V5 | \n",
       "|---|---|---|---|---|---|\n",
       "| PCK2                   | 24099721               | 24099994               | 0                      | 1                      | PCK2                   | 24099721               | 24099994               | 2                      | 1                      | \n",
       "| PCK2                   | 24099721               | 24102752               | 0                      | 1                      | PCK2                   | 24099721               | 24102752               | 1                      | 1                      | \n",
       "| GOLGA6L5,RP11-182J1.12 | 84513303               | 84513966               | 0                      | 1                      | GOLGA6L5,RP11-182J1.12 | 84513303               | 84513966               | 0                      | 1                      | \n",
       "| GOLGA6L5,RP11-182J1.12 | 84513331               | 84513966               | 0                      | 1                      | GOLGA6L5,RP11-182J1.12 | 84513331               | 84513966               | 0                      | 1                      | \n",
       "| DDHD2                  | 38237628               | 38238106               | 0                      | 1                      | DDHD2                  | 38237628               | 38238106               | 0                      | 1                      | \n",
       "| DDHD2                  | 38237628               | 38238088               | 1                      | 1                      | DDHD2                  | 38237628               | 38238088               | 0                      | 1                      | \n",
       "\n",
       "\n"
      ],
      "text/plain": [
       "  V1                     V2       V3       V4 V5 V1                    \n",
       "1 PCK2                   24099721 24099994 0  1  PCK2                  \n",
       "2 PCK2                   24099721 24102752 0  1  PCK2                  \n",
       "3 GOLGA6L5,RP11-182J1.12 84513303 84513966 0  1  GOLGA6L5,RP11-182J1.12\n",
       "4 GOLGA6L5,RP11-182J1.12 84513331 84513966 0  1  GOLGA6L5,RP11-182J1.12\n",
       "5 DDHD2                  38237628 38238106 0  1  DDHD2                 \n",
       "6 DDHD2                  38237628 38238088 1  1  DDHD2                 \n",
       "  V2       V3       V4 V5\n",
       "1 24099721 24099994 2  1 \n",
       "2 24099721 24102752 1  1 \n",
       "3 84513303 84513966 0  1 \n",
       "4 84513331 84513966 0  1 \n",
       "5 38237628 38238106 0  1 \n",
       "6 38237628 38238088 0  1 "
      ]
     },
     "metadata": {},
     "output_type": "display_data"
    }
   ],
   "source": [
    "setwd('~/bme')\n",
    "wt_counts = read.table('junction_counts_long.wt.6.txt')\n",
    "mt_counts = read.table('junction_counts_long.6.txt')\n",
    "wt_counts$V1 = as.character(wt_counts$V1)\n",
    "mt_counts$V1 = as.character(mt_counts$V1)\n",
    "head(cbind(wt_counts, mt_counts))"
   ]
  },
  {
   "cell_type": "code",
   "execution_count": 15,
   "metadata": {
    "collapsed": false
   },
   "outputs": [],
   "source": [
    "current_gene = ''\n",
    "genes = c()\n",
    "pvals = c()  # for collecting results\n",
    "sigrows = c()\n",
    "for (row in 1:(nrow(wt_counts))+1) {  # looping through table and pulling out rows with shared gene names to do fisher tests on\n",
    "    if (row == nrow(wt_counts)+1 || wt_counts[row, 1] != current_gene | nchar(current_gene)==0) {\n",
    "        if (nchar(current_gene) > 0 && (nrow(wtinfo) > 1)) {\n",
    "            for (i in 1:(nrow(wtinfo))) {\n",
    "                for (j in i:nrow(wtinfo)) {\n",
    "                    ctable = matrix(unlist(c(wtinfo[c(i,j),4], mtinfo[c(i,j),4])), nrow=2)\n",
    "                    if (sum(ctable) != 0 && wtinfo[i,2] == wtinfo[j,2] | wtinfo[i,3] == wtinfo[j,3]) {  \n",
    "                        # extra check for genes with multiple alt splice junctions, making sure gene and junction 5' end match\n",
    "                        if (fisher.test(ctable)$p.value < 0.6) {\n",
    "                            sigrows = c(sigrows, row-nrow(wtinfo)+i-1, row-nrow(wtinfo)+j-1)\n",
    "                        }\n",
    "                        pvals = c(pvals, fisher.test(ctable)$p.value)\n",
    "                        genes = c(genes, current_gene)\n",
    "                    }\n",
    "                }\n",
    "                \n",
    "            }\n",
    "        }\n",
    "        current_gene = wt_counts[row, 1]\n",
    "        wtinfo = wt_counts[row,]\n",
    "        mtinfo = mt_counts[row,]\n",
    "    } else {\n",
    "        wtinfo = rbind(wtinfo, wt_counts[row,])\n",
    "        mtinfo = rbind(mtinfo, mt_counts[row,])\n",
    "    }\n",
    "}"
   ]
  },
  {
   "cell_type": "code",
   "execution_count": 120,
   "metadata": {
    "collapsed": false
   },
   "outputs": [
    {
     "data": {
      "text/html": [
       "<table>\n",
       "<thead><tr><th></th><th scope=col>V1</th><th scope=col>V2</th><th scope=col>V3</th><th scope=col>V4</th><th scope=col>V5</th><th scope=col>V1</th><th scope=col>V2</th><th scope=col>V3</th><th scope=col>V4</th><th scope=col>V5</th></tr></thead>\n",
       "<tbody>\n",
       "\t<tr><th scope=row>17</th><td>ERGIC3  </td><td>35556272</td><td>35556990</td><td>0       </td><td>1       </td><td>ERGIC3  </td><td>35556272</td><td>35556990</td><td> 0      </td><td>1       </td></tr>\n",
       "\t<tr><th scope=row>18</th><td>ERGIC3  </td><td>35556749</td><td>35556954</td><td>0       </td><td>1       </td><td>ERGIC3  </td><td>35556749</td><td>35556954</td><td> 0      </td><td>1       </td></tr>\n",
       "\t<tr><th scope=row>19</th><td>ERGIC3  </td><td>35556272</td><td>35556954</td><td>0       </td><td>1       </td><td>ERGIC3  </td><td>35556272</td><td>35556954</td><td> 6      </td><td>1       </td></tr>\n",
       "\t<tr><th scope=row>31</th><td>FKBP3   </td><td>45130801</td><td>45134348</td><td>2       </td><td>1       </td><td>FKBP3   </td><td>45130801</td><td>45134348</td><td>10      </td><td>1       </td></tr>\n",
       "\t<tr><th scope=row>32</th><td>B3GAT3  </td><td>62620672</td><td>62621865</td><td>0       </td><td>1       </td><td>B3GAT3  </td><td>62620672</td><td>62621865</td><td> 4      </td><td>1       </td></tr>\n",
       "\t<tr><th scope=row>40</th><td>SRSF11  </td><td>70228556</td><td>70232267</td><td>2       </td><td>1       </td><td>SRSF11  </td><td>70228556</td><td>70232267</td><td>12      </td><td>1       </td></tr>\n",
       "</tbody>\n",
       "</table>\n"
      ],
      "text/latex": [
       "\\begin{tabular}{r|llllllllll}\n",
       "  & V1 & V2 & V3 & V4 & V5 & V1 & V2 & V3 & V4 & V5\\\\\n",
       "\\hline\n",
       "\t17 & ERGIC3   & 35556272 & 35556990 & 0        & 1        & ERGIC3   & 35556272 & 35556990 &  0       & 1       \\\\\n",
       "\t18 & ERGIC3   & 35556749 & 35556954 & 0        & 1        & ERGIC3   & 35556749 & 35556954 &  0       & 1       \\\\\n",
       "\t19 & ERGIC3   & 35556272 & 35556954 & 0        & 1        & ERGIC3   & 35556272 & 35556954 &  6       & 1       \\\\\n",
       "\t31 & FKBP3    & 45130801 & 45134348 & 2        & 1        & FKBP3    & 45130801 & 45134348 & 10       & 1       \\\\\n",
       "\t32 & B3GAT3   & 62620672 & 62621865 & 0        & 1        & B3GAT3   & 62620672 & 62621865 &  4       & 1       \\\\\n",
       "\t40 & SRSF11   & 70228556 & 70232267 & 2        & 1        & SRSF11   & 70228556 & 70232267 & 12       & 1       \\\\\n",
       "\\end{tabular}\n"
      ],
      "text/markdown": [
       "\n",
       "| <!--/--> | V1 | V2 | V3 | V4 | V5 | V1 | V2 | V3 | V4 | V5 | \n",
       "|---|---|---|---|---|---|\n",
       "| 17 | ERGIC3   | 35556272 | 35556990 | 0        | 1        | ERGIC3   | 35556272 | 35556990 |  0       | 1        | \n",
       "| 18 | ERGIC3   | 35556749 | 35556954 | 0        | 1        | ERGIC3   | 35556749 | 35556954 |  0       | 1        | \n",
       "| 19 | ERGIC3   | 35556272 | 35556954 | 0        | 1        | ERGIC3   | 35556272 | 35556954 |  6       | 1        | \n",
       "| 31 | FKBP3    | 45130801 | 45134348 | 2        | 1        | FKBP3    | 45130801 | 45134348 | 10       | 1        | \n",
       "| 32 | B3GAT3   | 62620672 | 62621865 | 0        | 1        | B3GAT3   | 62620672 | 62621865 |  4       | 1        | \n",
       "| 40 | SRSF11   | 70228556 | 70232267 | 2        | 1        | SRSF11   | 70228556 | 70232267 | 12       | 1        | \n",
       "\n",
       "\n"
      ],
      "text/plain": [
       "   V1     V2       V3       V4 V5 V1     V2       V3       V4 V5\n",
       "17 ERGIC3 35556272 35556990 0  1  ERGIC3 35556272 35556990  0 1 \n",
       "18 ERGIC3 35556749 35556954 0  1  ERGIC3 35556749 35556954  0 1 \n",
       "19 ERGIC3 35556272 35556954 0  1  ERGIC3 35556272 35556954  6 1 \n",
       "31 FKBP3  45130801 45134348 2  1  FKBP3  45130801 45134348 10 1 \n",
       "32 B3GAT3 62620672 62621865 0  1  B3GAT3 62620672 62621865  4 1 \n",
       "40 SRSF11 70228556 70232267 2  1  SRSF11 70228556 70232267 12 1 "
      ]
     },
     "metadata": {},
     "output_type": "display_data"
    }
   ],
   "source": [
    "sigrows = sort(unique(sigrows))\n",
    "head(cbind(wt_counts[sigrows,], mt_counts[sigrows,]))"
   ]
  },
  {
   "cell_type": "code",
   "execution_count": 16,
   "metadata": {
    "collapsed": false
   },
   "outputs": [
    {
     "data": {
      "image/png": "[encoded data removed]",
      "text/plain": [
       "plot without title"
      ]
     },
     "metadata": {},
     "output_type": "display_data"
    }
   ],
   "source": [
    "plot(log(pvals)*-1)\n",
    "df = data.frame(g=genes, p=pvals)\n",
    "df$pos = 1:nrow(df)\n",
    "df = df[df$p < 0.6,]\n",
    "newdf = df[1,]\n",
    "for (row in 2:nrow(df)) {\n",
    "    if (!df[row,1] %in% newdf[,1]) {\n",
    "        newdf = rbind(newdf, df[row,])\n",
    "    } else if (any((df[row,2]+.01) <= newdf[newdf$g == df[row,1],2])) {\n",
    "        newdf = rbind(newdf, df[row,])\n",
    "    }\n",
    "}\n",
    "text(newdf$pos, log(newdf$p)*-1+.06, labels=newdf$g, cex=0.5)  # names above points\n",
    "abline(h=log2(0.05))"
   ]
  },
  {
   "cell_type": "markdown",
   "metadata": {},
   "source": [
    "I use Jeltje's bedfile of corrected junctions and the junction counts in there and do lots of fisher tests. I'm looking specifically at 3' SS alterations, so I compare counts for different 3' SSs in the mutant and wildtype for junctions with the same 5' SS. Jeltje mentioned that the strand doesn't carry meaning in her bedfile, so I repeat this analysis treating \"3'\" as 5' SSs."
   ]
  },
  {
   "cell_type": "code",
   "execution_count": 21,
   "metadata": {
    "collapsed": false
   },
   "outputs": [
    {
     "data": {
      "text/html": [
       "<table>\n",
       "<thead><tr><th></th><th scope=col>mtchrom</th><th scope=col>mt5</th><th scope=col>mt3</th><th scope=col>counts</th><th scope=col>wt</th><th scope=col>wtchrom</th></tr></thead>\n",
       "<tbody>\n",
       "\t<tr><th scope=row>20</th><td>chrY     </td><td>  1389707</td><td>  1391934</td><td>  1      </td><td>10       </td><td>chrY     </td></tr>\n",
       "\t<tr><th scope=row>21</th><td>chrY     </td><td>  1389707</td><td>  1391947</td><td>  1      </td><td>10       </td><td>chrY     </td></tr>\n",
       "\t<tr><th scope=row>22</th><td>chrY     </td><td>  1389707</td><td>  1391918</td><td> 54      </td><td>10       </td><td>chrY     </td></tr>\n",
       "\t<tr><th scope=row>78</th><td>chrX     </td><td>154399376</td><td>154399527</td><td>  1      </td><td> 1       </td><td>chrX     </td></tr>\n",
       "\t<tr><th scope=row>79</th><td>chrX     </td><td>154399376</td><td>154399520</td><td>  5      </td><td> 1       </td><td>chrX     </td></tr>\n",
       "\t<tr><th scope=row>80</th><td>chrX     </td><td>154399376</td><td>154399506</td><td>101      </td><td> 1       </td><td>chrX     </td></tr>\n",
       "</tbody>\n",
       "</table>\n"
      ],
      "text/latex": [
       "\\begin{tabular}{r|llllll}\n",
       "  & mtchrom & mt5 & mt3 & counts & wt & wtchrom\\\\\n",
       "\\hline\n",
       "\t20 & chrY      &   1389707 &   1391934 &   1       & 10        & chrY     \\\\\n",
       "\t21 & chrY      &   1389707 &   1391947 &   1       & 10        & chrY     \\\\\n",
       "\t22 & chrY      &   1389707 &   1391918 &  54       & 10        & chrY     \\\\\n",
       "\t78 & chrX      & 154399376 & 154399527 &   1       &  1        & chrX     \\\\\n",
       "\t79 & chrX      & 154399376 & 154399520 &   5       &  1        & chrX     \\\\\n",
       "\t80 & chrX      & 154399376 & 154399506 & 101       &  1        & chrX     \\\\\n",
       "\\end{tabular}\n"
      ],
      "text/markdown": [
       "\n",
       "| <!--/--> | mtchrom | mt5 | mt3 | counts | wt | wtchrom | \n",
       "|---|---|---|---|---|---|\n",
       "| 20 | chrY      |   1389707 |   1391934 |   1       | 10        | chrY      | \n",
       "| 21 | chrY      |   1389707 |   1391947 |   1       | 10        | chrY      | \n",
       "| 22 | chrY      |   1389707 |   1391918 |  54       | 10        | chrY      | \n",
       "| 78 | chrX      | 154399376 | 154399527 |   1       |  1        | chrX      | \n",
       "| 79 | chrX      | 154399376 | 154399520 |   5       |  1        | chrX      | \n",
       "| 80 | chrX      | 154399376 | 154399506 | 101       |  1        | chrX      | \n",
       "\n",
       "\n"
      ],
      "text/plain": [
       "   mtchrom mt5       mt3       counts wt wtchrom\n",
       "20 chrY      1389707   1391934   1    10 chrY   \n",
       "21 chrY      1389707   1391947   1    10 chrY   \n",
       "22 chrY      1389707   1391918  54    10 chrY   \n",
       "78 chrX    154399376 154399527   1     1 chrX   \n",
       "79 chrX    154399376 154399520   5     1 chrX   \n",
       "80 chrX    154399376 154399506 101     1 chrX   "
      ]
     },
     "metadata": {},
     "output_type": "display_data"
    }
   ],
   "source": [
    "setwd('~/bme')\n",
    "mtalt = read.table('altsplicejunction_counts.txt')\n",
    "colnames(mtalt) = c('mtchrom', 'mt5', 'mt3', 'counts')\n",
    "wtalt = read.table('altsplicejunction_counts.wt.txt')\n",
    "together = mtalt\n",
    "together$wt = wtalt$V4[match(mtalt$mt5, wtalt$V2)]\n",
    "together$wtchrom = wtalt$V1[match(mtalt$mt5, wtalt$V2)]  # sanity check\n",
    "together$mtchrom = as.character(together$mtchrom)\n",
    "together$wtchrom = as.character(together$wtchrom)\n",
    "together = together[!is.na(together$wt) & together$wtchrom == together$mtchrom,]\n",
    "head(together)  # data frame containing junction counts for both mutant and wildtype"
   ]
  },
  {
   "cell_type": "code",
   "execution_count": 15,
   "metadata": {
    "collapsed": false
   },
   "outputs": [
    {
     "data": {
      "image/png": "[encoded data removed]",
      "text/plain": [
       "plot without title"
      ]
     },
     "metadata": {},
     "output_type": "display_data"
    }
   ],
   "source": [
    "current_gene = paste0(together[1,1],':',together[1,2])\n",
    "info = together[1,]\n",
    "genes = c()\n",
    "pvals = c()\n",
    "for (row in 2:nrow(together)) {\n",
    "    nameinit = paste0(together[row,1],':',together[row, 2])\n",
    "    if (nameinit != current_gene) {\n",
    "        for (i in 1:(nrow(info)-1)) {\n",
    "            for (j in (i+1):nrow(info)) {\n",
    "                ctable = matrix(unlist(c(info[c(i,j),4], info[c(i,j),5])), nrow=2)\n",
    "                if (sum(ctable) != 0) {\n",
    "                    pvals = c(pvals, fisher.test(ctable)$p.value)\n",
    "                    genes = c(genes, current_gene)\n",
    "                }\n",
    "            }    \n",
    "        }\n",
    "        current_gene = nameinit\n",
    "        info = together[row,]\n",
    "    } else {\n",
    "        info = rbind(info, together[row,])\n",
    "    }\n",
    "}\n",
    "rgenes = genes[pvals < 0.2]\n",
    "rpvals = pvals[pvals < 0.2]\n",
    "plot(log10(pvals)*-1, pch=16, cex=0.3)\n",
    "# text(1:length(rpvals), log10(rpvals)*-1+.03, labels=rgenes, cex=0.5)  # names above points\n",
    "abline(h=log10(0.05)*-1)\n"
   ]
  },
  {
   "cell_type": "markdown",
   "metadata": {},
   "source": [
    "Above: every point is the result of one fisher test between alternative junction events. These are only considering 3' splice site alterations, so if you look at the the mutant 5' position column (together$mt5), comparisons are done within a group of junctions sharing the same 5' end.\n",
    "\n",
    "Below: Like the plot above, but instead anchoring at the 3' ends. Some of these junctions could still be technically 5' end-anchored since Jeltje said the counts were done without regard to strand and the bedfile of junctions does not have strand information."
   ]
  },
  {
   "cell_type": "code",
   "execution_count": 12,
   "metadata": {
    "collapsed": false
   },
   "outputs": [
    {
     "data": {
      "text/html": [
       "<table>\n",
       "<thead><tr><th></th><th scope=col>mtchrom</th><th scope=col>mt5</th><th scope=col>mt3</th><th scope=col>counts</th><th scope=col>wt</th><th scope=col>wtchrom</th></tr></thead>\n",
       "<tbody>\n",
       "\t<tr><th scope=row>27843</th><td>chr9 </td><td>18467</td><td>24870</td><td>1    </td><td>1    </td><td>chr9 </td></tr>\n",
       "\t<tr><th scope=row>27844</th><td>chr9 </td><td>24618</td><td>24870</td><td>1    </td><td>1    </td><td>chr9 </td></tr>\n",
       "\t<tr><th scope=row>27845</th><td>chr9 </td><td>18472</td><td>24870</td><td>3    </td><td>1    </td><td>chr9 </td></tr>\n",
       "\t<tr><th scope=row>2082</th><td>chr12</td><td>18459</td><td>26820</td><td>1    </td><td>1    </td><td>chr12</td></tr>\n",
       "\t<tr><th scope=row>2083</th><td>chr12</td><td>18464</td><td>26820</td><td>3    </td><td>1    </td><td>chr12</td></tr>\n",
       "\t<tr><th scope=row>2084</th><td>chr12</td><td>26568</td><td>26820</td><td>1    </td><td>1    </td><td>chr12</td></tr>\n",
       "</tbody>\n",
       "</table>\n"
      ],
      "text/latex": [
       "\\begin{tabular}{r|llllll}\n",
       "  & mtchrom & mt5 & mt3 & counts & wt & wtchrom\\\\\n",
       "\\hline\n",
       "\t27843 & chr9  & 18467 & 24870 & 1     & 1     & chr9 \\\\\n",
       "\t27844 & chr9  & 24618 & 24870 & 1     & 1     & chr9 \\\\\n",
       "\t27845 & chr9  & 18472 & 24870 & 3     & 1     & chr9 \\\\\n",
       "\t2082 & chr12 & 18459 & 26820 & 1     & 1     & chr12\\\\\n",
       "\t2083 & chr12 & 18464 & 26820 & 3     & 1     & chr12\\\\\n",
       "\t2084 & chr12 & 26568 & 26820 & 1     & 1     & chr12\\\\\n",
       "\\end{tabular}\n"
      ],
      "text/markdown": [
       "\n",
       "| <!--/--> | mtchrom | mt5 | mt3 | counts | wt | wtchrom | \n",
       "|---|---|---|---|---|---|\n",
       "| 27843 | chr9  | 18467 | 24870 | 1     | 1     | chr9  | \n",
       "| 27844 | chr9  | 24618 | 24870 | 1     | 1     | chr9  | \n",
       "| 27845 | chr9  | 18472 | 24870 | 3     | 1     | chr9  | \n",
       "| 2082 | chr12 | 18459 | 26820 | 1     | 1     | chr12 | \n",
       "| 2083 | chr12 | 18464 | 26820 | 3     | 1     | chr12 | \n",
       "| 2084 | chr12 | 26568 | 26820 | 1     | 1     | chr12 | \n",
       "\n",
       "\n"
      ],
      "text/plain": [
       "      mtchrom mt5   mt3   counts wt wtchrom\n",
       "27843 chr9    18467 24870 1      1  chr9   \n",
       "27844 chr9    24618 24870 1      1  chr9   \n",
       "27845 chr9    18472 24870 3      1  chr9   \n",
       "2082  chr12   18459 26820 1      1  chr12  \n",
       "2083  chr12   18464 26820 3      1  chr12  \n",
       "2084  chr12   26568 26820 1      1  chr12  "
      ]
     },
     "metadata": {},
     "output_type": "display_data"
    },
    {
     "data": {
      "image/png": "[encoded data removed]",
      "text/plain": [
       "plot without title"
      ]
     },
     "metadata": {},
     "output_type": "display_data"
    }
   ],
   "source": [
    "setwd('~/bme')\n",
    "mtalt = read.table('altsplicejunction_counts.3.txt')   # anchored at the 3' site, aka the greater junction coordinate\n",
    "colnames(mtalt) = c('mtchrom', 'mt5', 'mt3', 'counts')\n",
    "wtalt = read.table('altsplicejunction_counts.3.wt.txt')\n",
    "together = mtalt\n",
    "together$wt = wtalt$V4[match(mtalt$mt3, wtalt$V3)]\n",
    "together$wtchrom = wtalt$V1[match(mtalt$mt3, wtalt$V3)]  # sanity check\n",
    "together$mtchrom = as.character(together$mtchrom)\n",
    "together$wtchrom = as.character(together$wtchrom)\n",
    "together = together[order(together$mt3),]\n",
    "together = together[!is.na(together$wt) & together$wtchrom == together$mtchrom,]\n",
    "head(together)  # data frame containing junction counts for both mutant and wildtype\n",
    "current_gene = paste0(together[1,1],':',together[1,3])\n",
    "info = together[1,]\n",
    "genes = c()\n",
    "pvals = c()\n",
    "for (row in 2:nrow(together)) {\n",
    "    nameinit = paste0(together[row,1],':',together[row, 3])\n",
    "    if (nameinit != current_gene) {\n",
    "        for (i in 1:(nrow(info)-1)) {\n",
    "            for (j in (i+1):nrow(info)) {\n",
    "                ctable = matrix(unlist(c(info[c(i,j),4], info[c(i,j),5])), nrow=2)\n",
    "                if (sum(ctable) != 0) {\n",
    "                    pvals = c(pvals, fisher.test(ctable)$p.value)\n",
    "                    genes = c(genes, current_gene)\n",
    "                }\n",
    "            }    \n",
    "        }\n",
    "        current_gene = nameinit\n",
    "        info = together[row,]\n",
    "    } else {\n",
    "        info = rbind(info, together[row,])\n",
    "    }\n",
    "}\n",
    "rgenes = genes[pvals < 0.2]\n",
    "rpvals = pvals[pvals < 0.2]\n",
    "plot(log10(pvals)*-1, pch=16, cex=0.3)\n",
    "abline(h=log10(0.05)*-1)\n"
   ]
  },
  {
   "cell_type": "markdown",
   "metadata": {},
   "source": [
    "<b> From here on starts analysis that actually makes sense :D </b> <br>\n",
    "Jeltje modified her script to be able to take in a genome and infer strand. So now I am plotting alternative 3' splice sites that are really 3' splice sites being altered."
   ]
  },
  {
   "cell_type": "code",
   "execution_count": 35,
   "metadata": {
    "collapsed": false
   },
   "outputs": [
    {
     "name": "stderr",
     "output_type": "stream",
     "text": [
      "Warning message in `[<-.factor`(`*tmp*`, is.na(chrvec), value = structure(c(NA, :\n",
      "\"invalid factor level, NA generated\"Warning message in `[<-.factor`(`*tmp*`, is.na(chrvec), value = structure(c(24L, :\n",
      "\"invalid factor level, NA generated\"Warning message in `[<-.factor`(`*tmp*`, is.na(chrvec), value = structure(c(NA, :\n",
      "\"invalid factor level, NA generated\""
     ]
    },
    {
     "data": {
      "text/html": [
       "<table>\n",
       "<thead><tr><th></th><th scope=col>alljuncs</th><th scope=col>intron5</th><th scope=col>intron3</th><th scope=col>wtcounts</th><th scope=col>mtcounts</th><th scope=col>chr</th></tr></thead>\n",
       "<tbody>\n",
       "\t<tr><th scope=row>8736</th><td>51577-47537  </td><td> 51577       </td><td> 47537       </td><td>0            </td><td>2            </td><td>chr16        </td></tr>\n",
       "\t<tr><th scope=row>16572</th><td>123236-122070</td><td>123236       </td><td>122070       </td><td>2            </td><td>2            </td><td>chr9         </td></tr>\n",
       "\t<tr><th scope=row>16706</th><td>134998-123434</td><td>134998       </td><td>123434       </td><td>0            </td><td>1            </td><td>chr9         </td></tr>\n",
       "\t<tr><th scope=row>16429</th><td>154728-152058</td><td>154728       </td><td>152058       </td><td>0            </td><td>2            </td><td>chr9         </td></tr>\n",
       "\t<tr><th scope=row>16638</th><td>172100-168892</td><td>172100       </td><td>168892       </td><td>1            </td><td>0            </td><td>chr9         </td></tr>\n",
       "\t<tr><th scope=row>16639</th><td>172100-164017</td><td>172100       </td><td>164017       </td><td>2            </td><td>2            </td><td>chr9         </td></tr>\n",
       "</tbody>\n",
       "</table>\n"
      ],
      "text/latex": [
       "\\begin{tabular}{r|llllll}\n",
       "  & alljuncs & intron5 & intron3 & wtcounts & mtcounts & chr\\\\\n",
       "\\hline\n",
       "\t8736 & 51577-47537   &  51577        &  47537        & 0             & 2             & chr16        \\\\\n",
       "\t16572 & 123236-122070 & 123236        & 122070        & 2             & 2             & chr9         \\\\\n",
       "\t16706 & 134998-123434 & 134998        & 123434        & 0             & 1             & chr9         \\\\\n",
       "\t16429 & 154728-152058 & 154728        & 152058        & 0             & 2             & chr9         \\\\\n",
       "\t16638 & 172100-168892 & 172100        & 168892        & 1             & 0             & chr9         \\\\\n",
       "\t16639 & 172100-164017 & 172100        & 164017        & 2             & 2             & chr9         \\\\\n",
       "\\end{tabular}\n"
      ],
      "text/markdown": [
       "\n",
       "| <!--/--> | alljuncs | intron5 | intron3 | wtcounts | mtcounts | chr | \n",
       "|---|---|---|---|---|---|\n",
       "| 8736 | 51577-47537   |  51577        |  47537        | 0             | 2             | chr16         | \n",
       "| 16572 | 123236-122070 | 123236        | 122070        | 2             | 2             | chr9          | \n",
       "| 16706 | 134998-123434 | 134998        | 123434        | 0             | 1             | chr9          | \n",
       "| 16429 | 154728-152058 | 154728        | 152058        | 0             | 2             | chr9          | \n",
       "| 16638 | 172100-168892 | 172100        | 168892        | 1             | 0             | chr9          | \n",
       "| 16639 | 172100-164017 | 172100        | 164017        | 2             | 2             | chr9          | \n",
       "\n",
       "\n"
      ],
      "text/plain": [
       "      alljuncs      intron5 intron3 wtcounts mtcounts chr  \n",
       "8736  51577-47537    51577   47537  0        2        chr16\n",
       "16572 123236-122070 123236  122070  2        2        chr9 \n",
       "16706 134998-123434 134998  123434  0        1        chr9 \n",
       "16429 154728-152058 154728  152058  0        2        chr9 \n",
       "16638 172100-168892 172100  168892  1        0        chr9 \n",
       "16639 172100-164017 172100  164017  2        2        chr9 "
      ]
     },
     "metadata": {},
     "output_type": "display_data"
    },
    {
     "data": {
      "image/png": "[encoded data removed]",
      "text/plain": [
       "Plot with title \"Alt 3'SS\""
      ]
     },
     "metadata": {},
     "output_type": "display_data"
    }
   ],
   "source": [
    "setwd('~/bme/jupyter_data')\n",
    "mtalt = read.table('altsplicejunction_counts.txt')\n",
    "mtaltrev = read.table('altsplicejunction_counts.rev.txt')  # 3' ss alterations on the minus strand\n",
    "colnames(mtalt) = c('mtchrom', 'mt5', 'mt3', 'mtcounts')\n",
    "colnames(mtaltrev) = c('mtchrom', 'mt5', 'mt3', 'mtcounts')\n",
    "wtalt = read.table('alt3primess_counts.wt.txt')\n",
    "wtaltrev = read.table('alt3primess_counts.wt.rev.txt')\n",
    "\n",
    "wtaltrev$temp = wtaltrev[,2]\n",
    "wtaltrev[,2] = wtaltrev[,3]\n",
    "wtaltrev[,3] = wtaltrev$temp\n",
    "\n",
    "mtaltrev$temp = mtaltrev[,2]\n",
    "mtaltrev[,2] = mtaltrev[,3]\n",
    "mtaltrev[,3] = mtaltrev$temp\n",
    "\n",
    "alljuncs = unique(c(paste0(mtalt[,2],'-',mtalt[,3]), paste0(wtalt[,2],'-', wtalt[,3]), paste0(mtaltrev[,2],'-',mtaltrev[,3]),\n",
    "             paste0(wtaltrev[,2],'-',wtaltrev[,3])))\n",
    "junctions = data.frame(alljuncs)\n",
    "junctions$intron5 = as.numeric(substr(alljuncs,1,regexpr('-', alljuncs)-1))\n",
    "junctions$intron3 = as.numeric(substr(alljuncs,regexpr('-',alljuncs)+1,nchar(alljuncs)))\n",
    "wtcounts = wtalt[,4][match(alljuncs, paste0(wtalt[,2],'-',wtalt[,3]))]\n",
    "wtcounts[is.na(wtcounts)] = wtaltrev[,4][match(alljuncs, paste0(wtaltrev[,2],'-',wtaltrev[,3]))][is.na(wtcounts)]\n",
    "junctions$wtcounts = wtcounts\n",
    "# print(sum(is.na(junctions$wtcounts)))\n",
    "junctions$wtcounts[is.na(junctions$wtcounts)] = 0\n",
    "\n",
    "mtcounts = mtalt[,4][match(alljuncs, paste0(mtalt[,2],'-',mtalt[,3]))]\n",
    "mtcounts[is.na(mtcounts)] = mtaltrev[,4][match(alljuncs, paste0(mtaltrev[,2],'-',mtaltrev[,3]))][is.na(mtcounts)]\n",
    "junctions$mtcounts = mtcounts\n",
    "junctions$mtcounts[is.na(junctions$mtcounts)] = 0\n",
    "\n",
    "chrvec =  wtalt[,1][match(alljuncs, paste0(wtalt[,2],'-',wtalt[,3]))]\n",
    "chrvec[is.na(chrvec)] = wtaltrev[,1][match(alljuncs, paste0(wtaltrev[,2],'-',wtaltrev[,3]))][is.na(chrvec)]\n",
    "chrvec[is.na(chrvec)] = mtalt[,1][match(alljuncs, paste0(mtalt[,2],'-',mtalt[,3]))][is.na(chrvec)]\n",
    "chrvec[is.na(chrvec)] = mtaltrev[,1][match(alljuncs, paste0(mtaltrev[,2],'-',mtaltrev[,3]))][is.na(chrvec)]\n",
    "junctions$chr = chrvec\n",
    "\n",
    "junctions = junctions[!is.na(chrvec),]  # 2 is the min number of reads between both samples\n",
    "junctionsold = junctions\n",
    "junctions[,5] = round(sum(junctions[,4])/sum(junctions[,5])*junctions[,5])\n",
    "\n",
    "junctions = junctions[rowSums(junctionsold[,c(4,5)]) > 1,]\n",
    "\n",
    "junctions = junctions[order(junctions[,2]),]\n",
    "\n",
    "junctions[1:6,]  # data frame containing junction counts for both mutant and wildtype\n",
    "\n",
    "current_gene = paste0(junctions[1,6],':',junctions[1,2])\n",
    "info = junctions[1,]\n",
    "genes = c()\n",
    "pvals = c()\n",
    "dpsi = c()\n",
    "allpvals = c()\n",
    "for (row in 2:nrow(junctions)) {\n",
    "    nameinit = paste0(junctions[row,6],':',junctions[row, 2])\n",
    "    if (nameinit != current_gene ) {\n",
    "        if (nrow(info) > 1) {\n",
    "            best_dpsi = 0\n",
    "            best_pval = 1\n",
    "            for (i in 1:(nrow(info)-1)) {\n",
    "                for (j in (i+1):nrow(info)) {\n",
    "                    ctable = matrix(unlist(c(info[c(i,j),4], info[c(i,j),5])), nrow=2)\n",
    "                    if (sum(ctable) != 0) {\n",
    "                        pval = fisher.test(ctable)$p.value\n",
    "                        allpvals = c(allpvals, pval)\n",
    "                        if (pval < best_pval) {\n",
    "                            best_pval = pval\n",
    "                            best_dpsi = abs(info[i, 4]/sum(info[c(i,j),4]) - info[i, 5]/sum(info[c(i,j),5]))\n",
    "                        }\n",
    "                    }\n",
    "                }\n",
    "            }\n",
    "            genes = c(genes, current_gene)\n",
    "            pvals = c(pvals, best_pval)\n",
    "            dpsi = c(dpsi, best_dpsi)\n",
    "        }\n",
    "        current_gene = nameinit\n",
    "        info = junctions[row,]\n",
    "    } else {\n",
    "        info = rbind(info, junctions[row,])\n",
    "    }\n",
    "}\n",
    "plot(log10(pvals)*-1, pch=16, cex=0.3, main=\"Alt 3'SS\")\n",
    "abline(h=log10(0.05)*-1)\n",
    "\n",
    "genes3 = genes\n",
    "pvals3 = pvals\n",
    "junctions3 = junctions\n",
    "dpsi3=dpsi"
   ]
  },
  {
   "cell_type": "markdown",
   "metadata": {},
   "source": [
    "I plot altered 5' splice sites that are actually altered 5' splice sites. It's a bit interesting to compare this plot and the plot above with the previous two plots above that. It's all the same points just now they're correctly categorized."
   ]
  },
  {
   "cell_type": "code",
   "execution_count": 5,
   "metadata": {
    "collapsed": false
   },
   "outputs": [
    {
     "name": "stdout",
     "output_type": "stream",
     "text": [
      "[1] \"1387298-1386739\"     \"1387315-1386739\"     \"1536940-1466562\"    \n",
      "[4] \"1467050-1466562\"     \"123706877-123703485\" \"123706869-123703485\"\n"
     ]
    },
    {
     "data": {
      "text/html": [
       "<table>\n",
       "<thead><tr><th></th><th scope=col>alljuncs</th><th scope=col>intron5</th><th scope=col>intron3</th><th scope=col>wtcounts</th><th scope=col>mtcounts</th><th scope=col>chr</th></tr></thead>\n",
       "<tbody>\n",
       "\t<tr><th scope=row>965</th><td>51577-47537  </td><td> 51577       </td><td> 47537       </td><td>0            </td><td>2            </td><td>chr16        </td></tr>\n",
       "\t<tr><th scope=row>8070</th><td>55529-55796  </td><td> 55529       </td><td> 55796       </td><td>0            </td><td>2            </td><td>chr16        </td></tr>\n",
       "\t<tr><th scope=row>8256</th><td>56593-57105  </td><td> 56593       </td><td> 57105       </td><td>0            </td><td>2            </td><td>chr16        </td></tr>\n",
       "\t<tr><th scope=row>7979</th><td>83236-85420  </td><td> 83236       </td><td> 85420       </td><td>0            </td><td>1            </td><td>chr16        </td></tr>\n",
       "\t<tr><th scope=row>4713</th><td>121980-121553</td><td>121980       </td><td>121553       </td><td>2            </td><td>0            </td><td>chr9         </td></tr>\n",
       "\t<tr><th scope=row>3236</th><td>146121-135010</td><td>146121       </td><td>135010       </td><td>2            </td><td>2            </td><td>chr9         </td></tr>\n",
       "</tbody>\n",
       "</table>\n"
      ],
      "text/latex": [
       "\\begin{tabular}{r|llllll}\n",
       "  & alljuncs & intron5 & intron3 & wtcounts & mtcounts & chr\\\\\n",
       "\\hline\n",
       "\t965 & 51577-47537   &  51577        &  47537        & 0             & 2             & chr16        \\\\\n",
       "\t8070 & 55529-55796   &  55529        &  55796        & 0             & 2             & chr16        \\\\\n",
       "\t8256 & 56593-57105   &  56593        &  57105        & 0             & 2             & chr16        \\\\\n",
       "\t7979 & 83236-85420   &  83236        &  85420        & 0             & 1             & chr16        \\\\\n",
       "\t4713 & 121980-121553 & 121980        & 121553        & 2             & 0             & chr9         \\\\\n",
       "\t3236 & 146121-135010 & 146121        & 135010        & 2             & 2             & chr9         \\\\\n",
       "\\end{tabular}\n"
      ],
      "text/markdown": [
       "\n",
       "| <!--/--> | alljuncs | intron5 | intron3 | wtcounts | mtcounts | chr | \n",
       "|---|---|---|---|---|---|\n",
       "| 965 | 51577-47537   |  51577        |  47537        | 0             | 2             | chr16         | \n",
       "| 8070 | 55529-55796   |  55529        |  55796        | 0             | 2             | chr16         | \n",
       "| 8256 | 56593-57105   |  56593        |  57105        | 0             | 2             | chr16         | \n",
       "| 7979 | 83236-85420   |  83236        |  85420        | 0             | 1             | chr16         | \n",
       "| 4713 | 121980-121553 | 121980        | 121553        | 2             | 0             | chr9          | \n",
       "| 3236 | 146121-135010 | 146121        | 135010        | 2             | 2             | chr9          | \n",
       "\n",
       "\n"
      ],
      "text/plain": [
       "     alljuncs      intron5 intron3 wtcounts mtcounts chr  \n",
       "965  51577-47537    51577   47537  0        2        chr16\n",
       "8070 55529-55796    55529   55796  0        2        chr16\n",
       "8256 56593-57105    56593   57105  0        2        chr16\n",
       "7979 83236-85420    83236   85420  0        1        chr16\n",
       "4713 121980-121553 121980  121553  2        0        chr9 \n",
       "3236 146121-135010 146121  135010  2        2        chr9 "
      ]
     },
     "metadata": {},
     "output_type": "display_data"
    },
    {
     "data": {
      "image/png": "[encoded data removed]",
      "text/plain": [
       "Plot with title \"Alt 5'SS\""
      ]
     },
     "metadata": {},
     "output_type": "display_data"
    }
   ],
   "source": [
    "setwd('~/bme/jupyter_data')\n",
    "mtaltrev = read.table('alt5primess_counts.txt')\n",
    "mtalt = read.table('alt5primess_counts.rev.txt')  # 3' ss alterations on the minus strand\n",
    "colnames(mtalt) = c('mtchrom', 'mt5', 'mt3', 'mtcounts')\n",
    "colnames(mtaltrev) = c('mtchrom', 'mt5', 'mt3', 'mtcounts')\n",
    "wtaltrev = read.table('alt5primess_counts.wt.txt')\n",
    "wtalt = read.table('alt5primess_counts.wt.rev.txt')\n",
    "\n",
    "wtalt$temp = wtalt[,2]  # switch columns just so I can reuse 3' alt ss code\n",
    "wtalt[,2] = wtalt[,3]\n",
    "wtalt[,3] = wtalt$temp\n",
    "\n",
    "mtalt$temp = mtalt[,2]\n",
    "mtalt[,2] = mtalt[,3]\n",
    "mtalt[,3] = mtalt$temp\n",
    "\n",
    "alljuncs = unique(c(paste0(mtalt[,2],'-',mtalt[,3]), paste0(wtalt[,2],'-', wtalt[,3]), paste0(mtaltrev[,2],'-',mtaltrev[,3]),\n",
    "             paste0(wtaltrev[,2],'-',wtaltrev[,3])))  # coordinate 1 to coordinate 2\n",
    "print(head(alljuncs))\n",
    "junctions = data.frame(alljuncs)\n",
    "junctions$intron5 = as.numeric(substr(alljuncs,1,regexpr('-', alljuncs)-1))\n",
    "junctions$intron3 = as.numeric(substr(alljuncs,regexpr('-',alljuncs)+1,nchar(alljuncs)))\n",
    "wtcounts = wtalt[,4][match(alljuncs, paste0(wtalt[,2],'-',wtalt[,3]))]\n",
    "wtcounts[is.na(wtcounts)] = wtaltrev[,4][match(alljuncs, paste0(wtaltrev[,2],'-',wtaltrev[,3]))][is.na(wtcounts)]\n",
    "junctions$wtcounts = wtcounts\n",
    "junctions$wtcounts[is.na(junctions$wtcounts)] = 0\n",
    "\n",
    "mtcounts = mtalt[,4][match(alljuncs, paste0(mtalt[,2],'-',mtalt[,3]))]\n",
    "mtcounts[is.na(mtcounts)] = mtaltrev[,4][match(alljuncs, paste0(mtaltrev[,2],'-',mtaltrev[,3]))][is.na(mtcounts)]\n",
    "junctions$mtcounts = mtcounts\n",
    "junctions$mtcounts[is.na(junctions$mtcounts)] = 0\n",
    "\n",
    "chrvec =  wtalt[,1][match(alljuncs, paste0(wtalt[,2],'-',wtalt[,3]))]\n",
    "chrvec[is.na(chrvec)] = wtaltrev[,1][match(alljuncs, paste0(wtaltrev[,2],'-',wtaltrev[,3]))][is.na(chrvec)]\n",
    "chrvec[is.na(chrvec)] = mtalt[,1][match(alljuncs, paste0(mtalt[,2],'-',mtalt[,3]))][is.na(chrvec)]\n",
    "chrvec[is.na(chrvec)] = mtaltrev[,1][match(alljuncs, paste0(mtaltrev[,2],'-',mtaltrev[,3]))][is.na(chrvec)]\n",
    "junctions$chr = chrvec\n",
    "junctions = junctions[!is.na(chrvec),]\n",
    "\n",
    "junctions = junctions[order(junctions[,2]),]\n",
    "junctionsold = junctions\n",
    "junctions[,5] = round(sum(junctions[,4])/sum(junctions[,5])*junctions[,5])\n",
    "junctions = junctions[rowSums(junctionsold[,c(4,5)]) > 1,]\n",
    "\n",
    "junctions[1:6,]  # data frame containing junction counts for both mutant and wildtype\n",
    "\n",
    "current_gene = paste0(junctions[1,6],':',junctions[1,2])\n",
    "info = junctions[1,]\n",
    "genes = c()\n",
    "pvals = c()\n",
    "allpvals = c()\n",
    "dpsi = c()\n",
    "for (row in 2:nrow(junctions)) {\n",
    "    nameinit = paste0(junctions[row,6],':',junctions[row, 2])\n",
    "    if (nameinit != current_gene ) {\n",
    "        if (nrow(info) > 1) {\n",
    "            best_dpsi = 0\n",
    "            best_pval = 1\n",
    "            for (i in 1:(nrow(info)-1)) {\n",
    "                for (j in (i+1):nrow(info)) {\n",
    "                    ctable = matrix(unlist(c(info[c(i,j),4], info[c(i,j),5])), nrow=2)\n",
    "                    if (sum(ctable) != 0) {\n",
    "                        pval = fisher.test(ctable)$p.value\n",
    "                        allpvals = c(allpvals, pval)\n",
    "                        if (pval < best_pval) {\n",
    "                            best_pval = pval\n",
    "                            best_dpsi = abs(info[i, 4]/sum(info[c(i,j),4]) - info[i, 5]/sum(info[c(i,j),5]))\n",
    "                        }\n",
    "                    }\n",
    "                }\n",
    "            }\n",
    "            genes = c(genes, current_gene)\n",
    "            pvals = c(pvals, best_pval)\n",
    "            dpsi = c(dpsi, best_dpsi)\n",
    "            \n",
    "        }\n",
    "        current_gene = nameinit\n",
    "        info = junctions[row,]\n",
    "    } else {\n",
    "        info = rbind(info, junctions[row,])\n",
    "    }\n",
    "}\n",
    "plot(log10(pvals)*-1, pch=16, cex=0.3, main=\"Alt 5'SS\")\n",
    "abline(h=log10(0.05)*-1)\n",
    "\n",
    "genes5 = genes\n",
    "pvals5 = pvals\n",
    "junctions5 = junctions\n",
    "dpsi5=dpsi"
   ]
  },
  {
   "cell_type": "markdown",
   "metadata": {},
   "source": [
    "There are more unique significant Alt3'SS than Alt5'SS events with and without FDR correction. <br>"
   ]
  },
  {
   "cell_type": "code",
   "execution_count": 10,
   "metadata": {
    "collapsed": false
   },
   "outputs": [
    {
     "data": {
      "text/html": [
       "12"
      ],
      "text/latex": [
       "12"
      ],
      "text/markdown": [
       "12"
      ],
      "text/plain": [
       "[1] 12"
      ]
     },
     "metadata": {},
     "output_type": "display_data"
    },
    {
     "data": {
      "text/html": [
       "11"
      ],
      "text/latex": [
       "11"
      ],
      "text/markdown": [
       "11"
      ],
      "text/plain": [
       "[1] 11"
      ]
     },
     "metadata": {},
     "output_type": "display_data"
    },
    {
     "data": {
      "text/html": [
       "5"
      ],
      "text/latex": [
       "5"
      ],
      "text/markdown": [
       "5"
      ],
      "text/plain": [
       "[1] 5"
      ]
     },
     "metadata": {},
     "output_type": "display_data"
    },
    {
     "data": {
      "text/html": [
       "7"
      ],
      "text/latex": [
       "7"
      ],
      "text/markdown": [
       "7"
      ],
      "text/plain": [
       "[1] 7"
      ]
     },
     "metadata": {},
     "output_type": "display_data"
    },
    {
     "data": {
      "text/html": [
       "8032"
      ],
      "text/latex": [
       "8032"
      ],
      "text/markdown": [
       "8032"
      ],
      "text/plain": [
       "[1] 8032"
      ]
     },
     "metadata": {},
     "output_type": "display_data"
    },
    {
     "data": {
      "text/html": [
       "7974"
      ],
      "text/latex": [
       "7974"
      ],
      "text/markdown": [
       "7974"
      ],
      "text/plain": [
       "[1] 7974"
      ]
     },
     "metadata": {},
     "output_type": "display_data"
    },
    {
     "data": {
      "text/html": [
       "<table>\n",
       "<thead><tr><th></th><th scope=col>genes3</th><th scope=col>pvals3adj</th><th scope=col>index</th><th scope=col>genes5</th><th scope=col>pvals5adj</th></tr></thead>\n",
       "<tbody>\n",
       "\t<tr><th scope=row>857</th><td>chr14:105855499</td><td>1.600524e-19   </td><td> 1             </td><td>chr19:48965896 </td><td>1.912760e-53   </td></tr>\n",
       "\t<tr><th scope=row>165</th><td>chr9:19378727  </td><td>1.193751e-18   </td><td> 2             </td><td>chr5:150412644 </td><td>1.112301e-31   </td></tr>\n",
       "\t<tr><th scope=row>482</th><td>chr19:48965896 </td><td>2.323418e-16   </td><td> 3             </td><td>chr14:105855499</td><td>6.245717e-21   </td></tr>\n",
       "\t<tr><th scope=row>992</th><td>chr5:150412644 </td><td>3.652742e-11   </td><td> 4             </td><td>chr7:142801407 </td><td>3.899738e-03   </td></tr>\n",
       "\t<tr><th scope=row>211</th><td>chr6:24718559  </td><td>1.525624e-03   </td><td> 5             </td><td>chr10:3781660  </td><td>4.779568e-03   </td></tr>\n",
       "\t<tr><th scope=row>994</th><td>chr5:150446821 </td><td>6.480329e-03   </td><td> 6             </td><td>chr12:53295619 </td><td>7.660819e-02   </td></tr>\n",
       "\t<tr><th scope=row>1029</th><td>chr6:158770783 </td><td>3.280996e-02   </td><td> 7             </td><td>chr1:30757678  </td><td>9.849624e-02   </td></tr>\n",
       "\t<tr><th scope=row>282</th><td>chr6:31355336  </td><td>7.380490e-01   </td><td> 8             </td><td>chr19:2269724  </td><td>2.799145e-01   </td></tr>\n",
       "\t<tr><th scope=row>1</th><td>chr9:172100    </td><td>1.000000e+00   </td><td> 9             </td><td>chr5:150445628 </td><td>3.528620e-01   </td></tr>\n",
       "\t<tr><th scope=row>2</th><td>chr11:209980   </td><td>1.000000e+00   </td><td>10             </td><td>chr6:30490495  </td><td>5.328025e-01   </td></tr>\n",
       "\t<tr><th scope=row>3</th><td>chr11:212491   </td><td>1.000000e+00   </td><td>11             </td><td>chr15:44715681 </td><td>5.328025e-01   </td></tr>\n",
       "\t<tr><th scope=row>4</th><td>chr16:220668   </td><td>1.000000e+00   </td><td>12             </td><td>chr3:71015568  </td><td>5.328025e-01   </td></tr>\n",
       "\t<tr><th scope=row>5</th><td>chr2:271919    </td><td>1.000000e+00   </td><td>13             </td><td>chr12:6960219  </td><td>7.197802e-01   </td></tr>\n",
       "\t<tr><th scope=row>6</th><td>chr5:304201    </td><td>1.000000e+00   </td><td>14             </td><td>chr7:99374761  </td><td>7.197802e-01   </td></tr>\n",
       "\t<tr><th scope=row>7</th><td>chr11:500503   </td><td>1.000000e+00   </td><td>15             </td><td>chr20:36497046 </td><td>8.086420e-01   </td></tr>\n",
       "\t<tr><th scope=row>8</th><td>chr11:507132   </td><td>1.000000e+00   </td><td>16             </td><td>chr22:39014359 </td><td>8.086420e-01   </td></tr>\n",
       "\t<tr><th scope=row>9</th><td>chr11:614495   </td><td>1.000000e+00   </td><td>17             </td><td>chr17:41689049 </td><td>8.086420e-01   </td></tr>\n",
       "\t<tr><th scope=row>10</th><td>chr11:614816   </td><td>1.000000e+00   </td><td>18             </td><td>chr1:206921837 </td><td>8.086420e-01   </td></tr>\n",
       "\t<tr><th scope=row>11</th><td>chr16:635631   </td><td>1.000000e+00   </td><td>19             </td><td>chr19:1272031  </td><td>8.187500e-01   </td></tr>\n",
       "\t<tr><th scope=row>12</th><td>chr16:670155   </td><td>1.000000e+00   </td><td>20             </td><td>chr1:209756289 </td><td>8.187500e-01   </td></tr>\n",
       "</tbody>\n",
       "</table>\n"
      ],
      "text/latex": [
       "\\begin{tabular}{r|lllll}\n",
       "  & genes3 & pvals3adj & index & genes5 & pvals5adj\\\\\n",
       "\\hline\n",
       "\t857 & chr14:105855499 & 1.600524e-19    &  1              & chr19:48965896  & 1.912760e-53   \\\\\n",
       "\t165 & chr9:19378727   & 1.193751e-18    &  2              & chr5:150412644  & 1.112301e-31   \\\\\n",
       "\t482 & chr19:48965896  & 2.323418e-16    &  3              & chr14:105855499 & 6.245717e-21   \\\\\n",
       "\t992 & chr5:150412644  & 3.652742e-11    &  4              & chr7:142801407  & 3.899738e-03   \\\\\n",
       "\t211 & chr6:24718559   & 1.525624e-03    &  5              & chr10:3781660   & 4.779568e-03   \\\\\n",
       "\t994 & chr5:150446821  & 6.480329e-03    &  6              & chr12:53295619  & 7.660819e-02   \\\\\n",
       "\t1029 & chr6:158770783  & 3.280996e-02    &  7              & chr1:30757678   & 9.849624e-02   \\\\\n",
       "\t282 & chr6:31355336   & 7.380490e-01    &  8              & chr19:2269724   & 2.799145e-01   \\\\\n",
       "\t1 & chr9:172100     & 1.000000e+00    &  9              & chr5:150445628  & 3.528620e-01   \\\\\n",
       "\t2 & chr11:209980    & 1.000000e+00    & 10              & chr6:30490495   & 5.328025e-01   \\\\\n",
       "\t3 & chr11:212491    & 1.000000e+00    & 11              & chr15:44715681  & 5.328025e-01   \\\\\n",
       "\t4 & chr16:220668    & 1.000000e+00    & 12              & chr3:71015568   & 5.328025e-01   \\\\\n",
       "\t5 & chr2:271919     & 1.000000e+00    & 13              & chr12:6960219   & 7.197802e-01   \\\\\n",
       "\t6 & chr5:304201     & 1.000000e+00    & 14              & chr7:99374761   & 7.197802e-01   \\\\\n",
       "\t7 & chr11:500503    & 1.000000e+00    & 15              & chr20:36497046  & 8.086420e-01   \\\\\n",
       "\t8 & chr11:507132    & 1.000000e+00    & 16              & chr22:39014359  & 8.086420e-01   \\\\\n",
       "\t9 & chr11:614495    & 1.000000e+00    & 17              & chr17:41689049  & 8.086420e-01   \\\\\n",
       "\t10 & chr11:614816    & 1.000000e+00    & 18              & chr1:206921837  & 8.086420e-01   \\\\\n",
       "\t11 & chr16:635631    & 1.000000e+00    & 19              & chr19:1272031   & 8.187500e-01   \\\\\n",
       "\t12 & chr16:670155    & 1.000000e+00    & 20              & chr1:209756289  & 8.187500e-01   \\\\\n",
       "\\end{tabular}\n"
      ],
      "text/markdown": [
       "\n",
       "| <!--/--> | genes3 | pvals3adj | index | genes5 | pvals5adj | \n",
       "|---|---|---|---|---|---|---|---|---|---|---|---|---|---|---|---|---|---|---|---|\n",
       "| 857 | chr14:105855499 | 1.600524e-19    |  1              | chr19:48965896  | 1.912760e-53    | \n",
       "| 165 | chr9:19378727   | 1.193751e-18    |  2              | chr5:150412644  | 1.112301e-31    | \n",
       "| 482 | chr19:48965896  | 2.323418e-16    |  3              | chr14:105855499 | 6.245717e-21    | \n",
       "| 992 | chr5:150412644  | 3.652742e-11    |  4              | chr7:142801407  | 3.899738e-03    | \n",
       "| 211 | chr6:24718559   | 1.525624e-03    |  5              | chr10:3781660   | 4.779568e-03    | \n",
       "| 994 | chr5:150446821  | 6.480329e-03    |  6              | chr12:53295619  | 7.660819e-02    | \n",
       "| 1029 | chr6:158770783  | 3.280996e-02    |  7              | chr1:30757678   | 9.849624e-02    | \n",
       "| 282 | chr6:31355336   | 7.380490e-01    |  8              | chr19:2269724   | 2.799145e-01    | \n",
       "| 1 | chr9:172100     | 1.000000e+00    |  9              | chr5:150445628  | 3.528620e-01    | \n",
       "| 2 | chr11:209980    | 1.000000e+00    | 10              | chr6:30490495   | 5.328025e-01    | \n",
       "| 3 | chr11:212491    | 1.000000e+00    | 11              | chr15:44715681  | 5.328025e-01    | \n",
       "| 4 | chr16:220668    | 1.000000e+00    | 12              | chr3:71015568   | 5.328025e-01    | \n",
       "| 5 | chr2:271919     | 1.000000e+00    | 13              | chr12:6960219   | 7.197802e-01    | \n",
       "| 6 | chr5:304201     | 1.000000e+00    | 14              | chr7:99374761   | 7.197802e-01    | \n",
       "| 7 | chr11:500503    | 1.000000e+00    | 15              | chr20:36497046  | 8.086420e-01    | \n",
       "| 8 | chr11:507132    | 1.000000e+00    | 16              | chr22:39014359  | 8.086420e-01    | \n",
       "| 9 | chr11:614495    | 1.000000e+00    | 17              | chr17:41689049  | 8.086420e-01    | \n",
       "| 10 | chr11:614816    | 1.000000e+00    | 18              | chr1:206921837  | 8.086420e-01    | \n",
       "| 11 | chr16:635631    | 1.000000e+00    | 19              | chr19:1272031   | 8.187500e-01    | \n",
       "| 12 | chr16:670155    | 1.000000e+00    | 20              | chr1:209756289  | 8.187500e-01    | \n",
       "\n",
       "\n"
      ],
      "text/plain": [
       "     genes3          pvals3adj    index genes5          pvals5adj   \n",
       "857  chr14:105855499 1.600524e-19  1    chr19:48965896  1.912760e-53\n",
       "165  chr9:19378727   1.193751e-18  2    chr5:150412644  1.112301e-31\n",
       "482  chr19:48965896  2.323418e-16  3    chr14:105855499 6.245717e-21\n",
       "992  chr5:150412644  3.652742e-11  4    chr7:142801407  3.899738e-03\n",
       "211  chr6:24718559   1.525624e-03  5    chr10:3781660   4.779568e-03\n",
       "994  chr5:150446821  6.480329e-03  6    chr12:53295619  7.660819e-02\n",
       "1029 chr6:158770783  3.280996e-02  7    chr1:30757678   9.849624e-02\n",
       "282  chr6:31355336   7.380490e-01  8    chr19:2269724   2.799145e-01\n",
       "1    chr9:172100     1.000000e+00  9    chr5:150445628  3.528620e-01\n",
       "2    chr11:209980    1.000000e+00 10    chr6:30490495   5.328025e-01\n",
       "3    chr11:212491    1.000000e+00 11    chr15:44715681  5.328025e-01\n",
       "4    chr16:220668    1.000000e+00 12    chr3:71015568   5.328025e-01\n",
       "5    chr2:271919     1.000000e+00 13    chr12:6960219   7.197802e-01\n",
       "6    chr5:304201     1.000000e+00 14    chr7:99374761   7.197802e-01\n",
       "7    chr11:500503    1.000000e+00 15    chr20:36497046  8.086420e-01\n",
       "8    chr11:507132    1.000000e+00 16    chr22:39014359  8.086420e-01\n",
       "9    chr11:614495    1.000000e+00 17    chr17:41689049  8.086420e-01\n",
       "10   chr11:614816    1.000000e+00 18    chr1:206921837  8.086420e-01\n",
       "11   chr16:635631    1.000000e+00 19    chr19:1272031   8.187500e-01\n",
       "12   chr16:670155    1.000000e+00 20    chr1:209756289  8.187500e-01"
      ]
     },
     "metadata": {},
     "output_type": "display_data"
    }
   ],
   "source": [
    "length(unique(pvals5[pvals5<0.05]))  # number of significant alt 5'ss events\n",
    "length(unique(pvals3[pvals3<0.05]))  # number of significant alt 3'ss events\n",
    "pvals5adj = p.adjust(pvals5, method='fdr')\n",
    "pvals3adj = p.adjust(pvals3, method='fdr')\n",
    "length(unique(pvals5adj[pvals5adj<0.05]))  # number of significant alt 5' ss events after fdr correction\n",
    "length(unique(pvals3adj[pvals3adj<0.05]))  # number of significant alt 3' ss events after fdr connection\n",
    "length(unique(paste0(junctions5[,1],junctions5[,3])))  # number of alt 5' ss events\n",
    "length(unique(paste0(junctions3[,1], junctions3[,2])))  # number of alt 3' ss events\n",
    "df3 = data.frame(genes3, pvals3adj)\n",
    "df5 = data.frame(genes5, pvals5adj)\n",
    "cbind((df3[order(df3$pvals3adj),][1:20,]), data.frame(index=seq(1:20)), (df5[order(df5$pvals5adj),][1:20,]))"
   ]
  },
  {
   "cell_type": "code",
   "execution_count": 4,
   "metadata": {
    "collapsed": false,
    "scrolled": false
   },
   "outputs": [
    {
     "data": {
      "image/png": "[encoded data removed]",
      "text/plain": [
       "plot without title"
      ]
     },
     "metadata": {},
     "output_type": "display_data"
    },
    {
     "data": {
      "image/png": "[encoded data removed]",
      "text/plain": [
       "plot without title"
      ]
     },
     "metadata": {},
     "output_type": "display_data"
    },
    {
     "data": {
      "image/png": "[encoded data removed]",
      "text/plain": [
       "plot without title"
      ]
     },
     "metadata": {},
     "output_type": "display_data"
    }
   ],
   "source": [
    "plot(-1*log10(seq(1,0,-1/length(pvals3)))[1:length(pvals3)],-1*log10(rev(sort(pvals3))),type='l')\n",
    "source(\"~/bme/jupyter_data/qq_pval.r\")\n",
    "qq_pval(pvals3)\n",
    "qq_pval(pvals5)"
   ]
  },
  {
   "cell_type": "markdown",
   "metadata": {},
   "source": [
    "I decided to move all contingency table making and fisher testing into python for sake of time. I've put the accompanying script in the same github folder as these jupyter notebooks.\n",
    "Changes from above implementations of fisher tests:\n",
    "1. I use all junctions found in the corrected reads. Before I was using junctions that were novel to the corrected nanopore reads.\n",
    "2. Contigency tables are formed with the counts in wildtype/mutant that are used by a junctionA and the sum of counts of all other junctions sharing the same 5' (or 3', when looking at alternative 5' splicing) as junctionA. Before I was doing pairwise comparisons.\n",
    "3. The counts of wt or mt reads aligning to a junction must sum to at least 2 (arbitrary cutoff, can experiment). "
   ]
  },
  {
   "cell_type": "code",
   "execution_count": 45,
   "metadata": {
    "collapsed": false,
    "scrolled": false
   },
   "outputs": [
    {
     "data": {
      "text/html": [
       "6680"
      ],
      "text/latex": [
       "6680"
      ],
      "text/markdown": [
       "6680"
      ],
      "text/plain": [
       "[1] 6680"
      ]
     },
     "metadata": {},
     "output_type": "display_data"
    },
    {
     "data": {
      "text/html": [
       "5835"
      ],
      "text/latex": [
       "5835"
      ],
      "text/markdown": [
       "5835"
      ],
      "text/plain": [
       "[1] 5835"
      ]
     },
     "metadata": {},
     "output_type": "display_data"
    },
    {
     "data": {
      "text/html": [
       "189"
      ],
      "text/latex": [
       "189"
      ],
      "text/markdown": [
       "189"
      ],
      "text/plain": [
       "[1] 189"
      ]
     },
     "metadata": {},
     "output_type": "display_data"
    },
    {
     "data": {
      "text/html": [
       "165"
      ],
      "text/latex": [
       "165"
      ],
      "text/markdown": [
       "165"
      ],
      "text/plain": [
       "[1] 165"
      ]
     },
     "metadata": {},
     "output_type": "display_data"
    },
    {
     "data": {
      "text/html": [
       "<table>\n",
       "<thead><tr><th></th><th scope=col>V1</th><th scope=col>V2</th><th scope=col>V3</th><th scope=col>V4</th><th scope=col>V5</th><th scope=col>V6</th><th scope=col>V7</th><th scope=col>V8</th><th scope=col>V9</th><th scope=col>padj</th></tr></thead>\n",
       "<tbody>\n",
       "\t<tr><th scope=row>1542</th><td>chr19       </td><td> 48965769   </td><td> 48965609   </td><td>5.630790e-50</td><td>-           </td><td> 43         </td><td>340         </td><td>93          </td><td> 15         </td><td>3.761368e-46</td></tr>\n",
       "\t<tr><th scope=row>5106</th><td>chr19       </td><td> 48965916   </td><td> 48966280   </td><td>1.057174e-42</td><td>+           </td><td> 70         </td><td>334         </td><td>77          </td><td>  4         </td><td>3.530961e-39</td></tr>\n",
       "\t<tr><th scope=row>5414</th><td>chr14       </td><td>105856217   </td><td>105863197   </td><td>3.390310e-31</td><td>+           </td><td>  0         </td><td>153         </td><td>73          </td><td> 61         </td><td>7.549090e-28</td></tr>\n",
       "\t<tr><th scope=row>1539</th><td>chr19       </td><td> 48965769   </td><td> 48965606   </td><td>7.123600e-30</td><td>-           </td><td> 47         </td><td>  0         </td><td>89          </td><td>355         </td><td>1.189641e-26</td></tr>\n",
       "\t<tr><th scope=row>4008</th><td>chr5        </td><td>150412624   </td><td>150407324   </td><td>7.230162e-27</td><td>-           </td><td> 51         </td><td>263         </td><td>84          </td><td> 34         </td><td>9.659497e-24</td></tr>\n",
       "\t<tr><th scope=row>552</th><td>chr14       </td><td>105855479   </td><td>105855234   </td><td>6.220972e-26</td><td>-           </td><td>158         </td><td>101         </td><td>11          </td><td>121         </td><td>6.926016e-23</td></tr>\n",
       "</tbody>\n",
       "</table>\n"
      ],
      "text/latex": [
       "\\begin{tabular}{r|llllllllll}\n",
       "  & V1 & V2 & V3 & V4 & V5 & V6 & V7 & V8 & V9 & padj\\\\\n",
       "\\hline\n",
       "\t1542 & chr19        &  48965769    &  48965609    & 5.630790e-50 & -            &  43          & 340          & 93           &  15          & 3.761368e-46\\\\\n",
       "\t5106 & chr19        &  48965916    &  48966280    & 1.057174e-42 & +            &  70          & 334          & 77           &   4          & 3.530961e-39\\\\\n",
       "\t5414 & chr14        & 105856217    & 105863197    & 3.390310e-31 & +            &   0          & 153          & 73           &  61          & 7.549090e-28\\\\\n",
       "\t1539 & chr19        &  48965769    &  48965606    & 7.123600e-30 & -            &  47          &   0          & 89           & 355          & 1.189641e-26\\\\\n",
       "\t4008 & chr5         & 150412624    & 150407324    & 7.230162e-27 & -            &  51          & 263          & 84           &  34          & 9.659497e-24\\\\\n",
       "\t552 & chr14        & 105855479    & 105855234    & 6.220972e-26 & -            & 158          & 101          & 11           & 121          & 6.926016e-23\\\\\n",
       "\\end{tabular}\n"
      ],
      "text/markdown": [
       "\n",
       "| <!--/--> | V1 | V2 | V3 | V4 | V5 | V6 | V7 | V8 | V9 | padj | \n",
       "|---|---|---|---|---|---|\n",
       "| 1542 | chr19        |  48965769    |  48965609    | 5.630790e-50 | -            |  43          | 340          | 93           |  15          | 3.761368e-46 | \n",
       "| 5106 | chr19        |  48965916    |  48966280    | 1.057174e-42 | +            |  70          | 334          | 77           |   4          | 3.530961e-39 | \n",
       "| 5414 | chr14        | 105856217    | 105863197    | 3.390310e-31 | +            |   0          | 153          | 73           |  61          | 7.549090e-28 | \n",
       "| 1539 | chr19        |  48965769    |  48965606    | 7.123600e-30 | -            |  47          |   0          | 89           | 355          | 1.189641e-26 | \n",
       "| 4008 | chr5         | 150412624    | 150407324    | 7.230162e-27 | -            |  51          | 263          | 84           |  34          | 9.659497e-24 | \n",
       "| 552 | chr14        | 105855479    | 105855234    | 6.220972e-26 | -            | 158          | 101          | 11           | 121          | 6.926016e-23 | \n",
       "\n",
       "\n"
      ],
      "text/plain": [
       "     V1    V2        V3        V4           V5 V6  V7  V8 V9  padj        \n",
       "1542 chr19  48965769  48965609 5.630790e-50 -   43 340 93  15 3.761368e-46\n",
       "5106 chr19  48965916  48966280 1.057174e-42 +   70 334 77   4 3.530961e-39\n",
       "5414 chr14 105856217 105863197 3.390310e-31 +    0 153 73  61 7.549090e-28\n",
       "1539 chr19  48965769  48965606 7.123600e-30 -   47   0 89 355 1.189641e-26\n",
       "4008 chr5  150412624 150407324 7.230162e-27 -   51 263 84  34 9.659497e-24\n",
       "552  chr14 105855479 105855234 6.220972e-26 -  158 101 11 121 6.926016e-23"
      ]
     },
     "metadata": {},
     "output_type": "display_data"
    },
    {
     "data": {
      "text/html": [
       "<table>\n",
       "<thead><tr><th></th><th scope=col>V1</th><th scope=col>V2</th><th scope=col>V3</th><th scope=col>V4</th><th scope=col>V5</th><th scope=col>V6</th><th scope=col>V7</th><th scope=col>V8</th><th scope=col>V9</th><th scope=col>padj</th></tr></thead>\n",
       "<tbody>\n",
       "\t<tr><th scope=row>4453</th><td>chr19       </td><td> 48965769   </td><td> 48965609   </td><td>9.513888e-48</td><td>+           </td><td> 41         </td><td>310         </td><td>91          </td><td> 14         </td><td>5.551354e-44</td></tr>\n",
       "\t<tr><th scope=row>1860</th><td>chr5        </td><td>150412624   </td><td>150407324   </td><td>6.010635e-37</td><td>+           </td><td> 50         </td><td>318         </td><td>80          </td><td> 19         </td><td>1.753603e-33</td></tr>\n",
       "\t<tr><th scope=row>4449</th><td>chr19       </td><td> 48965769   </td><td> 48965606   </td><td>6.760458e-34</td><td>+           </td><td> 54         </td><td>  0         </td><td>78          </td><td>324         </td><td>1.314909e-30</td></tr>\n",
       "\t<tr><th scope=row>4862</th><td>chr14       </td><td>105855479   </td><td>105855234   </td><td>3.459056e-31</td><td>+           </td><td>150         </td><td> 99         </td><td> 4          </td><td>122         </td><td>5.045898e-28</td></tr>\n",
       "\t<tr><th scope=row>469</th><td>chr14       </td><td>105856217   </td><td>105863197   </td><td>4.291951e-30</td><td>-           </td><td>  1         </td><td>131         </td><td>73          </td><td> 46         </td><td>5.008707e-27</td></tr>\n",
       "\t<tr><th scope=row>1670</th><td>chr9        </td><td> 19378707   </td><td> 19378514   </td><td>3.786684e-28</td><td>+           </td><td> 39         </td><td>  2         </td><td> 0          </td><td> 71         </td><td>3.682550e-25</td></tr>\n",
       "</tbody>\n",
       "</table>\n"
      ],
      "text/latex": [
       "\\begin{tabular}{r|llllllllll}\n",
       "  & V1 & V2 & V3 & V4 & V5 & V6 & V7 & V8 & V9 & padj\\\\\n",
       "\\hline\n",
       "\t4453 & chr19        &  48965769    &  48965609    & 9.513888e-48 & +            &  41          & 310          & 91           &  14          & 5.551354e-44\\\\\n",
       "\t1860 & chr5         & 150412624    & 150407324    & 6.010635e-37 & +            &  50          & 318          & 80           &  19          & 1.753603e-33\\\\\n",
       "\t4449 & chr19        &  48965769    &  48965606    & 6.760458e-34 & +            &  54          &   0          & 78           & 324          & 1.314909e-30\\\\\n",
       "\t4862 & chr14        & 105855479    & 105855234    & 3.459056e-31 & +            & 150          &  99          &  4           & 122          & 5.045898e-28\\\\\n",
       "\t469 & chr14        & 105856217    & 105863197    & 4.291951e-30 & -            &   1          & 131          & 73           &  46          & 5.008707e-27\\\\\n",
       "\t1670 & chr9         &  19378707    &  19378514    & 3.786684e-28 & +            &  39          &   2          &  0           &  71          & 3.682550e-25\\\\\n",
       "\\end{tabular}\n"
      ],
      "text/markdown": [
       "\n",
       "| <!--/--> | V1 | V2 | V3 | V4 | V5 | V6 | V7 | V8 | V9 | padj | \n",
       "|---|---|---|---|---|---|\n",
       "| 4453 | chr19        |  48965769    |  48965609    | 9.513888e-48 | +            |  41          | 310          | 91           |  14          | 5.551354e-44 | \n",
       "| 1860 | chr5         | 150412624    | 150407324    | 6.010635e-37 | +            |  50          | 318          | 80           |  19          | 1.753603e-33 | \n",
       "| 4449 | chr19        |  48965769    |  48965606    | 6.760458e-34 | +            |  54          |   0          | 78           | 324          | 1.314909e-30 | \n",
       "| 4862 | chr14        | 105855479    | 105855234    | 3.459056e-31 | +            | 150          |  99          |  4           | 122          | 5.045898e-28 | \n",
       "| 469 | chr14        | 105856217    | 105863197    | 4.291951e-30 | -            |   1          | 131          | 73           |  46          | 5.008707e-27 | \n",
       "| 1670 | chr9         |  19378707    |  19378514    | 3.786684e-28 | +            |  39          |   2          |  0           |  71          | 3.682550e-25 | \n",
       "\n",
       "\n"
      ],
      "text/plain": [
       "     V1    V2        V3        V4           V5 V6  V7  V8 V9  padj        \n",
       "4453 chr19  48965769  48965609 9.513888e-48 +   41 310 91  14 5.551354e-44\n",
       "1860 chr5  150412624 150407324 6.010635e-37 +   50 318 80  19 1.753603e-33\n",
       "4449 chr19  48965769  48965606 6.760458e-34 +   54   0 78 324 1.314909e-30\n",
       "4862 chr14 105855479 105855234 3.459056e-31 +  150  99  4 122 5.045898e-28\n",
       "469  chr14 105856217 105863197 4.291951e-30 -    1 131 73  46 5.008707e-27\n",
       "1670 chr9   19378707  19378514 3.786684e-28 +   39   2  0  71 3.682550e-25"
      ]
     },
     "metadata": {},
     "output_type": "display_data"
    },
    {
     "data": {
      "text/html": [
       "28"
      ],
      "text/latex": [
       "28"
      ],
      "text/markdown": [
       "28"
      ],
      "text/plain": [
       "[1] 28"
      ]
     },
     "metadata": {},
     "output_type": "display_data"
    },
    {
     "data": {
      "text/html": [
       "26"
      ],
      "text/latex": [
       "26"
      ],
      "text/markdown": [
       "26"
      ],
      "text/plain": [
       "[1] 26"
      ]
     },
     "metadata": {},
     "output_type": "display_data"
    },
    {
     "data": {
      "image/png": "[encoded data removed]",
      "text/plain": [
       "Plot with title \"Alt 3'SS\""
      ]
     },
     "metadata": {},
     "output_type": "display_data"
    },
    {
     "data": {
      "image/png": "[encoded data removed]",
      "text/plain": [
       "Plot with title \"Alt 5'SS\""
      ]
     },
     "metadata": {},
     "output_type": "display_data"
    }
   ],
   "source": [
    "setwd('~/bme/jupyter_data/')\n",
    "threeprime = read.table('alt3primess_fisher.txt')  # chrom, junction 5', 3', pval, strand, wt counts for this junction, \n",
    "                                                    # mt counts ' ', wt sum for all other junctions with this 5' position,\n",
    "                                                    # mt sum ' '\n",
    "fiveprime = read.table('alt5primess_fisher.txt')\n",
    "nrow(threeprime)  # 3' total number of valid tests (counts >= 2)\n",
    "nrow(fiveprime)  # 5' \"\"\n",
    "sum(threeprime$V4 < 0.05)  # 3' tests that were significant\n",
    "sum(fiveprime$V4 < 0.05)  # 5' \"\"\n",
    "pvals3adj = p.adjust(threeprime$V4, method='fdr')\n",
    "pvals5adj = p.adjust(fiveprime$V4, method='fdr')\n",
    "threeprime$padj = pvals3adj\n",
    "fiveprime$padj = pvals5adj\n",
    "head(threeprime[order(threeprime$V4),])\n",
    "head(fiveprime[order(fiveprime$V4),])\n",
    "sum(pvals3adj < 0.05)  #  3' tests that were significant after correction\n",
    "sum(pvals5adj < 0.05)  # 5' \"\"\n",
    "temp = threeprime$V6+1\n",
    "temp2 = threeprime$V7+1\n",
    "temp = (temp2 - temp)/(temp2+temp)*100 # rough calculation of psi\n",
    "plot(temp,log10(threeprime$V4)*-1, pch=16, cex=0.3, main=\"Alt 3'SS\")  # a poor man's volcano plot\n",
    "temp = fiveprime$V6+1\n",
    "temp2 = fiveprime$V7+1\n",
    "temp = (temp2 - temp)/(temp2+temp)*100\n",
    "plot(temp,log10(fiveprime$V4)*-1, pch=16, cex=0.3, main=\"Alt 5'SS\")"
   ]
  },
  {
   "cell_type": "code",
   "execution_count": 32,
   "metadata": {
    "collapsed": false
   },
   "outputs": [
    {
     "data": {
      "image/png": "[encoded data removed]",
      "text/plain": [
       "plot without title"
      ]
     },
     "metadata": {},
     "output_type": "display_data"
    },
    {
     "data": {
      "image/png": "[encoded data removed]",
      "text/plain": [
       "plot without title"
      ]
     },
     "metadata": {},
     "output_type": "display_data"
    }
   ],
   "source": [
    "source(\"~/bme/jupyter_data/qq_pval.r\")\n",
    "qq_pval(threeprime$V4)\n",
    "qq_pval(fiveprime$V4)"
   ]
  },
  {
   "cell_type": "markdown",
   "metadata": {},
   "source": [
    "Ahh.. once again I fix the strand. Before I was using the strand that the read came from, which is not necessarily consistent with what strand the gene is on. It makes for poor fisher testing."
   ]
  },
  {
   "cell_type": "code",
   "execution_count": 57,
   "metadata": {
    "collapsed": false,
    "scrolled": false
   },
   "outputs": [
    {
     "data": {
      "text/html": [
       "2492"
      ],
      "text/latex": [
       "2492"
      ],
      "text/markdown": [
       "2492"
      ],
      "text/plain": [
       "[1] 2492"
      ]
     },
     "metadata": {},
     "output_type": "display_data"
    },
    {
     "data": {
      "text/html": [
       "5092"
      ],
      "text/latex": [
       "5092"
      ],
      "text/markdown": [
       "5092"
      ],
      "text/plain": [
       "[1] 5092"
      ]
     },
     "metadata": {},
     "output_type": "display_data"
    },
    {
     "data": {
      "text/html": [
       "65"
      ],
      "text/latex": [
       "65"
      ],
      "text/markdown": [
       "65"
      ],
      "text/plain": [
       "[1] 65"
      ]
     },
     "metadata": {},
     "output_type": "display_data"
    },
    {
     "data": {
      "text/html": [
       "90"
      ],
      "text/latex": [
       "90"
      ],
      "text/markdown": [
       "90"
      ],
      "text/plain": [
       "[1] 90"
      ]
     },
     "metadata": {},
     "output_type": "display_data"
    },
    {
     "data": {
      "text/html": [
       "<table>\n",
       "<thead><tr><th></th><th scope=col>V1</th><th scope=col>V2</th><th scope=col>V3</th><th scope=col>V4</th><th scope=col>V5</th><th scope=col>V6</th><th scope=col>V7</th><th scope=col>V8</th><th scope=col>V9</th><th scope=col>V10</th><th scope=col>padj</th></tr></thead>\n",
       "<tbody>\n",
       "\t<tr><th scope=row>1697</th><td>chr5        </td><td>150412624   </td><td>150407324   </td><td>2.439924e-40</td><td>-           </td><td> 51         </td><td>263         </td><td> 82         </td><td>  8         </td><td>CD74        </td><td>6.080290e-37</td></tr>\n",
       "\t<tr><th scope=row>477</th><td>chr14       </td><td>105855479   </td><td>105855234   </td><td>4.247743e-28</td><td>-           </td><td>158         </td><td>101         </td><td> 11         </td><td>132         </td><td>IGHM        </td><td>5.292688e-25</td></tr>\n",
       "\t<tr><th scope=row>1176</th><td>chr9        </td><td> 19378707   </td><td> 19378514   </td><td>2.048377e-26</td><td>-           </td><td> 34         </td><td>  1         </td><td>  1         </td><td> 76         </td><td>RPS6        </td><td>1.701519e-23</td></tr>\n",
       "\t<tr><th scope=row>480</th><td>chr14       </td><td>105855479   </td><td>105855238   </td><td>1.056691e-15</td><td>-           </td><td>  0         </td><td> 58         </td><td>169         </td><td>175         </td><td>IGHM        </td><td>6.583186e-13</td></tr>\n",
       "\t<tr><th scope=row>1584</th><td>chr6        </td><td> 31355316   </td><td> 31355223   </td><td>2.356985e-12</td><td>-           </td><td>  7         </td><td> 60         </td><td> 28         </td><td>  7         </td><td>HLA-B       </td><td>1.174721e-09</td></tr>\n",
       "\t<tr><th scope=row>1504</th><td>chr6        </td><td> 24718539   </td><td> 24716324   </td><td>4.731716e-11</td><td>-           </td><td> 16         </td><td> 54         </td><td> 27         </td><td>  2         </td><td>C6orf62     </td><td>1.965239e-08</td></tr>\n",
       "</tbody>\n",
       "</table>\n"
      ],
      "text/latex": [
       "\\begin{tabular}{r|lllllllllll}\n",
       "  & V1 & V2 & V3 & V4 & V5 & V6 & V7 & V8 & V9 & V10 & padj\\\\\n",
       "\\hline\n",
       "\t1697 & chr5         & 150412624    & 150407324    & 2.439924e-40 & -            &  51          & 263          &  82          &   8          & CD74         & 6.080290e-37\\\\\n",
       "\t477 & chr14        & 105855479    & 105855234    & 4.247743e-28 & -            & 158          & 101          &  11          & 132          & IGHM         & 5.292688e-25\\\\\n",
       "\t1176 & chr9         &  19378707    &  19378514    & 2.048377e-26 & -            &  34          &   1          &   1          &  76          & RPS6         & 1.701519e-23\\\\\n",
       "\t480 & chr14        & 105855479    & 105855238    & 1.056691e-15 & -            &   0          &  58          & 169          & 175          & IGHM         & 6.583186e-13\\\\\n",
       "\t1584 & chr6         &  31355316    &  31355223    & 2.356985e-12 & -            &   7          &  60          &  28          &   7          & HLA-B        & 1.174721e-09\\\\\n",
       "\t1504 & chr6         &  24718539    &  24716324    & 4.731716e-11 & -            &  16          &  54          &  27          &   2          & C6orf62      & 1.965239e-08\\\\\n",
       "\\end{tabular}\n"
      ],
      "text/markdown": [
       "\n",
       "| <!--/--> | V1 | V2 | V3 | V4 | V5 | V6 | V7 | V8 | V9 | V10 | padj | \n",
       "|---|---|---|---|---|---|\n",
       "| 1697 | chr5         | 150412624    | 150407324    | 2.439924e-40 | -            |  51          | 263          |  82          |   8          | CD74         | 6.080290e-37 | \n",
       "| 477 | chr14        | 105855479    | 105855234    | 4.247743e-28 | -            | 158          | 101          |  11          | 132          | IGHM         | 5.292688e-25 | \n",
       "| 1176 | chr9         |  19378707    |  19378514    | 2.048377e-26 | -            |  34          |   1          |   1          |  76          | RPS6         | 1.701519e-23 | \n",
       "| 480 | chr14        | 105855479    | 105855238    | 1.056691e-15 | -            |   0          |  58          | 169          | 175          | IGHM         | 6.583186e-13 | \n",
       "| 1584 | chr6         |  31355316    |  31355223    | 2.356985e-12 | -            |   7          |  60          |  28          |   7          | HLA-B        | 1.174721e-09 | \n",
       "| 1504 | chr6         |  24718539    |  24716324    | 4.731716e-11 | -            |  16          |  54          |  27          |   2          | C6orf62      | 1.965239e-08 | \n",
       "\n",
       "\n"
      ],
      "text/plain": [
       "     V1    V2        V3        V4           V5 V6  V7  V8  V9  V10    \n",
       "1697 chr5  150412624 150407324 2.439924e-40 -   51 263  82   8 CD74   \n",
       "477  chr14 105855479 105855234 4.247743e-28 -  158 101  11 132 IGHM   \n",
       "1176 chr9   19378707  19378514 2.048377e-26 -   34   1   1  76 RPS6   \n",
       "480  chr14 105855479 105855238 1.056691e-15 -    0  58 169 175 IGHM   \n",
       "1584 chr6   31355316  31355223 2.356985e-12 -    7  60  28   7 HLA-B  \n",
       "1504 chr6   24718539  24716324 4.731716e-11 -   16  54  27   2 C6orf62\n",
       "     padj        \n",
       "1697 6.080290e-37\n",
       "477  5.292688e-25\n",
       "1176 1.701519e-23\n",
       "480  6.583186e-13\n",
       "1584 1.174721e-09\n",
       "1504 1.965239e-08"
      ]
     },
     "metadata": {},
     "output_type": "display_data"
    },
    {
     "data": {
      "text/html": [
       "<table>\n",
       "<thead><tr><th></th><th scope=col>V1</th><th scope=col>V2</th><th scope=col>V3</th><th scope=col>V4</th><th scope=col>V5</th><th scope=col>V6</th><th scope=col>V7</th><th scope=col>V8</th><th scope=col>V9</th><th scope=col>V10</th><th scope=col>padj</th></tr></thead>\n",
       "<tbody>\n",
       "\t<tr><th scope=row>3769</th><td>chr19       </td><td> 48965769   </td><td> 48965609   </td><td>1.755952e-50</td><td>+           </td><td>43          </td><td>340         </td><td>101         </td><td> 20         </td><td>FTL         </td><td>8.941307e-47</td></tr>\n",
       "\t<tr><th scope=row>427</th><td>chr14       </td><td>105856217   </td><td>105863197   </td><td>9.148395e-32</td><td>-           </td><td> 1          </td><td>131         </td><td> 81         </td><td> 49         </td><td>IGHM        </td><td>2.329181e-28</td></tr>\n",
       "\t<tr><th scope=row>3765</th><td>chr19       </td><td> 48965769   </td><td> 48965606   </td><td>5.110666e-29</td><td>+           </td><td>47          </td><td>  0         </td><td> 97         </td><td>360         </td><td>FTL         </td><td>8.674504e-26</td></tr>\n",
       "\t<tr><th scope=row>3764</th><td>chr19       </td><td> 48965769   </td><td> 48965604   </td><td>3.149554e-13</td><td>+           </td><td>22          </td><td>  0         </td><td>122         </td><td>360         </td><td>FTL         </td><td>4.009383e-10</td></tr>\n",
       "\t<tr><th scope=row>431</th><td>chr14       </td><td>105856217   </td><td>105864214   </td><td>1.327661e-12</td><td>-           </td><td>32          </td><td>  7         </td><td> 50         </td><td>173         </td><td>IGHM        </td><td>1.352090e-09</td></tr>\n",
       "\t<tr><th scope=row>3432</th><td>chr2        </td><td> 88857683   </td><td> 88860885   </td><td>9.272923e-08</td><td>-           </td><td>85          </td><td>  3         </td><td> 18         </td><td> 15         </td><td>IGKC        </td><td>7.869621e-05</td></tr>\n",
       "</tbody>\n",
       "</table>\n"
      ],
      "text/latex": [
       "\\begin{tabular}{r|lllllllllll}\n",
       "  & V1 & V2 & V3 & V4 & V5 & V6 & V7 & V8 & V9 & V10 & padj\\\\\n",
       "\\hline\n",
       "\t3769 & chr19        &  48965769    &  48965609    & 1.755952e-50 & +            & 43           & 340          & 101          &  20          & FTL          & 8.941307e-47\\\\\n",
       "\t427 & chr14        & 105856217    & 105863197    & 9.148395e-32 & -            &  1           & 131          &  81          &  49          & IGHM         & 2.329181e-28\\\\\n",
       "\t3765 & chr19        &  48965769    &  48965606    & 5.110666e-29 & +            & 47           &   0          &  97          & 360          & FTL          & 8.674504e-26\\\\\n",
       "\t3764 & chr19        &  48965769    &  48965604    & 3.149554e-13 & +            & 22           &   0          & 122          & 360          & FTL          & 4.009383e-10\\\\\n",
       "\t431 & chr14        & 105856217    & 105864214    & 1.327661e-12 & -            & 32           &   7          &  50          & 173          & IGHM         & 1.352090e-09\\\\\n",
       "\t3432 & chr2         &  88857683    &  88860885    & 9.272923e-08 & -            & 85           &   3          &  18          &  15          & IGKC         & 7.869621e-05\\\\\n",
       "\\end{tabular}\n"
      ],
      "text/markdown": [
       "\n",
       "| <!--/--> | V1 | V2 | V3 | V4 | V5 | V6 | V7 | V8 | V9 | V10 | padj | \n",
       "|---|---|---|---|---|---|\n",
       "| 3769 | chr19        |  48965769    |  48965609    | 1.755952e-50 | +            | 43           | 340          | 101          |  20          | FTL          | 8.941307e-47 | \n",
       "| 427 | chr14        | 105856217    | 105863197    | 9.148395e-32 | -            |  1           | 131          |  81          |  49          | IGHM         | 2.329181e-28 | \n",
       "| 3765 | chr19        |  48965769    |  48965606    | 5.110666e-29 | +            | 47           |   0          |  97          | 360          | FTL          | 8.674504e-26 | \n",
       "| 3764 | chr19        |  48965769    |  48965604    | 3.149554e-13 | +            | 22           |   0          | 122          | 360          | FTL          | 4.009383e-10 | \n",
       "| 431 | chr14        | 105856217    | 105864214    | 1.327661e-12 | -            | 32           |   7          |  50          | 173          | IGHM         | 1.352090e-09 | \n",
       "| 3432 | chr2         |  88857683    |  88860885    | 9.272923e-08 | -            | 85           |   3          |  18          |  15          | IGKC         | 7.869621e-05 | \n",
       "\n",
       "\n"
      ],
      "text/plain": [
       "     V1    V2        V3        V4           V5 V6 V7  V8  V9  V10  padj        \n",
       "3769 chr19  48965769  48965609 1.755952e-50 +  43 340 101  20 FTL  8.941307e-47\n",
       "427  chr14 105856217 105863197 9.148395e-32 -   1 131  81  49 IGHM 2.329181e-28\n",
       "3765 chr19  48965769  48965606 5.110666e-29 +  47   0  97 360 FTL  8.674504e-26\n",
       "3764 chr19  48965769  48965604 3.149554e-13 +  22   0 122 360 FTL  4.009383e-10\n",
       "431  chr14 105856217 105864214 1.327661e-12 -  32   7  50 173 IGHM 1.352090e-09\n",
       "3432 chr2   88857683  88860885 9.272923e-08 -  85   3  18  15 IGKC 7.869621e-05"
      ]
     },
     "metadata": {},
     "output_type": "display_data"
    },
    {
     "data": {
      "text/html": [
       "15"
      ],
      "text/latex": [
       "15"
      ],
      "text/markdown": [
       "15"
      ],
      "text/plain": [
       "[1] 15"
      ]
     },
     "metadata": {},
     "output_type": "display_data"
    },
    {
     "data": {
      "text/html": [
       "11"
      ],
      "text/latex": [
       "11"
      ],
      "text/markdown": [
       "11"
      ],
      "text/plain": [
       "[1] 11"
      ]
     },
     "metadata": {},
     "output_type": "display_data"
    },
    {
     "data": {
      "image/png": "[encoded data removed]",
      "text/plain": [
       "Plot with title \"Alt 3'SS\""
      ]
     },
     "metadata": {},
     "output_type": "display_data"
    },
    {
     "data": {
      "image/png": "[encoded data removed]",
      "text/plain": [
       "Plot with title \"Alt 5'SS\""
      ]
     },
     "metadata": {},
     "output_type": "display_data"
    },
    {
     "data": {
      "image/png": "[encoded data removed]",
      "text/plain": [
       "plot without title"
      ]
     },
     "metadata": {},
     "output_type": "display_data"
    },
    {
     "data": {
      "image/png": "[encoded data removed]",
      "text/plain": [
       "plot without title"
      ]
     },
     "metadata": {},
     "output_type": "display_data"
    }
   ],
   "source": [
    "setwd('~/bme/jupyter_data/')\n",
    "threeprime = read.table('alt3primess_strandfixed.txt')  # chrom, junction 5', 3', pval, strand, wt counts for this junction, \n",
    "                                                    # mt counts ' ', wt sum for all other junctions with this 5' position,\n",
    "                                                    # mt sum ' '\n",
    "fiveprime = read.table('alt5primess_strandfixed.txt')\n",
    "nrow(threeprime)  # 3' total number of valid tests (counts >= 2)\n",
    "nrow(fiveprime)  # 5' \"\"\n",
    "sum(threeprime$V4 < 0.05)  # 3' tests that were significant\n",
    "sum(fiveprime$V4 < 0.05)  # 5' \"\"\n",
    "pvals3adj = p.adjust(threeprime$V4, method='fdr')\n",
    "pvals5adj = p.adjust(fiveprime$V4, method='fdr')\n",
    "threeprime$padj = pvals3adj\n",
    "fiveprime$padj = pvals5adj\n",
    "head(threeprime[order(threeprime$V4),])\n",
    "head(fiveprime[order(fiveprime$V4),])\n",
    "sum(pvals3adj < 0.05)  #  3' tests that were significant after correction\n",
    "sum(pvals5adj < 0.05)  # 5' \"\"\n",
    "psi = threeprime$V6+1\n",
    "psi2 = threeprime$V7+1\n",
    "psi = (psi2 - psi)/(psi2+psi)*100 # rough calculation of psi\n",
    "plot(psi,log10(threeprime$V4)*-1, pch=16, cex=0.3, main=\"Alt 3'SS\")  # a poor man's volcano plot\n",
    "psi = fiveprime$V6+1\n",
    "psi2 = fiveprime$V7+1\n",
    "psi = (psi2 - psi)/(psi2+psi)*100\n",
    "plot(psi,log10(fiveprime$V4)*-1, pch=16, cex=0.3, main=\"Alt 5'SS\")\n",
    "source(\"~/bme/jupyter_data/qq_pval.r\")\n",
    "qq_pval(threeprime$V4)\n",
    "qq_pval(fiveprime$V4)"
   ]
  }
 ],
 "metadata": {
  "kernelspec": {
   "display_name": "R",
   "language": "R",
   "name": "ir"
  },
  "language_info": {
   "codemirror_mode": "r",
   "file_extension": ".r",
   "mimetype": "text/x-r-source",
   "name": "R",
   "pygments_lexer": "r",
   "version": "3.2.3"
  }
 },
 "nbformat": 4,
 "nbformat_minor": 0
}
