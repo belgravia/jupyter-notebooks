{
 "cells": [
  {
   "cell_type": "markdown",
   "metadata": {},
   "source": [
    "I do Fisher exact tests on junctions we already know are alternatively spliced from short reads just to see what concordance looks like.\n",
    "\n",
    "A few genes have p-values that aren't 1, however none have a value below 0.05. The x-axis is arbitrarily indexed."
   ]
  },
  {
   "cell_type": "code",
   "execution_count": 13,
   "metadata": {
    "collapsed": false
   },
   "outputs": [
    {
     "data": {
      "text/html": [
       "<table>\n",
       "<thead><tr><th scope=col>V1</th><th scope=col>V2</th><th scope=col>V3</th><th scope=col>V4</th><th scope=col>V5</th><th scope=col>V1</th><th scope=col>V2</th><th scope=col>V3</th><th scope=col>V4</th><th scope=col>V5</th></tr></thead>\n",
       "<tbody>\n",
       "\t<tr><td>PCK2                  </td><td>24099721              </td><td>24099994              </td><td>0                     </td><td>1                     </td><td>PCK2                  </td><td>24099721              </td><td>24099994              </td><td>2                     </td><td>1                     </td></tr>\n",
       "\t<tr><td>PCK2                  </td><td>24099721              </td><td>24102752              </td><td>0                     </td><td>1                     </td><td>PCK2                  </td><td>24099721              </td><td>24102752              </td><td>1                     </td><td>1                     </td></tr>\n",
       "\t<tr><td>GOLGA6L5,RP11-182J1.12</td><td>84513303              </td><td>84513966              </td><td>0                     </td><td>1                     </td><td>GOLGA6L5,RP11-182J1.12</td><td>84513303              </td><td>84513966              </td><td>0                     </td><td>1                     </td></tr>\n",
       "\t<tr><td>GOLGA6L5,RP11-182J1.12</td><td>84513331              </td><td>84513966              </td><td>0                     </td><td>1                     </td><td>GOLGA6L5,RP11-182J1.12</td><td>84513331              </td><td>84513966              </td><td>0                     </td><td>1                     </td></tr>\n",
       "\t<tr><td>DDHD2                 </td><td>38237628              </td><td>38238106              </td><td>0                     </td><td>1                     </td><td>DDHD2                 </td><td>38237628              </td><td>38238106              </td><td>0                     </td><td>1                     </td></tr>\n",
       "\t<tr><td>DDHD2                 </td><td>38237628              </td><td>38238088              </td><td>1                     </td><td>1                     </td><td>DDHD2                 </td><td>38237628              </td><td>38238088              </td><td>0                     </td><td>1                     </td></tr>\n",
       "</tbody>\n",
       "</table>\n"
      ],
      "text/latex": [
       "\\begin{tabular}{r|llllllllll}\n",
       " V1 & V2 & V3 & V4 & V5 & V1 & V2 & V3 & V4 & V5\\\\\n",
       "\\hline\n",
       "\t PCK2                   & 24099721               & 24099994               & 0                      & 1                      & PCK2                   & 24099721               & 24099994               & 2                      & 1                     \\\\\n",
       "\t PCK2                   & 24099721               & 24102752               & 0                      & 1                      & PCK2                   & 24099721               & 24102752               & 1                      & 1                     \\\\\n",
       "\t GOLGA6L5,RP11-182J1.12 & 84513303               & 84513966               & 0                      & 1                      & GOLGA6L5,RP11-182J1.12 & 84513303               & 84513966               & 0                      & 1                     \\\\\n",
       "\t GOLGA6L5,RP11-182J1.12 & 84513331               & 84513966               & 0                      & 1                      & GOLGA6L5,RP11-182J1.12 & 84513331               & 84513966               & 0                      & 1                     \\\\\n",
       "\t DDHD2                  & 38237628               & 38238106               & 0                      & 1                      & DDHD2                  & 38237628               & 38238106               & 0                      & 1                     \\\\\n",
       "\t DDHD2                  & 38237628               & 38238088               & 1                      & 1                      & DDHD2                  & 38237628               & 38238088               & 0                      & 1                     \\\\\n",
       "\\end{tabular}\n"
      ],
      "text/markdown": [
       "\n",
       "V1 | V2 | V3 | V4 | V5 | V1 | V2 | V3 | V4 | V5 | \n",
       "|---|---|---|---|---|---|\n",
       "| PCK2                   | 24099721               | 24099994               | 0                      | 1                      | PCK2                   | 24099721               | 24099994               | 2                      | 1                      | \n",
       "| PCK2                   | 24099721               | 24102752               | 0                      | 1                      | PCK2                   | 24099721               | 24102752               | 1                      | 1                      | \n",
       "| GOLGA6L5,RP11-182J1.12 | 84513303               | 84513966               | 0                      | 1                      | GOLGA6L5,RP11-182J1.12 | 84513303               | 84513966               | 0                      | 1                      | \n",
       "| GOLGA6L5,RP11-182J1.12 | 84513331               | 84513966               | 0                      | 1                      | GOLGA6L5,RP11-182J1.12 | 84513331               | 84513966               | 0                      | 1                      | \n",
       "| DDHD2                  | 38237628               | 38238106               | 0                      | 1                      | DDHD2                  | 38237628               | 38238106               | 0                      | 1                      | \n",
       "| DDHD2                  | 38237628               | 38238088               | 1                      | 1                      | DDHD2                  | 38237628               | 38238088               | 0                      | 1                      | \n",
       "\n",
       "\n"
      ],
      "text/plain": [
       "  V1                     V2       V3       V4 V5 V1                    \n",
       "1 PCK2                   24099721 24099994 0  1  PCK2                  \n",
       "2 PCK2                   24099721 24102752 0  1  PCK2                  \n",
       "3 GOLGA6L5,RP11-182J1.12 84513303 84513966 0  1  GOLGA6L5,RP11-182J1.12\n",
       "4 GOLGA6L5,RP11-182J1.12 84513331 84513966 0  1  GOLGA6L5,RP11-182J1.12\n",
       "5 DDHD2                  38237628 38238106 0  1  DDHD2                 \n",
       "6 DDHD2                  38237628 38238088 1  1  DDHD2                 \n",
       "  V2       V3       V4 V5\n",
       "1 24099721 24099994 2  1 \n",
       "2 24099721 24102752 1  1 \n",
       "3 84513303 84513966 0  1 \n",
       "4 84513331 84513966 0  1 \n",
       "5 38237628 38238106 0  1 \n",
       "6 38237628 38238088 0  1 "
      ]
     },
     "metadata": {},
     "output_type": "display_data"
    }
   ],
   "source": [
    "setwd('~/bme')\n",
    "wt_counts = read.table('junction_counts_long.wt.6.txt')\n",
    "mt_counts = read.table('junction_counts_long.6.txt')\n",
    "wt_counts$V1 = as.character(wt_counts$V1)\n",
    "mt_counts$V1 = as.character(mt_counts$V1)\n",
    "head(cbind(wt_counts, mt_counts))"
   ]
  },
  {
   "cell_type": "code",
   "execution_count": 14,
   "metadata": {
    "collapsed": false
   },
   "outputs": [],
   "source": [
    "current_gene = ''\n",
    "genes = c()\n",
    "pvals = c()  # for collecting results\n",
    "sigrows = c()\n",
    "for (row in 1:(nrow(wt_counts))+1) {  # looping through table and pulling out rows with shared gene names to do fisher tests on\n",
    "    if (row == nrow(wt_counts)+1 || wt_counts[row, 1] != current_gene | nchar(current_gene)==0) {\n",
    "        if (nchar(current_gene) > 0 && (nrow(wtinfo) > 1)) {\n",
    "            for (i in 1:(nrow(wtinfo))) {\n",
    "                for (j in i:nrow(wtinfo)) {\n",
    "                    ctable = matrix(unlist(c(wtinfo[c(i,j),4], mtinfo[c(i,j),4])), nrow=2)\n",
    "                    if (sum(ctable) != 0 && wtinfo[i,2] == wtinfo[j,2] | wtinfo[i,3] == wtinfo[j,3]) {  # extra check for genes with multiple alt splice junctions\n",
    "                        if (fisher.test(ctable)$p.value < 0.6) {\n",
    "                            sigrows = c(sigrows, row-nrow(wtinfo)+i-1, row-nrow(wtinfo)+j-1)\n",
    "                        }\n",
    "                        pvals = c(pvals, fisher.test(ctable)$p.value)\n",
    "                        genes = c(genes, current_gene)\n",
    "                    }\n",
    "                }\n",
    "                \n",
    "            }\n",
    "        }\n",
    "        current_gene = wt_counts[row, 1]\n",
    "        wtinfo = wt_counts[row,]\n",
    "        mtinfo = mt_counts[row,]\n",
    "    } else {\n",
    "        wtinfo = rbind(wtinfo, wt_counts[row,])\n",
    "        mtinfo = rbind(mtinfo, mt_counts[row,])\n",
    "    }\n",
    "}"
   ]
  },
  {
   "cell_type": "code",
   "execution_count": 120,
   "metadata": {
    "collapsed": false
   },
   "outputs": [
    {
     "data": {
      "text/html": [
       "<table>\n",
       "<thead><tr><th></th><th scope=col>V1</th><th scope=col>V2</th><th scope=col>V3</th><th scope=col>V4</th><th scope=col>V5</th><th scope=col>V1</th><th scope=col>V2</th><th scope=col>V3</th><th scope=col>V4</th><th scope=col>V5</th></tr></thead>\n",
       "<tbody>\n",
       "\t<tr><th scope=row>17</th><td>ERGIC3  </td><td>35556272</td><td>35556990</td><td>0       </td><td>1       </td><td>ERGIC3  </td><td>35556272</td><td>35556990</td><td> 0      </td><td>1       </td></tr>\n",
       "\t<tr><th scope=row>18</th><td>ERGIC3  </td><td>35556749</td><td>35556954</td><td>0       </td><td>1       </td><td>ERGIC3  </td><td>35556749</td><td>35556954</td><td> 0      </td><td>1       </td></tr>\n",
       "\t<tr><th scope=row>19</th><td>ERGIC3  </td><td>35556272</td><td>35556954</td><td>0       </td><td>1       </td><td>ERGIC3  </td><td>35556272</td><td>35556954</td><td> 6      </td><td>1       </td></tr>\n",
       "\t<tr><th scope=row>31</th><td>FKBP3   </td><td>45130801</td><td>45134348</td><td>2       </td><td>1       </td><td>FKBP3   </td><td>45130801</td><td>45134348</td><td>10      </td><td>1       </td></tr>\n",
       "\t<tr><th scope=row>32</th><td>B3GAT3  </td><td>62620672</td><td>62621865</td><td>0       </td><td>1       </td><td>B3GAT3  </td><td>62620672</td><td>62621865</td><td> 4      </td><td>1       </td></tr>\n",
       "\t<tr><th scope=row>40</th><td>SRSF11  </td><td>70228556</td><td>70232267</td><td>2       </td><td>1       </td><td>SRSF11  </td><td>70228556</td><td>70232267</td><td>12      </td><td>1       </td></tr>\n",
       "</tbody>\n",
       "</table>\n"
      ],
      "text/latex": [
       "\\begin{tabular}{r|llllllllll}\n",
       "  & V1 & V2 & V3 & V4 & V5 & V1 & V2 & V3 & V4 & V5\\\\\n",
       "\\hline\n",
       "\t17 & ERGIC3   & 35556272 & 35556990 & 0        & 1        & ERGIC3   & 35556272 & 35556990 &  0       & 1       \\\\\n",
       "\t18 & ERGIC3   & 35556749 & 35556954 & 0        & 1        & ERGIC3   & 35556749 & 35556954 &  0       & 1       \\\\\n",
       "\t19 & ERGIC3   & 35556272 & 35556954 & 0        & 1        & ERGIC3   & 35556272 & 35556954 &  6       & 1       \\\\\n",
       "\t31 & FKBP3    & 45130801 & 45134348 & 2        & 1        & FKBP3    & 45130801 & 45134348 & 10       & 1       \\\\\n",
       "\t32 & B3GAT3   & 62620672 & 62621865 & 0        & 1        & B3GAT3   & 62620672 & 62621865 &  4       & 1       \\\\\n",
       "\t40 & SRSF11   & 70228556 & 70232267 & 2        & 1        & SRSF11   & 70228556 & 70232267 & 12       & 1       \\\\\n",
       "\\end{tabular}\n"
      ],
      "text/markdown": [
       "\n",
       "| <!--/--> | V1 | V2 | V3 | V4 | V5 | V1 | V2 | V3 | V4 | V5 | \n",
       "|---|---|---|---|---|---|\n",
       "| 17 | ERGIC3   | 35556272 | 35556990 | 0        | 1        | ERGIC3   | 35556272 | 35556990 |  0       | 1        | \n",
       "| 18 | ERGIC3   | 35556749 | 35556954 | 0        | 1        | ERGIC3   | 35556749 | 35556954 |  0       | 1        | \n",
       "| 19 | ERGIC3   | 35556272 | 35556954 | 0        | 1        | ERGIC3   | 35556272 | 35556954 |  6       | 1        | \n",
       "| 31 | FKBP3    | 45130801 | 45134348 | 2        | 1        | FKBP3    | 45130801 | 45134348 | 10       | 1        | \n",
       "| 32 | B3GAT3   | 62620672 | 62621865 | 0        | 1        | B3GAT3   | 62620672 | 62621865 |  4       | 1        | \n",
       "| 40 | SRSF11   | 70228556 | 70232267 | 2        | 1        | SRSF11   | 70228556 | 70232267 | 12       | 1        | \n",
       "\n",
       "\n"
      ],
      "text/plain": [
       "   V1     V2       V3       V4 V5 V1     V2       V3       V4 V5\n",
       "17 ERGIC3 35556272 35556990 0  1  ERGIC3 35556272 35556990  0 1 \n",
       "18 ERGIC3 35556749 35556954 0  1  ERGIC3 35556749 35556954  0 1 \n",
       "19 ERGIC3 35556272 35556954 0  1  ERGIC3 35556272 35556954  6 1 \n",
       "31 FKBP3  45130801 45134348 2  1  FKBP3  45130801 45134348 10 1 \n",
       "32 B3GAT3 62620672 62621865 0  1  B3GAT3 62620672 62621865  4 1 \n",
       "40 SRSF11 70228556 70232267 2  1  SRSF11 70228556 70232267 12 1 "
      ]
     },
     "metadata": {},
     "output_type": "display_data"
    }
   ],
   "source": [
    "sigrows = sort(unique(sigrows))\n",
    "head(cbind(wt_counts[sigrows,], mt_counts[sigrows,]))"
   ]
  },
  {
   "cell_type": "code",
   "execution_count": 145,
   "metadata": {
    "collapsed": false
   },
   "outputs": [
    {
     "data": {
      "text/html": [
       "-3.32192809488736"
      ],
      "text/latex": [
       "-3.32192809488736"
      ],
      "text/markdown": [
       "-3.32192809488736"
      ],
      "text/plain": [
       "[1] -3.321928"
      ]
     },
     "metadata": {},
     "output_type": "display_data"
    },
    {
     "data": {
      "text/html": [
       "-2.32192809488736"
      ],
      "text/latex": [
       "-2.32192809488736"
      ],
      "text/markdown": [
       "-2.32192809488736"
      ],
      "text/plain": [
       "[1] -2.321928"
      ]
     },
     "metadata": {},
     "output_type": "display_data"
    },
    {
     "data": {
      "image/png": "[encoded data removed]",
      "text/plain": [
       "plot without title"
      ]
     },
     "metadata": {},
     "output_type": "display_data"
    }
   ],
   "source": [
    "plot(log(pvals)*-1)\n",
    "df = data.frame(g=genes, p=pvals)\n",
    "df$pos = 1:nrow(df)\n",
    "df = df[df$p < 0.6,]\n",
    "newdf = df[1,]\n",
    "for (row in 2:nrow(df)) {\n",
    "    if (!df[row,1] %in% newdf[,1]) {\n",
    "        newdf = rbind(newdf, df[row,])\n",
    "    } else if (any((df[row,2]+.01) <= newdf[newdf$g == df[row,1],2])) {\n",
    "#         newdf[newdf$g == df[row,1],2] = df[row,2]\n",
    "        newdf = rbind(newdf, df[row,])\n",
    "    }\n",
    "}\n",
    "text(newdf$pos, log(newdf$p)*-1+.06, labels=newdf$g, cex=0.5)  # names above points\n",
    "abline(h=log2(0.05))  # can't see\n",
    "log2(0.1)\n",
    "log2(0.2)"
   ]
  },
  {
   "cell_type": "markdown",
   "metadata": {},
   "source": [
    "I use Jeltje's bedfile of corrected junctions and the junction counts in there and do lots of fisher tests. I'm looking specifically at 3' SS alterations, so I compare counts for different 3' SSs in the mutant and wildtype for junctions with the same 5' SS. Jeltje mentioned that the strand doesn't carry meaning in her bedfile, so I repeat this analysis treating \"3'\" as 5' SSs."
   ]
  },
  {
   "cell_type": "code",
   "execution_count": 21,
   "metadata": {
    "collapsed": false
   },
   "outputs": [
    {
     "data": {
      "text/html": [
       "<table>\n",
       "<thead><tr><th></th><th scope=col>mtchrom</th><th scope=col>mt5</th><th scope=col>mt3</th><th scope=col>counts</th><th scope=col>wt</th><th scope=col>wtchrom</th></tr></thead>\n",
       "<tbody>\n",
       "\t<tr><th scope=row>20</th><td>chrY     </td><td>  1389707</td><td>  1391934</td><td>  1      </td><td>10       </td><td>chrY     </td></tr>\n",
       "\t<tr><th scope=row>21</th><td>chrY     </td><td>  1389707</td><td>  1391947</td><td>  1      </td><td>10       </td><td>chrY     </td></tr>\n",
       "\t<tr><th scope=row>22</th><td>chrY     </td><td>  1389707</td><td>  1391918</td><td> 54      </td><td>10       </td><td>chrY     </td></tr>\n",
       "\t<tr><th scope=row>78</th><td>chrX     </td><td>154399376</td><td>154399527</td><td>  1      </td><td> 1       </td><td>chrX     </td></tr>\n",
       "\t<tr><th scope=row>79</th><td>chrX     </td><td>154399376</td><td>154399520</td><td>  5      </td><td> 1       </td><td>chrX     </td></tr>\n",
       "\t<tr><th scope=row>80</th><td>chrX     </td><td>154399376</td><td>154399506</td><td>101      </td><td> 1       </td><td>chrX     </td></tr>\n",
       "</tbody>\n",
       "</table>\n"
      ],
      "text/latex": [
       "\\begin{tabular}{r|llllll}\n",
       "  & mtchrom & mt5 & mt3 & counts & wt & wtchrom\\\\\n",
       "\\hline\n",
       "\t20 & chrY      &   1389707 &   1391934 &   1       & 10        & chrY     \\\\\n",
       "\t21 & chrY      &   1389707 &   1391947 &   1       & 10        & chrY     \\\\\n",
       "\t22 & chrY      &   1389707 &   1391918 &  54       & 10        & chrY     \\\\\n",
       "\t78 & chrX      & 154399376 & 154399527 &   1       &  1        & chrX     \\\\\n",
       "\t79 & chrX      & 154399376 & 154399520 &   5       &  1        & chrX     \\\\\n",
       "\t80 & chrX      & 154399376 & 154399506 & 101       &  1        & chrX     \\\\\n",
       "\\end{tabular}\n"
      ],
      "text/markdown": [
       "\n",
       "| <!--/--> | mtchrom | mt5 | mt3 | counts | wt | wtchrom | \n",
       "|---|---|---|---|---|---|\n",
       "| 20 | chrY      |   1389707 |   1391934 |   1       | 10        | chrY      | \n",
       "| 21 | chrY      |   1389707 |   1391947 |   1       | 10        | chrY      | \n",
       "| 22 | chrY      |   1389707 |   1391918 |  54       | 10        | chrY      | \n",
       "| 78 | chrX      | 154399376 | 154399527 |   1       |  1        | chrX      | \n",
       "| 79 | chrX      | 154399376 | 154399520 |   5       |  1        | chrX      | \n",
       "| 80 | chrX      | 154399376 | 154399506 | 101       |  1        | chrX      | \n",
       "\n",
       "\n"
      ],
      "text/plain": [
       "   mtchrom mt5       mt3       counts wt wtchrom\n",
       "20 chrY      1389707   1391934   1    10 chrY   \n",
       "21 chrY      1389707   1391947   1    10 chrY   \n",
       "22 chrY      1389707   1391918  54    10 chrY   \n",
       "78 chrX    154399376 154399527   1     1 chrX   \n",
       "79 chrX    154399376 154399520   5     1 chrX   \n",
       "80 chrX    154399376 154399506 101     1 chrX   "
      ]
     },
     "metadata": {},
     "output_type": "display_data"
    }
   ],
   "source": [
    "setwd('~/bme')\n",
    "mtalt = read.table('altsplicejunction_counts.txt')\n",
    "colnames(mtalt) = c('mtchrom', 'mt5', 'mt3', 'counts')\n",
    "wtalt = read.table('altsplicejunction_counts.wt.txt')\n",
    "together = mtalt\n",
    "together$wt = wtalt$V4[match(mtalt$mt5, wtalt$V2)]\n",
    "together$wtchrom = wtalt$V1[match(mtalt$mt5, wtalt$V2)]  # sanity check\n",
    "together$mtchrom = as.character(together$mtchrom)\n",
    "together$wtchrom = as.character(together$wtchrom)\n",
    "together = together[!is.na(together$wt) & together$wtchrom == together$mtchrom,]\n",
    "head(together)  # data frame containing junction counts for both mutant and wildtype"
   ]
  },
  {
   "cell_type": "code",
   "execution_count": 15,
   "metadata": {
    "collapsed": false
   },
   "outputs": [
    {
     "data": {
      "image/png": "[encoded data removed]",
      "text/plain": [
       "plot without title"
      ]
     },
     "metadata": {},
     "output_type": "display_data"
    }
   ],
   "source": [
    "current_gene = paste0(together[1,1],':',together[1,2])\n",
    "info = together[1,]\n",
    "genes = c()\n",
    "pvals = c()\n",
    "for (row in 2:nrow(together)) {\n",
    "    nameinit = paste0(together[row,1],':',together[row, 2])\n",
    "    if (nameinit != current_gene) {\n",
    "        for (i in 1:(nrow(info)-1)) {\n",
    "            for (j in (i+1):nrow(info)) {\n",
    "                ctable = matrix(unlist(c(info[c(i,j),4], info[c(i,j),5])), nrow=2)\n",
    "                if (sum(ctable) != 0) {\n",
    "                    pvals = c(pvals, fisher.test(ctable)$p.value)\n",
    "                    genes = c(genes, current_gene)\n",
    "                }\n",
    "            }    \n",
    "        }\n",
    "        current_gene = nameinit\n",
    "        info = together[row,]\n",
    "    } else {\n",
    "        info = rbind(info, together[row,])\n",
    "    }\n",
    "}\n",
    "rgenes = genes[pvals < 0.2]\n",
    "rpvals = pvals[pvals < 0.2]\n",
    "plot(log10(pvals)*-1, pch=16, cex=0.3)\n",
    "# text(1:length(rpvals), log10(rpvals)*-1+.03, labels=rgenes, cex=0.5)  # names above points\n",
    "abline(h=log10(0.05)*-1)\n"
   ]
  },
  {
   "cell_type": "markdown",
   "metadata": {},
   "source": [
    "Above: every point is the result of one fisher test between alternative junction events. These are only considering 3' splice site alterations, so if you look at the the mutant 5' position column (together$mt5), comparisons are done within a group of junctions sharing the same 5' end.\n",
    "\n",
    "Below: Like the plot above, but instead anchoring at the 3' ends. Some of these junctions could still be technically 5' end-anchored since Jeltje said the counts were done without regard to strand and the bedfile of junctions does not have strand information."
   ]
  },
  {
   "cell_type": "code",
   "execution_count": 12,
   "metadata": {
    "collapsed": false
   },
   "outputs": [
    {
     "data": {
      "text/html": [
       "<table>\n",
       "<thead><tr><th></th><th scope=col>mtchrom</th><th scope=col>mt5</th><th scope=col>mt3</th><th scope=col>counts</th><th scope=col>wt</th><th scope=col>wtchrom</th></tr></thead>\n",
       "<tbody>\n",
       "\t<tr><th scope=row>27843</th><td>chr9 </td><td>18467</td><td>24870</td><td>1    </td><td>1    </td><td>chr9 </td></tr>\n",
       "\t<tr><th scope=row>27844</th><td>chr9 </td><td>24618</td><td>24870</td><td>1    </td><td>1    </td><td>chr9 </td></tr>\n",
       "\t<tr><th scope=row>27845</th><td>chr9 </td><td>18472</td><td>24870</td><td>3    </td><td>1    </td><td>chr9 </td></tr>\n",
       "\t<tr><th scope=row>2082</th><td>chr12</td><td>18459</td><td>26820</td><td>1    </td><td>1    </td><td>chr12</td></tr>\n",
       "\t<tr><th scope=row>2083</th><td>chr12</td><td>18464</td><td>26820</td><td>3    </td><td>1    </td><td>chr12</td></tr>\n",
       "\t<tr><th scope=row>2084</th><td>chr12</td><td>26568</td><td>26820</td><td>1    </td><td>1    </td><td>chr12</td></tr>\n",
       "</tbody>\n",
       "</table>\n"
      ],
      "text/latex": [
       "\\begin{tabular}{r|llllll}\n",
       "  & mtchrom & mt5 & mt3 & counts & wt & wtchrom\\\\\n",
       "\\hline\n",
       "\t27843 & chr9  & 18467 & 24870 & 1     & 1     & chr9 \\\\\n",
       "\t27844 & chr9  & 24618 & 24870 & 1     & 1     & chr9 \\\\\n",
       "\t27845 & chr9  & 18472 & 24870 & 3     & 1     & chr9 \\\\\n",
       "\t2082 & chr12 & 18459 & 26820 & 1     & 1     & chr12\\\\\n",
       "\t2083 & chr12 & 18464 & 26820 & 3     & 1     & chr12\\\\\n",
       "\t2084 & chr12 & 26568 & 26820 & 1     & 1     & chr12\\\\\n",
       "\\end{tabular}\n"
      ],
      "text/markdown": [
       "\n",
       "| <!--/--> | mtchrom | mt5 | mt3 | counts | wt | wtchrom | \n",
       "|---|---|---|---|---|---|\n",
       "| 27843 | chr9  | 18467 | 24870 | 1     | 1     | chr9  | \n",
       "| 27844 | chr9  | 24618 | 24870 | 1     | 1     | chr9  | \n",
       "| 27845 | chr9  | 18472 | 24870 | 3     | 1     | chr9  | \n",
       "| 2082 | chr12 | 18459 | 26820 | 1     | 1     | chr12 | \n",
       "| 2083 | chr12 | 18464 | 26820 | 3     | 1     | chr12 | \n",
       "| 2084 | chr12 | 26568 | 26820 | 1     | 1     | chr12 | \n",
       "\n",
       "\n"
      ],
      "text/plain": [
       "      mtchrom mt5   mt3   counts wt wtchrom\n",
       "27843 chr9    18467 24870 1      1  chr9   \n",
       "27844 chr9    24618 24870 1      1  chr9   \n",
       "27845 chr9    18472 24870 3      1  chr9   \n",
       "2082  chr12   18459 26820 1      1  chr12  \n",
       "2083  chr12   18464 26820 3      1  chr12  \n",
       "2084  chr12   26568 26820 1      1  chr12  "
      ]
     },
     "metadata": {},
     "output_type": "display_data"
    },
    {
     "data": {
      "image/png": "[encoded data removed]",
      "text/plain": [
       "plot without title"
      ]
     },
     "metadata": {},
     "output_type": "display_data"
    }
   ],
   "source": [
    "setwd('~/bme')\n",
    "mtalt = read.table('altsplicejunction_counts.3.txt')   # anchored at the 3' site, aka the greater junction coordinate\n",
    "colnames(mtalt) = c('mtchrom', 'mt5', 'mt3', 'counts')\n",
    "wtalt = read.table('altsplicejunction_counts.3.wt.txt')\n",
    "together = mtalt\n",
    "together$wt = wtalt$V4[match(mtalt$mt3, wtalt$V3)]\n",
    "together$wtchrom = wtalt$V1[match(mtalt$mt3, wtalt$V3)]  # sanity check\n",
    "together$mtchrom = as.character(together$mtchrom)\n",
    "together$wtchrom = as.character(together$wtchrom)\n",
    "together = together[order(together$mt3),]\n",
    "together = together[!is.na(together$wt) & together$wtchrom == together$mtchrom,]\n",
    "head(together)  # data frame containing junction counts for both mutant and wildtype\n",
    "current_gene = paste0(together[1,1],':',together[1,3])\n",
    "info = together[1,]\n",
    "genes = c()\n",
    "pvals = c()\n",
    "for (row in 2:nrow(together)) {\n",
    "    nameinit = paste0(together[row,1],':',together[row, 3])\n",
    "    if (nameinit != current_gene) {\n",
    "        for (i in 1:(nrow(info)-1)) {\n",
    "            for (j in (i+1):nrow(info)) {\n",
    "                ctable = matrix(unlist(c(info[c(i,j),4], info[c(i,j),5])), nrow=2)\n",
    "                if (sum(ctable) != 0) {\n",
    "                    pvals = c(pvals, fisher.test(ctable)$p.value)\n",
    "                    genes = c(genes, current_gene)\n",
    "                }\n",
    "            }    \n",
    "        }\n",
    "        current_gene = nameinit\n",
    "        info = together[row,]\n",
    "    } else {\n",
    "        info = rbind(info, together[row,])\n",
    "    }\n",
    "}\n",
    "rgenes = genes[pvals < 0.2]\n",
    "rpvals = pvals[pvals < 0.2]\n",
    "plot(log10(pvals)*-1, pch=16, cex=0.3)\n",
    "# text(1:length(rpvals), log10(rpvals)*-1+.03, labels=rgenes, cex=0.5)  # names above points\n",
    "abline(h=log10(0.05)*-1)\n"
   ]
  }
 ],
 "metadata": {
  "kernelspec": {
   "display_name": "R",
   "language": "R",
   "name": "ir"
  },
  "language_info": {
   "codemirror_mode": "r",
   "file_extension": ".r",
   "mimetype": "text/x-r-source",
   "name": "R",
   "pygments_lexer": "r",
   "version": "3.2.3"
  }
 },
 "nbformat": 4,
 "nbformat_minor": 0
}
